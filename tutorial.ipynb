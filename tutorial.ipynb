{
  "cells": [
    {
      "cell_type": "markdown",
      "metadata": {
        "id": "yqDUtf_0mBhg"
      },
      "source": [
        "# Streaming process mining with `pyBeamline`"
      ]
    },
    {
      "cell_type": "markdown",
      "metadata": {
        "id": "9Aq7aw-kmBhj"
      },
      "source": [
        "`pyBeamline` is a Python version of Beamline. While the same set of ideas and principles of Beamline have been ported into `pyBeamline`, the underlying goal and technology is very different.\n",
        "\n",
        "pyBeamline is based on ReactiveX and its Python binding RxPY. RxPY is a library for composing asynchronous and event-based programs using observable sequences and pipable query operators in Python. Using pyBeamline it is possible to inject process mining operators into the computation.\n",
        "\n",
        "This Jupyter notebook contains the main functionalities currently exposed by `pyBeamline`. For a complete documentation of the library see https://www.beamline.cloud/pybeamline/. In the rest of the notebook it is assumed that the `pyBeamline` package is already installed.\n",
        "\n",
        "In the rest of this document, the main functionalities are exposed."
      ]
    },
    {
      "cell_type": "markdown",
      "metadata": {
        "id": "H_u0aIVxmBhk"
      },
      "source": [
        "It is possible to install the library using:"
      ]
    },
    {
      "cell_type": "code",
      "execution_count": 21,
      "metadata": {
        "id": "T1pTAL35mBhk",
        "outputId": "f482abee-b5a3-4786-ca4e-ee2e708602e0",
        "colab": {
          "base_uri": "https://localhost:8080/"
        }
      },
      "outputs": [
        {
          "output_type": "stream",
          "name": "stdout",
          "text": [
            "Requirement already satisfied: pybeamline in /usr/local/lib/python3.12/dist-packages (1.0.8)\n",
            "Requirement already satisfied: pm4py==2.7.4 in /usr/local/lib/python3.12/dist-packages (from pybeamline) (2.7.4)\n",
            "Requirement already satisfied: reactivex==4.0.4 in /usr/local/lib/python3.12/dist-packages (from pybeamline) (4.0.4)\n",
            "Requirement already satisfied: paho-mqtt==2.1.0 in /usr/local/lib/python3.12/dist-packages (from pybeamline) (2.1.0)\n",
            "Requirement already satisfied: pandas~=2.2.3 in /usr/local/lib/python3.12/dist-packages (from pybeamline) (2.2.3)\n",
            "Requirement already satisfied: pyais~=2.8.2 in /usr/local/lib/python3.12/dist-packages (from pybeamline) (2.8.4)\n",
            "Requirement already satisfied: setuptools~=68.0.0 in /usr/local/lib/python3.12/dist-packages (from pybeamline) (68.0.0)\n",
            "Requirement already satisfied: requests~=2.31.0 in /usr/local/lib/python3.12/dist-packages (from pybeamline) (2.31.0)\n",
            "Requirement already satisfied: objsize~=0.7.0 in /usr/local/lib/python3.12/dist-packages (from pybeamline) (0.7.1)\n",
            "Requirement already satisfied: river~=0.21.2 in /usr/local/lib/python3.12/dist-packages (from pybeamline) (0.21.2)\n",
            "Requirement already satisfied: deprecation in /usr/local/lib/python3.12/dist-packages (from pm4py==2.7.4->pybeamline) (2.1.0)\n",
            "Requirement already satisfied: graphviz in /usr/local/lib/python3.12/dist-packages (from pm4py==2.7.4->pybeamline) (0.21)\n",
            "Requirement already satisfied: intervaltree in /usr/local/lib/python3.12/dist-packages (from pm4py==2.7.4->pybeamline) (3.1.0)\n",
            "Requirement already satisfied: lxml in /usr/local/lib/python3.12/dist-packages (from pm4py==2.7.4->pybeamline) (5.4.0)\n",
            "Requirement already satisfied: matplotlib in /usr/local/lib/python3.12/dist-packages (from pm4py==2.7.4->pybeamline) (3.10.0)\n",
            "Requirement already satisfied: networkx in /usr/local/lib/python3.12/dist-packages (from pm4py==2.7.4->pybeamline) (3.5)\n",
            "Requirement already satisfied: numpy in /usr/local/lib/python3.12/dist-packages (from pm4py==2.7.4->pybeamline) (1.26.4)\n",
            "Requirement already satisfied: pydotplus in /usr/local/lib/python3.12/dist-packages (from pm4py==2.7.4->pybeamline) (2.0.2)\n",
            "Requirement already satisfied: pytz in /usr/local/lib/python3.12/dist-packages (from pm4py==2.7.4->pybeamline) (2025.2)\n",
            "Requirement already satisfied: scipy in /usr/local/lib/python3.12/dist-packages (from pm4py==2.7.4->pybeamline) (1.16.1)\n",
            "Requirement already satisfied: stringdist in /usr/local/lib/python3.12/dist-packages (from pm4py==2.7.4->pybeamline) (1.0.9)\n",
            "Requirement already satisfied: tqdm in /usr/local/lib/python3.12/dist-packages (from pm4py==2.7.4->pybeamline) (4.67.1)\n",
            "Requirement already satisfied: typing-extensions<5.0.0,>=4.1.1 in /usr/local/lib/python3.12/dist-packages (from reactivex==4.0.4->pybeamline) (4.14.1)\n",
            "Requirement already satisfied: python-dateutil>=2.8.2 in /usr/local/lib/python3.12/dist-packages (from pandas~=2.2.3->pybeamline) (2.9.0.post0)\n",
            "Requirement already satisfied: tzdata>=2022.7 in /usr/local/lib/python3.12/dist-packages (from pandas~=2.2.3->pybeamline) (2025.2)\n",
            "Requirement already satisfied: bitarray in /usr/local/lib/python3.12/dist-packages (from pyais~=2.8.2->pybeamline) (3.6.1)\n",
            "Requirement already satisfied: attrs in /usr/local/lib/python3.12/dist-packages (from pyais~=2.8.2->pybeamline) (25.3.0)\n",
            "Requirement already satisfied: charset-normalizer<4,>=2 in /usr/local/lib/python3.12/dist-packages (from requests~=2.31.0->pybeamline) (3.4.3)\n",
            "Requirement already satisfied: idna<4,>=2.5 in /usr/local/lib/python3.12/dist-packages (from requests~=2.31.0->pybeamline) (3.10)\n",
            "Requirement already satisfied: urllib3<3,>=1.21.1 in /usr/local/lib/python3.12/dist-packages (from requests~=2.31.0->pybeamline) (2.5.0)\n",
            "Requirement already satisfied: certifi>=2017.4.17 in /usr/local/lib/python3.12/dist-packages (from requests~=2.31.0->pybeamline) (2025.8.3)\n",
            "Requirement already satisfied: six>=1.5 in /usr/local/lib/python3.12/dist-packages (from python-dateutil>=2.8.2->pandas~=2.2.3->pybeamline) (1.17.0)\n",
            "Requirement already satisfied: packaging in /usr/local/lib/python3.12/dist-packages (from deprecation->pm4py==2.7.4->pybeamline) (25.0)\n",
            "Requirement already satisfied: sortedcontainers<3.0,>=2.0 in /usr/local/lib/python3.12/dist-packages (from intervaltree->pm4py==2.7.4->pybeamline) (2.4.0)\n",
            "Requirement already satisfied: contourpy>=1.0.1 in /usr/local/lib/python3.12/dist-packages (from matplotlib->pm4py==2.7.4->pybeamline) (1.3.3)\n",
            "Requirement already satisfied: cycler>=0.10 in /usr/local/lib/python3.12/dist-packages (from matplotlib->pm4py==2.7.4->pybeamline) (0.12.1)\n",
            "Requirement already satisfied: fonttools>=4.22.0 in /usr/local/lib/python3.12/dist-packages (from matplotlib->pm4py==2.7.4->pybeamline) (4.59.1)\n",
            "Requirement already satisfied: kiwisolver>=1.3.1 in /usr/local/lib/python3.12/dist-packages (from matplotlib->pm4py==2.7.4->pybeamline) (1.4.9)\n",
            "Requirement already satisfied: pillow>=8 in /usr/local/lib/python3.12/dist-packages (from matplotlib->pm4py==2.7.4->pybeamline) (11.3.0)\n",
            "Requirement already satisfied: pyparsing>=2.3.1 in /usr/local/lib/python3.12/dist-packages (from matplotlib->pm4py==2.7.4->pybeamline) (3.2.3)\n"
          ]
        }
      ],
      "source": [
        "!pip install pybeamline"
      ]
    },
    {
      "cell_type": "code",
      "execution_count": 22,
      "metadata": {
        "id": "tIdDi1uKmBhl"
      },
      "outputs": [],
      "source": [
        "# Let's ignore some PM4PY warnings in the notebook\n",
        "import warnings\n",
        "warnings.filterwarnings(\"ignore\")"
      ]
    },
    {
      "cell_type": "markdown",
      "metadata": {
        "id": "CIsiP7qLmBhl"
      },
      "source": [
        "### Sources"
      ]
    },
    {
      "cell_type": "code",
      "execution_count": 23,
      "metadata": {
        "id": "Wzc6JNYXmBhm",
        "outputId": "b4f7d457-6488-433f-e5b7-5037119f9d8d",
        "colab": {
          "base_uri": "https://localhost:8080/"
        }
      },
      "outputs": [
        {
          "output_type": "stream",
          "name": "stdout",
          "text": [
            "(A, case_1, Process, 2025-08-22 12:25:33.612860 - {} - {} - {})\n",
            "(B, case_1, Process, 2025-08-22 12:25:33.612961 - {} - {} - {})\n",
            "(C, case_1, Process, 2025-08-22 12:25:33.612988 - {} - {} - {})\n",
            "(A, case_2, Process, 2025-08-22 12:25:33.613006 - {} - {} - {})\n",
            "(C, case_2, Process, 2025-08-22 12:25:33.613021 - {} - {} - {})\n",
            "(B, case_2, Process, 2025-08-22 12:25:33.613036 - {} - {} - {})\n",
            "(E, case_3, Process, 2025-08-22 12:25:33.613049 - {} - {} - {})\n",
            "(F, case_3, Process, 2025-08-22 12:25:33.613064 - {} - {} - {})\n",
            "(G, case_3, Process, 2025-08-22 12:25:33.613078 - {} - {} - {})\n"
          ]
        },
        {
          "output_type": "execute_result",
          "data": {
            "text/plain": [
              "<reactivex.disposable.disposable.Disposable at 0x7daee42e36b0>"
            ]
          },
          "metadata": {},
          "execution_count": 23
        }
      ],
      "source": [
        "from pybeamline.sources import string_test_source\n",
        "\n",
        "string_test_source([\"ABC\", \"ACB\", \"EFG\"]) \\\n",
        "    .subscribe(lambda x: print(str(x)))"
      ]
    },
    {
      "cell_type": "code",
      "source": [
        "!wget https://raw.githubusercontent.com/beamline/pybeamline/refs/heads/master/tests/log.xes"
      ],
      "metadata": {
        "id": "MNEZbH1UwkeQ",
        "outputId": "ec009200-858f-4158-cc1f-225a5454b52a",
        "colab": {
          "base_uri": "https://localhost:8080/"
        }
      },
      "execution_count": 24,
      "outputs": [
        {
          "output_type": "stream",
          "name": "stdout",
          "text": [
            "--2025-08-22 12:25:33--  https://raw.githubusercontent.com/beamline/pybeamline/refs/heads/master/tests/log.xes\n",
            "Resolving raw.githubusercontent.com (raw.githubusercontent.com)... 185.199.108.133, 185.199.109.133, 185.199.110.133, ...\n",
            "Connecting to raw.githubusercontent.com (raw.githubusercontent.com)|185.199.108.133|:443... connected.\n",
            "HTTP request sent, awaiting response... 200 OK\n",
            "Length: 2029 (2.0K) [text/plain]\n",
            "Saving to: ‘log.xes.1’\n",
            "\n",
            "\rlog.xes.1             0%[                    ]       0  --.-KB/s               \rlog.xes.1           100%[===================>]   1.98K  --.-KB/s    in 0s      \n",
            "\n",
            "2025-08-22 12:25:33 (35.3 MB/s) - ‘log.xes.1’ saved [2029/2029]\n",
            "\n"
          ]
        }
      ]
    },
    {
      "cell_type": "code",
      "execution_count": 25,
      "metadata": {
        "id": "gQTaqXeImBhm",
        "outputId": "2cf77ec6-3c8f-449d-d739-4b975aa22b7f",
        "colab": {
          "base_uri": "https://localhost:8080/",
          "height": 153,
          "referenced_widgets": [
            "d2fc00da89bd408db72f44e0611f25fc",
            "a22b5a05cb7947cda664002e53b96759",
            "a0cd5b3efe0844d4a59238e3f14557c6",
            "3a86c381743e406387d3e021a8235806",
            "0de8c911d9614e148b2ea8bc3331794a",
            "6bc6934192f64231a57861885b78bc07",
            "dcc8185b73594189876b2b184d139c42",
            "2239d81cb16b417ba5088b0f03b9ccbb",
            "553ee7acfe26432997919a111494839b",
            "f10af0d51834407198e617bd8488d4eb",
            "eeedd994c5c64b979816076517a8fbc6"
          ]
        }
      },
      "outputs": [
        {
          "output_type": "display_data",
          "data": {
            "text/plain": [
              "parsing log, completed traces ::   0%|          | 0/2 [00:00<?, ?it/s]"
            ],
            "application/vnd.jupyter.widget-view+json": {
              "version_major": 2,
              "version_minor": 0,
              "model_id": "d2fc00da89bd408db72f44e0611f25fc"
            }
          },
          "metadata": {}
        },
        {
          "output_type": "stream",
          "name": "stdout",
          "text": [
            "(a11, c1, log-file, 2025-08-22 12:25:33.761154 - {'lifecycle:transition': 'complete', 'act': 'a11'} - {'creator': 'Fluxicon Disco', 'variant': 'Variant 1', 'variant-index': 1} - {})\n",
            "(a12, c1, log-file, 2025-08-22 12:25:33.761550 - {'lifecycle:transition': 'complete', 'act': 'a12'} - {'creator': 'Fluxicon Disco', 'variant': 'Variant 1', 'variant-index': 1} - {})\n",
            "(a21, c2, log-file, 2025-08-22 12:25:33.761752 - {'lifecycle:transition': 'complete', 'act': 'a21'} - {'creator': 'Fluxicon Disco', 'variant': 'Variant 2', 'variant-index': 2} - {})\n",
            "(a22, c2, log-file, 2025-08-22 12:25:33.761954 - {'lifecycle:transition': 'complete', 'act': 'a22'} - {'creator': 'Fluxicon Disco', 'variant': 'Variant 2', 'variant-index': 2} - {})\n",
            "(a23, c2, log-file, 2025-08-22 12:25:33.762138 - {'lifecycle:transition': 'complete', 'act': 'a23'} - {'creator': 'Fluxicon Disco', 'variant': 'Variant 2', 'variant-index': 2} - {})\n"
          ]
        },
        {
          "output_type": "execute_result",
          "data": {
            "text/plain": [
              "<reactivex.disposable.disposable.Disposable at 0x7daee42e00b0>"
            ]
          },
          "metadata": {},
          "execution_count": 25
        }
      ],
      "source": [
        "from pybeamline.sources import xes_log_source_from_file\n",
        "\n",
        "xes_log_source_from_file(\"log.xes\") \\\n",
        "    .subscribe(lambda x: print(str(x)))"
      ]
    },
    {
      "cell_type": "code",
      "execution_count": 26,
      "metadata": {
        "id": "AyPZen8BmBhm",
        "outputId": "30c01495-eff1-4a0d-ac2a-70846373ade3",
        "colab": {
          "base_uri": "https://localhost:8080/",
          "height": 309,
          "referenced_widgets": [
            "3a40eb7fa55048bd8d54d888f31f712b",
            "3b93a906b1834b27956225860cc132cc",
            "6895739859bf47e6aa8a8ec9211d321a",
            "3bcc495efc9e4245b665f9dd577d33a1",
            "85bde83bb53e461fa45548e637f1c68e",
            "a066a916fc7d40aeb2b55deaffe42469",
            "658c8ca6adb54fd397f15bc45489ae67",
            "613366efc6bf4e6aa7392c16c7edeb86",
            "f8b064fc91884666a8e67c88bd34c2a8",
            "5867d8b0b3ab4b9797b8bbbb715632dc",
            "b4bc6d8df7284885b41421f39c6fbbee"
          ]
        }
      },
      "outputs": [
        {
          "output_type": "stream",
          "name": "stdout",
          "text": [
            "(A, case_1, Process, 2025-08-22 12:25:33.770818 - {} - {} - {})\n",
            "(B, case_1, Process, 2025-08-22 12:25:33.770882 - {} - {} - {})\n",
            "(C, case_1, Process, 2025-08-22 12:25:33.770902 - {} - {} - {})\n",
            "(A, case_2, Process, 2025-08-22 12:25:33.770914 - {} - {} - {})\n",
            "(C, case_2, Process, 2025-08-22 12:25:33.770925 - {} - {} - {})\n",
            "(B, case_2, Process, 2025-08-22 12:25:33.770936 - {} - {} - {})\n",
            "(E, case_3, Process, 2025-08-22 12:25:33.770946 - {} - {} - {})\n",
            "(F, case_3, Process, 2025-08-22 12:25:33.770957 - {} - {} - {})\n",
            "(G, case_3, Process, 2025-08-22 12:25:33.770968 - {} - {} - {})\n"
          ]
        },
        {
          "output_type": "display_data",
          "data": {
            "text/plain": [
              "parsing log, completed traces ::   0%|          | 0/2 [00:00<?, ?it/s]"
            ],
            "application/vnd.jupyter.widget-view+json": {
              "version_major": 2,
              "version_minor": 0,
              "model_id": "3a40eb7fa55048bd8d54d888f31f712b"
            }
          },
          "metadata": {}
        },
        {
          "output_type": "stream",
          "name": "stdout",
          "text": [
            "(a11, c1, log-file, 2025-08-22 12:25:33.802511 - {'lifecycle:transition': 'complete', 'act': 'a11'} - {'creator': 'Fluxicon Disco', 'variant': 'Variant 1', 'variant-index': 1} - {})\n",
            "(a12, c1, log-file, 2025-08-22 12:25:33.802899 - {'lifecycle:transition': 'complete', 'act': 'a12'} - {'creator': 'Fluxicon Disco', 'variant': 'Variant 1', 'variant-index': 1} - {})\n",
            "(a21, c2, log-file, 2025-08-22 12:25:33.803085 - {'lifecycle:transition': 'complete', 'act': 'a21'} - {'creator': 'Fluxicon Disco', 'variant': 'Variant 2', 'variant-index': 2} - {})\n",
            "(a22, c2, log-file, 2025-08-22 12:25:33.803515 - {'lifecycle:transition': 'complete', 'act': 'a22'} - {'creator': 'Fluxicon Disco', 'variant': 'Variant 2', 'variant-index': 2} - {})\n",
            "(a23, c2, log-file, 2025-08-22 12:25:33.803700 - {'lifecycle:transition': 'complete', 'act': 'a23'} - {'creator': 'Fluxicon Disco', 'variant': 'Variant 2', 'variant-index': 2} - {})\n"
          ]
        },
        {
          "output_type": "execute_result",
          "data": {
            "text/plain": [
              "<reactivex.disposable.disposable.Disposable at 0x7daee42e1190>"
            ]
          },
          "metadata": {},
          "execution_count": 26
        }
      ],
      "source": [
        "from pybeamline.sources import log_source\n",
        "\n",
        "log_source([\"ABC\", \"ACB\", \"EFG\"]) \\\n",
        "    .subscribe(lambda x: print(str(x)))\n",
        "\n",
        "log_source(\"log.xes\") \\\n",
        "    .subscribe(lambda x: print(str(x)))"
      ]
    },
    {
      "cell_type": "code",
      "source": [
        "from pybeamline.sources import mqttxes_source\n",
        "\n",
        "mqttxes_source('broker.mqtt.cool', 1883, 'bla/bla/') \\\n",
        "  .subscribe(lambda x: print(str(x)))\n",
        "\n",
        "input()"
      ],
      "metadata": {
        "id": "ePzA0wNAnKYS",
        "outputId": "10590f35-f4d6-4293-d0f8-2d03fc2714bc",
        "colab": {
          "base_uri": "https://localhost:8080/",
          "height": 70
        }
      },
      "execution_count": 27,
      "outputs": [
        {
          "name": "stdout",
          "output_type": "stream",
          "text": [
            "Connected to MQTT broker\n",
            "\n"
          ]
        },
        {
          "output_type": "execute_result",
          "data": {
            "text/plain": [
              "''"
            ],
            "application/vnd.google.colaboratory.intrinsic+json": {
              "type": "string"
            }
          },
          "metadata": {},
          "execution_count": 27
        }
      ]
    },
    {
      "cell_type": "code",
      "source": [
        "from reactivex import concat\n",
        "from pybeamline.sources import xes_log_source_from_file, log_source\n",
        "\n",
        "src1 = xes_log_source_from_file(\"log.xes\")\n",
        "src2 = log_source([\"ABCD\", \"ABCD\"])\n",
        "src3 = xes_log_source_from_file(\"log.xes\")\n",
        "\n",
        "concat = concat(src1, src2, src3)\n",
        "concat \\\n",
        "    .subscribe(lambda x: print(str(x)))\n"
      ],
      "metadata": {
        "id": "PxIv4l6A0Ot8",
        "outputId": "022cb7f7-165c-4810-dc03-1c48dacae93c",
        "colab": {
          "base_uri": "https://localhost:8080/",
          "height": 411,
          "referenced_widgets": [
            "8da3f6580e5e446abc477b3282f2f084",
            "345afb0176114ddabc522762f2700773",
            "d51edbb88bc14472a6ee8a884f9225ef",
            "2d9a5bd2c66e4fa6957da23429641819",
            "c1450c2d42bf4a64a9d9bc468048ed13",
            "62ec59011f604090a079442e186ec1ad",
            "1c15dac4fa99470c9c15cc56b6a57e0f",
            "40d199b1ad6841ae8683f389e0a655b3",
            "129bfc18e2ec4d92b64d3913c3f66375",
            "819866fa874340c3b38b56b9f950c9ad",
            "37a21b177df24a87a3788e1c1c102a19",
            "a8f210fcb658425fbe05ffda38540a8e",
            "cdb2abe79a7b434984de5c9c2c0d59e8",
            "d9f3f477c8504b50acb5621e99bf2b24",
            "974b781698414425a10e377d19ade31c",
            "2e4f609bc9c842f39d8f44f7292905b5",
            "1663143eb0a642468a94c73c45b0aa70",
            "4c3c1a9cf8484281ba6c3438fac311fc",
            "6b9b02b17ceb477a8f980fe5cc15265f",
            "f8c46aaffa204662bd07a1a062b626ec",
            "ac57eb6416d547f59d1e1e4daeb9e419",
            "b2f370c96c14454ea0266b02b99da38b"
          ]
        }
      },
      "execution_count": 28,
      "outputs": [
        {
          "output_type": "display_data",
          "data": {
            "text/plain": [
              "parsing log, completed traces ::   0%|          | 0/2 [00:00<?, ?it/s]"
            ],
            "application/vnd.jupyter.widget-view+json": {
              "version_major": 2,
              "version_minor": 0,
              "model_id": "8da3f6580e5e446abc477b3282f2f084"
            }
          },
          "metadata": {}
        },
        {
          "output_type": "display_data",
          "data": {
            "text/plain": [
              "parsing log, completed traces ::   0%|          | 0/2 [00:00<?, ?it/s]"
            ],
            "application/vnd.jupyter.widget-view+json": {
              "version_major": 2,
              "version_minor": 0,
              "model_id": "a8f210fcb658425fbe05ffda38540a8e"
            }
          },
          "metadata": {}
        },
        {
          "output_type": "stream",
          "name": "stdout",
          "text": [
            "(a11, c1, log-file, 2025-08-22 12:25:36.449666 - {'lifecycle:transition': 'complete', 'act': 'a11'} - {'creator': 'Fluxicon Disco', 'variant': 'Variant 1', 'variant-index': 1} - {})\n",
            "(a12, c1, log-file, 2025-08-22 12:25:36.450107 - {'lifecycle:transition': 'complete', 'act': 'a12'} - {'creator': 'Fluxicon Disco', 'variant': 'Variant 1', 'variant-index': 1} - {})\n",
            "(a21, c2, log-file, 2025-08-22 12:25:36.450296 - {'lifecycle:transition': 'complete', 'act': 'a21'} - {'creator': 'Fluxicon Disco', 'variant': 'Variant 2', 'variant-index': 2} - {})\n",
            "(a22, c2, log-file, 2025-08-22 12:25:36.450441 - {'lifecycle:transition': 'complete', 'act': 'a22'} - {'creator': 'Fluxicon Disco', 'variant': 'Variant 2', 'variant-index': 2} - {})\n",
            "(a23, c2, log-file, 2025-08-22 12:25:36.450580 - {'lifecycle:transition': 'complete', 'act': 'a23'} - {'creator': 'Fluxicon Disco', 'variant': 'Variant 2', 'variant-index': 2} - {})\n",
            "(A, case_1, Process, 2025-08-22 12:25:36.450731 - {} - {} - {})\n",
            "(B, case_1, Process, 2025-08-22 12:25:36.450749 - {} - {} - {})\n",
            "(C, case_1, Process, 2025-08-22 12:25:36.450763 - {} - {} - {})\n",
            "(D, case_1, Process, 2025-08-22 12:25:36.450775 - {} - {} - {})\n",
            "(A, case_2, Process, 2025-08-22 12:25:36.450788 - {} - {} - {})\n",
            "(B, case_2, Process, 2025-08-22 12:25:36.450799 - {} - {} - {})\n",
            "(C, case_2, Process, 2025-08-22 12:25:36.450810 - {} - {} - {})\n",
            "(D, case_2, Process, 2025-08-22 12:25:36.450820 - {} - {} - {})\n",
            "(a11, c1, log-file, 2025-08-22 12:25:36.451034 - {'lifecycle:transition': 'complete', 'act': 'a11'} - {'creator': 'Fluxicon Disco', 'variant': 'Variant 1', 'variant-index': 1} - {})\n",
            "(a12, c1, log-file, 2025-08-22 12:25:36.451208 - {'lifecycle:transition': 'complete', 'act': 'a12'} - {'creator': 'Fluxicon Disco', 'variant': 'Variant 1', 'variant-index': 1} - {})\n",
            "(a21, c2, log-file, 2025-08-22 12:25:36.451352 - {'lifecycle:transition': 'complete', 'act': 'a21'} - {'creator': 'Fluxicon Disco', 'variant': 'Variant 2', 'variant-index': 2} - {})\n",
            "(a22, c2, log-file, 2025-08-22 12:25:36.451517 - {'lifecycle:transition': 'complete', 'act': 'a22'} - {'creator': 'Fluxicon Disco', 'variant': 'Variant 2', 'variant-index': 2} - {})\n",
            "(a23, c2, log-file, 2025-08-22 12:25:36.451694 - {'lifecycle:transition': 'complete', 'act': 'a23'} - {'creator': 'Fluxicon Disco', 'variant': 'Variant 2', 'variant-index': 2} - {})\n"
          ]
        },
        {
          "output_type": "execute_result",
          "data": {
            "text/plain": [
              "<reactivex.disposable.disposable.Disposable at 0x7daee42e1370>"
            ]
          },
          "metadata": {},
          "execution_count": 28
        }
      ]
    },
    {
      "cell_type": "markdown",
      "metadata": {
        "id": "zDiJsMvfmBhn"
      },
      "source": [
        "### Filters"
      ]
    },
    {
      "cell_type": "code",
      "execution_count": 29,
      "metadata": {
        "id": "dCUSRIHhmBhn",
        "outputId": "0b3ffcd2-8c5d-4f88-92d3-04249aec6a0a",
        "colab": {
          "base_uri": "https://localhost:8080/",
          "height": 136,
          "referenced_widgets": [
            "e5896657fb174be1b2295341a7e41d07",
            "7b0071df3c46470a9130b93389e00a50",
            "c0f2d0aecb454ae5adb9eaa2700a387c",
            "83513a20789f482fa0ef4630de47e0c5",
            "8562b3687b994cfbb442dbb9ca61f14a",
            "899e5c6f801049b5b8fc1a1a9173c0ab",
            "27496a8e8eef4c879247eb5e5ceafc97",
            "e0526a58e7984b92bde410f08629d602",
            "7015b00efa6b4f7f9e7d61fe1f708c16",
            "3e520a35002a46379234f7d68e4ecc03",
            "fc79243a13994a64a66c884d7a67a643"
          ]
        }
      },
      "outputs": [
        {
          "output_type": "display_data",
          "data": {
            "text/plain": [
              "parsing log, completed traces ::   0%|          | 0/2 [00:00<?, ?it/s]"
            ],
            "application/vnd.jupyter.widget-view+json": {
              "version_major": 2,
              "version_minor": 0,
              "model_id": "e5896657fb174be1b2295341a7e41d07"
            }
          },
          "metadata": {}
        },
        {
          "output_type": "stream",
          "name": "stdout",
          "text": [
            "(a12, c1, log-file, 2025-08-22 12:25:36.508837 - {'lifecycle:transition': 'complete', 'act': 'a12'} - {'creator': 'Fluxicon Disco', 'variant': 'Variant 1', 'variant-index': 1} - {})\n",
            "(a21, c2, log-file, 2025-08-22 12:25:36.509364 - {'lifecycle:transition': 'complete', 'act': 'a21'} - {'creator': 'Fluxicon Disco', 'variant': 'Variant 2', 'variant-index': 2} - {})\n",
            "(a22, c2, log-file, 2025-08-22 12:25:36.509545 - {'lifecycle:transition': 'complete', 'act': 'a22'} - {'creator': 'Fluxicon Disco', 'variant': 'Variant 2', 'variant-index': 2} - {})\n",
            "(a23, c2, log-file, 2025-08-22 12:25:36.509702 - {'lifecycle:transition': 'complete', 'act': 'a23'} - {'creator': 'Fluxicon Disco', 'variant': 'Variant 2', 'variant-index': 2} - {})\n"
          ]
        },
        {
          "output_type": "execute_result",
          "data": {
            "text/plain": [
              "<reactivex.disposable.disposable.Disposable at 0x7daee42e2300>"
            ]
          },
          "metadata": {},
          "execution_count": 29
        }
      ],
      "source": [
        "from pybeamline.sources import log_source\n",
        "from pybeamline.filters import excludes_activity_filter\n",
        "\n",
        "log_source(\"log.xes\").pipe(\n",
        "    excludes_activity_filter(\"a11\"),\n",
        ").subscribe(lambda x: print(str(x)))\n",
        "\n",
        "# Similar functionalities for these filters:\n",
        "# - excludes_on_event_attribute_equal_filter\n",
        "# - retains_on_trace_attribute_equal_filter\n",
        "# - excludes_on_trace_attribute_equal_filter\n",
        "# - retains_activity_filter\n",
        "# - excludes_activity_filter\n"
      ]
    },
    {
      "cell_type": "markdown",
      "metadata": {
        "id": "UWUXL_fRmBhn"
      },
      "source": [
        "### Discovery techniques"
      ]
    },
    {
      "cell_type": "markdown",
      "metadata": {
        "id": "AMBDs1ZemBhn"
      },
      "source": [
        "Mining of directly-follows relations:"
      ]
    },
    {
      "cell_type": "code",
      "execution_count": 30,
      "metadata": {
        "id": "gaEnORBPmBhn",
        "outputId": "cb92bc5b-f8de-412d-9101-9c328c665b75",
        "colab": {
          "base_uri": "https://localhost:8080/"
        }
      },
      "outputs": [
        {
          "output_type": "stream",
          "name": "stdout",
          "text": [
            "('A', 'B')\n",
            "('B', 'C')\n",
            "('A', 'C')\n",
            "('C', 'B')\n"
          ]
        },
        {
          "output_type": "execute_result",
          "data": {
            "text/plain": [
              "<reactivex.disposable.disposable.Disposable at 0x7daee42e3560>"
            ]
          },
          "metadata": {},
          "execution_count": 30
        }
      ],
      "source": [
        "from pybeamline.sources import log_source\n",
        "from pybeamline.mappers import infinite_size_directly_follows_mapper\n",
        "\n",
        "log_source([\"ABC\", \"ACB\"]).pipe(\n",
        "    infinite_size_directly_follows_mapper()\n",
        ").subscribe(lambda x: print(str(x)))"
      ]
    },
    {
      "cell_type": "markdown",
      "metadata": {
        "id": "OOg8zOcMmBho"
      },
      "source": [
        "Mining of a Heuristics net using Lossy Counting:"
      ]
    },
    {
      "cell_type": "code",
      "execution_count": 31,
      "metadata": {
        "id": "L8r4SNCymBho",
        "outputId": "d143fd5e-2d67-43cb-90e4-09f16c994cfb",
        "colab": {
          "base_uri": "https://localhost:8080/"
        }
      },
      "outputs": [
        {
          "output_type": "stream",
          "name": "stdout",
          "text": [
            "{'A': (node:A connections:{B:[0.5]}), 'B': (node:B connections:{C:[0.5]}), 'C': (node:C connections:{})}\n",
            "{'C': (node:C connections:{D:[0.5]}), 'D': (node:D connections:{}), 'A': (node:A connections:{B:[0.6666666666666666]}), 'B': (node:B connections:{C:[0.6666666666666666]})}\n"
          ]
        },
        {
          "output_type": "execute_result",
          "data": {
            "text/plain": [
              "<reactivex.disposable.disposable.Disposable at 0x7daef8b5e120>"
            ]
          },
          "metadata": {},
          "execution_count": 31
        }
      ],
      "source": [
        "from pybeamline.algorithms.discovery import heuristics_miner_lossy_counting\n",
        "\n",
        "log_source([\"ABCD\", \"ABCD\"]).pipe(\n",
        "    heuristics_miner_lossy_counting(model_update_frequency=4)\n",
        ").subscribe(lambda x: print(str(x)))"
      ]
    },
    {
      "cell_type": "markdown",
      "metadata": {
        "id": "k5W33Vq6mBho"
      },
      "source": [
        "Mining of a Heuristics net using Lossy Counting with Budget:"
      ]
    },
    {
      "cell_type": "code",
      "execution_count": 32,
      "metadata": {
        "id": "q7nmZbJEmBho",
        "outputId": "e4d6c59f-f1e4-46a9-fb29-38e249016770",
        "colab": {
          "base_uri": "https://localhost:8080/"
        }
      },
      "outputs": [
        {
          "output_type": "stream",
          "name": "stdout",
          "text": [
            "{'A': (node:A connections:{B:[0.5]}), 'B': (node:B connections:{C:[0.5]}), 'C': (node:C connections:{D:[0.5]}), 'D': (node:D connections:{})}\n",
            "{'A': (node:A connections:{B:[0.6666666666666666]}), 'B': (node:B connections:{C:[0.6666666666666666]}), 'C': (node:C connections:{D:[0.6666666666666666]}), 'D': (node:D connections:{})}\n"
          ]
        },
        {
          "output_type": "execute_result",
          "data": {
            "text/plain": [
              "<reactivex.disposable.disposable.Disposable at 0x7daee41c1370>"
            ]
          },
          "metadata": {},
          "execution_count": 32
        }
      ],
      "source": [
        "from pybeamline.algorithms.discovery import heuristics_miner_lossy_counting_budget\n",
        "\n",
        "log_source([\"ABCD\", \"ABCD\"]).pipe(\n",
        "    heuristics_miner_lossy_counting_budget(model_update_frequency=4)\n",
        ").subscribe(lambda x: print(str(x)))"
      ]
    },
    {
      "cell_type": "markdown",
      "metadata": {
        "id": "Lcd3aB4kmBho"
      },
      "source": [
        "### Conformance checking"
      ]
    },
    {
      "cell_type": "markdown",
      "metadata": {
        "id": "9dn3LWKzmBho"
      },
      "source": [
        "Currently only conformance checking using behavioral profiles is supported:"
      ]
    },
    {
      "cell_type": "code",
      "execution_count": 33,
      "metadata": {
        "id": "9VW8GcqgmBho",
        "outputId": "ec99c2d6-72ab-4182-fd91-d3719496a7d0",
        "colab": {
          "base_uri": "https://localhost:8080/"
        }
      },
      "outputs": [
        {
          "output_type": "stream",
          "name": "stdout",
          "text": [
            "([('A', 'B'), ('B', 'C'), ('C', 'D')], {('A', 'B'): (0, 0), ('B', 'C'): (1, 1), ('C', 'D'): (2, 2)}, {('A', 'B'): 2, ('B', 'C'): 1, ('C', 'D'): 0})\n",
            "(1.0, 0.5, 1)\n",
            "(1.0, 1.0, 1)\n",
            "(1.0, 0.5, 1)\n",
            "(1.0, 1.0, 1)\n"
          ]
        },
        {
          "output_type": "execute_result",
          "data": {
            "text/plain": [
              "<reactivex.disposable.disposable.Disposable at 0x7daee4175f70>"
            ]
          },
          "metadata": {},
          "execution_count": 33
        }
      ],
      "source": [
        "from pybeamline.algorithms.conformance import mine_behavioral_model_from_stream, behavioral_conformance\n",
        "\n",
        "source = log_source([\"ABCD\", \"ABCD\"])\n",
        "reference_model = mine_behavioral_model_from_stream(source)\n",
        "print(reference_model)\n",
        "\n",
        "log_source([\"ABCD\", \"ABCD\"]).pipe(\n",
        "    excludes_activity_filter(\"A\"),\n",
        "    behavioral_conformance(reference_model)\n",
        ").subscribe(lambda x: print(str(x)))"
      ]
    },
    {
      "cell_type": "markdown",
      "metadata": {
        "id": "NK9p3h2FmBhp"
      },
      "source": [
        "### Sliding window\n",
        "\n",
        "This technique allows to apply any existing process mininig technique on streaming data"
      ]
    },
    {
      "cell_type": "code",
      "execution_count": 34,
      "metadata": {
        "id": "QO0pdOlamBhp",
        "outputId": "f4e38035-1925-4a40-d442-e9a98c330606",
        "colab": {
          "base_uri": "https://localhost:8080/"
        }
      },
      "outputs": [
        {
          "output_type": "stream",
          "name": "stdout",
          "text": [
            "Counter({('A', 'B'): 1, ('B', 'C'): 1})\n",
            "Counter({('A', 'B'): 1, ('B', 'D'): 1})\n"
          ]
        },
        {
          "output_type": "execute_result",
          "data": {
            "text/plain": [
              "<reactivex.disposable.disposable.Disposable at 0x7daee42e2360>"
            ]
          },
          "metadata": {},
          "execution_count": 34
        }
      ],
      "source": [
        "from pybeamline.sources import log_source\n",
        "from pybeamline.mappers import sliding_window_to_log\n",
        "from reactivex.operators import window_with_count\n",
        "import pm4py\n",
        "\n",
        "def mine(log):\n",
        "    print(pm4py.discover_dfg_typed(log))\n",
        "\n",
        "log_source([\"ABC\", \"ABD\"]).pipe(\n",
        "    window_with_count(3),\n",
        "    sliding_window_to_log()\n",
        ").subscribe(mine)"
      ]
    },
    {
      "cell_type": "markdown",
      "source": [
        "## Lambda operator"
      ],
      "metadata": {
        "id": "oKN_2FV0lN7P"
      }
    },
    {
      "cell_type": "code",
      "source": [
        "from pybeamline.algorithms.lambda_operator import lambda_operator\n",
        "from pybeamline.sources.string_test_source import string_test_source\n",
        "\n",
        "\n",
        "def my_filter(event):\n",
        "    return event if (event.get_event_name() == \"A\") else None\n",
        "\n",
        "\n",
        "def my_miner(event):\n",
        "    return [('Start', event.get_event_name())]\n",
        "\n",
        "\n",
        "string_test_source([\"ABCDE\", \"ACBDE\"]).pipe(\n",
        "    lambda_operator(my_filter),\n",
        "    lambda_operator(my_miner)\n",
        ").subscribe(lambda x: print(str(x)))\n"
      ],
      "metadata": {
        "id": "78QmSlillQIs",
        "outputId": "c53e81ff-0ca0-4247-8d98-3bf5d4e6dc51",
        "colab": {
          "base_uri": "https://localhost:8080/"
        }
      },
      "execution_count": 35,
      "outputs": [
        {
          "output_type": "stream",
          "name": "stdout",
          "text": [
            "[('Start', 'A')]\n",
            "[('Start', 'A')]\n"
          ]
        },
        {
          "output_type": "execute_result",
          "data": {
            "text/plain": [
              "<reactivex.disposable.disposable.Disposable at 0x7daee42e3e60>"
            ]
          },
          "metadata": {},
          "execution_count": 35
        }
      ]
    },
    {
      "cell_type": "markdown",
      "source": [
        "# Integration with other libraries\n",
        "\n",
        "## River"
      ],
      "metadata": {
        "id": "BsnNVptTz4t7"
      }
    },
    {
      "cell_type": "code",
      "source": [
        "!pip install river"
      ],
      "metadata": {
        "id": "8ifDJUq3z8Vz",
        "outputId": "436507c2-d3bf-4b1d-cf54-a898c39a92f3",
        "colab": {
          "base_uri": "https://localhost:8080/"
        }
      },
      "execution_count": 36,
      "outputs": [
        {
          "output_type": "stream",
          "name": "stdout",
          "text": [
            "Requirement already satisfied: river in /usr/local/lib/python3.12/dist-packages (0.21.2)\n",
            "Requirement already satisfied: numpy<2.0.0,>=1.23.0 in /usr/local/lib/python3.12/dist-packages (from river) (1.26.4)\n",
            "Requirement already satisfied: pandas<3.0,>=2.1 in /usr/local/lib/python3.12/dist-packages (from river) (2.2.3)\n",
            "Requirement already satisfied: scipy<2.0.0,>=1.12.1 in /usr/local/lib/python3.12/dist-packages (from river) (1.16.1)\n",
            "Requirement already satisfied: python-dateutil>=2.8.2 in /usr/local/lib/python3.12/dist-packages (from pandas<3.0,>=2.1->river) (2.9.0.post0)\n",
            "Requirement already satisfied: pytz>=2020.1 in /usr/local/lib/python3.12/dist-packages (from pandas<3.0,>=2.1->river) (2025.2)\n",
            "Requirement already satisfied: tzdata>=2022.7 in /usr/local/lib/python3.12/dist-packages (from pandas<3.0,>=2.1->river) (2025.2)\n",
            "Requirement already satisfied: six>=1.5 in /usr/local/lib/python3.12/dist-packages (from python-dateutil>=2.8.2->pandas<3.0,>=2.1->river) (1.17.0)\n"
          ]
        }
      ]
    },
    {
      "cell_type": "code",
      "source": [
        "import random\n",
        "\n",
        "log_original = [\"ABCD\"]*10000 + [\"ACBD\"]*500\n",
        "random.shuffle(log_original)\n",
        "\n",
        "log_after_drift = [\"ABCD\"]*500 + [\"ACBD\"]*10000\n",
        "random.shuffle(log_after_drift)\n",
        "\n",
        "log_with_drift = log_source(log_original + log_after_drift + log_original)"
      ],
      "metadata": {
        "id": "9nTNYFm82CnM"
      },
      "execution_count": 37,
      "outputs": []
    },
    {
      "cell_type": "code",
      "source": [
        "import reactivex\n",
        "from reactivex import operators as ops\n",
        "from river import drift\n",
        "\n",
        "drift_detector = drift.ADWIN()\n",
        "data = []\n",
        "drifts = []\n",
        "\n",
        "def check_for_drift():\n",
        "  index = 0\n",
        "\n",
        "  def _process(x):\n",
        "    nonlocal index\n",
        "    drift_detector.update(x)\n",
        "    index = index + 1\n",
        "    if drift_detector.drift_detected:\n",
        "      drifts.append(index)\n",
        "\n",
        "  def _check_for_drift(obs):\n",
        "    return obs.pipe(ops.do_action(lambda value: _process(value)))\n",
        "\n",
        "  return _check_for_drift\n",
        "\n",
        "log_with_drift.pipe(\n",
        "  ops.buffer_with_count(40),\n",
        "  ops.flat_map(lambda events: reactivex.from_iterable(events).pipe(\n",
        "      ops.pairwise(),\n",
        "      ops.filter(lambda x: x[0].get_trace_name() == x[1].get_trace_name() and x[0].get_event_name() == \"B\" and x[1].get_event_name() == \"C\"),\n",
        "      ops.count()\n",
        "      )\n",
        "  ),\n",
        "  check_for_drift()\n",
        ").subscribe(lambda x: data.append(x))"
      ],
      "metadata": {
        "id": "11K2rYJi2HoU",
        "outputId": "513c991c-14fa-4f29-e6fe-3bbebe69ec18",
        "colab": {
          "base_uri": "https://localhost:8080/"
        }
      },
      "execution_count": 38,
      "outputs": [
        {
          "output_type": "execute_result",
          "data": {
            "text/plain": [
              "<reactivex.disposable.disposable.Disposable at 0x7daef8d56840>"
            ]
          },
          "metadata": {},
          "execution_count": 38
        }
      ]
    },
    {
      "cell_type": "code",
      "source": [
        "import matplotlib.pyplot as plt\n",
        "\n",
        "plt.plot(data, marker='o')\n",
        "plt.grid()\n",
        "for drift_detected in drifts:\n",
        "    plt.axvline(drift_detected, color='red')\n",
        "plt.show()"
      ],
      "metadata": {
        "id": "Yw8TVwvN1TYw",
        "outputId": "bb4f4ba2-fb81-4b44-cc05-2bd9033fc4b5",
        "colab": {
          "base_uri": "https://localhost:8080/",
          "height": 430
        }
      },
      "execution_count": 39,
      "outputs": [
        {
          "output_type": "display_data",
          "data": {
            "text/plain": [
              "<Figure size 640x480 with 1 Axes>"
            ],
            "image/png": "[encoded data removed]"
          },
          "metadata": {}
        }
      ]
    }
  ],
  "metadata": {
    "kernelspec": {
      "display_name": "Python 3",
      "language": "python",
      "name": "python3"
    },
    "language_info": {
      "codemirror_mode": {
        "name": "ipython",
        "version": 3
      },
      "file_extension": ".py",
      "mimetype": "text/x-python",
      "name": "python",
      "nbconvert_exporter": "python",
      "pygments_lexer": "ipython3",
      "version": "3.9.13"
    },
    "orig_nbformat": 4,
    "colab": {
      "provenance": [],
      "toc_visible": true
    },
    "widgets": {
      "application/vnd.jupyter.widget-state+json": {
        "d2fc00da89bd408db72f44e0611f25fc": {
          "model_module": "@jupyter-widgets/controls",
          "model_name": "HBoxModel",
          "model_module_version": "1.5.0",
          "state": {
            "_dom_classes": [],
            "_model_module": "@jupyter-widgets/controls",
            "_model_module_version": "1.5.0",
            "_model_name": "HBoxModel",
            "_view_count": null,
            "_view_module": "@jupyter-widgets/controls",
            "_view_module_version": "1.5.0",
            "_view_name": "HBoxView",
            "box_style": "",
            "children": [
              "IPY_MODEL_a22b5a05cb7947cda664002e53b96759",
              "IPY_MODEL_a0cd5b3efe0844d4a59238e3f14557c6",
              "IPY_MODEL_3a86c381743e406387d3e021a8235806"
            ],
            "layout": "IPY_MODEL_0de8c911d9614e148b2ea8bc3331794a"
          }
        },
        "a22b5a05cb7947cda664002e53b96759": {
          "model_module": "@jupyter-widgets/controls",
          "model_name": "HTMLModel",
          "model_module_version": "1.5.0",
          "state": {
            "_dom_classes": [],
            "_model_module": "@jupyter-widgets/controls",
            "_model_module_version": "1.5.0",
            "_model_name": "HTMLModel",
            "_view_count": null,
            "_view_module": "@jupyter-widgets/controls",
            "_view_module_version": "1.5.0",
            "_view_name": "HTMLView",
            "description": "",
            "description_tooltip": null,
            "layout": "IPY_MODEL_6bc6934192f64231a57861885b78bc07",
            "placeholder": "​",
            "style": "IPY_MODEL_dcc8185b73594189876b2b184d139c42",
            "value": "parsing log, completed traces :: 100%"
          }
        },
        "a0cd5b3efe0844d4a59238e3f14557c6": {
          "model_module": "@jupyter-widgets/controls",
          "model_name": "FloatProgressModel",
          "model_module_version": "1.5.0",
          "state": {
            "_dom_classes": [],
            "_model_module": "@jupyter-widgets/controls",
            "_model_module_version": "1.5.0",
            "_model_name": "FloatProgressModel",
            "_view_count": null,
            "_view_module": "@jupyter-widgets/controls",
            "_view_module_version": "1.5.0",
            "_view_name": "ProgressView",
            "bar_style": "success",
            "description": "",
            "description_tooltip": null,
            "layout": "IPY_MODEL_2239d81cb16b417ba5088b0f03b9ccbb",
            "max": 2,
            "min": 0,
            "orientation": "horizontal",
            "style": "IPY_MODEL_553ee7acfe26432997919a111494839b",
            "value": 2
          }
        },
        "3a86c381743e406387d3e021a8235806": {
          "model_module": "@jupyter-widgets/controls",
          "model_name": "HTMLModel",
          "model_module_version": "1.5.0",
          "state": {
            "_dom_classes": [],
            "_model_module": "@jupyter-widgets/controls",
            "_model_module_version": "1.5.0",
            "_model_name": "HTMLModel",
            "_view_count": null,
            "_view_module": "@jupyter-widgets/controls",
            "_view_module_version": "1.5.0",
            "_view_name": "HTMLView",
            "description": "",
            "description_tooltip": null,
            "layout": "IPY_MODEL_f10af0d51834407198e617bd8488d4eb",
            "placeholder": "​",
            "style": "IPY_MODEL_eeedd994c5c64b979816076517a8fbc6",
            "value": " 2/2 [00:00&lt;00:00, 103.28it/s]"
          }
        },
        "0de8c911d9614e148b2ea8bc3331794a": {
          "model_module": "@jupyter-widgets/base",
          "model_name": "LayoutModel",
          "model_module_version": "1.2.0",
          "state": {
            "_model_module": "@jupyter-widgets/base",
            "_model_module_version": "1.2.0",
            "_model_name": "LayoutModel",
            "_view_count": null,
            "_view_module": "@jupyter-widgets/base",
            "_view_module_version": "1.2.0",
            "_view_name": "LayoutView",
            "align_content": null,
            "align_items": null,
            "align_self": null,
            "border": null,
            "bottom": null,
            "display": null,
            "flex": null,
            "flex_flow": null,
            "grid_area": null,
            "grid_auto_columns": null,
            "grid_auto_flow": null,
            "grid_auto_rows": null,
            "grid_column": null,
            "grid_gap": null,
            "grid_row": null,
            "grid_template_areas": null,
            "grid_template_columns": null,
            "grid_template_rows": null,
            "height": null,
            "justify_content": null,
            "justify_items": null,
            "left": null,
            "margin": null,
            "max_height": null,
            "max_width": null,
            "min_height": null,
            "min_width": null,
            "object_fit": null,
            "object_position": null,
            "order": null,
            "overflow": null,
            "overflow_x": null,
            "overflow_y": null,
            "padding": null,
            "right": null,
            "top": null,
            "visibility": null,
            "width": null
          }
        },
        "6bc6934192f64231a57861885b78bc07": {
          "model_module": "@jupyter-widgets/base",
          "model_name": "LayoutModel",
          "model_module_version": "1.2.0",
          "state": {
            "_model_module": "@jupyter-widgets/base",
            "_model_module_version": "1.2.0",
            "_model_name": "LayoutModel",
            "_view_count": null,
            "_view_module": "@jupyter-widgets/base",
            "_view_module_version": "1.2.0",
            "_view_name": "LayoutView",
            "align_content": null,
            "align_items": null,
            "align_self": null,
            "border": null,
            "bottom": null,
            "display": null,
            "flex": null,
            "flex_flow": null,
            "grid_area": null,
            "grid_auto_columns": null,
            "grid_auto_flow": null,
            "grid_auto_rows": null,
            "grid_column": null,
            "grid_gap": null,
            "grid_row": null,
            "grid_template_areas": null,
            "grid_template_columns": null,
            "grid_template_rows": null,
            "height": null,
            "justify_content": null,
            "justify_items": null,
            "left": null,
            "margin": null,
            "max_height": null,
            "max_width": null,
            "min_height": null,
            "min_width": null,
            "object_fit": null,
            "object_position": null,
            "order": null,
            "overflow": null,
            "overflow_x": null,
            "overflow_y": null,
            "padding": null,
            "right": null,
            "top": null,
            "visibility": null,
            "width": null
          }
        },
        "dcc8185b73594189876b2b184d139c42": {
          "model_module": "@jupyter-widgets/controls",
          "model_name": "DescriptionStyleModel",
          "model_module_version": "1.5.0",
          "state": {
            "_model_module": "@jupyter-widgets/controls",
            "_model_module_version": "1.5.0",
            "_model_name": "DescriptionStyleModel",
            "_view_count": null,
            "_view_module": "@jupyter-widgets/base",
            "_view_module_version": "1.2.0",
            "_view_name": "StyleView",
            "description_width": ""
          }
        },
        "2239d81cb16b417ba5088b0f03b9ccbb": {
          "model_module": "@jupyter-widgets/base",
          "model_name": "LayoutModel",
          "model_module_version": "1.2.0",
          "state": {
            "_model_module": "@jupyter-widgets/base",
            "_model_module_version": "1.2.0",
            "_model_name": "LayoutModel",
            "_view_count": null,
            "_view_module": "@jupyter-widgets/base",
            "_view_module_version": "1.2.0",
            "_view_name": "LayoutView",
            "align_content": null,
            "align_items": null,
            "align_self": null,
            "border": null,
            "bottom": null,
            "display": null,
            "flex": null,
            "flex_flow": null,
            "grid_area": null,
            "grid_auto_columns": null,
            "grid_auto_flow": null,
            "grid_auto_rows": null,
            "grid_column": null,
            "grid_gap": null,
            "grid_row": null,
            "grid_template_areas": null,
            "grid_template_columns": null,
            "grid_template_rows": null,
            "height": null,
            "justify_content": null,
            "justify_items": null,
            "left": null,
            "margin": null,
            "max_height": null,
            "max_width": null,
            "min_height": null,
            "min_width": null,
            "object_fit": null,
            "object_position": null,
            "order": null,
            "overflow": null,
            "overflow_x": null,
            "overflow_y": null,
            "padding": null,
            "right": null,
            "top": null,
            "visibility": null,
            "width": null
          }
        },
        "553ee7acfe26432997919a111494839b": {
          "model_module": "@jupyter-widgets/controls",
          "model_name": "ProgressStyleModel",
          "model_module_version": "1.5.0",
          "state": {
            "_model_module": "@jupyter-widgets/controls",
            "_model_module_version": "1.5.0",
            "_model_name": "ProgressStyleModel",
            "_view_count": null,
            "_view_module": "@jupyter-widgets/base",
            "_view_module_version": "1.2.0",
            "_view_name": "StyleView",
            "bar_color": null,
            "description_width": ""
          }
        },
        "f10af0d51834407198e617bd8488d4eb": {
          "model_module": "@jupyter-widgets/base",
          "model_name": "LayoutModel",
          "model_module_version": "1.2.0",
          "state": {
            "_model_module": "@jupyter-widgets/base",
            "_model_module_version": "1.2.0",
            "_model_name": "LayoutModel",
            "_view_count": null,
            "_view_module": "@jupyter-widgets/base",
            "_view_module_version": "1.2.0",
            "_view_name": "LayoutView",
            "align_content": null,
            "align_items": null,
            "align_self": null,
            "border": null,
            "bottom": null,
            "display": null,
            "flex": null,
            "flex_flow": null,
            "grid_area": null,
            "grid_auto_columns": null,
            "grid_auto_flow": null,
            "grid_auto_rows": null,
            "grid_column": null,
            "grid_gap": null,
            "grid_row": null,
            "grid_template_areas": null,
            "grid_template_columns": null,
            "grid_template_rows": null,
            "height": null,
            "justify_content": null,
            "justify_items": null,
            "left": null,
            "margin": null,
            "max_height": null,
            "max_width": null,
            "min_height": null,
            "min_width": null,
            "object_fit": null,
            "object_position": null,
            "order": null,
            "overflow": null,
            "overflow_x": null,
            "overflow_y": null,
            "padding": null,
            "right": null,
            "top": null,
            "visibility": null,
            "width": null
          }
        },
        "eeedd994c5c64b979816076517a8fbc6": {
          "model_module": "@jupyter-widgets/controls",
          "model_name": "DescriptionStyleModel",
          "model_module_version": "1.5.0",
          "state": {
            "_model_module": "@jupyter-widgets/controls",
            "_model_module_version": "1.5.0",
            "_model_name": "DescriptionStyleModel",
            "_view_count": null,
            "_view_module": "@jupyter-widgets/base",
            "_view_module_version": "1.2.0",
            "_view_name": "StyleView",
            "description_width": ""
          }
        },
        "3a40eb7fa55048bd8d54d888f31f712b": {
          "model_module": "@jupyter-widgets/controls",
          "model_name": "HBoxModel",
          "model_module_version": "1.5.0",
          "state": {
            "_dom_classes": [],
            "_model_module": "@jupyter-widgets/controls",
            "_model_module_version": "1.5.0",
            "_model_name": "HBoxModel",
            "_view_count": null,
            "_view_module": "@jupyter-widgets/controls",
            "_view_module_version": "1.5.0",
            "_view_name": "HBoxView",
            "box_style": "",
            "children": [
              "IPY_MODEL_3b93a906b1834b27956225860cc132cc",
              "IPY_MODEL_6895739859bf47e6aa8a8ec9211d321a",
              "IPY_MODEL_3bcc495efc9e4245b665f9dd577d33a1"
            ],
            "layout": "IPY_MODEL_85bde83bb53e461fa45548e637f1c68e"
          }
        },
        "3b93a906b1834b27956225860cc132cc": {
          "model_module": "@jupyter-widgets/controls",
          "model_name": "HTMLModel",
          "model_module_version": "1.5.0",
          "state": {
            "_dom_classes": [],
            "_model_module": "@jupyter-widgets/controls",
            "_model_module_version": "1.5.0",
            "_model_name": "HTMLModel",
            "_view_count": null,
            "_view_module": "@jupyter-widgets/controls",
            "_view_module_version": "1.5.0",
            "_view_name": "HTMLView",
            "description": "",
            "description_tooltip": null,
            "layout": "IPY_MODEL_a066a916fc7d40aeb2b55deaffe42469",
            "placeholder": "​",
            "style": "IPY_MODEL_658c8ca6adb54fd397f15bc45489ae67",
            "value": "parsing log, completed traces :: 100%"
          }
        },
        "6895739859bf47e6aa8a8ec9211d321a": {
          "model_module": "@jupyter-widgets/controls",
          "model_name": "FloatProgressModel",
          "model_module_version": "1.5.0",
          "state": {
            "_dom_classes": [],
            "_model_module": "@jupyter-widgets/controls",
            "_model_module_version": "1.5.0",
            "_model_name": "FloatProgressModel",
            "_view_count": null,
            "_view_module": "@jupyter-widgets/controls",
            "_view_module_version": "1.5.0",
            "_view_name": "ProgressView",
            "bar_style": "success",
            "description": "",
            "description_tooltip": null,
            "layout": "IPY_MODEL_613366efc6bf4e6aa7392c16c7edeb86",
            "max": 2,
            "min": 0,
            "orientation": "horizontal",
            "style": "IPY_MODEL_f8b064fc91884666a8e67c88bd34c2a8",
            "value": 2
          }
        },
        "3bcc495efc9e4245b665f9dd577d33a1": {
          "model_module": "@jupyter-widgets/controls",
          "model_name": "HTMLModel",
          "model_module_version": "1.5.0",
          "state": {
            "_dom_classes": [],
            "_model_module": "@jupyter-widgets/controls",
            "_model_module_version": "1.5.0",
            "_model_name": "HTMLModel",
            "_view_count": null,
            "_view_module": "@jupyter-widgets/controls",
            "_view_module_version": "1.5.0",
            "_view_name": "HTMLView",
            "description": "",
            "description_tooltip": null,
            "layout": "IPY_MODEL_5867d8b0b3ab4b9797b8bbbb715632dc",
            "placeholder": "​",
            "style": "IPY_MODEL_b4bc6d8df7284885b41421f39c6fbbee",
            "value": " 2/2 [00:00&lt;00:00, 78.74it/s]"
          }
        },
        "85bde83bb53e461fa45548e637f1c68e": {
          "model_module": "@jupyter-widgets/base",
          "model_name": "LayoutModel",
          "model_module_version": "1.2.0",
          "state": {
            "_model_module": "@jupyter-widgets/base",
            "_model_module_version": "1.2.0",
            "_model_name": "LayoutModel",
            "_view_count": null,
            "_view_module": "@jupyter-widgets/base",
            "_view_module_version": "1.2.0",
            "_view_name": "LayoutView",
            "align_content": null,
            "align_items": null,
            "align_self": null,
            "border": null,
            "bottom": null,
            "display": null,
            "flex": null,
            "flex_flow": null,
            "grid_area": null,
            "grid_auto_columns": null,
            "grid_auto_flow": null,
            "grid_auto_rows": null,
            "grid_column": null,
            "grid_gap": null,
            "grid_row": null,
            "grid_template_areas": null,
            "grid_template_columns": null,
            "grid_template_rows": null,
            "height": null,
            "justify_content": null,
            "justify_items": null,
            "left": null,
            "margin": null,
            "max_height": null,
            "max_width": null,
            "min_height": null,
            "min_width": null,
            "object_fit": null,
            "object_position": null,
            "order": null,
            "overflow": null,
            "overflow_x": null,
            "overflow_y": null,
            "padding": null,
            "right": null,
            "top": null,
            "visibility": null,
            "width": null
          }
        },
        "a066a916fc7d40aeb2b55deaffe42469": {
          "model_module": "@jupyter-widgets/base",
          "model_name": "LayoutModel",
          "model_module_version": "1.2.0",
          "state": {
            "_model_module": "@jupyter-widgets/base",
            "_model_module_version": "1.2.0",
            "_model_name": "LayoutModel",
            "_view_count": null,
            "_view_module": "@jupyter-widgets/base",
            "_view_module_version": "1.2.0",
            "_view_name": "LayoutView",
            "align_content": null,
            "align_items": null,
            "align_self": null,
            "border": null,
            "bottom": null,
            "display": null,
            "flex": null,
            "flex_flow": null,
            "grid_area": null,
            "grid_auto_columns": null,
            "grid_auto_flow": null,
            "grid_auto_rows": null,
            "grid_column": null,
            "grid_gap": null,
            "grid_row": null,
            "grid_template_areas": null,
            "grid_template_columns": null,
            "grid_template_rows": null,
            "height": null,
            "justify_content": null,
            "justify_items": null,
            "left": null,
            "margin": null,
            "max_height": null,
            "max_width": null,
            "min_height": null,
            "min_width": null,
            "object_fit": null,
            "object_position": null,
            "order": null,
            "overflow": null,
            "overflow_x": null,
            "overflow_y": null,
            "padding": null,
            "right": null,
            "top": null,
            "visibility": null,
            "width": null
          }
        },
        "658c8ca6adb54fd397f15bc45489ae67": {
          "model_module": "@jupyter-widgets/controls",
          "model_name": "DescriptionStyleModel",
          "model_module_version": "1.5.0",
          "state": {
            "_model_module": "@jupyter-widgets/controls",
            "_model_module_version": "1.5.0",
            "_model_name": "DescriptionStyleModel",
            "_view_count": null,
            "_view_module": "@jupyter-widgets/base",
            "_view_module_version": "1.2.0",
            "_view_name": "StyleView",
            "description_width": ""
          }
        },
        "613366efc6bf4e6aa7392c16c7edeb86": {
          "model_module": "@jupyter-widgets/base",
          "model_name": "LayoutModel",
          "model_module_version": "1.2.0",
          "state": {
            "_model_module": "@jupyter-widgets/base",
            "_model_module_version": "1.2.0",
            "_model_name": "LayoutModel",
            "_view_count": null,
            "_view_module": "@jupyter-widgets/base",
            "_view_module_version": "1.2.0",
            "_view_name": "LayoutView",
            "align_content": null,
            "align_items": null,
            "align_self": null,
            "border": null,
            "bottom": null,
            "display": null,
            "flex": null,
            "flex_flow": null,
            "grid_area": null,
            "grid_auto_columns": null,
            "grid_auto_flow": null,
            "grid_auto_rows": null,
            "grid_column": null,
            "grid_gap": null,
            "grid_row": null,
            "grid_template_areas": null,
            "grid_template_columns": null,
            "grid_template_rows": null,
            "height": null,
            "justify_content": null,
            "justify_items": null,
            "left": null,
            "margin": null,
            "max_height": null,
            "max_width": null,
            "min_height": null,
            "min_width": null,
            "object_fit": null,
            "object_position": null,
            "order": null,
            "overflow": null,
            "overflow_x": null,
            "overflow_y": null,
            "padding": null,
            "right": null,
            "top": null,
            "visibility": null,
            "width": null
          }
        },
        "f8b064fc91884666a8e67c88bd34c2a8": {
          "model_module": "@jupyter-widgets/controls",
          "model_name": "ProgressStyleModel",
          "model_module_version": "1.5.0",
          "state": {
            "_model_module": "@jupyter-widgets/controls",
            "_model_module_version": "1.5.0",
            "_model_name": "ProgressStyleModel",
            "_view_count": null,
            "_view_module": "@jupyter-widgets/base",
            "_view_module_version": "1.2.0",
            "_view_name": "StyleView",
            "bar_color": null,
            "description_width": ""
          }
        },
        "5867d8b0b3ab4b9797b8bbbb715632dc": {
          "model_module": "@jupyter-widgets/base",
          "model_name": "LayoutModel",
          "model_module_version": "1.2.0",
          "state": {
            "_model_module": "@jupyter-widgets/base",
            "_model_module_version": "1.2.0",
            "_model_name": "LayoutModel",
            "_view_count": null,
            "_view_module": "@jupyter-widgets/base",
            "_view_module_version": "1.2.0",
            "_view_name": "LayoutView",
            "align_content": null,
            "align_items": null,
            "align_self": null,
            "border": null,
            "bottom": null,
            "display": null,
            "flex": null,
            "flex_flow": null,
            "grid_area": null,
            "grid_auto_columns": null,
            "grid_auto_flow": null,
            "grid_auto_rows": null,
            "grid_column": null,
            "grid_gap": null,
            "grid_row": null,
            "grid_template_areas": null,
            "grid_template_columns": null,
            "grid_template_rows": null,
            "height": null,
            "justify_content": null,
            "justify_items": null,
            "left": null,
            "margin": null,
            "max_height": null,
            "max_width": null,
            "min_height": null,
            "min_width": null,
            "object_fit": null,
            "object_position": null,
            "order": null,
            "overflow": null,
            "overflow_x": null,
            "overflow_y": null,
            "padding": null,
            "right": null,
            "top": null,
            "visibility": null,
            "width": null
          }
        },
        "b4bc6d8df7284885b41421f39c6fbbee": {
          "model_module": "@jupyter-widgets/controls",
          "model_name": "DescriptionStyleModel",
          "model_module_version": "1.5.0",
          "state": {
            "_model_module": "@jupyter-widgets/controls",
            "_model_module_version": "1.5.0",
            "_model_name": "DescriptionStyleModel",
            "_view_count": null,
            "_view_module": "@jupyter-widgets/base",
            "_view_module_version": "1.2.0",
            "_view_name": "StyleView",
            "description_width": ""
          }
        },
        "8da3f6580e5e446abc477b3282f2f084": {
          "model_module": "@jupyter-widgets/controls",
          "model_name": "HBoxModel",
          "model_module_version": "1.5.0",
          "state": {
            "_dom_classes": [],
            "_model_module": "@jupyter-widgets/controls",
            "_model_module_version": "1.5.0",
            "_model_name": "HBoxModel",
            "_view_count": null,
            "_view_module": "@jupyter-widgets/controls",
            "_view_module_version": "1.5.0",
            "_view_name": "HBoxView",
            "box_style": "",
            "children": [
              "IPY_MODEL_345afb0176114ddabc522762f2700773",
              "IPY_MODEL_d51edbb88bc14472a6ee8a884f9225ef",
              "IPY_MODEL_2d9a5bd2c66e4fa6957da23429641819"
            ],
            "layout": "IPY_MODEL_c1450c2d42bf4a64a9d9bc468048ed13"
          }
        },
        "345afb0176114ddabc522762f2700773": {
          "model_module": "@jupyter-widgets/controls",
          "model_name": "HTMLModel",
          "model_module_version": "1.5.0",
          "state": {
            "_dom_classes": [],
            "_model_module": "@jupyter-widgets/controls",
            "_model_module_version": "1.5.0",
            "_model_name": "HTMLModel",
            "_view_count": null,
            "_view_module": "@jupyter-widgets/controls",
            "_view_module_version": "1.5.0",
            "_view_name": "HTMLView",
            "description": "",
            "description_tooltip": null,
            "layout": "IPY_MODEL_62ec59011f604090a079442e186ec1ad",
            "placeholder": "​",
            "style": "IPY_MODEL_1c15dac4fa99470c9c15cc56b6a57e0f",
            "value": "parsing log, completed traces :: 100%"
          }
        },
        "d51edbb88bc14472a6ee8a884f9225ef": {
          "model_module": "@jupyter-widgets/controls",
          "model_name": "FloatProgressModel",
          "model_module_version": "1.5.0",
          "state": {
            "_dom_classes": [],
            "_model_module": "@jupyter-widgets/controls",
            "_model_module_version": "1.5.0",
            "_model_name": "FloatProgressModel",
            "_view_count": null,
            "_view_module": "@jupyter-widgets/controls",
            "_view_module_version": "1.5.0",
            "_view_name": "ProgressView",
            "bar_style": "success",
            "description": "",
            "description_tooltip": null,
            "layout": "IPY_MODEL_40d199b1ad6841ae8683f389e0a655b3",
            "max": 2,
            "min": 0,
            "orientation": "horizontal",
            "style": "IPY_MODEL_129bfc18e2ec4d92b64d3913c3f66375",
            "value": 2
          }
        },
        "2d9a5bd2c66e4fa6957da23429641819": {
          "model_module": "@jupyter-widgets/controls",
          "model_name": "HTMLModel",
          "model_module_version": "1.5.0",
          "state": {
            "_dom_classes": [],
            "_model_module": "@jupyter-widgets/controls",
            "_model_module_version": "1.5.0",
            "_model_name": "HTMLModel",
            "_view_count": null,
            "_view_module": "@jupyter-widgets/controls",
            "_view_module_version": "1.5.0",
            "_view_name": "HTMLView",
            "description": "",
            "description_tooltip": null,
            "layout": "IPY_MODEL_819866fa874340c3b38b56b9f950c9ad",
            "placeholder": "​",
            "style": "IPY_MODEL_37a21b177df24a87a3788e1c1c102a19",
            "value": " 2/2 [00:00&lt;00:00, 27.47it/s]"
          }
        },
        "c1450c2d42bf4a64a9d9bc468048ed13": {
          "model_module": "@jupyter-widgets/base",
          "model_name": "LayoutModel",
          "model_module_version": "1.2.0",
          "state": {
            "_model_module": "@jupyter-widgets/base",
            "_model_module_version": "1.2.0",
            "_model_name": "LayoutModel",
            "_view_count": null,
            "_view_module": "@jupyter-widgets/base",
            "_view_module_version": "1.2.0",
            "_view_name": "LayoutView",
            "align_content": null,
            "align_items": null,
            "align_self": null,
            "border": null,
            "bottom": null,
            "display": null,
            "flex": null,
            "flex_flow": null,
            "grid_area": null,
            "grid_auto_columns": null,
            "grid_auto_flow": null,
            "grid_auto_rows": null,
            "grid_column": null,
            "grid_gap": null,
            "grid_row": null,
            "grid_template_areas": null,
            "grid_template_columns": null,
            "grid_template_rows": null,
            "height": null,
            "justify_content": null,
            "justify_items": null,
            "left": null,
            "margin": null,
            "max_height": null,
            "max_width": null,
            "min_height": null,
            "min_width": null,
            "object_fit": null,
            "object_position": null,
            "order": null,
            "overflow": null,
            "overflow_x": null,
            "overflow_y": null,
            "padding": null,
            "right": null,
            "top": null,
            "visibility": null,
            "width": null
          }
        },
        "62ec59011f604090a079442e186ec1ad": {
          "model_module": "@jupyter-widgets/base",
          "model_name": "LayoutModel",
          "model_module_version": "1.2.0",
          "state": {
            "_model_module": "@jupyter-widgets/base",
            "_model_module_version": "1.2.0",
            "_model_name": "LayoutModel",
            "_view_count": null,
            "_view_module": "@jupyter-widgets/base",
            "_view_module_version": "1.2.0",
            "_view_name": "LayoutView",
            "align_content": null,
            "align_items": null,
            "align_self": null,
            "border": null,
            "bottom": null,
            "display": null,
            "flex": null,
            "flex_flow": null,
            "grid_area": null,
            "grid_auto_columns": null,
            "grid_auto_flow": null,
            "grid_auto_rows": null,
            "grid_column": null,
            "grid_gap": null,
            "grid_row": null,
            "grid_template_areas": null,
            "grid_template_columns": null,
            "grid_template_rows": null,
            "height": null,
            "justify_content": null,
            "justify_items": null,
            "left": null,
            "margin": null,
            "max_height": null,
            "max_width": null,
            "min_height": null,
            "min_width": null,
            "object_fit": null,
            "object_position": null,
            "order": null,
            "overflow": null,
            "overflow_x": null,
            "overflow_y": null,
            "padding": null,
            "right": null,
            "top": null,
            "visibility": null,
            "width": null
          }
        },
        "1c15dac4fa99470c9c15cc56b6a57e0f": {
          "model_module": "@jupyter-widgets/controls",
          "model_name": "DescriptionStyleModel",
          "model_module_version": "1.5.0",
          "state": {
            "_model_module": "@jupyter-widgets/controls",
            "_model_module_version": "1.5.0",
            "_model_name": "DescriptionStyleModel",
            "_view_count": null,
            "_view_module": "@jupyter-widgets/base",
            "_view_module_version": "1.2.0",
            "_view_name": "StyleView",
            "description_width": ""
          }
        },
        "40d199b1ad6841ae8683f389e0a655b3": {
          "model_module": "@jupyter-widgets/base",
          "model_name": "LayoutModel",
          "model_module_version": "1.2.0",
          "state": {
            "_model_module": "@jupyter-widgets/base",
            "_model_module_version": "1.2.0",
            "_model_name": "LayoutModel",
            "_view_count": null,
            "_view_module": "@jupyter-widgets/base",
            "_view_module_version": "1.2.0",
            "_view_name": "LayoutView",
            "align_content": null,
            "align_items": null,
            "align_self": null,
            "border": null,
            "bottom": null,
            "display": null,
            "flex": null,
            "flex_flow": null,
            "grid_area": null,
            "grid_auto_columns": null,
            "grid_auto_flow": null,
            "grid_auto_rows": null,
            "grid_column": null,
            "grid_gap": null,
            "grid_row": null,
            "grid_template_areas": null,
            "grid_template_columns": null,
            "grid_template_rows": null,
            "height": null,
            "justify_content": null,
            "justify_items": null,
            "left": null,
            "margin": null,
            "max_height": null,
            "max_width": null,
            "min_height": null,
            "min_width": null,
            "object_fit": null,
            "object_position": null,
            "order": null,
            "overflow": null,
            "overflow_x": null,
            "overflow_y": null,
            "padding": null,
            "right": null,
            "top": null,
            "visibility": null,
            "width": null
          }
        },
        "129bfc18e2ec4d92b64d3913c3f66375": {
          "model_module": "@jupyter-widgets/controls",
          "model_name": "ProgressStyleModel",
          "model_module_version": "1.5.0",
          "state": {
            "_model_module": "@jupyter-widgets/controls",
            "_model_module_version": "1.5.0",
            "_model_name": "ProgressStyleModel",
            "_view_count": null,
            "_view_module": "@jupyter-widgets/base",
            "_view_module_version": "1.2.0",
            "_view_name": "StyleView",
            "bar_color": null,
            "description_width": ""
          }
        },
        "819866fa874340c3b38b56b9f950c9ad": {
          "model_module": "@jupyter-widgets/base",
          "model_name": "LayoutModel",
          "model_module_version": "1.2.0",
          "state": {
            "_model_module": "@jupyter-widgets/base",
            "_model_module_version": "1.2.0",
            "_model_name": "LayoutModel",
            "_view_count": null,
            "_view_module": "@jupyter-widgets/base",
            "_view_module_version": "1.2.0",
            "_view_name": "LayoutView",
            "align_content": null,
            "align_items": null,
            "align_self": null,
            "border": null,
            "bottom": null,
            "display": null,
            "flex": null,
            "flex_flow": null,
            "grid_area": null,
            "grid_auto_columns": null,
            "grid_auto_flow": null,
            "grid_auto_rows": null,
            "grid_column": null,
            "grid_gap": null,
            "grid_row": null,
            "grid_template_areas": null,
            "grid_template_columns": null,
            "grid_template_rows": null,
            "height": null,
            "justify_content": null,
            "justify_items": null,
            "left": null,
            "margin": null,
            "max_height": null,
            "max_width": null,
            "min_height": null,
            "min_width": null,
            "object_fit": null,
            "object_position": null,
            "order": null,
            "overflow": null,
            "overflow_x": null,
            "overflow_y": null,
            "padding": null,
            "right": null,
            "top": null,
            "visibility": null,
            "width": null
          }
        },
        "37a21b177df24a87a3788e1c1c102a19": {
          "model_module": "@jupyter-widgets/controls",
          "model_name": "DescriptionStyleModel",
          "model_module_version": "1.5.0",
          "state": {
            "_model_module": "@jupyter-widgets/controls",
            "_model_module_version": "1.5.0",
            "_model_name": "DescriptionStyleModel",
            "_view_count": null,
            "_view_module": "@jupyter-widgets/base",
            "_view_module_version": "1.2.0",
            "_view_name": "StyleView",
            "description_width": ""
          }
        },
        "a8f210fcb658425fbe05ffda38540a8e": {
          "model_module": "@jupyter-widgets/controls",
          "model_name": "HBoxModel",
          "model_module_version": "1.5.0",
          "state": {
            "_dom_classes": [],
            "_model_module": "@jupyter-widgets/controls",
            "_model_module_version": "1.5.0",
            "_model_name": "HBoxModel",
            "_view_count": null,
            "_view_module": "@jupyter-widgets/controls",
            "_view_module_version": "1.5.0",
            "_view_name": "HBoxView",
            "box_style": "",
            "children": [
              "IPY_MODEL_cdb2abe79a7b434984de5c9c2c0d59e8",
              "IPY_MODEL_d9f3f477c8504b50acb5621e99bf2b24",
              "IPY_MODEL_974b781698414425a10e377d19ade31c"
            ],
            "layout": "IPY_MODEL_2e4f609bc9c842f39d8f44f7292905b5"
          }
        },
        "cdb2abe79a7b434984de5c9c2c0d59e8": {
          "model_module": "@jupyter-widgets/controls",
          "model_name": "HTMLModel",
          "model_module_version": "1.5.0",
          "state": {
            "_dom_classes": [],
            "_model_module": "@jupyter-widgets/controls",
            "_model_module_version": "1.5.0",
            "_model_name": "HTMLModel",
            "_view_count": null,
            "_view_module": "@jupyter-widgets/controls",
            "_view_module_version": "1.5.0",
            "_view_name": "HTMLView",
            "description": "",
            "description_tooltip": null,
            "layout": "IPY_MODEL_1663143eb0a642468a94c73c45b0aa70",
            "placeholder": "​",
            "style": "IPY_MODEL_4c3c1a9cf8484281ba6c3438fac311fc",
            "value": "parsing log, completed traces :: 100%"
          }
        },
        "d9f3f477c8504b50acb5621e99bf2b24": {
          "model_module": "@jupyter-widgets/controls",
          "model_name": "FloatProgressModel",
          "model_module_version": "1.5.0",
          "state": {
            "_dom_classes": [],
            "_model_module": "@jupyter-widgets/controls",
            "_model_module_version": "1.5.0",
            "_model_name": "FloatProgressModel",
            "_view_count": null,
            "_view_module": "@jupyter-widgets/controls",
            "_view_module_version": "1.5.0",
            "_view_name": "ProgressView",
            "bar_style": "success",
            "description": "",
            "description_tooltip": null,
            "layout": "IPY_MODEL_6b9b02b17ceb477a8f980fe5cc15265f",
            "max": 2,
            "min": 0,
            "orientation": "horizontal",
            "style": "IPY_MODEL_f8c46aaffa204662bd07a1a062b626ec",
            "value": 2
          }
        },
        "974b781698414425a10e377d19ade31c": {
          "model_module": "@jupyter-widgets/controls",
          "model_name": "HTMLModel",
          "model_module_version": "1.5.0",
          "state": {
            "_dom_classes": [],
            "_model_module": "@jupyter-widgets/controls",
            "_model_module_version": "1.5.0",
            "_model_name": "HTMLModel",
            "_view_count": null,
            "_view_module": "@jupyter-widgets/controls",
            "_view_module_version": "1.5.0",
            "_view_name": "HTMLView",
            "description": "",
            "description_tooltip": null,
            "layout": "IPY_MODEL_ac57eb6416d547f59d1e1e4daeb9e419",
            "placeholder": "​",
            "style": "IPY_MODEL_b2f370c96c14454ea0266b02b99da38b",
            "value": " 2/2 [00:00&lt;00:00, 63.34it/s]"
          }
        },
        "2e4f609bc9c842f39d8f44f7292905b5": {
          "model_module": "@jupyter-widgets/base",
          "model_name": "LayoutModel",
          "model_module_version": "1.2.0",
          "state": {
            "_model_module": "@jupyter-widgets/base",
            "_model_module_version": "1.2.0",
            "_model_name": "LayoutModel",
            "_view_count": null,
            "_view_module": "@jupyter-widgets/base",
            "_view_module_version": "1.2.0",
            "_view_name": "LayoutView",
            "align_content": null,
            "align_items": null,
            "align_self": null,
            "border": null,
            "bottom": null,
            "display": null,
            "flex": null,
            "flex_flow": null,
            "grid_area": null,
            "grid_auto_columns": null,
            "grid_auto_flow": null,
            "grid_auto_rows": null,
            "grid_column": null,
            "grid_gap": null,
            "grid_row": null,
            "grid_template_areas": null,
            "grid_template_columns": null,
            "grid_template_rows": null,
            "height": null,
            "justify_content": null,
            "justify_items": null,
            "left": null,
            "margin": null,
            "max_height": null,
            "max_width": null,
            "min_height": null,
            "min_width": null,
            "object_fit": null,
            "object_position": null,
            "order": null,
            "overflow": null,
            "overflow_x": null,
            "overflow_y": null,
            "padding": null,
            "right": null,
            "top": null,
            "visibility": null,
            "width": null
          }
        },
        "1663143eb0a642468a94c73c45b0aa70": {
          "model_module": "@jupyter-widgets/base",
          "model_name": "LayoutModel",
          "model_module_version": "1.2.0",
          "state": {
            "_model_module": "@jupyter-widgets/base",
            "_model_module_version": "1.2.0",
            "_model_name": "LayoutModel",
            "_view_count": null,
            "_view_module": "@jupyter-widgets/base",
            "_view_module_version": "1.2.0",
            "_view_name": "LayoutView",
            "align_content": null,
            "align_items": null,
            "align_self": null,
            "border": null,
            "bottom": null,
            "display": null,
            "flex": null,
            "flex_flow": null,
            "grid_area": null,
            "grid_auto_columns": null,
            "grid_auto_flow": null,
            "grid_auto_rows": null,
            "grid_column": null,
            "grid_gap": null,
            "grid_row": null,
            "grid_template_areas": null,
            "grid_template_columns": null,
            "grid_template_rows": null,
            "height": null,
            "justify_content": null,
            "justify_items": null,
            "left": null,
            "margin": null,
            "max_height": null,
            "max_width": null,
            "min_height": null,
            "min_width": null,
            "object_fit": null,
            "object_position": null,
            "order": null,
            "overflow": null,
            "overflow_x": null,
            "overflow_y": null,
            "padding": null,
            "right": null,
            "top": null,
            "visibility": null,
            "width": null
          }
        },
        "4c3c1a9cf8484281ba6c3438fac311fc": {
          "model_module": "@jupyter-widgets/controls",
          "model_name": "DescriptionStyleModel",
          "model_module_version": "1.5.0",
          "state": {
            "_model_module": "@jupyter-widgets/controls",
            "_model_module_version": "1.5.0",
            "_model_name": "DescriptionStyleModel",
            "_view_count": null,
            "_view_module": "@jupyter-widgets/base",
            "_view_module_version": "1.2.0",
            "_view_name": "StyleView",
            "description_width": ""
          }
        },
        "6b9b02b17ceb477a8f980fe5cc15265f": {
          "model_module": "@jupyter-widgets/base",
          "model_name": "LayoutModel",
          "model_module_version": "1.2.0",
          "state": {
            "_model_module": "@jupyter-widgets/base",
            "_model_module_version": "1.2.0",
            "_model_name": "LayoutModel",
            "_view_count": null,
            "_view_module": "@jupyter-widgets/base",
            "_view_module_version": "1.2.0",
            "_view_name": "LayoutView",
            "align_content": null,
            "align_items": null,
            "align_self": null,
            "border": null,
            "bottom": null,
            "display": null,
            "flex": null,
            "flex_flow": null,
            "grid_area": null,
            "grid_auto_columns": null,
            "grid_auto_flow": null,
            "grid_auto_rows": null,
            "grid_column": null,
            "grid_gap": null,
            "grid_row": null,
            "grid_template_areas": null,
            "grid_template_columns": null,
            "grid_template_rows": null,
            "height": null,
            "justify_content": null,
            "justify_items": null,
            "left": null,
            "margin": null,
            "max_height": null,
            "max_width": null,
            "min_height": null,
            "min_width": null,
            "object_fit": null,
            "object_position": null,
            "order": null,
            "overflow": null,
            "overflow_x": null,
            "overflow_y": null,
            "padding": null,
            "right": null,
            "top": null,
            "visibility": null,
            "width": null
          }
        },
        "f8c46aaffa204662bd07a1a062b626ec": {
          "model_module": "@jupyter-widgets/controls",
          "model_name": "ProgressStyleModel",
          "model_module_version": "1.5.0",
          "state": {
            "_model_module": "@jupyter-widgets/controls",
            "_model_module_version": "1.5.0",
            "_model_name": "ProgressStyleModel",
            "_view_count": null,
            "_view_module": "@jupyter-widgets/base",
            "_view_module_version": "1.2.0",
            "_view_name": "StyleView",
            "bar_color": null,
            "description_width": ""
          }
        },
        "ac57eb6416d547f59d1e1e4daeb9e419": {
          "model_module": "@jupyter-widgets/base",
          "model_name": "LayoutModel",
          "model_module_version": "1.2.0",
          "state": {
            "_model_module": "@jupyter-widgets/base",
            "_model_module_version": "1.2.0",
            "_model_name": "LayoutModel",
            "_view_count": null,
            "_view_module": "@jupyter-widgets/base",
            "_view_module_version": "1.2.0",
            "_view_name": "LayoutView",
            "align_content": null,
            "align_items": null,
            "align_self": null,
            "border": null,
            "bottom": null,
            "display": null,
            "flex": null,
            "flex_flow": null,
            "grid_area": null,
            "grid_auto_columns": null,
            "grid_auto_flow": null,
            "grid_auto_rows": null,
            "grid_column": null,
            "grid_gap": null,
            "grid_row": null,
            "grid_template_areas": null,
            "grid_template_columns": null,
            "grid_template_rows": null,
            "height": null,
            "justify_content": null,
            "justify_items": null,
            "left": null,
            "margin": null,
            "max_height": null,
            "max_width": null,
            "min_height": null,
            "min_width": null,
            "object_fit": null,
            "object_position": null,
            "order": null,
            "overflow": null,
            "overflow_x": null,
            "overflow_y": null,
            "padding": null,
            "right": null,
            "top": null,
            "visibility": null,
            "width": null
          }
        },
        "b2f370c96c14454ea0266b02b99da38b": {
          "model_module": "@jupyter-widgets/controls",
          "model_name": "DescriptionStyleModel",
          "model_module_version": "1.5.0",
          "state": {
            "_model_module": "@jupyter-widgets/controls",
            "_model_module_version": "1.5.0",
            "_model_name": "DescriptionStyleModel",
            "_view_count": null,
            "_view_module": "@jupyter-widgets/base",
            "_view_module_version": "1.2.0",
            "_view_name": "StyleView",
            "description_width": ""
          }
        },
        "e5896657fb174be1b2295341a7e41d07": {
          "model_module": "@jupyter-widgets/controls",
          "model_name": "HBoxModel",
          "model_module_version": "1.5.0",
          "state": {
            "_dom_classes": [],
            "_model_module": "@jupyter-widgets/controls",
            "_model_module_version": "1.5.0",
            "_model_name": "HBoxModel",
            "_view_count": null,
            "_view_module": "@jupyter-widgets/controls",
            "_view_module_version": "1.5.0",
            "_view_name": "HBoxView",
            "box_style": "",
            "children": [
              "IPY_MODEL_7b0071df3c46470a9130b93389e00a50",
              "IPY_MODEL_c0f2d0aecb454ae5adb9eaa2700a387c",
              "IPY_MODEL_83513a20789f482fa0ef4630de47e0c5"
            ],
            "layout": "IPY_MODEL_8562b3687b994cfbb442dbb9ca61f14a"
          }
        },
        "7b0071df3c46470a9130b93389e00a50": {
          "model_module": "@jupyter-widgets/controls",
          "model_name": "HTMLModel",
          "model_module_version": "1.5.0",
          "state": {
            "_dom_classes": [],
            "_model_module": "@jupyter-widgets/controls",
            "_model_module_version": "1.5.0",
            "_model_name": "HTMLModel",
            "_view_count": null,
            "_view_module": "@jupyter-widgets/controls",
            "_view_module_version": "1.5.0",
            "_view_name": "HTMLView",
            "description": "",
            "description_tooltip": null,
            "layout": "IPY_MODEL_899e5c6f801049b5b8fc1a1a9173c0ab",
            "placeholder": "​",
            "style": "IPY_MODEL_27496a8e8eef4c879247eb5e5ceafc97",
            "value": "parsing log, completed traces :: 100%"
          }
        },
        "c0f2d0aecb454ae5adb9eaa2700a387c": {
          "model_module": "@jupyter-widgets/controls",
          "model_name": "FloatProgressModel",
          "model_module_version": "1.5.0",
          "state": {
            "_dom_classes": [],
            "_model_module": "@jupyter-widgets/controls",
            "_model_module_version": "1.5.0",
            "_model_name": "FloatProgressModel",
            "_view_count": null,
            "_view_module": "@jupyter-widgets/controls",
            "_view_module_version": "1.5.0",
            "_view_name": "ProgressView",
            "bar_style": "success",
            "description": "",
            "description_tooltip": null,
            "layout": "IPY_MODEL_e0526a58e7984b92bde410f08629d602",
            "max": 2,
            "min": 0,
            "orientation": "horizontal",
            "style": "IPY_MODEL_7015b00efa6b4f7f9e7d61fe1f708c16",
            "value": 2
          }
        },
        "83513a20789f482fa0ef4630de47e0c5": {
          "model_module": "@jupyter-widgets/controls",
          "model_name": "HTMLModel",
          "model_module_version": "1.5.0",
          "state": {
            "_dom_classes": [],
            "_model_module": "@jupyter-widgets/controls",
            "_model_module_version": "1.5.0",
            "_model_name": "HTMLModel",
            "_view_count": null,
            "_view_module": "@jupyter-widgets/controls",
            "_view_module_version": "1.5.0",
            "_view_name": "HTMLView",
            "description": "",
            "description_tooltip": null,
            "layout": "IPY_MODEL_3e520a35002a46379234f7d68e4ecc03",
            "placeholder": "​",
            "style": "IPY_MODEL_fc79243a13994a64a66c884d7a67a643",
            "value": " 2/2 [00:00&lt;00:00, 63.18it/s]"
          }
        },
        "8562b3687b994cfbb442dbb9ca61f14a": {
          "model_module": "@jupyter-widgets/base",
          "model_name": "LayoutModel",
          "model_module_version": "1.2.0",
          "state": {
            "_model_module": "@jupyter-widgets/base",
            "_model_module_version": "1.2.0",
            "_model_name": "LayoutModel",
            "_view_count": null,
            "_view_module": "@jupyter-widgets/base",
            "_view_module_version": "1.2.0",
            "_view_name": "LayoutView",
            "align_content": null,
            "align_items": null,
            "align_self": null,
            "border": null,
            "bottom": null,
            "display": null,
            "flex": null,
            "flex_flow": null,
            "grid_area": null,
            "grid_auto_columns": null,
            "grid_auto_flow": null,
            "grid_auto_rows": null,
            "grid_column": null,
            "grid_gap": null,
            "grid_row": null,
            "grid_template_areas": null,
            "grid_template_columns": null,
            "grid_template_rows": null,
            "height": null,
            "justify_content": null,
            "justify_items": null,
            "left": null,
            "margin": null,
            "max_height": null,
            "max_width": null,
            "min_height": null,
            "min_width": null,
            "object_fit": null,
            "object_position": null,
            "order": null,
            "overflow": null,
            "overflow_x": null,
            "overflow_y": null,
            "padding": null,
            "right": null,
            "top": null,
            "visibility": null,
            "width": null
          }
        },
        "899e5c6f801049b5b8fc1a1a9173c0ab": {
          "model_module": "@jupyter-widgets/base",
          "model_name": "LayoutModel",
          "model_module_version": "1.2.0",
          "state": {
            "_model_module": "@jupyter-widgets/base",
            "_model_module_version": "1.2.0",
            "_model_name": "LayoutModel",
            "_view_count": null,
            "_view_module": "@jupyter-widgets/base",
            "_view_module_version": "1.2.0",
            "_view_name": "LayoutView",
            "align_content": null,
            "align_items": null,
            "align_self": null,
            "border": null,
            "bottom": null,
            "display": null,
            "flex": null,
            "flex_flow": null,
            "grid_area": null,
            "grid_auto_columns": null,
            "grid_auto_flow": null,
            "grid_auto_rows": null,
            "grid_column": null,
            "grid_gap": null,
            "grid_row": null,
            "grid_template_areas": null,
            "grid_template_columns": null,
            "grid_template_rows": null,
            "height": null,
            "justify_content": null,
            "justify_items": null,
            "left": null,
            "margin": null,
            "max_height": null,
            "max_width": null,
            "min_height": null,
            "min_width": null,
            "object_fit": null,
            "object_position": null,
            "order": null,
            "overflow": null,
            "overflow_x": null,
            "overflow_y": null,
            "padding": null,
            "right": null,
            "top": null,
            "visibility": null,
            "width": null
          }
        },
        "27496a8e8eef4c879247eb5e5ceafc97": {
          "model_module": "@jupyter-widgets/controls",
          "model_name": "DescriptionStyleModel",
          "model_module_version": "1.5.0",
          "state": {
            "_model_module": "@jupyter-widgets/controls",
            "_model_module_version": "1.5.0",
            "_model_name": "DescriptionStyleModel",
            "_view_count": null,
            "_view_module": "@jupyter-widgets/base",
            "_view_module_version": "1.2.0",
            "_view_name": "StyleView",
            "description_width": ""
          }
        },
        "e0526a58e7984b92bde410f08629d602": {
          "model_module": "@jupyter-widgets/base",
          "model_name": "LayoutModel",
          "model_module_version": "1.2.0",
          "state": {
            "_model_module": "@jupyter-widgets/base",
            "_model_module_version": "1.2.0",
            "_model_name": "LayoutModel",
            "_view_count": null,
            "_view_module": "@jupyter-widgets/base",
            "_view_module_version": "1.2.0",
            "_view_name": "LayoutView",
            "align_content": null,
            "align_items": null,
            "align_self": null,
            "border": null,
            "bottom": null,
            "display": null,
            "flex": null,
            "flex_flow": null,
            "grid_area": null,
            "grid_auto_columns": null,
            "grid_auto_flow": null,
            "grid_auto_rows": null,
            "grid_column": null,
            "grid_gap": null,
            "grid_row": null,
            "grid_template_areas": null,
            "grid_template_columns": null,
            "grid_template_rows": null,
            "height": null,
            "justify_content": null,
            "justify_items": null,
            "left": null,
            "margin": null,
            "max_height": null,
            "max_width": null,
            "min_height": null,
            "min_width": null,
            "object_fit": null,
            "object_position": null,
            "order": null,
            "overflow": null,
            "overflow_x": null,
            "overflow_y": null,
            "padding": null,
            "right": null,
            "top": null,
            "visibility": null,
            "width": null
          }
        },
        "7015b00efa6b4f7f9e7d61fe1f708c16": {
          "model_module": "@jupyter-widgets/controls",
          "model_name": "ProgressStyleModel",
          "model_module_version": "1.5.0",
          "state": {
            "_model_module": "@jupyter-widgets/controls",
            "_model_module_version": "1.5.0",
            "_model_name": "ProgressStyleModel",
            "_view_count": null,
            "_view_module": "@jupyter-widgets/base",
            "_view_module_version": "1.2.0",
            "_view_name": "StyleView",
            "bar_color": null,
            "description_width": ""
          }
        },
        "3e520a35002a46379234f7d68e4ecc03": {
          "model_module": "@jupyter-widgets/base",
          "model_name": "LayoutModel",
          "model_module_version": "1.2.0",
          "state": {
            "_model_module": "@jupyter-widgets/base",
            "_model_module_version": "1.2.0",
            "_model_name": "LayoutModel",
            "_view_count": null,
            "_view_module": "@jupyter-widgets/base",
            "_view_module_version": "1.2.0",
            "_view_name": "LayoutView",
            "align_content": null,
            "align_items": null,
            "align_self": null,
            "border": null,
            "bottom": null,
            "display": null,
            "flex": null,
            "flex_flow": null,
            "grid_area": null,
            "grid_auto_columns": null,
            "grid_auto_flow": null,
            "grid_auto_rows": null,
            "grid_column": null,
            "grid_gap": null,
            "grid_row": null,
            "grid_template_areas": null,
            "grid_template_columns": null,
            "grid_template_rows": null,
            "height": null,
            "justify_content": null,
            "justify_items": null,
            "left": null,
            "margin": null,
            "max_height": null,
            "max_width": null,
            "min_height": null,
            "min_width": null,
            "object_fit": null,
            "object_position": null,
            "order": null,
            "overflow": null,
            "overflow_x": null,
            "overflow_y": null,
            "padding": null,
            "right": null,
            "top": null,
            "visibility": null,
            "width": null
          }
        },
        "fc79243a13994a64a66c884d7a67a643": {
          "model_module": "@jupyter-widgets/controls",
          "model_name": "DescriptionStyleModel",
          "model_module_version": "1.5.0",
          "state": {
            "_model_module": "@jupyter-widgets/controls",
            "_model_module_version": "1.5.0",
            "_model_name": "DescriptionStyleModel",
            "_view_count": null,
            "_view_module": "@jupyter-widgets/base",
            "_view_module_version": "1.2.0",
            "_view_name": "StyleView",
            "description_width": ""
          }
        }
      }
    }
  },
  "nbformat": 4,
  "nbformat_minor": 0
}