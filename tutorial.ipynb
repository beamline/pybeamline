{
 "cells": [
  {
   "cell_type": "markdown",
   "metadata": {
    "id": "yqDUtf_0mBhg"
   },
   "source": [
    "# Streaming process mining with `pyBeamline`"
   ]
  },
  {
   "cell_type": "markdown",
   "metadata": {
    "id": "9Aq7aw-kmBhj"
   },
   "source": [
    "`pyBeamline` is a Python version of Beamline. While the same set of ideas and principles of Beamline have been ported into `pyBeamline`, the underlying goal and technology is very different.\n",
    "\n",
    "pyBeamline is based on ReactiveX and its Python binding RxPY. RxPY is a library for composing asynchronous and event-based programs using observable sequences and pipable query operators in Python. Using pyBeamline it is possible to inject process mining operators into the computation.\n",
    "\n",
    "This Jupyter notebook contains the main functionalities currently exposed by `pyBeamline`. For a complete documentation of the library see https://www.beamline.cloud/pybeamline/. In the rest of the notebook it is assumed that the `pyBeamline` package is already installed.\n",
    "\n",
    "In the rest of this document, the main functionalities are exposed."
   ]
  },
  {
   "cell_type": "markdown",
   "metadata": {
    "id": "H_u0aIVxmBhk"
   },
   "source": [
    "It is possible to install the library using:"
   ]
  },
  {
   "cell_type": "code",
   "execution_count": 1,
   "metadata": {
    "colab": {
     "base_uri": "https://localhost:8080/"
    },
    "id": "T1pTAL35mBhk",
    "outputId": "f482abee-b5a3-4786-ca4e-ee2e708602e0"
   },
   "outputs": [
    {
     "name": "stdout",
     "output_type": "stream",
     "text": [
      "Defaulting to user installation because normal site-packages is not writeable\n",
      "Requirement already satisfied: pybeamline in /home/andbur/.local/lib/python3.10/site-packages (1.0.8)\n",
      "Requirement already satisfied: pandas~=2.2.3 in /home/andbur/.local/lib/python3.10/site-packages (from pybeamline) (2.2.3)\n",
      "Requirement already satisfied: setuptools~=68.0.0 in /home/andbur/.local/lib/python3.10/site-packages (from pybeamline) (68.0.0)\n",
      "Requirement already satisfied: requests~=2.31.0 in /home/andbur/.local/lib/python3.10/site-packages (from pybeamline) (2.31.0)\n",
      "Requirement already satisfied: river~=0.21.2 in /home/andbur/.local/lib/python3.10/site-packages (from pybeamline) (0.21.2)\n",
      "Requirement already satisfied: pyais~=2.8.2 in /home/andbur/.local/lib/python3.10/site-packages (from pybeamline) (2.8.4)\n",
      "Requirement already satisfied: reactivex==4.0.4 in /home/andbur/.local/lib/python3.10/site-packages (from pybeamline) (4.0.4)\n",
      "Requirement already satisfied: paho-mqtt==2.1.0 in /home/andbur/.local/lib/python3.10/site-packages (from pybeamline) (2.1.0)\n",
      "Requirement already satisfied: pm4py==2.7.4 in /home/andbur/.local/lib/python3.10/site-packages (from pybeamline) (2.7.4)\n",
      "Requirement already satisfied: objsize~=0.7.0 in /home/andbur/.local/lib/python3.10/site-packages (from pybeamline) (0.7.1)\n",
      "Requirement already satisfied: pydotplus in /home/andbur/.local/lib/python3.10/site-packages (from pm4py==2.7.4->pybeamline) (2.0.2)\n",
      "Requirement already satisfied: pytz in /usr/lib/python3/dist-packages (from pm4py==2.7.4->pybeamline) (2022.1)\n",
      "Requirement already satisfied: stringdist in /home/andbur/.local/lib/python3.10/site-packages (from pm4py==2.7.4->pybeamline) (1.0.9)\n",
      "Requirement already satisfied: matplotlib in /usr/lib/python3/dist-packages (from pm4py==2.7.4->pybeamline) (3.5.1)\n",
      "Requirement already satisfied: graphviz in /home/andbur/.local/lib/python3.10/site-packages (from pm4py==2.7.4->pybeamline) (0.20.3)\n",
      "Requirement already satisfied: tqdm in /home/andbur/.local/lib/python3.10/site-packages (from pm4py==2.7.4->pybeamline) (4.67.0)\n",
      "Requirement already satisfied: scipy in /home/andbur/.local/lib/python3.10/site-packages (from pm4py==2.7.4->pybeamline) (1.15.3)\n",
      "Requirement already satisfied: deprecation in /home/andbur/.local/lib/python3.10/site-packages (from pm4py==2.7.4->pybeamline) (2.1.0)\n",
      "Requirement already satisfied: numpy in /home/andbur/.local/lib/python3.10/site-packages (from pm4py==2.7.4->pybeamline) (1.24.0)\n",
      "Requirement already satisfied: networkx in /home/andbur/.local/lib/python3.10/site-packages (from pm4py==2.7.4->pybeamline) (3.4.2)\n",
      "Requirement already satisfied: lxml in /usr/lib/python3/dist-packages (from pm4py==2.7.4->pybeamline) (4.8.0)\n",
      "Requirement already satisfied: intervaltree in /home/andbur/.local/lib/python3.10/site-packages (from pm4py==2.7.4->pybeamline) (3.1.0)\n",
      "Requirement already satisfied: cvxopt in /home/andbur/.local/lib/python3.10/site-packages (from pm4py==2.7.4->pybeamline) (1.3.2)\n",
      "Requirement already satisfied: typing-extensions<5.0.0,>=4.1.1 in /home/andbur/.local/lib/python3.10/site-packages (from reactivex==4.0.4->pybeamline) (4.12.2)\n",
      "Requirement already satisfied: tzdata>=2022.7 in /home/andbur/.local/lib/python3.10/site-packages (from pandas~=2.2.3->pybeamline) (2024.2)\n",
      "Requirement already satisfied: python-dateutil>=2.8.2 in /home/andbur/.local/lib/python3.10/site-packages (from pandas~=2.2.3->pybeamline) (2.8.2)\n",
      "Requirement already satisfied: attrs in /usr/local/lib/python3.10/dist-packages (from pyais~=2.8.2->pybeamline) (24.2.0)\n",
      "Requirement already satisfied: bitarray in /home/andbur/.local/lib/python3.10/site-packages (from pyais~=2.8.2->pybeamline) (3.6.1)\n",
      "Requirement already satisfied: urllib3<3,>=1.21.1 in /home/andbur/.local/lib/python3.10/site-packages (from requests~=2.31.0->pybeamline) (2.1.0)\n",
      "Requirement already satisfied: charset-normalizer<4,>=2 in /home/andbur/.local/lib/python3.10/site-packages (from requests~=2.31.0->pybeamline) (3.3.2)\n",
      "Requirement already satisfied: idna<4,>=2.5 in /home/andbur/.local/lib/python3.10/site-packages (from requests~=2.31.0->pybeamline) (3.6)\n",
      "Requirement already satisfied: certifi>=2017.4.17 in /home/andbur/.local/lib/python3.10/site-packages (from requests~=2.31.0->pybeamline) (2023.11.17)\n",
      "Requirement already satisfied: six>=1.5 in /usr/lib/python3/dist-packages (from python-dateutil>=2.8.2->pandas~=2.2.3->pybeamline) (1.16.0)\n",
      "Requirement already satisfied: packaging in /home/andbur/.local/lib/python3.10/site-packages (from deprecation->pm4py==2.7.4->pybeamline) (23.1)\n",
      "Requirement already satisfied: sortedcontainers<3.0,>=2.0 in /home/andbur/.local/lib/python3.10/site-packages (from intervaltree->pm4py==2.7.4->pybeamline) (2.4.0)\n",
      "Requirement already satisfied: pyparsing>=2.0.1 in /usr/lib/python3/dist-packages (from pydotplus->pm4py==2.7.4->pybeamline) (2.4.7)\n"
     ]
    }
   ],
   "source": [
    "!pip install pybeamline"
   ]
  },
  {
   "cell_type": "code",
   "execution_count": 2,
   "metadata": {
    "id": "tIdDi1uKmBhl"
   },
   "outputs": [],
   "source": [
    "# Let's ignore some PM4PY warnings in the notebook\n",
    "import warnings\n",
    "warnings.filterwarnings(\"ignore\")"
   ]
  },
  {
   "cell_type": "markdown",
   "metadata": {
    "id": "CIsiP7qLmBhl"
   },
   "source": [
    "### Sources"
   ]
  },
  {
   "cell_type": "code",
   "execution_count": 3,
   "metadata": {
    "colab": {
     "base_uri": "https://localhost:8080/"
    },
    "id": "Wzc6JNYXmBhm",
    "outputId": "b4f7d457-6488-433f-e5b7-5037119f9d8d"
   },
   "outputs": [
    {
     "name": "stdout",
     "output_type": "stream",
     "text": [
      "(A, case_1, Process, 2025-08-22 14:31:21.467918 - {} - {} - {})\n",
      "(B, case_1, Process, 2025-08-22 14:31:21.468029 - {} - {} - {})\n",
      "(C, case_1, Process, 2025-08-22 14:31:21.468044 - {} - {} - {})\n",
      "(A, case_2, Process, 2025-08-22 14:31:21.468056 - {} - {} - {})\n",
      "(C, case_2, Process, 2025-08-22 14:31:21.468064 - {} - {} - {})\n",
      "(B, case_2, Process, 2025-08-22 14:31:21.468664 - {} - {} - {})\n",
      "(E, case_3, Process, 2025-08-22 14:31:21.468828 - {} - {} - {})\n",
      "(F, case_3, Process, 2025-08-22 14:31:21.468890 - {} - {} - {})\n",
      "(G, case_3, Process, 2025-08-22 14:31:21.468918 - {} - {} - {})\n"
     ]
    },
    {
     "data": {
      "text/plain": [
       "<reactivex.disposable.disposable.Disposable at 0x7fa7a4733fd0>"
      ]
     },
     "execution_count": 3,
     "metadata": {},
     "output_type": "execute_result"
    }
   ],
   "source": [
    "from pybeamline.sources import string_test_source\n",
    "\n",
    "string_test_source([\"ABC\", \"ACB\", \"EFG\"]) \\\n",
    "    .subscribe(lambda x: print(str(x)))"
   ]
  },
  {
   "cell_type": "code",
   "execution_count": 4,
   "metadata": {
    "colab": {
     "base_uri": "https://localhost:8080/"
    },
    "id": "MNEZbH1UwkeQ",
    "outputId": "ec009200-858f-4158-cc1f-225a5454b52a"
   },
   "outputs": [
    {
     "name": "stdout",
     "output_type": "stream",
     "text": [
      "--2025-08-22 14:31:22--  https://raw.githubusercontent.com/beamline/pybeamline/refs/heads/master/tests/log.xes\n",
      "Resolving raw.githubusercontent.com (raw.githubusercontent.com)... 185.199.108.133, 185.199.110.133, 185.199.111.133, ...\n",
      "Connecting to raw.githubusercontent.com (raw.githubusercontent.com)|185.199.108.133|:443... connected.\n",
      "HTTP request sent, awaiting response... 200 OK\n",
      "Length: 2029 (2.0K) [text/plain]\n",
      "Saving to: ‘log.xes.2’\n",
      "\n",
      "log.xes.2           100%[===================>]   1.98K  --.-KB/s    in 0.001s  \n",
      "\n",
      "2025-08-22 14:31:22 (2.77 MB/s) - ‘log.xes.2’ saved [2029/2029]\n",
      "\n"
     ]
    }
   ],
   "source": [
    "!wget https://raw.githubusercontent.com/beamline/pybeamline/refs/heads/master/tests/log.xes"
   ]
  },
  {
   "cell_type": "code",
   "execution_count": 5,
   "metadata": {
    "colab": {
     "base_uri": "https://localhost:8080/",
     "height": 153,
     "referenced_widgets": [
      "d2fc00da89bd408db72f44e0611f25fc",
      "a22b5a05cb7947cda664002e53b96759",
      "a0cd5b3efe0844d4a59238e3f14557c6",
      "3a86c381743e406387d3e021a8235806",
      "0de8c911d9614e148b2ea8bc3331794a",
      "6bc6934192f64231a57861885b78bc07",
      "dcc8185b73594189876b2b184d139c42",
      "2239d81cb16b417ba5088b0f03b9ccbb",
      "553ee7acfe26432997919a111494839b",
      "f10af0d51834407198e617bd8488d4eb",
      "eeedd994c5c64b979816076517a8fbc6"
     ]
    },
    "id": "gQTaqXeImBhm",
    "outputId": "2cf77ec6-3c8f-449d-d739-4b975aa22b7f"
   },
   "outputs": [
    {
     "data": {
      "application/vnd.jupyter.widget-view+json": {
       "model_id": "b65dd39cabbc4c51859de3c84df3b3b7",
       "version_major": 2,
       "version_minor": 0
      },
      "text/plain": [
       "parsing log, completed traces ::   0%|          | 0/2 [00:00<?, ?it/s]"
      ]
     },
     "metadata": {},
     "output_type": "display_data"
    },
    {
     "name": "stdout",
     "output_type": "stream",
     "text": [
      "(a11, c1, log-file, 2025-08-22 14:31:24.539764 - {'lifecycle:transition': 'complete', 'act': 'a11'} - {'creator': 'Fluxicon Disco', 'variant-index': 1, 'variant': 'Variant 1'} - {})\n",
      "(a12, c1, log-file, 2025-08-22 14:31:24.540204 - {'lifecycle:transition': 'complete', 'act': 'a12'} - {'creator': 'Fluxicon Disco', 'variant-index': 1, 'variant': 'Variant 1'} - {})\n",
      "(a21, c2, log-file, 2025-08-22 14:31:24.540439 - {'lifecycle:transition': 'complete', 'act': 'a21'} - {'creator': 'Fluxicon Disco', 'variant-index': 2, 'variant': 'Variant 2'} - {})\n",
      "(a22, c2, log-file, 2025-08-22 14:31:24.540936 - {'lifecycle:transition': 'complete', 'act': 'a22'} - {'creator': 'Fluxicon Disco', 'variant-index': 2, 'variant': 'Variant 2'} - {})\n",
      "(a23, c2, log-file, 2025-08-22 14:31:24.541167 - {'lifecycle:transition': 'complete', 'act': 'a23'} - {'creator': 'Fluxicon Disco', 'variant-index': 2, 'variant': 'Variant 2'} - {})\n"
     ]
    },
    {
     "data": {
      "text/plain": [
       "<reactivex.disposable.disposable.Disposable at 0x7fa7f8e574c0>"
      ]
     },
     "execution_count": 5,
     "metadata": {},
     "output_type": "execute_result"
    }
   ],
   "source": [
    "from pybeamline.sources import xes_log_source_from_file\n",
    "\n",
    "xes_log_source_from_file(\"log.xes\") \\\n",
    "    .subscribe(lambda x: print(str(x)))"
   ]
  },
  {
   "cell_type": "code",
   "execution_count": 6,
   "metadata": {
    "colab": {
     "base_uri": "https://localhost:8080/",
     "height": 309,
     "referenced_widgets": [
      "3a40eb7fa55048bd8d54d888f31f712b",
      "3b93a906b1834b27956225860cc132cc",
      "6895739859bf47e6aa8a8ec9211d321a",
      "3bcc495efc9e4245b665f9dd577d33a1",
      "85bde83bb53e461fa45548e637f1c68e",
      "a066a916fc7d40aeb2b55deaffe42469",
      "658c8ca6adb54fd397f15bc45489ae67",
      "613366efc6bf4e6aa7392c16c7edeb86",
      "f8b064fc91884666a8e67c88bd34c2a8",
      "5867d8b0b3ab4b9797b8bbbb715632dc",
      "b4bc6d8df7284885b41421f39c6fbbee"
     ]
    },
    "id": "AyPZen8BmBhm",
    "outputId": "30c01495-eff1-4a0d-ac2a-70846373ade3"
   },
   "outputs": [
    {
     "name": "stdout",
     "output_type": "stream",
     "text": [
      "(A, case_1, Process, 2025-08-22 14:31:27.031604 - {} - {} - {})\n",
      "(B, case_1, Process, 2025-08-22 14:31:27.031776 - {} - {} - {})\n",
      "(C, case_1, Process, 2025-08-22 14:31:27.032162 - {} - {} - {})\n",
      "(A, case_2, Process, 2025-08-22 14:31:27.032232 - {} - {} - {})\n",
      "(C, case_2, Process, 2025-08-22 14:31:27.032270 - {} - {} - {})\n",
      "(B, case_2, Process, 2025-08-22 14:31:27.032281 - {} - {} - {})\n",
      "(E, case_3, Process, 2025-08-22 14:31:27.032527 - {} - {} - {})\n",
      "(F, case_3, Process, 2025-08-22 14:31:27.032693 - {} - {} - {})\n",
      "(G, case_3, Process, 2025-08-22 14:31:27.032762 - {} - {} - {})\n"
     ]
    },
    {
     "data": {
      "application/vnd.jupyter.widget-view+json": {
       "model_id": "06ea523007b14474af5af680009a2750",
       "version_major": 2,
       "version_minor": 0
      },
      "text/plain": [
       "parsing log, completed traces ::   0%|          | 0/2 [00:00<?, ?it/s]"
      ]
     },
     "metadata": {},
     "output_type": "display_data"
    },
    {
     "name": "stdout",
     "output_type": "stream",
     "text": [
      "(a11, c1, log-file, 2025-08-22 14:31:27.054500 - {'lifecycle:transition': 'complete', 'act': 'a11'} - {'creator': 'Fluxicon Disco', 'variant-index': 1, 'variant': 'Variant 1'} - {})\n",
      "(a12, c1, log-file, 2025-08-22 14:31:27.054789 - {'lifecycle:transition': 'complete', 'act': 'a12'} - {'creator': 'Fluxicon Disco', 'variant-index': 1, 'variant': 'Variant 1'} - {})\n",
      "(a21, c2, log-file, 2025-08-22 14:31:27.054930 - {'lifecycle:transition': 'complete', 'act': 'a21'} - {'creator': 'Fluxicon Disco', 'variant-index': 2, 'variant': 'Variant 2'} - {})\n",
      "(a22, c2, log-file, 2025-08-22 14:31:27.055063 - {'lifecycle:transition': 'complete', 'act': 'a22'} - {'creator': 'Fluxicon Disco', 'variant-index': 2, 'variant': 'Variant 2'} - {})\n",
      "(a23, c2, log-file, 2025-08-22 14:31:27.055211 - {'lifecycle:transition': 'complete', 'act': 'a23'} - {'creator': 'Fluxicon Disco', 'variant-index': 2, 'variant': 'Variant 2'} - {})\n"
     ]
    },
    {
     "data": {
      "text/plain": [
       "<reactivex.disposable.disposable.Disposable at 0x7fa7f8e57910>"
      ]
     },
     "execution_count": 6,
     "metadata": {},
     "output_type": "execute_result"
    }
   ],
   "source": [
    "from pybeamline.sources import log_source\n",
    "\n",
    "log_source([\"ABC\", \"ACB\", \"EFG\"]) \\\n",
    "    .subscribe(lambda x: print(str(x)))\n",
    "\n",
    "log_source(\"log.xes\") \\\n",
    "    .subscribe(lambda x: print(str(x)))"
   ]
  },
  {
   "cell_type": "code",
   "execution_count": 7,
   "metadata": {
    "colab": {
     "base_uri": "https://localhost:8080/",
     "height": 70
    },
    "id": "ePzA0wNAnKYS",
    "outputId": "10590f35-f4d6-4293-d0f8-2d03fc2714bc"
   },
   "outputs": [
    {
     "name": "stdout",
     "output_type": "stream",
     "text": [
      "Connected to MQTT broker\n"
     ]
    },
    {
     "name": "stdin",
     "output_type": "stream",
     "text": [
      " \n"
     ]
    },
    {
     "data": {
      "text/plain": [
       "''"
      ]
     },
     "execution_count": 7,
     "metadata": {},
     "output_type": "execute_result"
    }
   ],
   "source": [
    "from pybeamline.sources import mqttxes_source\n",
    "\n",
    "mqttxes_source('broker.mqtt.cool', 1883, 'bla/bla/') \\\n",
    "  .subscribe(lambda x: print(str(x)))\n",
    "\n",
    "input()"
   ]
  },
  {
   "cell_type": "code",
   "execution_count": 8,
   "metadata": {
    "colab": {
     "base_uri": "https://localhost:8080/",
     "height": 411,
     "referenced_widgets": [
      "8da3f6580e5e446abc477b3282f2f084",
      "345afb0176114ddabc522762f2700773",
      "d51edbb88bc14472a6ee8a884f9225ef",
      "2d9a5bd2c66e4fa6957da23429641819",
      "c1450c2d42bf4a64a9d9bc468048ed13",
      "62ec59011f604090a079442e186ec1ad",
      "1c15dac4fa99470c9c15cc56b6a57e0f",
      "40d199b1ad6841ae8683f389e0a655b3",
      "129bfc18e2ec4d92b64d3913c3f66375",
      "819866fa874340c3b38b56b9f950c9ad",
      "37a21b177df24a87a3788e1c1c102a19",
      "a8f210fcb658425fbe05ffda38540a8e",
      "cdb2abe79a7b434984de5c9c2c0d59e8",
      "d9f3f477c8504b50acb5621e99bf2b24",
      "974b781698414425a10e377d19ade31c",
      "2e4f609bc9c842f39d8f44f7292905b5",
      "1663143eb0a642468a94c73c45b0aa70",
      "4c3c1a9cf8484281ba6c3438fac311fc",
      "6b9b02b17ceb477a8f980fe5cc15265f",
      "f8c46aaffa204662bd07a1a062b626ec",
      "ac57eb6416d547f59d1e1e4daeb9e419",
      "b2f370c96c14454ea0266b02b99da38b"
     ]
    },
    "id": "PxIv4l6A0Ot8",
    "outputId": "022cb7f7-165c-4810-dc03-1c48dacae93c"
   },
   "outputs": [
    {
     "data": {
      "application/vnd.jupyter.widget-view+json": {
       "model_id": "2103660dc10b4b2798aa459733c8009d",
       "version_major": 2,
       "version_minor": 0
      },
      "text/plain": [
       "parsing log, completed traces ::   0%|          | 0/2 [00:00<?, ?it/s]"
      ]
     },
     "metadata": {},
     "output_type": "display_data"
    },
    {
     "data": {
      "application/vnd.jupyter.widget-view+json": {
       "model_id": "bad886a0d75d48f5a1788de57b08f03b",
       "version_major": 2,
       "version_minor": 0
      },
      "text/plain": [
       "parsing log, completed traces ::   0%|          | 0/2 [00:00<?, ?it/s]"
      ]
     },
     "metadata": {},
     "output_type": "display_data"
    },
    {
     "name": "stdout",
     "output_type": "stream",
     "text": [
      "(a11, c1, log-file, 2025-08-22 14:31:32.031490 - {'lifecycle:transition': 'complete', 'act': 'a11'} - {'creator': 'Fluxicon Disco', 'variant-index': 1, 'variant': 'Variant 1'} - {})\n",
      "(a12, c1, log-file, 2025-08-22 14:31:32.031996 - {'lifecycle:transition': 'complete', 'act': 'a12'} - {'creator': 'Fluxicon Disco', 'variant-index': 1, 'variant': 'Variant 1'} - {})\n",
      "(a21, c2, log-file, 2025-08-22 14:31:32.032291 - {'lifecycle:transition': 'complete', 'act': 'a21'} - {'creator': 'Fluxicon Disco', 'variant-index': 2, 'variant': 'Variant 2'} - {})\n",
      "(a22, c2, log-file, 2025-08-22 14:31:32.032520 - {'lifecycle:transition': 'complete', 'act': 'a22'} - {'creator': 'Fluxicon Disco', 'variant-index': 2, 'variant': 'Variant 2'} - {})\n",
      "(a23, c2, log-file, 2025-08-22 14:31:32.032739 - {'lifecycle:transition': 'complete', 'act': 'a23'} - {'creator': 'Fluxicon Disco', 'variant-index': 2, 'variant': 'Variant 2'} - {})\n",
      "(A, case_1, Process, 2025-08-22 14:31:32.033019 - {} - {} - {})\n",
      "(B, case_1, Process, 2025-08-22 14:31:32.033087 - {} - {} - {})\n",
      "(C, case_1, Process, 2025-08-22 14:31:32.033109 - {} - {} - {})\n",
      "(D, case_1, Process, 2025-08-22 14:31:32.033146 - {} - {} - {})\n",
      "(A, case_2, Process, 2025-08-22 14:31:32.033171 - {} - {} - {})\n",
      "(B, case_2, Process, 2025-08-22 14:31:32.033204 - {} - {} - {})\n",
      "(C, case_2, Process, 2025-08-22 14:31:32.033220 - {} - {} - {})\n",
      "(D, case_2, Process, 2025-08-22 14:31:32.033265 - {} - {} - {})\n",
      "(a11, c1, log-file, 2025-08-22 14:31:32.033776 - {'lifecycle:transition': 'complete', 'act': 'a11'} - {'creator': 'Fluxicon Disco', 'variant-index': 1, 'variant': 'Variant 1'} - {})\n",
      "(a12, c1, log-file, 2025-08-22 14:31:32.034047 - {'lifecycle:transition': 'complete', 'act': 'a12'} - {'creator': 'Fluxicon Disco', 'variant-index': 1, 'variant': 'Variant 1'} - {})\n",
      "(a21, c2, log-file, 2025-08-22 14:31:32.034455 - {'lifecycle:transition': 'complete', 'act': 'a21'} - {'creator': 'Fluxicon Disco', 'variant-index': 2, 'variant': 'Variant 2'} - {})\n",
      "(a22, c2, log-file, 2025-08-22 14:31:32.034678 - {'lifecycle:transition': 'complete', 'act': 'a22'} - {'creator': 'Fluxicon Disco', 'variant-index': 2, 'variant': 'Variant 2'} - {})\n",
      "(a23, c2, log-file, 2025-08-22 14:31:32.034917 - {'lifecycle:transition': 'complete', 'act': 'a23'} - {'creator': 'Fluxicon Disco', 'variant-index': 2, 'variant': 'Variant 2'} - {})\n"
     ]
    },
    {
     "data": {
      "text/plain": [
       "<reactivex.disposable.disposable.Disposable at 0x7fa7f8e57340>"
      ]
     },
     "execution_count": 8,
     "metadata": {},
     "output_type": "execute_result"
    }
   ],
   "source": [
    "from reactivex import concat\n",
    "from pybeamline.sources import xes_log_source_from_file, log_source\n",
    "\n",
    "src1 = xes_log_source_from_file(\"log.xes\")\n",
    "src2 = log_source([\"ABCD\", \"ABCD\"])\n",
    "src3 = xes_log_source_from_file(\"log.xes\")\n",
    "\n",
    "concat = concat(src1, src2, src3)\n",
    "concat \\\n",
    "    .subscribe(lambda x: print(str(x)))\n"
   ]
  },
  {
   "cell_type": "markdown",
   "metadata": {
    "id": "zDiJsMvfmBhn"
   },
   "source": [
    "### Filters"
   ]
  },
  {
   "cell_type": "code",
   "execution_count": 9,
   "metadata": {
    "colab": {
     "base_uri": "https://localhost:8080/",
     "height": 136,
     "referenced_widgets": [
      "e5896657fb174be1b2295341a7e41d07",
      "7b0071df3c46470a9130b93389e00a50",
      "c0f2d0aecb454ae5adb9eaa2700a387c",
      "83513a20789f482fa0ef4630de47e0c5",
      "8562b3687b994cfbb442dbb9ca61f14a",
      "899e5c6f801049b5b8fc1a1a9173c0ab",
      "27496a8e8eef4c879247eb5e5ceafc97",
      "e0526a58e7984b92bde410f08629d602",
      "7015b00efa6b4f7f9e7d61fe1f708c16",
      "3e520a35002a46379234f7d68e4ecc03",
      "fc79243a13994a64a66c884d7a67a643"
     ]
    },
    "id": "dCUSRIHhmBhn",
    "outputId": "0b3ffcd2-8c5d-4f88-92d3-04249aec6a0a"
   },
   "outputs": [
    {
     "data": {
      "application/vnd.jupyter.widget-view+json": {
       "model_id": "036b477729ae49deb53cb8b4402f74dc",
       "version_major": 2,
       "version_minor": 0
      },
      "text/plain": [
       "parsing log, completed traces ::   0%|          | 0/2 [00:00<?, ?it/s]"
      ]
     },
     "metadata": {},
     "output_type": "display_data"
    },
    {
     "name": "stdout",
     "output_type": "stream",
     "text": [
      "(a12, c1, log-file, 2025-08-22 14:31:33.931908 - {'lifecycle:transition': 'complete', 'act': 'a12'} - {'creator': 'Fluxicon Disco', 'variant-index': 1, 'variant': 'Variant 1'} - {})\n",
      "(a21, c2, log-file, 2025-08-22 14:31:33.932263 - {'lifecycle:transition': 'complete', 'act': 'a21'} - {'creator': 'Fluxicon Disco', 'variant-index': 2, 'variant': 'Variant 2'} - {})\n",
      "(a22, c2, log-file, 2025-08-22 14:31:33.932415 - {'lifecycle:transition': 'complete', 'act': 'a22'} - {'creator': 'Fluxicon Disco', 'variant-index': 2, 'variant': 'Variant 2'} - {})\n",
      "(a23, c2, log-file, 2025-08-22 14:31:33.932559 - {'lifecycle:transition': 'complete', 'act': 'a23'} - {'creator': 'Fluxicon Disco', 'variant-index': 2, 'variant': 'Variant 2'} - {})\n"
     ]
    },
    {
     "data": {
      "text/plain": [
       "<reactivex.disposable.disposable.Disposable at 0x7fa7f8d16d40>"
      ]
     },
     "execution_count": 9,
     "metadata": {},
     "output_type": "execute_result"
    }
   ],
   "source": [
    "from pybeamline.sources import log_source\n",
    "from pybeamline.filters import excludes_activity_filter\n",
    "\n",
    "log_source(\"log.xes\").pipe(\n",
    "    excludes_activity_filter(\"a11\"),\n",
    ").subscribe(lambda x: print(str(x)))\n",
    "\n",
    "# Similar functionalities for these filters:\n",
    "# - excludes_on_event_attribute_equal_filter\n",
    "# - retains_on_trace_attribute_equal_filter\n",
    "# - excludes_on_trace_attribute_equal_filter\n",
    "# - retains_activity_filter\n",
    "# - excludes_activity_filter\n"
   ]
  },
  {
   "cell_type": "markdown",
   "metadata": {
    "id": "UWUXL_fRmBhn"
   },
   "source": [
    "### Discovery techniques"
   ]
  },
  {
   "cell_type": "markdown",
   "metadata": {
    "id": "AMBDs1ZemBhn"
   },
   "source": [
    "Mining of directly-follows relations:"
   ]
  },
  {
   "cell_type": "code",
   "execution_count": 10,
   "metadata": {
    "colab": {
     "base_uri": "https://localhost:8080/"
    },
    "id": "gaEnORBPmBhn",
    "outputId": "cb92bc5b-f8de-412d-9101-9c328c665b75"
   },
   "outputs": [
    {
     "name": "stdout",
     "output_type": "stream",
     "text": [
      "('A', 'B')\n",
      "('B', 'C')\n",
      "('A', 'C')\n",
      "('C', 'B')\n"
     ]
    },
    {
     "data": {
      "text/plain": [
       "<reactivex.disposable.disposable.Disposable at 0x7fa7f8ecf670>"
      ]
     },
     "execution_count": 10,
     "metadata": {},
     "output_type": "execute_result"
    }
   ],
   "source": [
    "from pybeamline.sources import log_source\n",
    "from pybeamline.mappers import infinite_size_directly_follows_mapper\n",
    "\n",
    "log_source([\"ABC\", \"ACB\"]).pipe(\n",
    "    infinite_size_directly_follows_mapper()\n",
    ").subscribe(lambda x: print(str(x)))"
   ]
  },
  {
   "cell_type": "markdown",
   "metadata": {
    "id": "OOg8zOcMmBho"
   },
   "source": [
    "Mining of a Heuristics net using Lossy Counting:"
   ]
  },
  {
   "cell_type": "code",
   "execution_count": 11,
   "metadata": {
    "colab": {
     "base_uri": "https://localhost:8080/"
    },
    "id": "L8r4SNCymBho",
    "outputId": "d143fd5e-2d67-43cb-90e4-09f16c994cfb"
   },
   "outputs": [
    {
     "name": "stdout",
     "output_type": "stream",
     "text": [
      "{'A': (node:A connections:{B:[0.5]}), 'B': (node:B connections:{C:[0.5]}), 'C': (node:C connections:{})}\n",
      "{'C': (node:C connections:{D:[0.5]}), 'D': (node:D connections:{}), 'A': (node:A connections:{B:[0.6666666666666666]}), 'B': (node:B connections:{C:[0.6666666666666666]})}\n"
     ]
    },
    {
     "data": {
      "text/plain": [
       "<reactivex.disposable.disposable.Disposable at 0x7fa7f8d346d0>"
      ]
     },
     "execution_count": 11,
     "metadata": {},
     "output_type": "execute_result"
    }
   ],
   "source": [
    "from pybeamline.algorithms.discovery import heuristics_miner_lossy_counting\n",
    "\n",
    "log_source([\"ABCD\", \"ABCD\"]).pipe(\n",
    "    heuristics_miner_lossy_counting(model_update_frequency=4)\n",
    ").subscribe(lambda x: print(str(x)))"
   ]
  },
  {
   "cell_type": "markdown",
   "metadata": {
    "id": "k5W33Vq6mBho"
   },
   "source": [
    "Mining of a Heuristics net using Lossy Counting with Budget:"
   ]
  },
  {
   "cell_type": "code",
   "execution_count": 12,
   "metadata": {
    "colab": {
     "base_uri": "https://localhost:8080/"
    },
    "id": "q7nmZbJEmBho",
    "outputId": "e4d6c59f-f1e4-46a9-fb29-38e249016770"
   },
   "outputs": [
    {
     "name": "stdout",
     "output_type": "stream",
     "text": [
      "{'A': (node:A connections:{B:[0.5]}), 'B': (node:B connections:{C:[0.5]}), 'C': (node:C connections:{D:[0.5]}), 'D': (node:D connections:{})}\n",
      "{'A': (node:A connections:{B:[0.6666666666666666]}), 'B': (node:B connections:{C:[0.6666666666666666]}), 'C': (node:C connections:{D:[0.6666666666666666]}), 'D': (node:D connections:{})}\n"
     ]
    },
    {
     "data": {
      "text/plain": [
       "<reactivex.disposable.disposable.Disposable at 0x7fa7f8d348e0>"
      ]
     },
     "execution_count": 12,
     "metadata": {},
     "output_type": "execute_result"
    }
   ],
   "source": [
    "from pybeamline.algorithms.discovery import heuristics_miner_lossy_counting_budget\n",
    "\n",
    "log_source([\"ABCD\", \"ABCD\"]).pipe(\n",
    "    heuristics_miner_lossy_counting_budget(model_update_frequency=4)\n",
    ").subscribe(lambda x: print(str(x)))"
   ]
  },
  {
   "cell_type": "markdown",
   "metadata": {
    "id": "Lcd3aB4kmBho"
   },
   "source": [
    "### Conformance checking"
   ]
  },
  {
   "cell_type": "markdown",
   "metadata": {
    "id": "9dn3LWKzmBho"
   },
   "source": [
    "Currently only conformance checking using behavioral profiles is supported:"
   ]
  },
  {
   "cell_type": "code",
   "execution_count": 13,
   "metadata": {
    "colab": {
     "base_uri": "https://localhost:8080/"
    },
    "id": "9VW8GcqgmBho",
    "outputId": "ec99c2d6-72ab-4182-fd91-d3719496a7d0"
   },
   "outputs": [
    {
     "name": "stdout",
     "output_type": "stream",
     "text": [
      "([('A', 'B'), ('B', 'C'), ('C', 'D')], {('A', 'B'): (0, 0), ('B', 'C'): (1, 1), ('C', 'D'): (2, 2)}, {('A', 'B'): 2, ('B', 'C'): 1, ('C', 'D'): 0})\n",
      "(1.0, 0.5, 1)\n",
      "(1.0, 1.0, 1)\n",
      "(1.0, 0.5, 1)\n",
      "(1.0, 1.0, 1)\n"
     ]
    },
    {
     "data": {
      "text/plain": [
       "<reactivex.disposable.disposable.Disposable at 0x7fa7f8d36350>"
      ]
     },
     "execution_count": 13,
     "metadata": {},
     "output_type": "execute_result"
    }
   ],
   "source": [
    "from pybeamline.algorithms.conformance import mine_behavioral_model_from_stream, behavioral_conformance\n",
    "\n",
    "source = log_source([\"ABCD\", \"ABCD\"])\n",
    "reference_model = mine_behavioral_model_from_stream(source)\n",
    "print(reference_model)\n",
    "\n",
    "log_source([\"ABCD\", \"ABCD\"]).pipe(\n",
    "    excludes_activity_filter(\"A\"),\n",
    "    behavioral_conformance(reference_model)\n",
    ").subscribe(lambda x: print(str(x)))"
   ]
  },
  {
   "cell_type": "markdown",
   "metadata": {
    "id": "NK9p3h2FmBhp"
   },
   "source": [
    "### Sliding window\n",
    "\n",
    "This technique allows to apply any existing process mininig technique on streaming data"
   ]
  },
  {
   "cell_type": "code",
   "execution_count": 14,
   "metadata": {
    "colab": {
     "base_uri": "https://localhost:8080/"
    },
    "id": "QO0pdOlamBhp",
    "outputId": "f4e38035-1925-4a40-d442-e9a98c330606"
   },
   "outputs": [
    {
     "name": "stdout",
     "output_type": "stream",
     "text": [
      "Counter({('A', 'B'): 1, ('B', 'C'): 1})\n",
      "Counter({('A', 'B'): 1, ('B', 'D'): 1})\n"
     ]
    },
    {
     "data": {
      "text/plain": [
       "<reactivex.disposable.disposable.Disposable at 0x7fa7f8d36e00>"
      ]
     },
     "execution_count": 14,
     "metadata": {},
     "output_type": "execute_result"
    }
   ],
   "source": [
    "from pybeamline.sources import log_source\n",
    "from pybeamline.mappers import sliding_window_to_log\n",
    "from reactivex.operators import window_with_count\n",
    "import pm4py\n",
    "\n",
    "def mine(log):\n",
    "    print(pm4py.discover_dfg_typed(log))\n",
    "\n",
    "log_source([\"ABC\", \"ABD\"]).pipe(\n",
    "    window_with_count(3),\n",
    "    sliding_window_to_log()\n",
    ").subscribe(mine)"
   ]
  },
  {
   "cell_type": "markdown",
   "metadata": {
    "id": "oKN_2FV0lN7P"
   },
   "source": [
    "## Lambda operator"
   ]
  },
  {
   "cell_type": "code",
   "execution_count": 15,
   "metadata": {
    "colab": {
     "base_uri": "https://localhost:8080/"
    },
    "id": "78QmSlillQIs",
    "outputId": "c53e81ff-0ca0-4247-8d98-3bf5d4e6dc51"
   },
   "outputs": [
    {
     "name": "stdout",
     "output_type": "stream",
     "text": [
      "[('Start', 'A')]\n",
      "[('Start', 'A')]\n"
     ]
    },
    {
     "data": {
      "text/plain": [
       "<reactivex.disposable.disposable.Disposable at 0x7fa7f8d359f0>"
      ]
     },
     "execution_count": 15,
     "metadata": {},
     "output_type": "execute_result"
    }
   ],
   "source": [
    "from pybeamline.algorithms.lambda_operator import lambda_operator\n",
    "from pybeamline.sources.string_test_source import string_test_source\n",
    "\n",
    "\n",
    "def my_filter(event):\n",
    "    return event if (event.get_event_name() == \"A\") else None\n",
    "\n",
    "\n",
    "def my_miner(event):\n",
    "    return [('Start', event.get_event_name())]\n",
    "\n",
    "\n",
    "string_test_source([\"ABCDE\", \"ACBDE\"]).pipe(\n",
    "    lambda_operator(my_filter),\n",
    "    lambda_operator(my_miner)\n",
    ").subscribe(lambda x: print(str(x)))\n"
   ]
  },
  {
   "cell_type": "markdown",
   "metadata": {
    "id": "BsnNVptTz4t7"
   },
   "source": [
    "# Integration with other libraries\n",
    "\n",
    "## River"
   ]
  },
  {
   "cell_type": "code",
   "execution_count": 16,
   "metadata": {
    "colab": {
     "base_uri": "https://localhost:8080/"
    },
    "id": "8ifDJUq3z8Vz",
    "outputId": "436507c2-d3bf-4b1d-cf54-a898c39a92f3"
   },
   "outputs": [
    {
     "name": "stdout",
     "output_type": "stream",
     "text": [
      "Defaulting to user installation because normal site-packages is not writeable\n",
      "Requirement already satisfied: river in /home/andbur/.local/lib/python3.10/site-packages (0.21.2)\n",
      "Requirement already satisfied: numpy<2.0.0,>=1.23.0 in /home/andbur/.local/lib/python3.10/site-packages (from river) (1.24.0)\n",
      "Requirement already satisfied: scipy<2.0.0,>=1.12.1 in /home/andbur/.local/lib/python3.10/site-packages (from river) (1.15.3)\n",
      "Requirement already satisfied: pandas<3.0,>=2.1 in /home/andbur/.local/lib/python3.10/site-packages (from river) (2.2.3)\n",
      "Requirement already satisfied: tzdata>=2022.7 in /home/andbur/.local/lib/python3.10/site-packages (from pandas<3.0,>=2.1->river) (2024.2)\n",
      "Requirement already satisfied: pytz>=2020.1 in /usr/lib/python3/dist-packages (from pandas<3.0,>=2.1->river) (2022.1)\n",
      "Requirement already satisfied: python-dateutil>=2.8.2 in /home/andbur/.local/lib/python3.10/site-packages (from pandas<3.0,>=2.1->river) (2.8.2)\n",
      "Requirement already satisfied: six>=1.5 in /usr/lib/python3/dist-packages (from python-dateutil>=2.8.2->pandas<3.0,>=2.1->river) (1.16.0)\n"
     ]
    }
   ],
   "source": [
    "!pip install river"
   ]
  },
  {
   "cell_type": "code",
   "execution_count": 17,
   "metadata": {
    "id": "9nTNYFm82CnM"
   },
   "outputs": [],
   "source": [
    "import random\n",
    "\n",
    "log_original = [\"ABCD\"]*10000 + [\"ACBD\"]*500\n",
    "random.shuffle(log_original)\n",
    "\n",
    "log_after_drift = [\"ABCD\"]*500 + [\"ACBD\"]*10000\n",
    "random.shuffle(log_after_drift)\n",
    "\n",
    "log_with_drift = log_source(log_original + log_after_drift + log_original)"
   ]
  },
  {
   "cell_type": "code",
   "execution_count": 18,
   "metadata": {
    "colab": {
     "base_uri": "https://localhost:8080/"
    },
    "id": "11K2rYJi2HoU",
    "outputId": "513c991c-14fa-4f29-e6fe-3bbebe69ec18"
   },
   "outputs": [
    {
     "data": {
      "text/plain": [
       "<reactivex.disposable.disposable.Disposable at 0x7fa79d24e860>"
      ]
     },
     "execution_count": 18,
     "metadata": {},
     "output_type": "execute_result"
    }
   ],
   "source": [
    "import reactivex\n",
    "from reactivex import operators as ops\n",
    "from river import drift\n",
    "\n",
    "drift_detector = drift.ADWIN()\n",
    "data = []\n",
    "drifts = []\n",
    "\n",
    "def check_for_drift():\n",
    "  index = 0\n",
    "\n",
    "  def _process(x):\n",
    "    nonlocal index\n",
    "    drift_detector.update(x)\n",
    "    index = index + 1\n",
    "    if drift_detector.drift_detected:\n",
    "      drifts.append(index)\n",
    "\n",
    "  def _check_for_drift(obs):\n",
    "    return obs.pipe(ops.do_action(lambda value: _process(value)))\n",
    "\n",
    "  return _check_for_drift\n",
    "\n",
    "log_with_drift.pipe(\n",
    "  ops.buffer_with_count(40),\n",
    "  ops.flat_map(lambda events: reactivex.from_iterable(events).pipe(\n",
    "      ops.pairwise(),\n",
    "      ops.filter(lambda x: x[0].get_trace_name() == x[1].get_trace_name() and x[0].get_event_name() == \"B\" and x[1].get_event_name() == \"C\"),\n",
    "      ops.count()\n",
    "      )\n",
    "  ),\n",
    "  check_for_drift()\n",
    ").subscribe(lambda x: data.append(x))"
   ]
  },
  {
   "cell_type": "code",
   "execution_count": 19,
   "metadata": {
    "colab": {
     "base_uri": "https://localhost:8080/",
     "height": 430
    },
    "id": "Yw8TVwvN1TYw",
    "outputId": "bb4f4ba2-fb81-4b44-cc05-2bd9033fc4b5"
   },
   "outputs": [
    {
     "data": {
      "image/png": "[encoded data removed]",
      "text/plain": [
       "<Figure size 432x288 with 1 Axes>"
      ]
     },
     "metadata": {
      "needs_background": "light"
     },
     "output_type": "display_data"
    }
   ],
   "source": [
    "import matplotlib.pyplot as plt\n",
    "\n",
    "plt.plot(data, marker='o')\n",
    "plt.grid()\n",
    "for drift_detected in drifts:\n",
    "    plt.axvline(drift_detected, color='red')\n",
    "plt.show()"
   ]
  }
 ],
 "metadata": {
  "colab": {
   "provenance": [],
   "toc_visible": true
  },
  "kernelspec": {
   "display_name": "Python 3 (ipykernel)",
   "language": "python",
   "name": "python3"
  },
  "language_info": {
   "codemirror_mode": {
    "name": "ipython",
    "version": 3
   },
   "file_extension": ".py",
   "mimetype": "text/x-python",
   "name": "python",
   "nbconvert_exporter": "python",
   "pygments_lexer": "ipython3",
   "version": "3.10.12"
  },
  "widgets": {
   "application/vnd.jupyter.widget-state+json": {
    "state": {
     "0049e670a4ae4fdc8f8ad770bc09f3ae": {
      "model_module": "@jupyter-widgets/controls",
      "model_module_version": "2.0.0",
      "model_name": "HTMLModel",
      "state": {
       "layout": "IPY_MODEL_cd23849ee98f4d978643a508dc631aaf",
       "style": "IPY_MODEL_0889662c97a74c1b9f1de0904684ea95",
       "value": " 2/2 [00:00&lt;00:00, 189.21it/s]"
      }
     },
     "0195cb032fe34419b1187a3ec0d33bc3": {
      "model_module": "@jupyter-widgets/controls",
      "model_module_version": "2.0.0",
      "model_name": "ProgressStyleModel",
      "state": {
       "description_width": ""
      }
     },
     "036b477729ae49deb53cb8b4402f74dc": {
      "model_module": "@jupyter-widgets/controls",
      "model_module_version": "2.0.0",
      "model_name": "HBoxModel",
      "state": {
       "children": [
        "IPY_MODEL_1debde34e2424bf484d18b57cc329743",
        "IPY_MODEL_27061a958fbe47dabde151ac18c3181a",
        "IPY_MODEL_4bca95359f1546ea9b2abe70bf5460b3"
       ],
       "layout": "IPY_MODEL_bc3936606a8f4088930fd457b5129eb0"
      }
     },
     "06ea523007b14474af5af680009a2750": {
      "model_module": "@jupyter-widgets/controls",
      "model_module_version": "2.0.0",
      "model_name": "HBoxModel",
      "state": {
       "children": [
        "IPY_MODEL_133bb6a6078e45bab743f8f85681fe44",
        "IPY_MODEL_e6b4c3abcd9845e99592d801c0aad605",
        "IPY_MODEL_a1741f98d5814a79b4ae00778278a0bb"
       ],
       "layout": "IPY_MODEL_ce464dec61dd441181bfd12544f385c6"
      }
     },
     "0889662c97a74c1b9f1de0904684ea95": {
      "model_module": "@jupyter-widgets/controls",
      "model_module_version": "2.0.0",
      "model_name": "HTMLStyleModel",
      "state": {
       "description_width": "",
       "font_size": null,
       "text_color": null
      }
     },
     "133bb6a6078e45bab743f8f85681fe44": {
      "model_module": "@jupyter-widgets/controls",
      "model_module_version": "2.0.0",
      "model_name": "HTMLModel",
      "state": {
       "layout": "IPY_MODEL_6ce7b22aacab4837be6d68cc651646b2",
       "style": "IPY_MODEL_221e419cc03c43d1af1d6951902ae3ea",
       "value": "parsing log, completed traces :: 100%"
      }
     },
     "1debde34e2424bf484d18b57cc329743": {
      "model_module": "@jupyter-widgets/controls",
      "model_module_version": "2.0.0",
      "model_name": "HTMLModel",
      "state": {
       "layout": "IPY_MODEL_38a7677aeb044122b1a0f9507ba3de39",
       "style": "IPY_MODEL_f3c4b8a001a348729d1bbb784fc5f622",
       "value": "parsing log, completed traces :: 100%"
      }
     },
     "1e3df7cee221400a9194dfb33bee552b": {
      "model_module": "@jupyter-widgets/controls",
      "model_module_version": "2.0.0",
      "model_name": "HTMLStyleModel",
      "state": {
       "description_width": "",
       "font_size": null,
       "text_color": null
      }
     },
     "20f8cfedf5a54b2d9412586da3ba26a4": {
      "model_module": "@jupyter-widgets/base",
      "model_module_version": "2.0.0",
      "model_name": "LayoutModel",
      "state": {}
     },
     "2103660dc10b4b2798aa459733c8009d": {
      "model_module": "@jupyter-widgets/controls",
      "model_module_version": "2.0.0",
      "model_name": "HBoxModel",
      "state": {
       "children": [
        "IPY_MODEL_c5494b268f444ad8b30f42381d22bd60",
        "IPY_MODEL_98059ab03a5e482b901d9e5ae637ffbf",
        "IPY_MODEL_0049e670a4ae4fdc8f8ad770bc09f3ae"
       ],
       "layout": "IPY_MODEL_b6fdf429fc764ec9ab47fb7edbf2f0ea"
      }
     },
     "214da8145bb94cc6887ac79bce584ad2": {
      "model_module": "@jupyter-widgets/controls",
      "model_module_version": "2.0.0",
      "model_name": "FloatProgressModel",
      "state": {
       "bar_style": "success",
       "layout": "IPY_MODEL_98c5388822434e529ba95ae03c8f826a",
       "max": 2,
       "style": "IPY_MODEL_0195cb032fe34419b1187a3ec0d33bc3",
       "value": 2
      }
     },
     "221e419cc03c43d1af1d6951902ae3ea": {
      "model_module": "@jupyter-widgets/controls",
      "model_module_version": "2.0.0",
      "model_name": "HTMLStyleModel",
      "state": {
       "description_width": "",
       "font_size": null,
       "text_color": null
      }
     },
     "27061a958fbe47dabde151ac18c3181a": {
      "model_module": "@jupyter-widgets/controls",
      "model_module_version": "2.0.0",
      "model_name": "FloatProgressModel",
      "state": {
       "bar_style": "success",
       "layout": "IPY_MODEL_f028e80a8b074b7781e22ecd6f3e7566",
       "max": 2,
       "style": "IPY_MODEL_9c59500e830e4e3d8e5402002bd52d5c",
       "value": 2
      }
     },
     "30368ace5cec41b38a5a3b5d563eaa54": {
      "model_module": "@jupyter-widgets/base",
      "model_module_version": "2.0.0",
      "model_name": "LayoutModel",
      "state": {}
     },
     "3041175d884a4cc7b6d4788fe1400e71": {
      "model_module": "@jupyter-widgets/controls",
      "model_module_version": "2.0.0",
      "model_name": "ProgressStyleModel",
      "state": {
       "description_width": ""
      }
     },
     "38a7677aeb044122b1a0f9507ba3de39": {
      "model_module": "@jupyter-widgets/base",
      "model_module_version": "2.0.0",
      "model_name": "LayoutModel",
      "state": {}
     },
     "46501cf2f1af4573a00357bde7fd07b8": {
      "model_module": "@jupyter-widgets/controls",
      "model_module_version": "2.0.0",
      "model_name": "HTMLStyleModel",
      "state": {
       "description_width": "",
       "font_size": null,
       "text_color": null
      }
     },
     "4bca95359f1546ea9b2abe70bf5460b3": {
      "model_module": "@jupyter-widgets/controls",
      "model_module_version": "2.0.0",
      "model_name": "HTMLModel",
      "state": {
       "layout": "IPY_MODEL_bba5c4073648495fa812b4818c6e29de",
       "style": "IPY_MODEL_e2fe2b1f8d01480aa71706f21556d39c",
       "value": " 2/2 [00:00&lt;00:00, 164.16it/s]"
      }
     },
     "4e87ab19ae0b4ae4b0a0c169b4eb9c77": {
      "model_module": "@jupyter-widgets/base",
      "model_module_version": "2.0.0",
      "model_name": "LayoutModel",
      "state": {}
     },
     "5ba50a332f4344c9a50d1a6e6529b142": {
      "model_module": "@jupyter-widgets/base",
      "model_module_version": "2.0.0",
      "model_name": "LayoutModel",
      "state": {}
     },
     "5d53dd8882b449f5be05a1f6627f8180": {
      "model_module": "@jupyter-widgets/base",
      "model_module_version": "2.0.0",
      "model_name": "LayoutModel",
      "state": {}
     },
     "5efbcd5280424a38b961e3add03003ff": {
      "model_module": "@jupyter-widgets/base",
      "model_module_version": "2.0.0",
      "model_name": "LayoutModel",
      "state": {}
     },
     "63b0d60ecc474b97975e10d99c97d8b9": {
      "model_module": "@jupyter-widgets/controls",
      "model_module_version": "2.0.0",
      "model_name": "ProgressStyleModel",
      "state": {
       "description_width": ""
      }
     },
     "6ce7b22aacab4837be6d68cc651646b2": {
      "model_module": "@jupyter-widgets/base",
      "model_module_version": "2.0.0",
      "model_name": "LayoutModel",
      "state": {}
     },
     "768f81e13adf46f7887234081fa91879": {
      "model_module": "@jupyter-widgets/base",
      "model_module_version": "2.0.0",
      "model_name": "LayoutModel",
      "state": {}
     },
     "884d522d92e64d6bb0a33df921319ee6": {
      "model_module": "@jupyter-widgets/controls",
      "model_module_version": "2.0.0",
      "model_name": "HTMLModel",
      "state": {
       "layout": "IPY_MODEL_a37095f143da402c9a2d2d81f4cab1dc",
       "style": "IPY_MODEL_931639b49203467cbb963364ae5bc510",
       "value": " 2/2 [00:00&lt;00:00, 185.77it/s]"
      }
     },
     "8cf89ee8018b4987a8b7634fcf21676b": {
      "model_module": "@jupyter-widgets/controls",
      "model_module_version": "2.0.0",
      "model_name": "ProgressStyleModel",
      "state": {
       "description_width": ""
      }
     },
     "931639b49203467cbb963364ae5bc510": {
      "model_module": "@jupyter-widgets/controls",
      "model_module_version": "2.0.0",
      "model_name": "HTMLStyleModel",
      "state": {
       "description_width": "",
       "font_size": null,
       "text_color": null
      }
     },
     "98059ab03a5e482b901d9e5ae637ffbf": {
      "model_module": "@jupyter-widgets/controls",
      "model_module_version": "2.0.0",
      "model_name": "FloatProgressModel",
      "state": {
       "bar_style": "success",
       "layout": "IPY_MODEL_eabb791198e14fdc818421868a875b1f",
       "max": 2,
       "style": "IPY_MODEL_63b0d60ecc474b97975e10d99c97d8b9",
       "value": 2
      }
     },
     "98c5388822434e529ba95ae03c8f826a": {
      "model_module": "@jupyter-widgets/base",
      "model_module_version": "2.0.0",
      "model_name": "LayoutModel",
      "state": {}
     },
     "9a4d2a91c3a248e7bfa041de7f8f1e35": {
      "model_module": "@jupyter-widgets/controls",
      "model_module_version": "2.0.0",
      "model_name": "HTMLStyleModel",
      "state": {
       "description_width": "",
       "font_size": null,
       "text_color": null
      }
     },
     "9c59500e830e4e3d8e5402002bd52d5c": {
      "model_module": "@jupyter-widgets/controls",
      "model_module_version": "2.0.0",
      "model_name": "ProgressStyleModel",
      "state": {
       "description_width": ""
      }
     },
     "a1741f98d5814a79b4ae00778278a0bb": {
      "model_module": "@jupyter-widgets/controls",
      "model_module_version": "2.0.0",
      "model_name": "HTMLModel",
      "state": {
       "layout": "IPY_MODEL_e3cf958733ba4b8a9faadc9a77189ebc",
       "style": "IPY_MODEL_b145288ae3904542a9388e74d9eeac7b",
       "value": " 2/2 [00:00&lt;00:00, 195.27it/s]"
      }
     },
     "a37095f143da402c9a2d2d81f4cab1dc": {
      "model_module": "@jupyter-widgets/base",
      "model_module_version": "2.0.0",
      "model_name": "LayoutModel",
      "state": {}
     },
     "a45adedfbc6747dc8cb764feaa321acb": {
      "model_module": "@jupyter-widgets/controls",
      "model_module_version": "2.0.0",
      "model_name": "HTMLModel",
      "state": {
       "layout": "IPY_MODEL_768f81e13adf46f7887234081fa91879",
       "style": "IPY_MODEL_9a4d2a91c3a248e7bfa041de7f8f1e35",
       "value": "parsing log, completed traces :: 100%"
      }
     },
     "a5311fb47e3c4da996437c2f5e558d84": {
      "model_module": "@jupyter-widgets/controls",
      "model_module_version": "2.0.0",
      "model_name": "HTMLStyleModel",
      "state": {
       "description_width": "",
       "font_size": null,
       "text_color": null
      }
     },
     "b0f6c91f85684b48b0f3389649a61f15": {
      "model_module": "@jupyter-widgets/base",
      "model_module_version": "2.0.0",
      "model_name": "LayoutModel",
      "state": {}
     },
     "b145288ae3904542a9388e74d9eeac7b": {
      "model_module": "@jupyter-widgets/controls",
      "model_module_version": "2.0.0",
      "model_name": "HTMLStyleModel",
      "state": {
       "description_width": "",
       "font_size": null,
       "text_color": null
      }
     },
     "b65dd39cabbc4c51859de3c84df3b3b7": {
      "model_module": "@jupyter-widgets/controls",
      "model_module_version": "2.0.0",
      "model_name": "HBoxModel",
      "state": {
       "children": [
        "IPY_MODEL_e77c3ced786c4adfbefbdb226b3fc0e0",
        "IPY_MODEL_214da8145bb94cc6887ac79bce584ad2",
        "IPY_MODEL_884d522d92e64d6bb0a33df921319ee6"
       ],
       "layout": "IPY_MODEL_30368ace5cec41b38a5a3b5d563eaa54"
      }
     },
     "b6fdf429fc764ec9ab47fb7edbf2f0ea": {
      "model_module": "@jupyter-widgets/base",
      "model_module_version": "2.0.0",
      "model_name": "LayoutModel",
      "state": {}
     },
     "bad886a0d75d48f5a1788de57b08f03b": {
      "model_module": "@jupyter-widgets/controls",
      "model_module_version": "2.0.0",
      "model_name": "HBoxModel",
      "state": {
       "children": [
        "IPY_MODEL_a45adedfbc6747dc8cb764feaa321acb",
        "IPY_MODEL_f6a53cf20ffa453293a0e8eb520b11af",
        "IPY_MODEL_dc78fddfabac4f85b5ed6a66ebd23384"
       ],
       "layout": "IPY_MODEL_b0f6c91f85684b48b0f3389649a61f15"
      }
     },
     "bba5c4073648495fa812b4818c6e29de": {
      "model_module": "@jupyter-widgets/base",
      "model_module_version": "2.0.0",
      "model_name": "LayoutModel",
      "state": {}
     },
     "bc3936606a8f4088930fd457b5129eb0": {
      "model_module": "@jupyter-widgets/base",
      "model_module_version": "2.0.0",
      "model_name": "LayoutModel",
      "state": {}
     },
     "c5494b268f444ad8b30f42381d22bd60": {
      "model_module": "@jupyter-widgets/controls",
      "model_module_version": "2.0.0",
      "model_name": "HTMLModel",
      "state": {
       "layout": "IPY_MODEL_4e87ab19ae0b4ae4b0a0c169b4eb9c77",
       "style": "IPY_MODEL_a5311fb47e3c4da996437c2f5e558d84",
       "value": "parsing log, completed traces :: 100%"
      }
     },
     "cd23849ee98f4d978643a508dc631aaf": {
      "model_module": "@jupyter-widgets/base",
      "model_module_version": "2.0.0",
      "model_name": "LayoutModel",
      "state": {}
     },
     "ce464dec61dd441181bfd12544f385c6": {
      "model_module": "@jupyter-widgets/base",
      "model_module_version": "2.0.0",
      "model_name": "LayoutModel",
      "state": {}
     },
     "dc78fddfabac4f85b5ed6a66ebd23384": {
      "model_module": "@jupyter-widgets/controls",
      "model_module_version": "2.0.0",
      "model_name": "HTMLModel",
      "state": {
       "layout": "IPY_MODEL_20f8cfedf5a54b2d9412586da3ba26a4",
       "style": "IPY_MODEL_1e3df7cee221400a9194dfb33bee552b",
       "value": " 2/2 [00:00&lt;00:00, 163.66it/s]"
      }
     },
     "e2fe2b1f8d01480aa71706f21556d39c": {
      "model_module": "@jupyter-widgets/controls",
      "model_module_version": "2.0.0",
      "model_name": "HTMLStyleModel",
      "state": {
       "description_width": "",
       "font_size": null,
       "text_color": null
      }
     },
     "e3cf958733ba4b8a9faadc9a77189ebc": {
      "model_module": "@jupyter-widgets/base",
      "model_module_version": "2.0.0",
      "model_name": "LayoutModel",
      "state": {}
     },
     "e6b4c3abcd9845e99592d801c0aad605": {
      "model_module": "@jupyter-widgets/controls",
      "model_module_version": "2.0.0",
      "model_name": "FloatProgressModel",
      "state": {
       "bar_style": "success",
       "layout": "IPY_MODEL_5d53dd8882b449f5be05a1f6627f8180",
       "max": 2,
       "style": "IPY_MODEL_8cf89ee8018b4987a8b7634fcf21676b",
       "value": 2
      }
     },
     "e77c3ced786c4adfbefbdb226b3fc0e0": {
      "model_module": "@jupyter-widgets/controls",
      "model_module_version": "2.0.0",
      "model_name": "HTMLModel",
      "state": {
       "layout": "IPY_MODEL_5ba50a332f4344c9a50d1a6e6529b142",
       "style": "IPY_MODEL_46501cf2f1af4573a00357bde7fd07b8",
       "value": "parsing log, completed traces :: 100%"
      }
     },
     "eabb791198e14fdc818421868a875b1f": {
      "model_module": "@jupyter-widgets/base",
      "model_module_version": "2.0.0",
      "model_name": "LayoutModel",
      "state": {}
     },
     "f028e80a8b074b7781e22ecd6f3e7566": {
      "model_module": "@jupyter-widgets/base",
      "model_module_version": "2.0.0",
      "model_name": "LayoutModel",
      "state": {}
     },
     "f3c4b8a001a348729d1bbb784fc5f622": {
      "model_module": "@jupyter-widgets/controls",
      "model_module_version": "2.0.0",
      "model_name": "HTMLStyleModel",
      "state": {
       "description_width": "",
       "font_size": null,
       "text_color": null
      }
     },
     "f6a53cf20ffa453293a0e8eb520b11af": {
      "model_module": "@jupyter-widgets/controls",
      "model_module_version": "2.0.0",
      "model_name": "FloatProgressModel",
      "state": {
       "bar_style": "success",
       "layout": "IPY_MODEL_5efbcd5280424a38b961e3add03003ff",
       "max": 2,
       "style": "IPY_MODEL_3041175d884a4cc7b6d4788fe1400e71",
       "value": 2
      }
     }
    },
    "version_major": 2,
    "version_minor": 0
   }
  }
 },
 "nbformat": 4,
 "nbformat_minor": 4
}
