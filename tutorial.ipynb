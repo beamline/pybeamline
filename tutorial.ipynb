{
  "cells": [
    {
      "cell_type": "markdown",
      "metadata": {
        "id": "yqDUtf_0mBhg"
      },
      "source": [
        "# Streaming process mining with `pyBeamline`"
      ]
    },
    {
      "cell_type": "markdown",
      "metadata": {
        "id": "9Aq7aw-kmBhj"
      },
      "source": [
        "`pyBeamline` is a Python version of Beamline. While the same set of ideas and principles of Beamline have been ported into `pyBeamline`, the underlying goal and technology is very different.\n",
        "\n",
        "pyBeamline is based on ReactiveX and its Python binding RxPY. RxPY is a library for composing asynchronous and event-based programs using observable sequences and pipable query operators in Python. Using pyBeamline it is possible to inject process mining operators into the computation.\n",
        "\n",
        "This Jupyter notebook contains the main functionalities currently exposed by `pyBeamline`. For a complete documentation of the library see https://www.beamline.cloud/pybeamline/. In the rest of the notebook it is assumed that the `pyBeamline` package is already installed.\n",
        "\n",
        "In the rest of this document, the main functionalities are exposed."
      ]
    },
    {
      "cell_type": "markdown",
      "metadata": {
        "id": "H_u0aIVxmBhk"
      },
      "source": [
        "It is possible to install the library using:"
      ]
    },
    {
      "cell_type": "code",
      "execution_count": null,
      "metadata": {
        "id": "T1pTAL35mBhk"
      },
      "outputs": [],
      "source": [
        "!pip install pybeamline"
      ]
    },
    {
      "cell_type": "code",
      "execution_count": 11,
      "metadata": {
        "id": "tIdDi1uKmBhl"
      },
      "outputs": [],
      "source": [
        "# Let's ignore some PM4PY warnings in the notebook\n",
        "import warnings\n",
        "warnings.filterwarnings(\"ignore\")"
      ]
    },
    {
      "cell_type": "markdown",
      "metadata": {
        "id": "CIsiP7qLmBhl"
      },
      "source": [
        "### Sources"
      ]
    },
    {
      "cell_type": "code",
      "execution_count": 3,
      "metadata": {
        "id": "Wzc6JNYXmBhm",
        "outputId": "0bd3e4da-917d-421e-8afa-72241d0dfdfc",
        "colab": {
          "base_uri": "https://localhost:8080/"
        }
      },
      "outputs": [
        {
          "output_type": "stream",
          "name": "stdout",
          "text": [
            "(A, case_1, Process, 2024-10-24 13:56:22.134777 - {} - {} - {})\n",
            "(B, case_1, Process, 2024-10-24 13:56:22.136971 - {} - {} - {})\n",
            "(C, case_1, Process, 2024-10-24 13:56:22.137522 - {} - {} - {})\n",
            "(A, case_2, Process, 2024-10-24 13:56:22.138008 - {} - {} - {})\n",
            "(C, case_2, Process, 2024-10-24 13:56:22.138480 - {} - {} - {})\n",
            "(B, case_2, Process, 2024-10-24 13:56:22.138980 - {} - {} - {})\n",
            "(E, case_3, Process, 2024-10-24 13:56:22.139455 - {} - {} - {})\n",
            "(F, case_3, Process, 2024-10-24 13:56:22.139979 - {} - {} - {})\n",
            "(G, case_3, Process, 2024-10-24 13:56:22.140448 - {} - {} - {})\n"
          ]
        },
        {
          "output_type": "execute_result",
          "data": {
            "text/plain": [
              "<reactivex.disposable.disposable.Disposable at 0x7938794a9630>"
            ]
          },
          "metadata": {},
          "execution_count": 3
        }
      ],
      "source": [
        "from pybeamline.sources import string_test_source\n",
        "\n",
        "string_test_source([\"ABC\", \"ACB\", \"EFG\"]) \\\n",
        "    .subscribe(lambda x: print(str(x)))"
      ]
    },
    {
      "cell_type": "code",
      "source": [
        "!wget https://raw.githubusercontent.com/beamline/pybeamline/refs/heads/master/tests/log.xes"
      ],
      "metadata": {
        "id": "MNEZbH1UwkeQ",
        "outputId": "438250b0-21b6-4f46-c963-30b02e6d97b3",
        "colab": {
          "base_uri": "https://localhost:8080/"
        }
      },
      "execution_count": 7,
      "outputs": [
        {
          "output_type": "stream",
          "name": "stdout",
          "text": [
            "--2024-10-24 13:57:08--  https://raw.githubusercontent.com/beamline/pybeamline/refs/heads/master/tests/log.xes\n",
            "Resolving raw.githubusercontent.com (raw.githubusercontent.com)... 185.199.108.133, 185.199.109.133, 185.199.110.133, ...\n",
            "Connecting to raw.githubusercontent.com (raw.githubusercontent.com)|185.199.108.133|:443... connected.\n",
            "HTTP request sent, awaiting response... 200 OK\n",
            "Length: 2029 (2.0K) [text/plain]\n",
            "Saving to: ‘log.xes.1’\n",
            "\n",
            "\rlog.xes.1             0%[                    ]       0  --.-KB/s               \rlog.xes.1           100%[===================>]   1.98K  --.-KB/s    in 0s      \n",
            "\n",
            "2024-10-24 13:57:08 (30.9 MB/s) - ‘log.xes.1’ saved [2029/2029]\n",
            "\n"
          ]
        }
      ]
    },
    {
      "cell_type": "code",
      "execution_count": null,
      "metadata": {
        "id": "gQTaqXeImBhm",
        "outputId": "5cad5e73-16b8-4868-d1b4-565124fa670c",
        "colab": {
          "base_uri": "https://localhost:8080/",
          "height": 153,
          "referenced_widgets": [
            "5d8a487a8d7940089db68c13ffcbd06b",
            "5fa10360934a4be889abaf60f769b568",
            "b9c48d84a31948d891f4d70d99a9f204",
            "9afd85cd28d74e0989fc219300f86108",
            "2e65cd52f3c34512afdca1503c3f662f",
            "c6e6f0f4506c4381aa40bd84c69e579e",
            "5a7c69a8d38441738adf0273e06bdf65",
            "41b43de7c5254af29a323df2161454fa",
            "0d76989c54284f63a029f1ec7598ffc8",
            "58e08e66fbd0486bad8667709c4549a5",
            "2c58b796690d410195b2b762570b26af"
          ]
        }
      },
      "outputs": [
        {
          "output_type": "display_data",
          "data": {
            "text/plain": [
              "parsing log, completed traces ::   0%|          | 0/2 [00:00<?, ?it/s]"
            ],
            "application/vnd.jupyter.widget-view+json": {
              "version_major": 2,
              "version_minor": 0,
              "model_id": "5d8a487a8d7940089db68c13ffcbd06b"
            }
          },
          "metadata": {}
        },
        {
          "output_type": "stream",
          "name": "stdout",
          "text": [
            "(a11, c1, log-file, 2024-10-24 09:02:51.070206 - {'lifecycle:transition': 'complete', 'act': 'a11'} - {'variant': 'Variant 1', 'creator': 'Fluxicon Disco', 'variant-index': 1} - {})\n",
            "(a12, c1, log-file, 2024-10-24 09:02:51.073318 - {'lifecycle:transition': 'complete', 'act': 'a12'} - {'variant': 'Variant 1', 'creator': 'Fluxicon Disco', 'variant-index': 1} - {})\n",
            "(a21, c2, log-file, 2024-10-24 09:02:51.074364 - {'lifecycle:transition': 'complete', 'act': 'a21'} - {'variant': 'Variant 2', 'creator': 'Fluxicon Disco', 'variant-index': 2} - {})\n",
            "(a22, c2, log-file, 2024-10-24 09:02:51.076163 - {'lifecycle:transition': 'complete', 'act': 'a22'} - {'variant': 'Variant 2', 'creator': 'Fluxicon Disco', 'variant-index': 2} - {})\n",
            "(a23, c2, log-file, 2024-10-24 09:02:51.077837 - {'lifecycle:transition': 'complete', 'act': 'a23'} - {'variant': 'Variant 2', 'creator': 'Fluxicon Disco', 'variant-index': 2} - {})\n"
          ]
        },
        {
          "output_type": "execute_result",
          "data": {
            "text/plain": [
              "<reactivex.disposable.disposable.Disposable at 0x7f3fbbdc98a0>"
            ]
          },
          "metadata": {},
          "execution_count": 10
        }
      ],
      "source": [
        "from pybeamline.sources import xes_log_source_from_file\n",
        "\n",
        "xes_log_source_from_file(\"log.xes\") \\\n",
        "    .subscribe(lambda x: print(str(x)))"
      ]
    },
    {
      "cell_type": "code",
      "execution_count": null,
      "metadata": {
        "id": "AyPZen8BmBhm",
        "outputId": "afc28a44-6a40-4f6b-8aca-99b98fc6b094",
        "colab": {
          "base_uri": "https://localhost:8080/",
          "height": 309,
          "referenced_widgets": [
            "d7137290a0ba40e9be2f9eb23b1c7a73",
            "3ef52dfa95b64cd19e42aec30386f7d6",
            "41d245b4727a4c9294ea5801ca5ff602",
            "4ddac8bfc3fb4e4299c1c323f8300a3a",
            "53557302908148bda08c5f78fe16858c",
            "0f00ac4f2a454b7bab9b81efe996f8c1",
            "9d7d915d8b2e486895081992856161fa",
            "e4e4275aecac4e2098523e205b1fda01",
            "d437364fe6d84b53b7643416b135f795",
            "4673e55656ae421f860961938b00e024",
            "70dd795e89994bf78a291697fc4fd8cf"
          ]
        }
      },
      "outputs": [
        {
          "output_type": "stream",
          "name": "stdout",
          "text": [
            "(A, case_1, Process, 2024-10-24 09:03:10.411580 - {} - {} - {})\n",
            "(B, case_1, Process, 2024-10-24 09:03:10.414995 - {} - {} - {})\n",
            "(C, case_1, Process, 2024-10-24 09:03:10.415772 - {} - {} - {})\n",
            "(A, case_2, Process, 2024-10-24 09:03:10.416392 - {} - {} - {})\n",
            "(C, case_2, Process, 2024-10-24 09:03:10.416952 - {} - {} - {})\n",
            "(B, case_2, Process, 2024-10-24 09:03:10.417453 - {} - {} - {})\n",
            "(E, case_3, Process, 2024-10-24 09:03:10.417987 - {} - {} - {})\n",
            "(F, case_3, Process, 2024-10-24 09:03:10.418303 - {} - {} - {})\n",
            "(G, case_3, Process, 2024-10-24 09:03:10.418359 - {} - {} - {})\n"
          ]
        },
        {
          "output_type": "display_data",
          "data": {
            "text/plain": [
              "parsing log, completed traces ::   0%|          | 0/2 [00:00<?, ?it/s]"
            ],
            "application/vnd.jupyter.widget-view+json": {
              "version_major": 2,
              "version_minor": 0,
              "model_id": "d7137290a0ba40e9be2f9eb23b1c7a73"
            }
          },
          "metadata": {}
        },
        {
          "output_type": "stream",
          "name": "stdout",
          "text": [
            "(a11, c1, log-file, 2024-10-24 09:03:10.472343 - {'lifecycle:transition': 'complete', 'act': 'a11'} - {'variant': 'Variant 1', 'creator': 'Fluxicon Disco', 'variant-index': 1} - {})\n",
            "(a12, c1, log-file, 2024-10-24 09:03:10.474654 - {'lifecycle:transition': 'complete', 'act': 'a12'} - {'variant': 'Variant 1', 'creator': 'Fluxicon Disco', 'variant-index': 1} - {})\n",
            "(a21, c2, log-file, 2024-10-24 09:03:10.476066 - {'lifecycle:transition': 'complete', 'act': 'a21'} - {'variant': 'Variant 2', 'creator': 'Fluxicon Disco', 'variant-index': 2} - {})\n",
            "(a22, c2, log-file, 2024-10-24 09:03:10.477115 - {'lifecycle:transition': 'complete', 'act': 'a22'} - {'variant': 'Variant 2', 'creator': 'Fluxicon Disco', 'variant-index': 2} - {})\n",
            "(a23, c2, log-file, 2024-10-24 09:03:10.478081 - {'lifecycle:transition': 'complete', 'act': 'a23'} - {'variant': 'Variant 2', 'creator': 'Fluxicon Disco', 'variant-index': 2} - {})\n"
          ]
        },
        {
          "output_type": "execute_result",
          "data": {
            "text/plain": [
              "<reactivex.disposable.disposable.Disposable at 0x7f3fbbca1f90>"
            ]
          },
          "metadata": {},
          "execution_count": 11
        }
      ],
      "source": [
        "from pybeamline.sources import log_source\n",
        "\n",
        "log_source([\"ABC\", \"ACB\", \"EFG\"]) \\\n",
        "    .subscribe(lambda x: print(str(x)))\n",
        "\n",
        "log_source(\"log.xes\") \\\n",
        "    .subscribe(lambda x: print(str(x)))"
      ]
    },
    {
      "cell_type": "code",
      "source": [
        "from pybeamline.sources import mqttxes_source\n",
        "\n",
        "mqttxes_source('broker.mqtt.cool', 1883, 'bla/bla/') \\\n",
        "  .subscribe(lambda x: print(str(x)))\n",
        "\n",
        "input()"
      ],
      "metadata": {
        "id": "ePzA0wNAnKYS",
        "outputId": "8128caae-9c04-41d8-ba86-3db682650bbd",
        "colab": {
          "base_uri": "https://localhost:8080/",
          "height": 87
        }
      },
      "execution_count": null,
      "outputs": [
        {
          "name": "stdout",
          "output_type": "stream",
          "text": [
            "Connected to MQTT broker\n",
            "(B, c62, p1, 2024-10-23 13:42:55.596588 - {'test-attribute': 42} - {} - {})\n",
            "\n"
          ]
        },
        {
          "output_type": "execute_result",
          "data": {
            "text/plain": [
              "''"
            ],
            "application/vnd.google.colaboratory.intrinsic+json": {
              "type": "string"
            }
          },
          "metadata": {},
          "execution_count": 4
        }
      ]
    },
    {
      "cell_type": "code",
      "source": [
        "from reactivex import concat\n",
        "from pybeamline.sources import xes_log_source_from_file, log_source\n",
        "\n",
        "src1 = xes_log_source_from_file(\"log.xes\")\n",
        "src2 = log_source([\"ABCD\", \"ABCD\"])\n",
        "src3 = xes_log_source_from_file(\"log.xes\")\n",
        "\n",
        "concat = concat(src1, src2, src3)\n",
        "concat \\\n",
        "    .subscribe(lambda x: print(str(x)))\n"
      ],
      "metadata": {
        "id": "PxIv4l6A0Ot8",
        "outputId": "798aa7d1-3817-4010-ef62-545c09d8e3d5",
        "colab": {
          "base_uri": "https://localhost:8080/",
          "height": 411,
          "referenced_widgets": [
            "72e624aae5714b419fdf46b543862871",
            "0159e19bc34e4df189a3379db97ccb46",
            "5fc53ce176fd40d78ddaa37934e7f4cc",
            "0a32c436a89b464b8dc0f552c62750fd",
            "ab735e228c714979aede58baaf017287",
            "9b9c43ad4d9e41aaad5f35a480c5ad4e",
            "4e4f940b83df474eb0001dcebfc71ba3",
            "2f4ab889eebc4e52865e048d3b10de7f",
            "9988d249be83425a8e5d300a83619b83",
            "e5cd0a649e404d0081fbb1a52b191e13",
            "53462bdb94f74ad39692a80c75bdec69",
            "09b7ed106db0467ca1b3d0d994290415",
            "2dc2795bd5a045a3aaa102f84c017c40",
            "7bcb0da8f8b04341959a69926e055f71",
            "16df6abf094043488fdd0ee7da0ce268",
            "dcf3170a67e94484a9ca5a5ed5258cdf",
            "bc9d0e8964334f26807e7ef216e31a97",
            "77cab8afa17d4cb993eb39882617726d",
            "bc9864754f9643139b009b03aeca08ae",
            "8815235d8f4040779b30d860324b4512",
            "1d6f212c058f4fa5a338e2bd988b71e7",
            "497f1a9c76aa4587bab9191611ab46b8"
          ]
        }
      },
      "execution_count": 8,
      "outputs": [
        {
          "output_type": "display_data",
          "data": {
            "text/plain": [
              "parsing log, completed traces ::   0%|          | 0/2 [00:00<?, ?it/s]"
            ],
            "application/vnd.jupyter.widget-view+json": {
              "version_major": 2,
              "version_minor": 0,
              "model_id": "72e624aae5714b419fdf46b543862871"
            }
          },
          "metadata": {}
        },
        {
          "output_type": "display_data",
          "data": {
            "text/plain": [
              "parsing log, completed traces ::   0%|          | 0/2 [00:00<?, ?it/s]"
            ],
            "application/vnd.jupyter.widget-view+json": {
              "version_major": 2,
              "version_minor": 0,
              "model_id": "09b7ed106db0467ca1b3d0d994290415"
            }
          },
          "metadata": {}
        },
        {
          "output_type": "stream",
          "name": "stdout",
          "text": [
            "(a11, c1, log-file, 2024-10-24 13:57:14.621877 - {'act': 'a11', 'lifecycle:transition': 'complete'} - {'creator': 'Fluxicon Disco', 'variant-index': 1, 'variant': 'Variant 1'} - {})\n",
            "(a12, c1, log-file, 2024-10-24 13:57:14.624663 - {'act': 'a12', 'lifecycle:transition': 'complete'} - {'creator': 'Fluxicon Disco', 'variant-index': 1, 'variant': 'Variant 1'} - {})\n",
            "(a21, c2, log-file, 2024-10-24 13:57:14.626181 - {'act': 'a21', 'lifecycle:transition': 'complete'} - {'creator': 'Fluxicon Disco', 'variant-index': 2, 'variant': 'Variant 2'} - {})\n",
            "(a22, c2, log-file, 2024-10-24 13:57:14.627286 - {'act': 'a22', 'lifecycle:transition': 'complete'} - {'creator': 'Fluxicon Disco', 'variant-index': 2, 'variant': 'Variant 2'} - {})\n",
            "(a23, c2, log-file, 2024-10-24 13:57:14.628217 - {'act': 'a23', 'lifecycle:transition': 'complete'} - {'creator': 'Fluxicon Disco', 'variant-index': 2, 'variant': 'Variant 2'} - {})\n",
            "(A, case_1, Process, 2024-10-24 13:57:14.629108 - {} - {} - {})\n",
            "(B, case_1, Process, 2024-10-24 13:57:14.629896 - {} - {} - {})\n",
            "(C, case_1, Process, 2024-10-24 13:57:14.630676 - {} - {} - {})\n",
            "(D, case_1, Process, 2024-10-24 13:57:14.631447 - {} - {} - {})\n",
            "(A, case_2, Process, 2024-10-24 13:57:14.631966 - {} - {} - {})\n",
            "(B, case_2, Process, 2024-10-24 13:57:14.632454 - {} - {} - {})\n",
            "(C, case_2, Process, 2024-10-24 13:57:14.633459 - {} - {} - {})\n",
            "(D, case_2, Process, 2024-10-24 13:57:14.634020 - {} - {} - {})\n",
            "(a11, c1, log-file, 2024-10-24 13:57:14.635470 - {'act': 'a11', 'lifecycle:transition': 'complete'} - {'creator': 'Fluxicon Disco', 'variant-index': 1, 'variant': 'Variant 1'} - {})\n",
            "(a12, c1, log-file, 2024-10-24 13:57:14.636993 - {'act': 'a12', 'lifecycle:transition': 'complete'} - {'creator': 'Fluxicon Disco', 'variant-index': 1, 'variant': 'Variant 1'} - {})\n",
            "(a21, c2, log-file, 2024-10-24 13:57:14.638148 - {'act': 'a21', 'lifecycle:transition': 'complete'} - {'creator': 'Fluxicon Disco', 'variant-index': 2, 'variant': 'Variant 2'} - {})\n",
            "(a22, c2, log-file, 2024-10-24 13:57:14.639465 - {'act': 'a22', 'lifecycle:transition': 'complete'} - {'creator': 'Fluxicon Disco', 'variant-index': 2, 'variant': 'Variant 2'} - {})\n",
            "(a23, c2, log-file, 2024-10-24 13:57:14.640769 - {'act': 'a23', 'lifecycle:transition': 'complete'} - {'creator': 'Fluxicon Disco', 'variant-index': 2, 'variant': 'Variant 2'} - {})\n"
          ]
        },
        {
          "output_type": "execute_result",
          "data": {
            "text/plain": [
              "<reactivex.disposable.disposable.Disposable at 0x7938792b4b50>"
            ]
          },
          "metadata": {},
          "execution_count": 8
        }
      ]
    },
    {
      "cell_type": "markdown",
      "metadata": {
        "id": "zDiJsMvfmBhn"
      },
      "source": [
        "### Filters"
      ]
    },
    {
      "cell_type": "code",
      "execution_count": null,
      "metadata": {
        "id": "dCUSRIHhmBhn",
        "outputId": "a855a1b7-3744-4469-87d2-32a548bcf668",
        "colab": {
          "base_uri": "https://localhost:8080/",
          "height": 136,
          "referenced_widgets": [
            "58ed0012aaaf40c5a7a90a2f1047dab9",
            "39f72922e0754dd58d7537985bcce1f7",
            "4d85a20d2f404c5b99e6b07136353991",
            "4a393c62f02b4f518e4f398d61fe0559",
            "28069698c7bd4f86aff8a728a36e6658",
            "45b1e3aa9637444c9cf569ce6f6eecb3",
            "13b29d5746be46a4b993ef936504504d",
            "089c34fb652c4306adadec70761bdd26",
            "6ccb528e9d0c448b8e3bcd79cdd7b191",
            "3fd7f15929c54cf19fc3b8a44efce831",
            "99a892ab9fb34f78b43f54d9c7cc6492"
          ]
        }
      },
      "outputs": [
        {
          "output_type": "display_data",
          "data": {
            "text/plain": [
              "parsing log, completed traces ::   0%|          | 0/2 [00:00<?, ?it/s]"
            ],
            "application/vnd.jupyter.widget-view+json": {
              "version_major": 2,
              "version_minor": 0,
              "model_id": "58ed0012aaaf40c5a7a90a2f1047dab9"
            }
          },
          "metadata": {}
        },
        {
          "output_type": "stream",
          "name": "stdout",
          "text": [
            "(a12, c1, log-file, 2024-10-24 09:03:16.260189 - {'lifecycle:transition': 'complete', 'act': 'a12'} - {'variant': 'Variant 1', 'creator': 'Fluxicon Disco', 'variant-index': 1} - {})\n",
            "(a21, c2, log-file, 2024-10-24 09:03:16.261748 - {'lifecycle:transition': 'complete', 'act': 'a21'} - {'variant': 'Variant 2', 'creator': 'Fluxicon Disco', 'variant-index': 2} - {})\n",
            "(a22, c2, log-file, 2024-10-24 09:03:16.262964 - {'lifecycle:transition': 'complete', 'act': 'a22'} - {'variant': 'Variant 2', 'creator': 'Fluxicon Disco', 'variant-index': 2} - {})\n",
            "(a23, c2, log-file, 2024-10-24 09:03:16.267345 - {'lifecycle:transition': 'complete', 'act': 'a23'} - {'variant': 'Variant 2', 'creator': 'Fluxicon Disco', 'variant-index': 2} - {})\n"
          ]
        },
        {
          "output_type": "execute_result",
          "data": {
            "text/plain": [
              "<reactivex.disposable.disposable.Disposable at 0x7f3fbbca2590>"
            ]
          },
          "metadata": {},
          "execution_count": 12
        }
      ],
      "source": [
        "from pybeamline.sources import log_source\n",
        "from pybeamline.filters import excludes_activity_filter\n",
        "\n",
        "log_source(\"log.xes\").pipe(\n",
        "    excludes_activity_filter(\"a11\"),\n",
        ").subscribe(lambda x: print(str(x)))\n",
        "\n",
        "# Similar functionalities for these filters:\n",
        "# - excludes_on_event_attribute_equal_filter\n",
        "# - retains_on_trace_attribute_equal_filter\n",
        "# - excludes_on_trace_attribute_equal_filter\n",
        "# - retains_activity_filter\n",
        "# - excludes_activity_filter\n"
      ]
    },
    {
      "cell_type": "markdown",
      "metadata": {
        "id": "UWUXL_fRmBhn"
      },
      "source": [
        "### Discovery techniques"
      ]
    },
    {
      "cell_type": "markdown",
      "metadata": {
        "id": "AMBDs1ZemBhn"
      },
      "source": [
        "Mining of directly-follows relations:"
      ]
    },
    {
      "cell_type": "code",
      "execution_count": null,
      "metadata": {
        "id": "gaEnORBPmBhn",
        "outputId": "25670ab6-fd25-438b-fb20-95f2c5c1d4b5"
      },
      "outputs": [
        {
          "name": "stdout",
          "output_type": "stream",
          "text": [
            "('A', 'B')\n",
            "('B', 'C')\n",
            "('A', 'C')\n",
            "('C', 'B')\n"
          ]
        },
        {
          "data": {
            "text/plain": [
              "<reactivex.disposable.disposable.Disposable at 0x173529a5b80>"
            ]
          },
          "execution_count": 40,
          "metadata": {},
          "output_type": "execute_result"
        }
      ],
      "source": [
        "from pybeamline.sources import log_source\n",
        "from pybeamline.mappers import infinite_size_directly_follows_mapper\n",
        "\n",
        "log_source([\"ABC\", \"ACB\"]).pipe(\n",
        "    infinite_size_directly_follows_mapper()\n",
        ").subscribe(lambda x: print(str(x)))"
      ]
    },
    {
      "cell_type": "markdown",
      "metadata": {
        "id": "OOg8zOcMmBho"
      },
      "source": [
        "Mining of a Heuristics net using Lossy Counting:"
      ]
    },
    {
      "cell_type": "code",
      "execution_count": null,
      "metadata": {
        "id": "L8r4SNCymBho",
        "outputId": "cd92f232-bd68-4837-985f-3538a9ce79d9"
      },
      "outputs": [
        {
          "name": "stdout",
          "output_type": "stream",
          "text": [
            "{'A': (node:A connections:{B:[0.5]}), 'B': (node:B connections:{C:[0.5]}), 'C': (node:C connections:{})}\n",
            "{'C': (node:C connections:{D:[0.5]}), 'D': (node:D connections:{}), 'A': (node:A connections:{B:[0.6666666666666666]}), 'B': (node:B connections:{C:[0.6666666666666666]})}\n"
          ]
        },
        {
          "data": {
            "text/plain": [
              "<reactivex.disposable.disposable.Disposable at 0x173521cfbb0>"
            ]
          },
          "execution_count": 43,
          "metadata": {},
          "output_type": "execute_result"
        }
      ],
      "source": [
        "from pybeamline.algorithms.discovery import heuristics_miner_lossy_counting\n",
        "\n",
        "log_source([\"ABCD\", \"ABCD\"]).pipe(\n",
        "    heuristics_miner_lossy_counting(model_update_frequency=4)\n",
        ").subscribe(lambda x: print(str(x)))"
      ]
    },
    {
      "cell_type": "markdown",
      "metadata": {
        "id": "k5W33Vq6mBho"
      },
      "source": [
        "Mining of a Heuristics net using Lossy Counting with Budget:"
      ]
    },
    {
      "cell_type": "code",
      "execution_count": null,
      "metadata": {
        "id": "q7nmZbJEmBho",
        "outputId": "5183a8fd-52a3-4611-abd3-31c7c4e6433e"
      },
      "outputs": [
        {
          "name": "stdout",
          "output_type": "stream",
          "text": [
            "{'A': (node:A connections:{B:[0.5]}), 'B': (node:B connections:{C:[0.5]}), 'C': (node:C connections:{D:[0.5]}), 'D': (node:D connections:{})}\n",
            "{'A': (node:A connections:{B:[0.6666666666666666]}), 'B': (node:B connections:{C:[0.6666666666666666]}), 'C': (node:C connections:{D:[0.6666666666666666]}), 'D': (node:D connections:{})}\n"
          ]
        },
        {
          "data": {
            "text/plain": [
              "<reactivex.disposable.disposable.Disposable at 0x173521cfd60>"
            ]
          },
          "execution_count": 44,
          "metadata": {},
          "output_type": "execute_result"
        }
      ],
      "source": [
        "from pybeamline.algorithms.discovery import heuristics_miner_lossy_counting_budget\n",
        "\n",
        "log_source([\"ABCD\", \"ABCD\"]).pipe(\n",
        "    heuristics_miner_lossy_counting_budget(model_update_frequency=4)\n",
        ").subscribe(lambda x: print(str(x)))"
      ]
    },
    {
      "cell_type": "markdown",
      "metadata": {
        "id": "Lcd3aB4kmBho"
      },
      "source": [
        "### Conformance checking"
      ]
    },
    {
      "cell_type": "markdown",
      "metadata": {
        "id": "9dn3LWKzmBho"
      },
      "source": [
        "Currently only conformance checking using behavioral profiles is supported:"
      ]
    },
    {
      "cell_type": "code",
      "execution_count": null,
      "metadata": {
        "id": "9VW8GcqgmBho",
        "outputId": "aa5206d9-5180-4f19-8380-d2aa57733fd2"
      },
      "outputs": [
        {
          "name": "stdout",
          "output_type": "stream",
          "text": [
            "([('A', 'B'), ('B', 'C'), ('C', 'D')], {('A', 'B'): (0, 0), ('B', 'C'): (1, 1), ('C', 'D'): (2, 2)}, {('A', 'B'): 2, ('B', 'C'): 1, ('C', 'D'): 0})\n",
            "(1.0, 0.5, 1)\n",
            "(1.0, 1.0, 1)\n",
            "(1.0, 0.5, 1)\n",
            "(1.0, 1.0, 1)\n"
          ]
        },
        {
          "data": {
            "text/plain": [
              "<reactivex.disposable.disposable.Disposable at 0x17352e173a0>"
            ]
          },
          "execution_count": 49,
          "metadata": {},
          "output_type": "execute_result"
        }
      ],
      "source": [
        "from pybeamline.algorithms.conformance import mine_behavioral_model_from_stream, behavioral_conformance\n",
        "\n",
        "source = log_source([\"ABCD\", \"ABCD\"])\n",
        "reference_model = mine_behavioral_model_from_stream(source)\n",
        "print(reference_model)\n",
        "\n",
        "log_source([\"ABCD\", \"ABCD\"]).pipe(\n",
        "    excludes_activity_filter(\"A\"),\n",
        "    behavioral_conformance(reference_model)\n",
        ").subscribe(lambda x: print(str(x)))"
      ]
    },
    {
      "cell_type": "markdown",
      "metadata": {
        "id": "NK9p3h2FmBhp"
      },
      "source": [
        "### Sliding window\n",
        "\n",
        "This technique allows to apply any existing process mininig technique on streaming data"
      ]
    },
    {
      "cell_type": "code",
      "execution_count": null,
      "metadata": {
        "id": "QO0pdOlamBhp",
        "outputId": "1c75631c-0a48-4e35-c0d5-79e5375b8ca9"
      },
      "outputs": [
        {
          "name": "stdout",
          "output_type": "stream",
          "text": [
            "Counter({('A', 'B'): 1, ('B', 'C'): 1})\n",
            "Counter({('A', 'B'): 1, ('B', 'D'): 1})\n"
          ]
        },
        {
          "data": {
            "text/plain": [
              "<reactivex.disposable.disposable.Disposable at 0x17352a192e0>"
            ]
          },
          "execution_count": 39,
          "metadata": {},
          "output_type": "execute_result"
        }
      ],
      "source": [
        "from pybeamline.sources import log_source\n",
        "from pybeamline.mappers import sliding_window_to_log\n",
        "from reactivex.operators import window_with_count\n",
        "import pm4py\n",
        "\n",
        "def mine(log):\n",
        "    print(pm4py.discover_dfg_typed(log))\n",
        "\n",
        "log_source([\"ABC\", \"ABD\"]).pipe(\n",
        "    window_with_count(3),\n",
        "    sliding_window_to_log()\n",
        ").subscribe(mine)"
      ]
    },
    {
      "cell_type": "markdown",
      "source": [
        "# Integration with other libraries\n",
        "\n",
        "## River"
      ],
      "metadata": {
        "id": "BsnNVptTz4t7"
      }
    },
    {
      "cell_type": "code",
      "source": [
        "!pip install river"
      ],
      "metadata": {
        "id": "8ifDJUq3z8Vz"
      },
      "execution_count": null,
      "outputs": []
    },
    {
      "cell_type": "code",
      "source": [
        "import random\n",
        "\n",
        "log_original = [\"ABCD\"]*10000 + [\"ACBD\"]*500\n",
        "random.shuffle(log_original)\n",
        "\n",
        "log_after_drift = [\"ABCD\"]*500 + [\"ACBD\"]*10000\n",
        "random.shuffle(log_after_drift)\n",
        "\n",
        "log_with_drift = log_source(log_original + log_after_drift + log_original)"
      ],
      "metadata": {
        "id": "9nTNYFm82CnM"
      },
      "execution_count": 82,
      "outputs": []
    },
    {
      "cell_type": "code",
      "source": [
        "import reactivex\n",
        "from reactivex import operators as ops\n",
        "from river import drift\n",
        "\n",
        "drift_detector = drift.ADWIN()\n",
        "data = []\n",
        "drifts = []\n",
        "\n",
        "def check_for_drift():\n",
        "  index = 0\n",
        "\n",
        "  def _process(x):\n",
        "    nonlocal index\n",
        "    drift_detector.update(x)\n",
        "    index = index + 1\n",
        "    if drift_detector.drift_detected:\n",
        "      drifts.append(index)\n",
        "\n",
        "  def _check_for_drift(obs):\n",
        "    return obs.pipe(ops.do_action(lambda value: _process(value)))\n",
        "\n",
        "  return _check_for_drift\n",
        "\n",
        "log_with_drift.pipe(\n",
        "  ops.buffer_with_count(40),\n",
        "  ops.flat_map(lambda events: reactivex.from_iterable(events).pipe(\n",
        "      ops.pairwise(),\n",
        "      ops.filter(lambda x: x[0].get_trace_name() == x[1].get_trace_name() and x[0].get_event_name() == \"B\" and x[1].get_event_name() == \"C\"),\n",
        "      ops.count()\n",
        "      )\n",
        "  ),\n",
        "  check_for_drift()\n",
        ").subscribe(lambda x: data.append(x))"
      ],
      "metadata": {
        "id": "11K2rYJi2HoU",
        "outputId": "981d06e7-166e-41e6-d641-31899fc8b1a0",
        "colab": {
          "base_uri": "https://localhost:8080/"
        }
      },
      "execution_count": 83,
      "outputs": [
        {
          "output_type": "execute_result",
          "data": {
            "text/plain": [
              "<reactivex.disposable.disposable.Disposable at 0x78268281b550>"
            ]
          },
          "metadata": {},
          "execution_count": 83
        }
      ]
    },
    {
      "cell_type": "code",
      "source": [
        "import matplotlib.pyplot as plt\n",
        "\n",
        "plt.plot(data, marker='o')\n",
        "plt.grid()\n",
        "for drift_detected in drifts:\n",
        "    plt.axvline(drift_detected, color='red')\n",
        "plt.show()"
      ],
      "metadata": {
        "id": "Yw8TVwvN1TYw",
        "outputId": "71baeaf0-e889-4961-db45-363f4a21fbb5",
        "colab": {
          "base_uri": "https://localhost:8080/",
          "height": 430
        }
      },
      "execution_count": 84,
      "outputs": [
        {
          "output_type": "display_data",
          "data": {
            "text/plain": [
              "<Figure size 640x480 with 1 Axes>"
            ],
            "image/png": "[encoded data removed]"
          },
          "metadata": {}
        }
      ]
    }
  ],
  "metadata": {
    "kernelspec": {
      "display_name": "Python 3",
      "language": "python",
      "name": "python3"
    },
    "language_info": {
      "codemirror_mode": {
        "name": "ipython",
        "version": 3
      },
      "file_extension": ".py",
      "mimetype": "text/x-python",
      "name": "python",
      "nbconvert_exporter": "python",
      "pygments_lexer": "ipython3",
      "version": "3.9.13"
    },
    "orig_nbformat": 4,
    "colab": {
      "provenance": []
    },
    "widgets": {
      "application/vnd.jupyter.widget-state+json": {
        "5d8a487a8d7940089db68c13ffcbd06b": {
          "model_module": "@jupyter-widgets/controls",
          "model_name": "HBoxModel",
          "model_module_version": "1.5.0",
          "state": {
            "_dom_classes": [],
            "_model_module": "@jupyter-widgets/controls",
            "_model_module_version": "1.5.0",
            "_model_name": "HBoxModel",
            "_view_count": null,
            "_view_module": "@jupyter-widgets/controls",
            "_view_module_version": "1.5.0",
            "_view_name": "HBoxView",
            "box_style": "",
            "children": [
              "IPY_MODEL_5fa10360934a4be889abaf60f769b568",
              "IPY_MODEL_b9c48d84a31948d891f4d70d99a9f204",
              "IPY_MODEL_9afd85cd28d74e0989fc219300f86108"
            ],
            "layout": "IPY_MODEL_2e65cd52f3c34512afdca1503c3f662f"
          }
        },
        "5fa10360934a4be889abaf60f769b568": {
          "model_module": "@jupyter-widgets/controls",
          "model_name": "HTMLModel",
          "model_module_version": "1.5.0",
          "state": {
            "_dom_classes": [],
            "_model_module": "@jupyter-widgets/controls",
            "_model_module_version": "1.5.0",
            "_model_name": "HTMLModel",
            "_view_count": null,
            "_view_module": "@jupyter-widgets/controls",
            "_view_module_version": "1.5.0",
            "_view_name": "HTMLView",
            "description": "",
            "description_tooltip": null,
            "layout": "IPY_MODEL_c6e6f0f4506c4381aa40bd84c69e579e",
            "placeholder": "​",
            "style": "IPY_MODEL_5a7c69a8d38441738adf0273e06bdf65",
            "value": "parsing log, completed traces :: 100%"
          }
        },
        "b9c48d84a31948d891f4d70d99a9f204": {
          "model_module": "@jupyter-widgets/controls",
          "model_name": "FloatProgressModel",
          "model_module_version": "1.5.0",
          "state": {
            "_dom_classes": [],
            "_model_module": "@jupyter-widgets/controls",
            "_model_module_version": "1.5.0",
            "_model_name": "FloatProgressModel",
            "_view_count": null,
            "_view_module": "@jupyter-widgets/controls",
            "_view_module_version": "1.5.0",
            "_view_name": "ProgressView",
            "bar_style": "success",
            "description": "",
            "description_tooltip": null,
            "layout": "IPY_MODEL_41b43de7c5254af29a323df2161454fa",
            "max": 2,
            "min": 0,
            "orientation": "horizontal",
            "style": "IPY_MODEL_0d76989c54284f63a029f1ec7598ffc8",
            "value": 2
          }
        },
        "9afd85cd28d74e0989fc219300f86108": {
          "model_module": "@jupyter-widgets/controls",
          "model_name": "HTMLModel",
          "model_module_version": "1.5.0",
          "state": {
            "_dom_classes": [],
            "_model_module": "@jupyter-widgets/controls",
            "_model_module_version": "1.5.0",
            "_model_name": "HTMLModel",
            "_view_count": null,
            "_view_module": "@jupyter-widgets/controls",
            "_view_module_version": "1.5.0",
            "_view_name": "HTMLView",
            "description": "",
            "description_tooltip": null,
            "layout": "IPY_MODEL_58e08e66fbd0486bad8667709c4549a5",
            "placeholder": "​",
            "style": "IPY_MODEL_2c58b796690d410195b2b762570b26af",
            "value": " 2/2 [00:00&lt;00:00, 81.33it/s]"
          }
        },
        "2e65cd52f3c34512afdca1503c3f662f": {
          "model_module": "@jupyter-widgets/base",
          "model_name": "LayoutModel",
          "model_module_version": "1.2.0",
          "state": {
            "_model_module": "@jupyter-widgets/base",
            "_model_module_version": "1.2.0",
            "_model_name": "LayoutModel",
            "_view_count": null,
            "_view_module": "@jupyter-widgets/base",
            "_view_module_version": "1.2.0",
            "_view_name": "LayoutView",
            "align_content": null,
            "align_items": null,
            "align_self": null,
            "border": null,
            "bottom": null,
            "display": null,
            "flex": null,
            "flex_flow": null,
            "grid_area": null,
            "grid_auto_columns": null,
            "grid_auto_flow": null,
            "grid_auto_rows": null,
            "grid_column": null,
            "grid_gap": null,
            "grid_row": null,
            "grid_template_areas": null,
            "grid_template_columns": null,
            "grid_template_rows": null,
            "height": null,
            "justify_content": null,
            "justify_items": null,
            "left": null,
            "margin": null,
            "max_height": null,
            "max_width": null,
            "min_height": null,
            "min_width": null,
            "object_fit": null,
            "object_position": null,
            "order": null,
            "overflow": null,
            "overflow_x": null,
            "overflow_y": null,
            "padding": null,
            "right": null,
            "top": null,
            "visibility": null,
            "width": null
          }
        },
        "c6e6f0f4506c4381aa40bd84c69e579e": {
          "model_module": "@jupyter-widgets/base",
          "model_name": "LayoutModel",
          "model_module_version": "1.2.0",
          "state": {
            "_model_module": "@jupyter-widgets/base",
            "_model_module_version": "1.2.0",
            "_model_name": "LayoutModel",
            "_view_count": null,
            "_view_module": "@jupyter-widgets/base",
            "_view_module_version": "1.2.0",
            "_view_name": "LayoutView",
            "align_content": null,
            "align_items": null,
            "align_self": null,
            "border": null,
            "bottom": null,
            "display": null,
            "flex": null,
            "flex_flow": null,
            "grid_area": null,
            "grid_auto_columns": null,
            "grid_auto_flow": null,
            "grid_auto_rows": null,
            "grid_column": null,
            "grid_gap": null,
            "grid_row": null,
            "grid_template_areas": null,
            "grid_template_columns": null,
            "grid_template_rows": null,
            "height": null,
            "justify_content": null,
            "justify_items": null,
            "left": null,
            "margin": null,
            "max_height": null,
            "max_width": null,
            "min_height": null,
            "min_width": null,
            "object_fit": null,
            "object_position": null,
            "order": null,
            "overflow": null,
            "overflow_x": null,
            "overflow_y": null,
            "padding": null,
            "right": null,
            "top": null,
            "visibility": null,
            "width": null
          }
        },
        "5a7c69a8d38441738adf0273e06bdf65": {
          "model_module": "@jupyter-widgets/controls",
          "model_name": "DescriptionStyleModel",
          "model_module_version": "1.5.0",
          "state": {
            "_model_module": "@jupyter-widgets/controls",
            "_model_module_version": "1.5.0",
            "_model_name": "DescriptionStyleModel",
            "_view_count": null,
            "_view_module": "@jupyter-widgets/base",
            "_view_module_version": "1.2.0",
            "_view_name": "StyleView",
            "description_width": ""
          }
        },
        "41b43de7c5254af29a323df2161454fa": {
          "model_module": "@jupyter-widgets/base",
          "model_name": "LayoutModel",
          "model_module_version": "1.2.0",
          "state": {
            "_model_module": "@jupyter-widgets/base",
            "_model_module_version": "1.2.0",
            "_model_name": "LayoutModel",
            "_view_count": null,
            "_view_module": "@jupyter-widgets/base",
            "_view_module_version": "1.2.0",
            "_view_name": "LayoutView",
            "align_content": null,
            "align_items": null,
            "align_self": null,
            "border": null,
            "bottom": null,
            "display": null,
            "flex": null,
            "flex_flow": null,
            "grid_area": null,
            "grid_auto_columns": null,
            "grid_auto_flow": null,
            "grid_auto_rows": null,
            "grid_column": null,
            "grid_gap": null,
            "grid_row": null,
            "grid_template_areas": null,
            "grid_template_columns": null,
            "grid_template_rows": null,
            "height": null,
            "justify_content": null,
            "justify_items": null,
            "left": null,
            "margin": null,
            "max_height": null,
            "max_width": null,
            "min_height": null,
            "min_width": null,
            "object_fit": null,
            "object_position": null,
            "order": null,
            "overflow": null,
            "overflow_x": null,
            "overflow_y": null,
            "padding": null,
            "right": null,
            "top": null,
            "visibility": null,
            "width": null
          }
        },
        "0d76989c54284f63a029f1ec7598ffc8": {
          "model_module": "@jupyter-widgets/controls",
          "model_name": "ProgressStyleModel",
          "model_module_version": "1.5.0",
          "state": {
            "_model_module": "@jupyter-widgets/controls",
            "_model_module_version": "1.5.0",
            "_model_name": "ProgressStyleModel",
            "_view_count": null,
            "_view_module": "@jupyter-widgets/base",
            "_view_module_version": "1.2.0",
            "_view_name": "StyleView",
            "bar_color": null,
            "description_width": ""
          }
        },
        "58e08e66fbd0486bad8667709c4549a5": {
          "model_module": "@jupyter-widgets/base",
          "model_name": "LayoutModel",
          "model_module_version": "1.2.0",
          "state": {
            "_model_module": "@jupyter-widgets/base",
            "_model_module_version": "1.2.0",
            "_model_name": "LayoutModel",
            "_view_count": null,
            "_view_module": "@jupyter-widgets/base",
            "_view_module_version": "1.2.0",
            "_view_name": "LayoutView",
            "align_content": null,
            "align_items": null,
            "align_self": null,
            "border": null,
            "bottom": null,
            "display": null,
            "flex": null,
            "flex_flow": null,
            "grid_area": null,
            "grid_auto_columns": null,
            "grid_auto_flow": null,
            "grid_auto_rows": null,
            "grid_column": null,
            "grid_gap": null,
            "grid_row": null,
            "grid_template_areas": null,
            "grid_template_columns": null,
            "grid_template_rows": null,
            "height": null,
            "justify_content": null,
            "justify_items": null,
            "left": null,
            "margin": null,
            "max_height": null,
            "max_width": null,
            "min_height": null,
            "min_width": null,
            "object_fit": null,
            "object_position": null,
            "order": null,
            "overflow": null,
            "overflow_x": null,
            "overflow_y": null,
            "padding": null,
            "right": null,
            "top": null,
            "visibility": null,
            "width": null
          }
        },
        "2c58b796690d410195b2b762570b26af": {
          "model_module": "@jupyter-widgets/controls",
          "model_name": "DescriptionStyleModel",
          "model_module_version": "1.5.0",
          "state": {
            "_model_module": "@jupyter-widgets/controls",
            "_model_module_version": "1.5.0",
            "_model_name": "DescriptionStyleModel",
            "_view_count": null,
            "_view_module": "@jupyter-widgets/base",
            "_view_module_version": "1.2.0",
            "_view_name": "StyleView",
            "description_width": ""
          }
        },
        "d7137290a0ba40e9be2f9eb23b1c7a73": {
          "model_module": "@jupyter-widgets/controls",
          "model_name": "HBoxModel",
          "model_module_version": "1.5.0",
          "state": {
            "_dom_classes": [],
            "_model_module": "@jupyter-widgets/controls",
            "_model_module_version": "1.5.0",
            "_model_name": "HBoxModel",
            "_view_count": null,
            "_view_module": "@jupyter-widgets/controls",
            "_view_module_version": "1.5.0",
            "_view_name": "HBoxView",
            "box_style": "",
            "children": [
              "IPY_MODEL_3ef52dfa95b64cd19e42aec30386f7d6",
              "IPY_MODEL_41d245b4727a4c9294ea5801ca5ff602",
              "IPY_MODEL_4ddac8bfc3fb4e4299c1c323f8300a3a"
            ],
            "layout": "IPY_MODEL_53557302908148bda08c5f78fe16858c"
          }
        },
        "3ef52dfa95b64cd19e42aec30386f7d6": {
          "model_module": "@jupyter-widgets/controls",
          "model_name": "HTMLModel",
          "model_module_version": "1.5.0",
          "state": {
            "_dom_classes": [],
            "_model_module": "@jupyter-widgets/controls",
            "_model_module_version": "1.5.0",
            "_model_name": "HTMLModel",
            "_view_count": null,
            "_view_module": "@jupyter-widgets/controls",
            "_view_module_version": "1.5.0",
            "_view_name": "HTMLView",
            "description": "",
            "description_tooltip": null,
            "layout": "IPY_MODEL_0f00ac4f2a454b7bab9b81efe996f8c1",
            "placeholder": "​",
            "style": "IPY_MODEL_9d7d915d8b2e486895081992856161fa",
            "value": "parsing log, completed traces :: 100%"
          }
        },
        "41d245b4727a4c9294ea5801ca5ff602": {
          "model_module": "@jupyter-widgets/controls",
          "model_name": "FloatProgressModel",
          "model_module_version": "1.5.0",
          "state": {
            "_dom_classes": [],
            "_model_module": "@jupyter-widgets/controls",
            "_model_module_version": "1.5.0",
            "_model_name": "FloatProgressModel",
            "_view_count": null,
            "_view_module": "@jupyter-widgets/controls",
            "_view_module_version": "1.5.0",
            "_view_name": "ProgressView",
            "bar_style": "success",
            "description": "",
            "description_tooltip": null,
            "layout": "IPY_MODEL_e4e4275aecac4e2098523e205b1fda01",
            "max": 2,
            "min": 0,
            "orientation": "horizontal",
            "style": "IPY_MODEL_d437364fe6d84b53b7643416b135f795",
            "value": 2
          }
        },
        "4ddac8bfc3fb4e4299c1c323f8300a3a": {
          "model_module": "@jupyter-widgets/controls",
          "model_name": "HTMLModel",
          "model_module_version": "1.5.0",
          "state": {
            "_dom_classes": [],
            "_model_module": "@jupyter-widgets/controls",
            "_model_module_version": "1.5.0",
            "_model_name": "HTMLModel",
            "_view_count": null,
            "_view_module": "@jupyter-widgets/controls",
            "_view_module_version": "1.5.0",
            "_view_name": "HTMLView",
            "description": "",
            "description_tooltip": null,
            "layout": "IPY_MODEL_4673e55656ae421f860961938b00e024",
            "placeholder": "​",
            "style": "IPY_MODEL_70dd795e89994bf78a291697fc4fd8cf",
            "value": " 2/2 [00:00&lt;00:00, 54.29it/s]"
          }
        },
        "53557302908148bda08c5f78fe16858c": {
          "model_module": "@jupyter-widgets/base",
          "model_name": "LayoutModel",
          "model_module_version": "1.2.0",
          "state": {
            "_model_module": "@jupyter-widgets/base",
            "_model_module_version": "1.2.0",
            "_model_name": "LayoutModel",
            "_view_count": null,
            "_view_module": "@jupyter-widgets/base",
            "_view_module_version": "1.2.0",
            "_view_name": "LayoutView",
            "align_content": null,
            "align_items": null,
            "align_self": null,
            "border": null,
            "bottom": null,
            "display": null,
            "flex": null,
            "flex_flow": null,
            "grid_area": null,
            "grid_auto_columns": null,
            "grid_auto_flow": null,
            "grid_auto_rows": null,
            "grid_column": null,
            "grid_gap": null,
            "grid_row": null,
            "grid_template_areas": null,
            "grid_template_columns": null,
            "grid_template_rows": null,
            "height": null,
            "justify_content": null,
            "justify_items": null,
            "left": null,
            "margin": null,
            "max_height": null,
            "max_width": null,
            "min_height": null,
            "min_width": null,
            "object_fit": null,
            "object_position": null,
            "order": null,
            "overflow": null,
            "overflow_x": null,
            "overflow_y": null,
            "padding": null,
            "right": null,
            "top": null,
            "visibility": null,
            "width": null
          }
        },
        "0f00ac4f2a454b7bab9b81efe996f8c1": {
          "model_module": "@jupyter-widgets/base",
          "model_name": "LayoutModel",
          "model_module_version": "1.2.0",
          "state": {
            "_model_module": "@jupyter-widgets/base",
            "_model_module_version": "1.2.0",
            "_model_name": "LayoutModel",
            "_view_count": null,
            "_view_module": "@jupyter-widgets/base",
            "_view_module_version": "1.2.0",
            "_view_name": "LayoutView",
            "align_content": null,
            "align_items": null,
            "align_self": null,
            "border": null,
            "bottom": null,
            "display": null,
            "flex": null,
            "flex_flow": null,
            "grid_area": null,
            "grid_auto_columns": null,
            "grid_auto_flow": null,
            "grid_auto_rows": null,
            "grid_column": null,
            "grid_gap": null,
            "grid_row": null,
            "grid_template_areas": null,
            "grid_template_columns": null,
            "grid_template_rows": null,
            "height": null,
            "justify_content": null,
            "justify_items": null,
            "left": null,
            "margin": null,
            "max_height": null,
            "max_width": null,
            "min_height": null,
            "min_width": null,
            "object_fit": null,
            "object_position": null,
            "order": null,
            "overflow": null,
            "overflow_x": null,
            "overflow_y": null,
            "padding": null,
            "right": null,
            "top": null,
            "visibility": null,
            "width": null
          }
        },
        "9d7d915d8b2e486895081992856161fa": {
          "model_module": "@jupyter-widgets/controls",
          "model_name": "DescriptionStyleModel",
          "model_module_version": "1.5.0",
          "state": {
            "_model_module": "@jupyter-widgets/controls",
            "_model_module_version": "1.5.0",
            "_model_name": "DescriptionStyleModel",
            "_view_count": null,
            "_view_module": "@jupyter-widgets/base",
            "_view_module_version": "1.2.0",
            "_view_name": "StyleView",
            "description_width": ""
          }
        },
        "e4e4275aecac4e2098523e205b1fda01": {
          "model_module": "@jupyter-widgets/base",
          "model_name": "LayoutModel",
          "model_module_version": "1.2.0",
          "state": {
            "_model_module": "@jupyter-widgets/base",
            "_model_module_version": "1.2.0",
            "_model_name": "LayoutModel",
            "_view_count": null,
            "_view_module": "@jupyter-widgets/base",
            "_view_module_version": "1.2.0",
            "_view_name": "LayoutView",
            "align_content": null,
            "align_items": null,
            "align_self": null,
            "border": null,
            "bottom": null,
            "display": null,
            "flex": null,
            "flex_flow": null,
            "grid_area": null,
            "grid_auto_columns": null,
            "grid_auto_flow": null,
            "grid_auto_rows": null,
            "grid_column": null,
            "grid_gap": null,
            "grid_row": null,
            "grid_template_areas": null,
            "grid_template_columns": null,
            "grid_template_rows": null,
            "height": null,
            "justify_content": null,
            "justify_items": null,
            "left": null,
            "margin": null,
            "max_height": null,
            "max_width": null,
            "min_height": null,
            "min_width": null,
            "object_fit": null,
            "object_position": null,
            "order": null,
            "overflow": null,
            "overflow_x": null,
            "overflow_y": null,
            "padding": null,
            "right": null,
            "top": null,
            "visibility": null,
            "width": null
          }
        },
        "d437364fe6d84b53b7643416b135f795": {
          "model_module": "@jupyter-widgets/controls",
          "model_name": "ProgressStyleModel",
          "model_module_version": "1.5.0",
          "state": {
            "_model_module": "@jupyter-widgets/controls",
            "_model_module_version": "1.5.0",
            "_model_name": "ProgressStyleModel",
            "_view_count": null,
            "_view_module": "@jupyter-widgets/base",
            "_view_module_version": "1.2.0",
            "_view_name": "StyleView",
            "bar_color": null,
            "description_width": ""
          }
        },
        "4673e55656ae421f860961938b00e024": {
          "model_module": "@jupyter-widgets/base",
          "model_name": "LayoutModel",
          "model_module_version": "1.2.0",
          "state": {
            "_model_module": "@jupyter-widgets/base",
            "_model_module_version": "1.2.0",
            "_model_name": "LayoutModel",
            "_view_count": null,
            "_view_module": "@jupyter-widgets/base",
            "_view_module_version": "1.2.0",
            "_view_name": "LayoutView",
            "align_content": null,
            "align_items": null,
            "align_self": null,
            "border": null,
            "bottom": null,
            "display": null,
            "flex": null,
            "flex_flow": null,
            "grid_area": null,
            "grid_auto_columns": null,
            "grid_auto_flow": null,
            "grid_auto_rows": null,
            "grid_column": null,
            "grid_gap": null,
            "grid_row": null,
            "grid_template_areas": null,
            "grid_template_columns": null,
            "grid_template_rows": null,
            "height": null,
            "justify_content": null,
            "justify_items": null,
            "left": null,
            "margin": null,
            "max_height": null,
            "max_width": null,
            "min_height": null,
            "min_width": null,
            "object_fit": null,
            "object_position": null,
            "order": null,
            "overflow": null,
            "overflow_x": null,
            "overflow_y": null,
            "padding": null,
            "right": null,
            "top": null,
            "visibility": null,
            "width": null
          }
        },
        "70dd795e89994bf78a291697fc4fd8cf": {
          "model_module": "@jupyter-widgets/controls",
          "model_name": "DescriptionStyleModel",
          "model_module_version": "1.5.0",
          "state": {
            "_model_module": "@jupyter-widgets/controls",
            "_model_module_version": "1.5.0",
            "_model_name": "DescriptionStyleModel",
            "_view_count": null,
            "_view_module": "@jupyter-widgets/base",
            "_view_module_version": "1.2.0",
            "_view_name": "StyleView",
            "description_width": ""
          }
        },
        "58ed0012aaaf40c5a7a90a2f1047dab9": {
          "model_module": "@jupyter-widgets/controls",
          "model_name": "HBoxModel",
          "model_module_version": "1.5.0",
          "state": {
            "_dom_classes": [],
            "_model_module": "@jupyter-widgets/controls",
            "_model_module_version": "1.5.0",
            "_model_name": "HBoxModel",
            "_view_count": null,
            "_view_module": "@jupyter-widgets/controls",
            "_view_module_version": "1.5.0",
            "_view_name": "HBoxView",
            "box_style": "",
            "children": [
              "IPY_MODEL_39f72922e0754dd58d7537985bcce1f7",
              "IPY_MODEL_4d85a20d2f404c5b99e6b07136353991",
              "IPY_MODEL_4a393c62f02b4f518e4f398d61fe0559"
            ],
            "layout": "IPY_MODEL_28069698c7bd4f86aff8a728a36e6658"
          }
        },
        "39f72922e0754dd58d7537985bcce1f7": {
          "model_module": "@jupyter-widgets/controls",
          "model_name": "HTMLModel",
          "model_module_version": "1.5.0",
          "state": {
            "_dom_classes": [],
            "_model_module": "@jupyter-widgets/controls",
            "_model_module_version": "1.5.0",
            "_model_name": "HTMLModel",
            "_view_count": null,
            "_view_module": "@jupyter-widgets/controls",
            "_view_module_version": "1.5.0",
            "_view_name": "HTMLView",
            "description": "",
            "description_tooltip": null,
            "layout": "IPY_MODEL_45b1e3aa9637444c9cf569ce6f6eecb3",
            "placeholder": "​",
            "style": "IPY_MODEL_13b29d5746be46a4b993ef936504504d",
            "value": "parsing log, completed traces :: 100%"
          }
        },
        "4d85a20d2f404c5b99e6b07136353991": {
          "model_module": "@jupyter-widgets/controls",
          "model_name": "FloatProgressModel",
          "model_module_version": "1.5.0",
          "state": {
            "_dom_classes": [],
            "_model_module": "@jupyter-widgets/controls",
            "_model_module_version": "1.5.0",
            "_model_name": "FloatProgressModel",
            "_view_count": null,
            "_view_module": "@jupyter-widgets/controls",
            "_view_module_version": "1.5.0",
            "_view_name": "ProgressView",
            "bar_style": "success",
            "description": "",
            "description_tooltip": null,
            "layout": "IPY_MODEL_089c34fb652c4306adadec70761bdd26",
            "max": 2,
            "min": 0,
            "orientation": "horizontal",
            "style": "IPY_MODEL_6ccb528e9d0c448b8e3bcd79cdd7b191",
            "value": 2
          }
        },
        "4a393c62f02b4f518e4f398d61fe0559": {
          "model_module": "@jupyter-widgets/controls",
          "model_name": "HTMLModel",
          "model_module_version": "1.5.0",
          "state": {
            "_dom_classes": [],
            "_model_module": "@jupyter-widgets/controls",
            "_model_module_version": "1.5.0",
            "_model_name": "HTMLModel",
            "_view_count": null,
            "_view_module": "@jupyter-widgets/controls",
            "_view_module_version": "1.5.0",
            "_view_name": "HTMLView",
            "description": "",
            "description_tooltip": null,
            "layout": "IPY_MODEL_3fd7f15929c54cf19fc3b8a44efce831",
            "placeholder": "​",
            "style": "IPY_MODEL_99a892ab9fb34f78b43f54d9c7cc6492",
            "value": " 2/2 [00:00&lt;00:00, 64.38it/s]"
          }
        },
        "28069698c7bd4f86aff8a728a36e6658": {
          "model_module": "@jupyter-widgets/base",
          "model_name": "LayoutModel",
          "model_module_version": "1.2.0",
          "state": {
            "_model_module": "@jupyter-widgets/base",
            "_model_module_version": "1.2.0",
            "_model_name": "LayoutModel",
            "_view_count": null,
            "_view_module": "@jupyter-widgets/base",
            "_view_module_version": "1.2.0",
            "_view_name": "LayoutView",
            "align_content": null,
            "align_items": null,
            "align_self": null,
            "border": null,
            "bottom": null,
            "display": null,
            "flex": null,
            "flex_flow": null,
            "grid_area": null,
            "grid_auto_columns": null,
            "grid_auto_flow": null,
            "grid_auto_rows": null,
            "grid_column": null,
            "grid_gap": null,
            "grid_row": null,
            "grid_template_areas": null,
            "grid_template_columns": null,
            "grid_template_rows": null,
            "height": null,
            "justify_content": null,
            "justify_items": null,
            "left": null,
            "margin": null,
            "max_height": null,
            "max_width": null,
            "min_height": null,
            "min_width": null,
            "object_fit": null,
            "object_position": null,
            "order": null,
            "overflow": null,
            "overflow_x": null,
            "overflow_y": null,
            "padding": null,
            "right": null,
            "top": null,
            "visibility": null,
            "width": null
          }
        },
        "45b1e3aa9637444c9cf569ce6f6eecb3": {
          "model_module": "@jupyter-widgets/base",
          "model_name": "LayoutModel",
          "model_module_version": "1.2.0",
          "state": {
            "_model_module": "@jupyter-widgets/base",
            "_model_module_version": "1.2.0",
            "_model_name": "LayoutModel",
            "_view_count": null,
            "_view_module": "@jupyter-widgets/base",
            "_view_module_version": "1.2.0",
            "_view_name": "LayoutView",
            "align_content": null,
            "align_items": null,
            "align_self": null,
            "border": null,
            "bottom": null,
            "display": null,
            "flex": null,
            "flex_flow": null,
            "grid_area": null,
            "grid_auto_columns": null,
            "grid_auto_flow": null,
            "grid_auto_rows": null,
            "grid_column": null,
            "grid_gap": null,
            "grid_row": null,
            "grid_template_areas": null,
            "grid_template_columns": null,
            "grid_template_rows": null,
            "height": null,
            "justify_content": null,
            "justify_items": null,
            "left": null,
            "margin": null,
            "max_height": null,
            "max_width": null,
            "min_height": null,
            "min_width": null,
            "object_fit": null,
            "object_position": null,
            "order": null,
            "overflow": null,
            "overflow_x": null,
            "overflow_y": null,
            "padding": null,
            "right": null,
            "top": null,
            "visibility": null,
            "width": null
          }
        },
        "13b29d5746be46a4b993ef936504504d": {
          "model_module": "@jupyter-widgets/controls",
          "model_name": "DescriptionStyleModel",
          "model_module_version": "1.5.0",
          "state": {
            "_model_module": "@jupyter-widgets/controls",
            "_model_module_version": "1.5.0",
            "_model_name": "DescriptionStyleModel",
            "_view_count": null,
            "_view_module": "@jupyter-widgets/base",
            "_view_module_version": "1.2.0",
            "_view_name": "StyleView",
            "description_width": ""
          }
        },
        "089c34fb652c4306adadec70761bdd26": {
          "model_module": "@jupyter-widgets/base",
          "model_name": "LayoutModel",
          "model_module_version": "1.2.0",
          "state": {
            "_model_module": "@jupyter-widgets/base",
            "_model_module_version": "1.2.0",
            "_model_name": "LayoutModel",
            "_view_count": null,
            "_view_module": "@jupyter-widgets/base",
            "_view_module_version": "1.2.0",
            "_view_name": "LayoutView",
            "align_content": null,
            "align_items": null,
            "align_self": null,
            "border": null,
            "bottom": null,
            "display": null,
            "flex": null,
            "flex_flow": null,
            "grid_area": null,
            "grid_auto_columns": null,
            "grid_auto_flow": null,
            "grid_auto_rows": null,
            "grid_column": null,
            "grid_gap": null,
            "grid_row": null,
            "grid_template_areas": null,
            "grid_template_columns": null,
            "grid_template_rows": null,
            "height": null,
            "justify_content": null,
            "justify_items": null,
            "left": null,
            "margin": null,
            "max_height": null,
            "max_width": null,
            "min_height": null,
            "min_width": null,
            "object_fit": null,
            "object_position": null,
            "order": null,
            "overflow": null,
            "overflow_x": null,
            "overflow_y": null,
            "padding": null,
            "right": null,
            "top": null,
            "visibility": null,
            "width": null
          }
        },
        "6ccb528e9d0c448b8e3bcd79cdd7b191": {
          "model_module": "@jupyter-widgets/controls",
          "model_name": "ProgressStyleModel",
          "model_module_version": "1.5.0",
          "state": {
            "_model_module": "@jupyter-widgets/controls",
            "_model_module_version": "1.5.0",
            "_model_name": "ProgressStyleModel",
            "_view_count": null,
            "_view_module": "@jupyter-widgets/base",
            "_view_module_version": "1.2.0",
            "_view_name": "StyleView",
            "bar_color": null,
            "description_width": ""
          }
        },
        "3fd7f15929c54cf19fc3b8a44efce831": {
          "model_module": "@jupyter-widgets/base",
          "model_name": "LayoutModel",
          "model_module_version": "1.2.0",
          "state": {
            "_model_module": "@jupyter-widgets/base",
            "_model_module_version": "1.2.0",
            "_model_name": "LayoutModel",
            "_view_count": null,
            "_view_module": "@jupyter-widgets/base",
            "_view_module_version": "1.2.0",
            "_view_name": "LayoutView",
            "align_content": null,
            "align_items": null,
            "align_self": null,
            "border": null,
            "bottom": null,
            "display": null,
            "flex": null,
            "flex_flow": null,
            "grid_area": null,
            "grid_auto_columns": null,
            "grid_auto_flow": null,
            "grid_auto_rows": null,
            "grid_column": null,
            "grid_gap": null,
            "grid_row": null,
            "grid_template_areas": null,
            "grid_template_columns": null,
            "grid_template_rows": null,
            "height": null,
            "justify_content": null,
            "justify_items": null,
            "left": null,
            "margin": null,
            "max_height": null,
            "max_width": null,
            "min_height": null,
            "min_width": null,
            "object_fit": null,
            "object_position": null,
            "order": null,
            "overflow": null,
            "overflow_x": null,
            "overflow_y": null,
            "padding": null,
            "right": null,
            "top": null,
            "visibility": null,
            "width": null
          }
        },
        "99a892ab9fb34f78b43f54d9c7cc6492": {
          "model_module": "@jupyter-widgets/controls",
          "model_name": "DescriptionStyleModel",
          "model_module_version": "1.5.0",
          "state": {
            "_model_module": "@jupyter-widgets/controls",
            "_model_module_version": "1.5.0",
            "_model_name": "DescriptionStyleModel",
            "_view_count": null,
            "_view_module": "@jupyter-widgets/base",
            "_view_module_version": "1.2.0",
            "_view_name": "StyleView",
            "description_width": ""
          }
        },
        "72e624aae5714b419fdf46b543862871": {
          "model_module": "@jupyter-widgets/controls",
          "model_name": "HBoxModel",
          "model_module_version": "1.5.0",
          "state": {
            "_dom_classes": [],
            "_model_module": "@jupyter-widgets/controls",
            "_model_module_version": "1.5.0",
            "_model_name": "HBoxModel",
            "_view_count": null,
            "_view_module": "@jupyter-widgets/controls",
            "_view_module_version": "1.5.0",
            "_view_name": "HBoxView",
            "box_style": "",
            "children": [
              "IPY_MODEL_0159e19bc34e4df189a3379db97ccb46",
              "IPY_MODEL_5fc53ce176fd40d78ddaa37934e7f4cc",
              "IPY_MODEL_0a32c436a89b464b8dc0f552c62750fd"
            ],
            "layout": "IPY_MODEL_ab735e228c714979aede58baaf017287"
          }
        },
        "0159e19bc34e4df189a3379db97ccb46": {
          "model_module": "@jupyter-widgets/controls",
          "model_name": "HTMLModel",
          "model_module_version": "1.5.0",
          "state": {
            "_dom_classes": [],
            "_model_module": "@jupyter-widgets/controls",
            "_model_module_version": "1.5.0",
            "_model_name": "HTMLModel",
            "_view_count": null,
            "_view_module": "@jupyter-widgets/controls",
            "_view_module_version": "1.5.0",
            "_view_name": "HTMLView",
            "description": "",
            "description_tooltip": null,
            "layout": "IPY_MODEL_9b9c43ad4d9e41aaad5f35a480c5ad4e",
            "placeholder": "​",
            "style": "IPY_MODEL_4e4f940b83df474eb0001dcebfc71ba3",
            "value": "parsing log, completed traces :: 100%"
          }
        },
        "5fc53ce176fd40d78ddaa37934e7f4cc": {
          "model_module": "@jupyter-widgets/controls",
          "model_name": "FloatProgressModel",
          "model_module_version": "1.5.0",
          "state": {
            "_dom_classes": [],
            "_model_module": "@jupyter-widgets/controls",
            "_model_module_version": "1.5.0",
            "_model_name": "FloatProgressModel",
            "_view_count": null,
            "_view_module": "@jupyter-widgets/controls",
            "_view_module_version": "1.5.0",
            "_view_name": "ProgressView",
            "bar_style": "success",
            "description": "",
            "description_tooltip": null,
            "layout": "IPY_MODEL_2f4ab889eebc4e52865e048d3b10de7f",
            "max": 2,
            "min": 0,
            "orientation": "horizontal",
            "style": "IPY_MODEL_9988d249be83425a8e5d300a83619b83",
            "value": 2
          }
        },
        "0a32c436a89b464b8dc0f552c62750fd": {
          "model_module": "@jupyter-widgets/controls",
          "model_name": "HTMLModel",
          "model_module_version": "1.5.0",
          "state": {
            "_dom_classes": [],
            "_model_module": "@jupyter-widgets/controls",
            "_model_module_version": "1.5.0",
            "_model_name": "HTMLModel",
            "_view_count": null,
            "_view_module": "@jupyter-widgets/controls",
            "_view_module_version": "1.5.0",
            "_view_name": "HTMLView",
            "description": "",
            "description_tooltip": null,
            "layout": "IPY_MODEL_e5cd0a649e404d0081fbb1a52b191e13",
            "placeholder": "​",
            "style": "IPY_MODEL_53462bdb94f74ad39692a80c75bdec69",
            "value": " 2/2 [00:00&lt;00:00, 93.24it/s]"
          }
        },
        "ab735e228c714979aede58baaf017287": {
          "model_module": "@jupyter-widgets/base",
          "model_name": "LayoutModel",
          "model_module_version": "1.2.0",
          "state": {
            "_model_module": "@jupyter-widgets/base",
            "_model_module_version": "1.2.0",
            "_model_name": "LayoutModel",
            "_view_count": null,
            "_view_module": "@jupyter-widgets/base",
            "_view_module_version": "1.2.0",
            "_view_name": "LayoutView",
            "align_content": null,
            "align_items": null,
            "align_self": null,
            "border": null,
            "bottom": null,
            "display": null,
            "flex": null,
            "flex_flow": null,
            "grid_area": null,
            "grid_auto_columns": null,
            "grid_auto_flow": null,
            "grid_auto_rows": null,
            "grid_column": null,
            "grid_gap": null,
            "grid_row": null,
            "grid_template_areas": null,
            "grid_template_columns": null,
            "grid_template_rows": null,
            "height": null,
            "justify_content": null,
            "justify_items": null,
            "left": null,
            "margin": null,
            "max_height": null,
            "max_width": null,
            "min_height": null,
            "min_width": null,
            "object_fit": null,
            "object_position": null,
            "order": null,
            "overflow": null,
            "overflow_x": null,
            "overflow_y": null,
            "padding": null,
            "right": null,
            "top": null,
            "visibility": null,
            "width": null
          }
        },
        "9b9c43ad4d9e41aaad5f35a480c5ad4e": {
          "model_module": "@jupyter-widgets/base",
          "model_name": "LayoutModel",
          "model_module_version": "1.2.0",
          "state": {
            "_model_module": "@jupyter-widgets/base",
            "_model_module_version": "1.2.0",
            "_model_name": "LayoutModel",
            "_view_count": null,
            "_view_module": "@jupyter-widgets/base",
            "_view_module_version": "1.2.0",
            "_view_name": "LayoutView",
            "align_content": null,
            "align_items": null,
            "align_self": null,
            "border": null,
            "bottom": null,
            "display": null,
            "flex": null,
            "flex_flow": null,
            "grid_area": null,
            "grid_auto_columns": null,
            "grid_auto_flow": null,
            "grid_auto_rows": null,
            "grid_column": null,
            "grid_gap": null,
            "grid_row": null,
            "grid_template_areas": null,
            "grid_template_columns": null,
            "grid_template_rows": null,
            "height": null,
            "justify_content": null,
            "justify_items": null,
            "left": null,
            "margin": null,
            "max_height": null,
            "max_width": null,
            "min_height": null,
            "min_width": null,
            "object_fit": null,
            "object_position": null,
            "order": null,
            "overflow": null,
            "overflow_x": null,
            "overflow_y": null,
            "padding": null,
            "right": null,
            "top": null,
            "visibility": null,
            "width": null
          }
        },
        "4e4f940b83df474eb0001dcebfc71ba3": {
          "model_module": "@jupyter-widgets/controls",
          "model_name": "DescriptionStyleModel",
          "model_module_version": "1.5.0",
          "state": {
            "_model_module": "@jupyter-widgets/controls",
            "_model_module_version": "1.5.0",
            "_model_name": "DescriptionStyleModel",
            "_view_count": null,
            "_view_module": "@jupyter-widgets/base",
            "_view_module_version": "1.2.0",
            "_view_name": "StyleView",
            "description_width": ""
          }
        },
        "2f4ab889eebc4e52865e048d3b10de7f": {
          "model_module": "@jupyter-widgets/base",
          "model_name": "LayoutModel",
          "model_module_version": "1.2.0",
          "state": {
            "_model_module": "@jupyter-widgets/base",
            "_model_module_version": "1.2.0",
            "_model_name": "LayoutModel",
            "_view_count": null,
            "_view_module": "@jupyter-widgets/base",
            "_view_module_version": "1.2.0",
            "_view_name": "LayoutView",
            "align_content": null,
            "align_items": null,
            "align_self": null,
            "border": null,
            "bottom": null,
            "display": null,
            "flex": null,
            "flex_flow": null,
            "grid_area": null,
            "grid_auto_columns": null,
            "grid_auto_flow": null,
            "grid_auto_rows": null,
            "grid_column": null,
            "grid_gap": null,
            "grid_row": null,
            "grid_template_areas": null,
            "grid_template_columns": null,
            "grid_template_rows": null,
            "height": null,
            "justify_content": null,
            "justify_items": null,
            "left": null,
            "margin": null,
            "max_height": null,
            "max_width": null,
            "min_height": null,
            "min_width": null,
            "object_fit": null,
            "object_position": null,
            "order": null,
            "overflow": null,
            "overflow_x": null,
            "overflow_y": null,
            "padding": null,
            "right": null,
            "top": null,
            "visibility": null,
            "width": null
          }
        },
        "9988d249be83425a8e5d300a83619b83": {
          "model_module": "@jupyter-widgets/controls",
          "model_name": "ProgressStyleModel",
          "model_module_version": "1.5.0",
          "state": {
            "_model_module": "@jupyter-widgets/controls",
            "_model_module_version": "1.5.0",
            "_model_name": "ProgressStyleModel",
            "_view_count": null,
            "_view_module": "@jupyter-widgets/base",
            "_view_module_version": "1.2.0",
            "_view_name": "StyleView",
            "bar_color": null,
            "description_width": ""
          }
        },
        "e5cd0a649e404d0081fbb1a52b191e13": {
          "model_module": "@jupyter-widgets/base",
          "model_name": "LayoutModel",
          "model_module_version": "1.2.0",
          "state": {
            "_model_module": "@jupyter-widgets/base",
            "_model_module_version": "1.2.0",
            "_model_name": "LayoutModel",
            "_view_count": null,
            "_view_module": "@jupyter-widgets/base",
            "_view_module_version": "1.2.0",
            "_view_name": "LayoutView",
            "align_content": null,
            "align_items": null,
            "align_self": null,
            "border": null,
            "bottom": null,
            "display": null,
            "flex": null,
            "flex_flow": null,
            "grid_area": null,
            "grid_auto_columns": null,
            "grid_auto_flow": null,
            "grid_auto_rows": null,
            "grid_column": null,
            "grid_gap": null,
            "grid_row": null,
            "grid_template_areas": null,
            "grid_template_columns": null,
            "grid_template_rows": null,
            "height": null,
            "justify_content": null,
            "justify_items": null,
            "left": null,
            "margin": null,
            "max_height": null,
            "max_width": null,
            "min_height": null,
            "min_width": null,
            "object_fit": null,
            "object_position": null,
            "order": null,
            "overflow": null,
            "overflow_x": null,
            "overflow_y": null,
            "padding": null,
            "right": null,
            "top": null,
            "visibility": null,
            "width": null
          }
        },
        "53462bdb94f74ad39692a80c75bdec69": {
          "model_module": "@jupyter-widgets/controls",
          "model_name": "DescriptionStyleModel",
          "model_module_version": "1.5.0",
          "state": {
            "_model_module": "@jupyter-widgets/controls",
            "_model_module_version": "1.5.0",
            "_model_name": "DescriptionStyleModel",
            "_view_count": null,
            "_view_module": "@jupyter-widgets/base",
            "_view_module_version": "1.2.0",
            "_view_name": "StyleView",
            "description_width": ""
          }
        },
        "09b7ed106db0467ca1b3d0d994290415": {
          "model_module": "@jupyter-widgets/controls",
          "model_name": "HBoxModel",
          "model_module_version": "1.5.0",
          "state": {
            "_dom_classes": [],
            "_model_module": "@jupyter-widgets/controls",
            "_model_module_version": "1.5.0",
            "_model_name": "HBoxModel",
            "_view_count": null,
            "_view_module": "@jupyter-widgets/controls",
            "_view_module_version": "1.5.0",
            "_view_name": "HBoxView",
            "box_style": "",
            "children": [
              "IPY_MODEL_2dc2795bd5a045a3aaa102f84c017c40",
              "IPY_MODEL_7bcb0da8f8b04341959a69926e055f71",
              "IPY_MODEL_16df6abf094043488fdd0ee7da0ce268"
            ],
            "layout": "IPY_MODEL_dcf3170a67e94484a9ca5a5ed5258cdf"
          }
        },
        "2dc2795bd5a045a3aaa102f84c017c40": {
          "model_module": "@jupyter-widgets/controls",
          "model_name": "HTMLModel",
          "model_module_version": "1.5.0",
          "state": {
            "_dom_classes": [],
            "_model_module": "@jupyter-widgets/controls",
            "_model_module_version": "1.5.0",
            "_model_name": "HTMLModel",
            "_view_count": null,
            "_view_module": "@jupyter-widgets/controls",
            "_view_module_version": "1.5.0",
            "_view_name": "HTMLView",
            "description": "",
            "description_tooltip": null,
            "layout": "IPY_MODEL_bc9d0e8964334f26807e7ef216e31a97",
            "placeholder": "​",
            "style": "IPY_MODEL_77cab8afa17d4cb993eb39882617726d",
            "value": "parsing log, completed traces :: 100%"
          }
        },
        "7bcb0da8f8b04341959a69926e055f71": {
          "model_module": "@jupyter-widgets/controls",
          "model_name": "FloatProgressModel",
          "model_module_version": "1.5.0",
          "state": {
            "_dom_classes": [],
            "_model_module": "@jupyter-widgets/controls",
            "_model_module_version": "1.5.0",
            "_model_name": "FloatProgressModel",
            "_view_count": null,
            "_view_module": "@jupyter-widgets/controls",
            "_view_module_version": "1.5.0",
            "_view_name": "ProgressView",
            "bar_style": "success",
            "description": "",
            "description_tooltip": null,
            "layout": "IPY_MODEL_bc9864754f9643139b009b03aeca08ae",
            "max": 2,
            "min": 0,
            "orientation": "horizontal",
            "style": "IPY_MODEL_8815235d8f4040779b30d860324b4512",
            "value": 2
          }
        },
        "16df6abf094043488fdd0ee7da0ce268": {
          "model_module": "@jupyter-widgets/controls",
          "model_name": "HTMLModel",
          "model_module_version": "1.5.0",
          "state": {
            "_dom_classes": [],
            "_model_module": "@jupyter-widgets/controls",
            "_model_module_version": "1.5.0",
            "_model_name": "HTMLModel",
            "_view_count": null,
            "_view_module": "@jupyter-widgets/controls",
            "_view_module_version": "1.5.0",
            "_view_name": "HTMLView",
            "description": "",
            "description_tooltip": null,
            "layout": "IPY_MODEL_1d6f212c058f4fa5a338e2bd988b71e7",
            "placeholder": "​",
            "style": "IPY_MODEL_497f1a9c76aa4587bab9191611ab46b8",
            "value": " 2/2 [00:00&lt;00:00, 61.95it/s]"
          }
        },
        "dcf3170a67e94484a9ca5a5ed5258cdf": {
          "model_module": "@jupyter-widgets/base",
          "model_name": "LayoutModel",
          "model_module_version": "1.2.0",
          "state": {
            "_model_module": "@jupyter-widgets/base",
            "_model_module_version": "1.2.0",
            "_model_name": "LayoutModel",
            "_view_count": null,
            "_view_module": "@jupyter-widgets/base",
            "_view_module_version": "1.2.0",
            "_view_name": "LayoutView",
            "align_content": null,
            "align_items": null,
            "align_self": null,
            "border": null,
            "bottom": null,
            "display": null,
            "flex": null,
            "flex_flow": null,
            "grid_area": null,
            "grid_auto_columns": null,
            "grid_auto_flow": null,
            "grid_auto_rows": null,
            "grid_column": null,
            "grid_gap": null,
            "grid_row": null,
            "grid_template_areas": null,
            "grid_template_columns": null,
            "grid_template_rows": null,
            "height": null,
            "justify_content": null,
            "justify_items": null,
            "left": null,
            "margin": null,
            "max_height": null,
            "max_width": null,
            "min_height": null,
            "min_width": null,
            "object_fit": null,
            "object_position": null,
            "order": null,
            "overflow": null,
            "overflow_x": null,
            "overflow_y": null,
            "padding": null,
            "right": null,
            "top": null,
            "visibility": null,
            "width": null
          }
        },
        "bc9d0e8964334f26807e7ef216e31a97": {
          "model_module": "@jupyter-widgets/base",
          "model_name": "LayoutModel",
          "model_module_version": "1.2.0",
          "state": {
            "_model_module": "@jupyter-widgets/base",
            "_model_module_version": "1.2.0",
            "_model_name": "LayoutModel",
            "_view_count": null,
            "_view_module": "@jupyter-widgets/base",
            "_view_module_version": "1.2.0",
            "_view_name": "LayoutView",
            "align_content": null,
            "align_items": null,
            "align_self": null,
            "border": null,
            "bottom": null,
            "display": null,
            "flex": null,
            "flex_flow": null,
            "grid_area": null,
            "grid_auto_columns": null,
            "grid_auto_flow": null,
            "grid_auto_rows": null,
            "grid_column": null,
            "grid_gap": null,
            "grid_row": null,
            "grid_template_areas": null,
            "grid_template_columns": null,
            "grid_template_rows": null,
            "height": null,
            "justify_content": null,
            "justify_items": null,
            "left": null,
            "margin": null,
            "max_height": null,
            "max_width": null,
            "min_height": null,
            "min_width": null,
            "object_fit": null,
            "object_position": null,
            "order": null,
            "overflow": null,
            "overflow_x": null,
            "overflow_y": null,
            "padding": null,
            "right": null,
            "top": null,
            "visibility": null,
            "width": null
          }
        },
        "77cab8afa17d4cb993eb39882617726d": {
          "model_module": "@jupyter-widgets/controls",
          "model_name": "DescriptionStyleModel",
          "model_module_version": "1.5.0",
          "state": {
            "_model_module": "@jupyter-widgets/controls",
            "_model_module_version": "1.5.0",
            "_model_name": "DescriptionStyleModel",
            "_view_count": null,
            "_view_module": "@jupyter-widgets/base",
            "_view_module_version": "1.2.0",
            "_view_name": "StyleView",
            "description_width": ""
          }
        },
        "bc9864754f9643139b009b03aeca08ae": {
          "model_module": "@jupyter-widgets/base",
          "model_name": "LayoutModel",
          "model_module_version": "1.2.0",
          "state": {
            "_model_module": "@jupyter-widgets/base",
            "_model_module_version": "1.2.0",
            "_model_name": "LayoutModel",
            "_view_count": null,
            "_view_module": "@jupyter-widgets/base",
            "_view_module_version": "1.2.0",
            "_view_name": "LayoutView",
            "align_content": null,
            "align_items": null,
            "align_self": null,
            "border": null,
            "bottom": null,
            "display": null,
            "flex": null,
            "flex_flow": null,
            "grid_area": null,
            "grid_auto_columns": null,
            "grid_auto_flow": null,
            "grid_auto_rows": null,
            "grid_column": null,
            "grid_gap": null,
            "grid_row": null,
            "grid_template_areas": null,
            "grid_template_columns": null,
            "grid_template_rows": null,
            "height": null,
            "justify_content": null,
            "justify_items": null,
            "left": null,
            "margin": null,
            "max_height": null,
            "max_width": null,
            "min_height": null,
            "min_width": null,
            "object_fit": null,
            "object_position": null,
            "order": null,
            "overflow": null,
            "overflow_x": null,
            "overflow_y": null,
            "padding": null,
            "right": null,
            "top": null,
            "visibility": null,
            "width": null
          }
        },
        "8815235d8f4040779b30d860324b4512": {
          "model_module": "@jupyter-widgets/controls",
          "model_name": "ProgressStyleModel",
          "model_module_version": "1.5.0",
          "state": {
            "_model_module": "@jupyter-widgets/controls",
            "_model_module_version": "1.5.0",
            "_model_name": "ProgressStyleModel",
            "_view_count": null,
            "_view_module": "@jupyter-widgets/base",
            "_view_module_version": "1.2.0",
            "_view_name": "StyleView",
            "bar_color": null,
            "description_width": ""
          }
        },
        "1d6f212c058f4fa5a338e2bd988b71e7": {
          "model_module": "@jupyter-widgets/base",
          "model_name": "LayoutModel",
          "model_module_version": "1.2.0",
          "state": {
            "_model_module": "@jupyter-widgets/base",
            "_model_module_version": "1.2.0",
            "_model_name": "LayoutModel",
            "_view_count": null,
            "_view_module": "@jupyter-widgets/base",
            "_view_module_version": "1.2.0",
            "_view_name": "LayoutView",
            "align_content": null,
            "align_items": null,
            "align_self": null,
            "border": null,
            "bottom": null,
            "display": null,
            "flex": null,
            "flex_flow": null,
            "grid_area": null,
            "grid_auto_columns": null,
            "grid_auto_flow": null,
            "grid_auto_rows": null,
            "grid_column": null,
            "grid_gap": null,
            "grid_row": null,
            "grid_template_areas": null,
            "grid_template_columns": null,
            "grid_template_rows": null,
            "height": null,
            "justify_content": null,
            "justify_items": null,
            "left": null,
            "margin": null,
            "max_height": null,
            "max_width": null,
            "min_height": null,
            "min_width": null,
            "object_fit": null,
            "object_position": null,
            "order": null,
            "overflow": null,
            "overflow_x": null,
            "overflow_y": null,
            "padding": null,
            "right": null,
            "top": null,
            "visibility": null,
            "width": null
          }
        },
        "497f1a9c76aa4587bab9191611ab46b8": {
          "model_module": "@jupyter-widgets/controls",
          "model_name": "DescriptionStyleModel",
          "model_module_version": "1.5.0",
          "state": {
            "_model_module": "@jupyter-widgets/controls",
            "_model_module_version": "1.5.0",
            "_model_name": "DescriptionStyleModel",
            "_view_count": null,
            "_view_module": "@jupyter-widgets/base",
            "_view_module_version": "1.2.0",
            "_view_name": "StyleView",
            "description_width": ""
          }
        }
      }
    }
  },
  "nbformat": 4,
  "nbformat_minor": 0
}