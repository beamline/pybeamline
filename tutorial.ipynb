{
  "cells": [
    {
      "cell_type": "markdown",
      "metadata": {
        "id": "yqDUtf_0mBhg"
      },
      "source": [
        "# Streaming process mining with `pyBeamline`"
      ]
    },
    {
      "cell_type": "markdown",
      "metadata": {
        "id": "9Aq7aw-kmBhj"
      },
      "source": [
        "`pyBeamline` is a Python version of Beamline. While the same set of ideas and principles of Beamline have been ported into `pyBeamline`, the underlying goal and technology is very different.\n",
        "\n",
        "pyBeamline is based on ReactiveX and its Python binding RxPY. RxPY is a library for composing asynchronous and event-based programs using observable sequences and pipable query operators in Python. Using pyBeamline it is possible to inject process mining operators into the computation.\n",
        "\n",
        "This Jupyter notebook contains the main functionalities currently exposed by `pyBeamline`. For a complete documentation of the library see https://www.beamline.cloud/pybeamline/. In the rest of the notebook it is assumed that the `pyBeamline` package is already installed.\n",
        "\n",
        "In the rest of this document, the main functionalities are exposed."
      ]
    },
    {
      "cell_type": "markdown",
      "metadata": {
        "id": "H_u0aIVxmBhk"
      },
      "source": [
        "It is possible to install the library using:"
      ]
    },
    {
      "cell_type": "code",
      "execution_count": 1,
      "metadata": {
        "id": "T1pTAL35mBhk",
        "outputId": "0c3fe322-ab22-4ad7-e7ef-2c12a180c91e",
        "colab": {
          "base_uri": "https://localhost:8080/"
        }
      },
      "outputs": [
        {
          "output_type": "stream",
          "name": "stdout",
          "text": [
            "Requirement already satisfied: pybeamline in /usr/local/lib/python3.12/dist-packages (1.0.8)\n",
            "Requirement already satisfied: pm4py==2.7.4 in /usr/local/lib/python3.12/dist-packages (from pybeamline) (2.7.4)\n",
            "Requirement already satisfied: reactivex==4.0.4 in /usr/local/lib/python3.12/dist-packages (from pybeamline) (4.0.4)\n",
            "Requirement already satisfied: paho-mqtt==2.1.0 in /usr/local/lib/python3.12/dist-packages (from pybeamline) (2.1.0)\n",
            "Requirement already satisfied: pandas~=2.2.3 in /usr/local/lib/python3.12/dist-packages (from pybeamline) (2.2.3)\n",
            "Requirement already satisfied: pyais~=2.8.2 in /usr/local/lib/python3.12/dist-packages (from pybeamline) (2.8.4)\n",
            "Requirement already satisfied: setuptools~=68.0.0 in /usr/local/lib/python3.12/dist-packages (from pybeamline) (68.0.0)\n",
            "Requirement already satisfied: requests~=2.31.0 in /usr/local/lib/python3.12/dist-packages (from pybeamline) (2.31.0)\n",
            "Requirement already satisfied: objsize~=0.7.0 in /usr/local/lib/python3.12/dist-packages (from pybeamline) (0.7.1)\n",
            "Requirement already satisfied: river~=0.21.2 in /usr/local/lib/python3.12/dist-packages (from pybeamline) (0.21.2)\n",
            "Requirement already satisfied: deprecation in /usr/local/lib/python3.12/dist-packages (from pm4py==2.7.4->pybeamline) (2.1.0)\n",
            "Requirement already satisfied: graphviz in /usr/local/lib/python3.12/dist-packages (from pm4py==2.7.4->pybeamline) (0.21)\n",
            "Requirement already satisfied: intervaltree in /usr/local/lib/python3.12/dist-packages (from pm4py==2.7.4->pybeamline) (3.1.0)\n",
            "Requirement already satisfied: lxml in /usr/local/lib/python3.12/dist-packages (from pm4py==2.7.4->pybeamline) (5.4.0)\n",
            "Requirement already satisfied: matplotlib in /usr/local/lib/python3.12/dist-packages (from pm4py==2.7.4->pybeamline) (3.10.0)\n",
            "Requirement already satisfied: networkx in /usr/local/lib/python3.12/dist-packages (from pm4py==2.7.4->pybeamline) (3.5)\n",
            "Requirement already satisfied: numpy in /usr/local/lib/python3.12/dist-packages (from pm4py==2.7.4->pybeamline) (1.26.4)\n",
            "Requirement already satisfied: pydotplus in /usr/local/lib/python3.12/dist-packages (from pm4py==2.7.4->pybeamline) (2.0.2)\n",
            "Requirement already satisfied: pytz in /usr/local/lib/python3.12/dist-packages (from pm4py==2.7.4->pybeamline) (2025.2)\n",
            "Requirement already satisfied: scipy in /usr/local/lib/python3.12/dist-packages (from pm4py==2.7.4->pybeamline) (1.16.1)\n",
            "Requirement already satisfied: stringdist in /usr/local/lib/python3.12/dist-packages (from pm4py==2.7.4->pybeamline) (1.0.9)\n",
            "Requirement already satisfied: tqdm in /usr/local/lib/python3.12/dist-packages (from pm4py==2.7.4->pybeamline) (4.67.1)\n",
            "Requirement already satisfied: typing-extensions<5.0.0,>=4.1.1 in /usr/local/lib/python3.12/dist-packages (from reactivex==4.0.4->pybeamline) (4.14.1)\n",
            "Requirement already satisfied: python-dateutil>=2.8.2 in /usr/local/lib/python3.12/dist-packages (from pandas~=2.2.3->pybeamline) (2.9.0.post0)\n",
            "Requirement already satisfied: tzdata>=2022.7 in /usr/local/lib/python3.12/dist-packages (from pandas~=2.2.3->pybeamline) (2025.2)\n",
            "Requirement already satisfied: bitarray in /usr/local/lib/python3.12/dist-packages (from pyais~=2.8.2->pybeamline) (3.6.1)\n",
            "Requirement already satisfied: attrs in /usr/local/lib/python3.12/dist-packages (from pyais~=2.8.2->pybeamline) (25.3.0)\n",
            "Requirement already satisfied: charset-normalizer<4,>=2 in /usr/local/lib/python3.12/dist-packages (from requests~=2.31.0->pybeamline) (3.4.3)\n",
            "Requirement already satisfied: idna<4,>=2.5 in /usr/local/lib/python3.12/dist-packages (from requests~=2.31.0->pybeamline) (3.10)\n",
            "Requirement already satisfied: urllib3<3,>=1.21.1 in /usr/local/lib/python3.12/dist-packages (from requests~=2.31.0->pybeamline) (2.5.0)\n",
            "Requirement already satisfied: certifi>=2017.4.17 in /usr/local/lib/python3.12/dist-packages (from requests~=2.31.0->pybeamline) (2025.8.3)\n",
            "Requirement already satisfied: six>=1.5 in /usr/local/lib/python3.12/dist-packages (from python-dateutil>=2.8.2->pandas~=2.2.3->pybeamline) (1.17.0)\n",
            "Requirement already satisfied: packaging in /usr/local/lib/python3.12/dist-packages (from deprecation->pm4py==2.7.4->pybeamline) (25.0)\n",
            "Requirement already satisfied: sortedcontainers<3.0,>=2.0 in /usr/local/lib/python3.12/dist-packages (from intervaltree->pm4py==2.7.4->pybeamline) (2.4.0)\n",
            "Requirement already satisfied: contourpy>=1.0.1 in /usr/local/lib/python3.12/dist-packages (from matplotlib->pm4py==2.7.4->pybeamline) (1.3.3)\n",
            "Requirement already satisfied: cycler>=0.10 in /usr/local/lib/python3.12/dist-packages (from matplotlib->pm4py==2.7.4->pybeamline) (0.12.1)\n",
            "Requirement already satisfied: fonttools>=4.22.0 in /usr/local/lib/python3.12/dist-packages (from matplotlib->pm4py==2.7.4->pybeamline) (4.59.1)\n",
            "Requirement already satisfied: kiwisolver>=1.3.1 in /usr/local/lib/python3.12/dist-packages (from matplotlib->pm4py==2.7.4->pybeamline) (1.4.9)\n",
            "Requirement already satisfied: pillow>=8 in /usr/local/lib/python3.12/dist-packages (from matplotlib->pm4py==2.7.4->pybeamline) (11.3.0)\n",
            "Requirement already satisfied: pyparsing>=2.3.1 in /usr/local/lib/python3.12/dist-packages (from matplotlib->pm4py==2.7.4->pybeamline) (3.2.3)\n"
          ]
        }
      ],
      "source": [
        "!pip install pybeamline"
      ]
    },
    {
      "cell_type": "code",
      "execution_count": 2,
      "metadata": {
        "id": "tIdDi1uKmBhl"
      },
      "outputs": [],
      "source": [
        "# Let's ignore some PM4PY warnings in the notebook\n",
        "import warnings\n",
        "warnings.filterwarnings(\"ignore\")"
      ]
    },
    {
      "cell_type": "markdown",
      "metadata": {
        "id": "CIsiP7qLmBhl"
      },
      "source": [
        "### Sources"
      ]
    },
    {
      "cell_type": "code",
      "execution_count": 3,
      "metadata": {
        "id": "Wzc6JNYXmBhm",
        "outputId": "36d277e5-aba4-4c5d-f00e-e60f6cb62e49",
        "colab": {
          "base_uri": "https://localhost:8080/"
        }
      },
      "outputs": [
        {
          "output_type": "stream",
          "name": "stdout",
          "text": [
            "(A, case_1, Process, 2025-08-22 12:21:35.369929 - {} - {} - {})\n",
            "(B, case_1, Process, 2025-08-22 12:21:35.370077 - {} - {} - {})\n",
            "(C, case_1, Process, 2025-08-22 12:21:35.370101 - {} - {} - {})\n",
            "(A, case_2, Process, 2025-08-22 12:21:35.370116 - {} - {} - {})\n",
            "(C, case_2, Process, 2025-08-22 12:21:35.370131 - {} - {} - {})\n",
            "(B, case_2, Process, 2025-08-22 12:21:35.370146 - {} - {} - {})\n",
            "(E, case_3, Process, 2025-08-22 12:21:35.370177 - {} - {} - {})\n",
            "(F, case_3, Process, 2025-08-22 12:21:35.370192 - {} - {} - {})\n",
            "(G, case_3, Process, 2025-08-22 12:21:35.370206 - {} - {} - {})\n"
          ]
        },
        {
          "output_type": "execute_result",
          "data": {
            "text/plain": [
              "<reactivex.disposable.disposable.Disposable at 0x7daef8da6e40>"
            ]
          },
          "metadata": {},
          "execution_count": 3
        }
      ],
      "source": [
        "from pybeamline.sources import string_test_source\n",
        "\n",
        "string_test_source([\"ABC\", \"ACB\", \"EFG\"]) \\\n",
        "    .subscribe(lambda x: print(str(x)))"
      ]
    },
    {
      "cell_type": "code",
      "source": [
        "!wget https://raw.githubusercontent.com/beamline/pybeamline/refs/heads/master/tests/log.xes"
      ],
      "metadata": {
        "id": "MNEZbH1UwkeQ",
        "outputId": "02f4e9dd-5805-4cd1-c0d8-29533a99e4f0",
        "colab": {
          "base_uri": "https://localhost:8080/"
        }
      },
      "execution_count": 4,
      "outputs": [
        {
          "output_type": "stream",
          "name": "stdout",
          "text": [
            "--2025-08-22 12:21:35--  https://raw.githubusercontent.com/beamline/pybeamline/refs/heads/master/tests/log.xes\n",
            "Resolving raw.githubusercontent.com (raw.githubusercontent.com)... 185.199.110.133, 185.199.111.133, 185.199.108.133, ...\n",
            "Connecting to raw.githubusercontent.com (raw.githubusercontent.com)|185.199.110.133|:443... connected.\n",
            "HTTP request sent, awaiting response... 200 OK\n",
            "Length: 2029 (2.0K) [text/plain]\n",
            "Saving to: ‘log.xes’\n",
            "\n",
            "log.xes             100%[===================>]   1.98K  --.-KB/s    in 0s      \n",
            "\n",
            "2025-08-22 12:21:35 (25.9 MB/s) - ‘log.xes’ saved [2029/2029]\n",
            "\n"
          ]
        }
      ]
    },
    {
      "cell_type": "code",
      "execution_count": 5,
      "metadata": {
        "id": "gQTaqXeImBhm",
        "outputId": "3bc6bbeb-f12c-4060-ae37-c12deb6a646b",
        "colab": {
          "base_uri": "https://localhost:8080/",
          "height": 153,
          "referenced_widgets": [
            "b8ff86f3422f4bccafb2180c0b9607ed",
            "d4a50a27a82e4f8ba732ff840592f200",
            "32f9b44d279441b9bb8010cf58173247",
            "ae22cae53a9e48bd88d120b3a4a4cbc4",
            "1ec0e034d4cb441fb16603d3f9f3c602",
            "34f8f2504def418e85841fc731d1e4d2",
            "4e249e4cc61a43289b6480671a9cbb8e",
            "e4f735ea5f9f45b885c9ef98a49fad67",
            "6786fe8f1d49402db1a6f143013b62f9",
            "2ab189866f9f46ed9deb66dcab6e36ef",
            "7da09f35e9274bdfa24ac0f6c9afc13e"
          ]
        }
      },
      "outputs": [
        {
          "output_type": "display_data",
          "data": {
            "text/plain": [
              "parsing log, completed traces ::   0%|          | 0/2 [00:00<?, ?it/s]"
            ],
            "application/vnd.jupyter.widget-view+json": {
              "version_major": 2,
              "version_minor": 0,
              "model_id": "b8ff86f3422f4bccafb2180c0b9607ed"
            }
          },
          "metadata": {}
        },
        {
          "output_type": "stream",
          "name": "stdout",
          "text": [
            "(a11, c1, log-file, 2025-08-22 12:21:35.710996 - {'lifecycle:transition': 'complete', 'act': 'a11'} - {'creator': 'Fluxicon Disco', 'variant': 'Variant 1', 'variant-index': 1} - {})\n",
            "(a12, c1, log-file, 2025-08-22 12:21:35.712979 - {'lifecycle:transition': 'complete', 'act': 'a12'} - {'creator': 'Fluxicon Disco', 'variant': 'Variant 1', 'variant-index': 1} - {})\n",
            "(a21, c2, log-file, 2025-08-22 12:21:35.713296 - {'lifecycle:transition': 'complete', 'act': 'a21'} - {'creator': 'Fluxicon Disco', 'variant': 'Variant 2', 'variant-index': 2} - {})\n",
            "(a22, c2, log-file, 2025-08-22 12:21:35.713499 - {'lifecycle:transition': 'complete', 'act': 'a22'} - {'creator': 'Fluxicon Disco', 'variant': 'Variant 2', 'variant-index': 2} - {})\n",
            "(a23, c2, log-file, 2025-08-22 12:21:35.715228 - {'lifecycle:transition': 'complete', 'act': 'a23'} - {'creator': 'Fluxicon Disco', 'variant': 'Variant 2', 'variant-index': 2} - {})\n"
          ]
        },
        {
          "output_type": "execute_result",
          "data": {
            "text/plain": [
              "<reactivex.disposable.disposable.Disposable at 0x7daef8a76a80>"
            ]
          },
          "metadata": {},
          "execution_count": 5
        }
      ],
      "source": [
        "from pybeamline.sources import xes_log_source_from_file\n",
        "\n",
        "xes_log_source_from_file(\"log.xes\") \\\n",
        "    .subscribe(lambda x: print(str(x)))"
      ]
    },
    {
      "cell_type": "code",
      "execution_count": 6,
      "metadata": {
        "id": "AyPZen8BmBhm",
        "outputId": "516b4ff5-db39-4019-bd05-77c123b2d5d7",
        "colab": {
          "base_uri": "https://localhost:8080/",
          "height": 309,
          "referenced_widgets": [
            "d3973859942146fe81195c6e3748c024",
            "91937290059f4584bc3c137a186796ad",
            "b5af025021594611bf3e52b21cfe6fe0",
            "fd5ec4ae85284ba189964233323435df",
            "3fdbc5ade37b4eb3a32450a4c02bb14d",
            "dd8fea092f2e4a15b99d705221e780ae",
            "f6ea755a9ecc47a297421c2604a9376d",
            "368f0fe5b96b4604bee91cfa962887c5",
            "f128975a1b2f4f4b8f19eb1d385fcd13",
            "a4b6c54365364b21b8d052a543b89cfb",
            "eadd6580a02c4a71ad55c89843d18543"
          ]
        }
      },
      "outputs": [
        {
          "output_type": "stream",
          "name": "stdout",
          "text": [
            "(A, case_1, Process, 2025-08-22 12:21:35.728984 - {} - {} - {})\n",
            "(B, case_1, Process, 2025-08-22 12:21:35.729219 - {} - {} - {})\n",
            "(C, case_1, Process, 2025-08-22 12:21:35.729242 - {} - {} - {})\n",
            "(A, case_2, Process, 2025-08-22 12:21:35.729256 - {} - {} - {})\n",
            "(C, case_2, Process, 2025-08-22 12:21:35.729268 - {} - {} - {})\n",
            "(B, case_2, Process, 2025-08-22 12:21:35.729278 - {} - {} - {})\n",
            "(E, case_3, Process, 2025-08-22 12:21:35.729288 - {} - {} - {})\n",
            "(F, case_3, Process, 2025-08-22 12:21:35.729299 - {} - {} - {})\n",
            "(G, case_3, Process, 2025-08-22 12:21:35.729309 - {} - {} - {})\n"
          ]
        },
        {
          "output_type": "display_data",
          "data": {
            "text/plain": [
              "parsing log, completed traces ::   0%|          | 0/2 [00:00<?, ?it/s]"
            ],
            "application/vnd.jupyter.widget-view+json": {
              "version_major": 2,
              "version_minor": 0,
              "model_id": "d3973859942146fe81195c6e3748c024"
            }
          },
          "metadata": {}
        },
        {
          "output_type": "stream",
          "name": "stdout",
          "text": [
            "(a11, c1, log-file, 2025-08-22 12:21:35.763252 - {'lifecycle:transition': 'complete', 'act': 'a11'} - {'creator': 'Fluxicon Disco', 'variant': 'Variant 1', 'variant-index': 1} - {})\n",
            "(a12, c1, log-file, 2025-08-22 12:21:35.763771 - {'lifecycle:transition': 'complete', 'act': 'a12'} - {'creator': 'Fluxicon Disco', 'variant': 'Variant 1', 'variant-index': 1} - {})\n",
            "(a21, c2, log-file, 2025-08-22 12:21:35.763958 - {'lifecycle:transition': 'complete', 'act': 'a21'} - {'creator': 'Fluxicon Disco', 'variant': 'Variant 2', 'variant-index': 2} - {})\n",
            "(a22, c2, log-file, 2025-08-22 12:21:35.764138 - {'lifecycle:transition': 'complete', 'act': 'a22'} - {'creator': 'Fluxicon Disco', 'variant': 'Variant 2', 'variant-index': 2} - {})\n",
            "(a23, c2, log-file, 2025-08-22 12:21:35.764346 - {'lifecycle:transition': 'complete', 'act': 'a23'} - {'creator': 'Fluxicon Disco', 'variant': 'Variant 2', 'variant-index': 2} - {})\n"
          ]
        },
        {
          "output_type": "execute_result",
          "data": {
            "text/plain": [
              "<reactivex.disposable.disposable.Disposable at 0x7daef89a2630>"
            ]
          },
          "metadata": {},
          "execution_count": 6
        }
      ],
      "source": [
        "from pybeamline.sources import log_source\n",
        "\n",
        "log_source([\"ABC\", \"ACB\", \"EFG\"]) \\\n",
        "    .subscribe(lambda x: print(str(x)))\n",
        "\n",
        "log_source(\"log.xes\") \\\n",
        "    .subscribe(lambda x: print(str(x)))"
      ]
    },
    {
      "cell_type": "code",
      "source": [
        "from pybeamline.sources import mqttxes_source\n",
        "\n",
        "mqttxes_source('broker.mqtt.cool', 1883, 'bla/bla/') \\\n",
        "  .subscribe(lambda x: print(str(x)))\n",
        "\n",
        "input()"
      ],
      "metadata": {
        "id": "ePzA0wNAnKYS",
        "outputId": "f708e006-773b-4bad-ef99-31760b4156ff",
        "colab": {
          "base_uri": "https://localhost:8080/",
          "height": 70
        }
      },
      "execution_count": 7,
      "outputs": [
        {
          "name": "stdout",
          "output_type": "stream",
          "text": [
            "Connected to MQTT broker\n",
            "\n"
          ]
        },
        {
          "output_type": "execute_result",
          "data": {
            "text/plain": [
              "''"
            ],
            "application/vnd.google.colaboratory.intrinsic+json": {
              "type": "string"
            }
          },
          "metadata": {},
          "execution_count": 7
        }
      ]
    },
    {
      "cell_type": "code",
      "source": [
        "from reactivex import concat\n",
        "from pybeamline.sources import xes_log_source_from_file, log_source\n",
        "\n",
        "src1 = xes_log_source_from_file(\"log.xes\")\n",
        "src2 = log_source([\"ABCD\", \"ABCD\"])\n",
        "src3 = xes_log_source_from_file(\"log.xes\")\n",
        "\n",
        "concat = concat(src1, src2, src3)\n",
        "concat \\\n",
        "    .subscribe(lambda x: print(str(x)))\n"
      ],
      "metadata": {
        "id": "PxIv4l6A0Ot8",
        "outputId": "3524197e-24bd-442a-8f38-e31b72d02ac0",
        "colab": {
          "base_uri": "https://localhost:8080/",
          "height": 411,
          "referenced_widgets": [
            "7792d7a2727a4bc48e509c31116c55bf",
            "d542d70b83074f4882e26e8c64cd6f8a",
            "9324b8a5ead142f5bf8b407bb66290ca",
            "305b118c56a542ccbbedc756685e4c7b",
            "4e9bb09ff9e54bc4a6fa1f3fa2e63b18",
            "03f190c2a76f4066a3db60b214550014",
            "e38447fe70134761bb690c6d6cd34941",
            "ad5fee7432b84ccfa1567ba06c7144e1",
            "067b35b1f5454c0893a2c554e85542a4",
            "6dbff80f42d34343ae10ee55a87a00c3",
            "c87209e28d394506b6d107da8625d6c7",
            "db05d1f520c4465b90efe370a7645eb3",
            "a121efe2b02b45a9b577703cc5ad9651",
            "3f557f676ecf4398a14cb5d9cee3d890",
            "99015879ec2f44b3890b388f75023676",
            "ed102816d887486f974a914cc41a657f",
            "b1fef5927839474cb036283988cc8af2",
            "205046e910f94a4f99d0e353d1a2d023",
            "b325e492d18d45bcb367871be46266c5",
            "27dd3c28ddb44bdfa1077eadd6b78c76",
            "0ef12392865741b6a91b663ab84afb88",
            "eaa5b41ad5b64aa48a7702eb7936b297"
          ]
        }
      },
      "execution_count": 8,
      "outputs": [
        {
          "output_type": "display_data",
          "data": {
            "text/plain": [
              "parsing log, completed traces ::   0%|          | 0/2 [00:00<?, ?it/s]"
            ],
            "application/vnd.jupyter.widget-view+json": {
              "version_major": 2,
              "version_minor": 0,
              "model_id": "7792d7a2727a4bc48e509c31116c55bf"
            }
          },
          "metadata": {}
        },
        {
          "output_type": "display_data",
          "data": {
            "text/plain": [
              "parsing log, completed traces ::   0%|          | 0/2 [00:00<?, ?it/s]"
            ],
            "application/vnd.jupyter.widget-view+json": {
              "version_major": 2,
              "version_minor": 0,
              "model_id": "db05d1f520c4465b90efe370a7645eb3"
            }
          },
          "metadata": {}
        },
        {
          "output_type": "stream",
          "name": "stdout",
          "text": [
            "(a11, c1, log-file, 2025-08-22 12:21:44.653624 - {'lifecycle:transition': 'complete', 'act': 'a11'} - {'creator': 'Fluxicon Disco', 'variant': 'Variant 1', 'variant-index': 1} - {})\n",
            "(a12, c1, log-file, 2025-08-22 12:21:44.654023 - {'lifecycle:transition': 'complete', 'act': 'a12'} - {'creator': 'Fluxicon Disco', 'variant': 'Variant 1', 'variant-index': 1} - {})\n",
            "(a21, c2, log-file, 2025-08-22 12:21:44.654345 - {'lifecycle:transition': 'complete', 'act': 'a21'} - {'creator': 'Fluxicon Disco', 'variant': 'Variant 2', 'variant-index': 2} - {})\n",
            "(a22, c2, log-file, 2025-08-22 12:21:44.654644 - {'lifecycle:transition': 'complete', 'act': 'a22'} - {'creator': 'Fluxicon Disco', 'variant': 'Variant 2', 'variant-index': 2} - {})\n",
            "(a23, c2, log-file, 2025-08-22 12:21:44.654877 - {'lifecycle:transition': 'complete', 'act': 'a23'} - {'creator': 'Fluxicon Disco', 'variant': 'Variant 2', 'variant-index': 2} - {})\n",
            "(A, case_1, Process, 2025-08-22 12:21:44.655151 - {} - {} - {})\n",
            "(B, case_1, Process, 2025-08-22 12:21:44.655207 - {} - {} - {})\n",
            "(C, case_1, Process, 2025-08-22 12:21:44.655225 - {} - {} - {})\n",
            "(D, case_1, Process, 2025-08-22 12:21:44.655293 - {} - {} - {})\n",
            "(A, case_2, Process, 2025-08-22 12:21:44.655313 - {} - {} - {})\n",
            "(B, case_2, Process, 2025-08-22 12:21:44.655326 - {} - {} - {})\n",
            "(C, case_2, Process, 2025-08-22 12:21:44.655338 - {} - {} - {})\n",
            "(D, case_2, Process, 2025-08-22 12:21:44.655385 - {} - {} - {})\n",
            "(a11, c1, log-file, 2025-08-22 12:21:44.655714 - {'lifecycle:transition': 'complete', 'act': 'a11'} - {'creator': 'Fluxicon Disco', 'variant': 'Variant 1', 'variant-index': 1} - {})\n",
            "(a12, c1, log-file, 2025-08-22 12:21:44.655881 - {'lifecycle:transition': 'complete', 'act': 'a12'} - {'creator': 'Fluxicon Disco', 'variant': 'Variant 1', 'variant-index': 1} - {})\n",
            "(a21, c2, log-file, 2025-08-22 12:21:44.656116 - {'lifecycle:transition': 'complete', 'act': 'a21'} - {'creator': 'Fluxicon Disco', 'variant': 'Variant 2', 'variant-index': 2} - {})\n",
            "(a22, c2, log-file, 2025-08-22 12:21:44.656483 - {'lifecycle:transition': 'complete', 'act': 'a22'} - {'creator': 'Fluxicon Disco', 'variant': 'Variant 2', 'variant-index': 2} - {})\n",
            "(a23, c2, log-file, 2025-08-22 12:21:44.657630 - {'lifecycle:transition': 'complete', 'act': 'a23'} - {'creator': 'Fluxicon Disco', 'variant': 'Variant 2', 'variant-index': 2} - {})\n"
          ]
        },
        {
          "output_type": "execute_result",
          "data": {
            "text/plain": [
              "<reactivex.disposable.disposable.Disposable at 0x7daef89a1490>"
            ]
          },
          "metadata": {},
          "execution_count": 8
        }
      ]
    },
    {
      "cell_type": "markdown",
      "metadata": {
        "id": "zDiJsMvfmBhn"
      },
      "source": [
        "### Filters"
      ]
    },
    {
      "cell_type": "code",
      "execution_count": 9,
      "metadata": {
        "id": "dCUSRIHhmBhn",
        "outputId": "84476e11-d4d3-4442-fe96-deef04f2b972",
        "colab": {
          "base_uri": "https://localhost:8080/",
          "height": 136,
          "referenced_widgets": [
            "f32c4721ff47477a9aeeb1a5ba732748",
            "132106d5f60a4b60a870dfb38556ee80",
            "0010a8460676411a8857b122ce69c0ef",
            "90a865978a894def921a902b464b16ef",
            "040e9446b0fd45b6b9af42011cd16f79",
            "e8f7a22e09b9435b9b5dd1f403e8e016",
            "0558730fe7d2446cbedb041499066848",
            "c87bbc0c119743e3bbc07b3bcb147056",
            "e3882b11bd384029881d35cb8e736f96",
            "f455e95c288d4dc99207404fd6f1ceb5",
            "9cff8ca170b847e2b0357631ec5cf15e"
          ]
        }
      },
      "outputs": [
        {
          "output_type": "display_data",
          "data": {
            "text/plain": [
              "parsing log, completed traces ::   0%|          | 0/2 [00:00<?, ?it/s]"
            ],
            "application/vnd.jupyter.widget-view+json": {
              "version_major": 2,
              "version_minor": 0,
              "model_id": "f32c4721ff47477a9aeeb1a5ba732748"
            }
          },
          "metadata": {}
        },
        {
          "output_type": "stream",
          "name": "stdout",
          "text": [
            "(a12, c1, log-file, 2025-08-22 12:21:44.693907 - {'lifecycle:transition': 'complete', 'act': 'a12'} - {'creator': 'Fluxicon Disco', 'variant': 'Variant 1', 'variant-index': 1} - {})\n",
            "(a21, c2, log-file, 2025-08-22 12:21:44.694658 - {'lifecycle:transition': 'complete', 'act': 'a21'} - {'creator': 'Fluxicon Disco', 'variant': 'Variant 2', 'variant-index': 2} - {})\n",
            "(a22, c2, log-file, 2025-08-22 12:21:44.695043 - {'lifecycle:transition': 'complete', 'act': 'a22'} - {'creator': 'Fluxicon Disco', 'variant': 'Variant 2', 'variant-index': 2} - {})\n",
            "(a23, c2, log-file, 2025-08-22 12:21:44.695474 - {'lifecycle:transition': 'complete', 'act': 'a23'} - {'creator': 'Fluxicon Disco', 'variant': 'Variant 2', 'variant-index': 2} - {})\n"
          ]
        },
        {
          "output_type": "execute_result",
          "data": {
            "text/plain": [
              "<reactivex.disposable.disposable.Disposable at 0x7daef89a30e0>"
            ]
          },
          "metadata": {},
          "execution_count": 9
        }
      ],
      "source": [
        "from pybeamline.sources import log_source\n",
        "from pybeamline.filters import excludes_activity_filter\n",
        "\n",
        "log_source(\"log.xes\").pipe(\n",
        "    excludes_activity_filter(\"a11\"),\n",
        ").subscribe(lambda x: print(str(x)))\n",
        "\n",
        "# Similar functionalities for these filters:\n",
        "# - excludes_on_event_attribute_equal_filter\n",
        "# - retains_on_trace_attribute_equal_filter\n",
        "# - excludes_on_trace_attribute_equal_filter\n",
        "# - retains_activity_filter\n",
        "# - excludes_activity_filter\n"
      ]
    },
    {
      "cell_type": "markdown",
      "metadata": {
        "id": "UWUXL_fRmBhn"
      },
      "source": [
        "### Discovery techniques"
      ]
    },
    {
      "cell_type": "markdown",
      "metadata": {
        "id": "AMBDs1ZemBhn"
      },
      "source": [
        "Mining of directly-follows relations:"
      ]
    },
    {
      "cell_type": "code",
      "execution_count": 10,
      "metadata": {
        "id": "gaEnORBPmBhn",
        "outputId": "ccebc50e-c127-496d-dcf0-760367c3d57e",
        "colab": {
          "base_uri": "https://localhost:8080/"
        }
      },
      "outputs": [
        {
          "output_type": "stream",
          "name": "stdout",
          "text": [
            "('A', 'B')\n",
            "('B', 'C')\n",
            "('A', 'C')\n",
            "('C', 'B')\n"
          ]
        },
        {
          "output_type": "execute_result",
          "data": {
            "text/plain": [
              "<reactivex.disposable.disposable.Disposable at 0x7daef371e0f0>"
            ]
          },
          "metadata": {},
          "execution_count": 10
        }
      ],
      "source": [
        "from pybeamline.sources import log_source\n",
        "from pybeamline.mappers import infinite_size_directly_follows_mapper\n",
        "\n",
        "log_source([\"ABC\", \"ACB\"]).pipe(\n",
        "    infinite_size_directly_follows_mapper()\n",
        ").subscribe(lambda x: print(str(x)))"
      ]
    },
    {
      "cell_type": "markdown",
      "metadata": {
        "id": "OOg8zOcMmBho"
      },
      "source": [
        "Mining of a Heuristics net using Lossy Counting:"
      ]
    },
    {
      "cell_type": "code",
      "execution_count": 11,
      "metadata": {
        "id": "L8r4SNCymBho",
        "outputId": "185c5665-866f-4a04-c7e4-742c28cddec2",
        "colab": {
          "base_uri": "https://localhost:8080/"
        }
      },
      "outputs": [
        {
          "output_type": "stream",
          "name": "stdout",
          "text": [
            "{'A': (node:A connections:{B:[0.5]}), 'B': (node:B connections:{C:[0.5]}), 'C': (node:C connections:{})}\n",
            "{'C': (node:C connections:{D:[0.5]}), 'D': (node:D connections:{}), 'A': (node:A connections:{B:[0.6666666666666666]}), 'B': (node:B connections:{C:[0.6666666666666666]})}\n"
          ]
        },
        {
          "output_type": "execute_result",
          "data": {
            "text/plain": [
              "<reactivex.disposable.disposable.Disposable at 0x7daf25cf7bc0>"
            ]
          },
          "metadata": {},
          "execution_count": 11
        }
      ],
      "source": [
        "from pybeamline.algorithms.discovery import heuristics_miner_lossy_counting\n",
        "\n",
        "log_source([\"ABCD\", \"ABCD\"]).pipe(\n",
        "    heuristics_miner_lossy_counting(model_update_frequency=4)\n",
        ").subscribe(lambda x: print(str(x)))"
      ]
    },
    {
      "cell_type": "markdown",
      "metadata": {
        "id": "k5W33Vq6mBho"
      },
      "source": [
        "Mining of a Heuristics net using Lossy Counting with Budget:"
      ]
    },
    {
      "cell_type": "code",
      "execution_count": 12,
      "metadata": {
        "id": "q7nmZbJEmBho",
        "outputId": "3e4701ab-e9c6-42e0-ed72-42b56ead8d6e",
        "colab": {
          "base_uri": "https://localhost:8080/"
        }
      },
      "outputs": [
        {
          "output_type": "stream",
          "name": "stdout",
          "text": [
            "{'A': (node:A connections:{B:[0.5]}), 'B': (node:B connections:{C:[0.5]}), 'C': (node:C connections:{D:[0.5]}), 'D': (node:D connections:{})}\n",
            "{'A': (node:A connections:{B:[0.6666666666666666]}), 'B': (node:B connections:{C:[0.6666666666666666]}), 'C': (node:C connections:{D:[0.6666666666666666]}), 'D': (node:D connections:{})}\n"
          ]
        },
        {
          "output_type": "execute_result",
          "data": {
            "text/plain": [
              "<reactivex.disposable.disposable.Disposable at 0x7daef374b980>"
            ]
          },
          "metadata": {},
          "execution_count": 12
        }
      ],
      "source": [
        "from pybeamline.algorithms.discovery import heuristics_miner_lossy_counting_budget\n",
        "\n",
        "log_source([\"ABCD\", \"ABCD\"]).pipe(\n",
        "    heuristics_miner_lossy_counting_budget(model_update_frequency=4)\n",
        ").subscribe(lambda x: print(str(x)))"
      ]
    },
    {
      "cell_type": "markdown",
      "metadata": {
        "id": "Lcd3aB4kmBho"
      },
      "source": [
        "### Conformance checking"
      ]
    },
    {
      "cell_type": "markdown",
      "metadata": {
        "id": "9dn3LWKzmBho"
      },
      "source": [
        "Currently only conformance checking using behavioral profiles is supported:"
      ]
    },
    {
      "cell_type": "code",
      "execution_count": 13,
      "metadata": {
        "id": "9VW8GcqgmBho",
        "outputId": "787b802c-566b-4a24-c8d4-12c4cc62fe2c",
        "colab": {
          "base_uri": "https://localhost:8080/"
        }
      },
      "outputs": [
        {
          "output_type": "stream",
          "name": "stdout",
          "text": [
            "([('A', 'B'), ('B', 'C'), ('C', 'D')], {('A', 'B'): (0, 0), ('B', 'C'): (1, 1), ('C', 'D'): (2, 2)}, {('A', 'B'): 2, ('B', 'C'): 1, ('C', 'D'): 0})\n",
            "(1.0, 0.5, 1)\n",
            "(1.0, 1.0, 1)\n",
            "(1.0, 0.5, 1)\n",
            "(1.0, 1.0, 1)\n"
          ]
        },
        {
          "output_type": "execute_result",
          "data": {
            "text/plain": [
              "<reactivex.disposable.disposable.Disposable at 0x7daef8a77c50>"
            ]
          },
          "metadata": {},
          "execution_count": 13
        }
      ],
      "source": [
        "from pybeamline.algorithms.conformance import mine_behavioral_model_from_stream, behavioral_conformance\n",
        "\n",
        "source = log_source([\"ABCD\", \"ABCD\"])\n",
        "reference_model = mine_behavioral_model_from_stream(source)\n",
        "print(reference_model)\n",
        "\n",
        "log_source([\"ABCD\", \"ABCD\"]).pipe(\n",
        "    excludes_activity_filter(\"A\"),\n",
        "    behavioral_conformance(reference_model)\n",
        ").subscribe(lambda x: print(str(x)))"
      ]
    },
    {
      "cell_type": "markdown",
      "metadata": {
        "id": "NK9p3h2FmBhp"
      },
      "source": [
        "### Sliding window\n",
        "\n",
        "This technique allows to apply any existing process mininig technique on streaming data"
      ]
    },
    {
      "cell_type": "code",
      "execution_count": 14,
      "metadata": {
        "id": "QO0pdOlamBhp",
        "outputId": "eb345dc8-c44a-4dce-fe3a-12fbf481ec7f",
        "colab": {
          "base_uri": "https://localhost:8080/"
        }
      },
      "outputs": [
        {
          "output_type": "stream",
          "name": "stdout",
          "text": [
            "Counter({('A', 'B'): 1, ('B', 'C'): 1})\n",
            "Counter({('A', 'B'): 1, ('B', 'D'): 1})\n"
          ]
        },
        {
          "output_type": "execute_result",
          "data": {
            "text/plain": [
              "<reactivex.disposable.disposable.Disposable at 0x7daef8b37a40>"
            ]
          },
          "metadata": {},
          "execution_count": 14
        }
      ],
      "source": [
        "from pybeamline.sources import log_source\n",
        "from pybeamline.mappers import sliding_window_to_log\n",
        "from reactivex.operators import window_with_count\n",
        "import pm4py\n",
        "\n",
        "def mine(log):\n",
        "    print(pm4py.discover_dfg_typed(log))\n",
        "\n",
        "log_source([\"ABC\", \"ABD\"]).pipe(\n",
        "    window_with_count(3),\n",
        "    sliding_window_to_log()\n",
        ").subscribe(mine)"
      ]
    },
    {
      "cell_type": "markdown",
      "source": [
        "## Lambda operator"
      ],
      "metadata": {
        "id": "oKN_2FV0lN7P"
      }
    },
    {
      "cell_type": "code",
      "source": [
        "from pybeamline.algorithms.lambda_operator import lambda_operator\n",
        "from pybeamline.sources.string_test_source import string_test_source\n",
        "\n",
        "\n",
        "def my_filter(event):\n",
        "    return event if (event.get_event_name() == \"A\") else None\n",
        "\n",
        "\n",
        "def my_miner(event):\n",
        "    return [('Start', event.get_event_name())]\n",
        "\n",
        "\n",
        "string_test_source([\"ABCDE\", \"ACBDE\"]).pipe(\n",
        "    lambda_operator(my_filter),\n",
        "    lambda_operator(my_miner)\n",
        ").subscribe(lambda x: print(str(x)))\n"
      ],
      "metadata": {
        "id": "78QmSlillQIs",
        "outputId": "434048ec-f20d-480b-e63d-923ace607811",
        "colab": {
          "base_uri": "https://localhost:8080/"
        }
      },
      "execution_count": 15,
      "outputs": [
        {
          "output_type": "stream",
          "name": "stdout",
          "text": [
            "[('Start', 'A')]\n",
            "[('Start', 'A')]\n"
          ]
        },
        {
          "output_type": "execute_result",
          "data": {
            "text/plain": [
              "<reactivex.disposable.disposable.Disposable at 0x7daf25e546b0>"
            ]
          },
          "metadata": {},
          "execution_count": 15
        }
      ]
    },
    {
      "cell_type": "markdown",
      "source": [
        "# Integration with other libraries\n",
        "\n",
        "## River"
      ],
      "metadata": {
        "id": "BsnNVptTz4t7"
      }
    },
    {
      "cell_type": "code",
      "source": [
        "!pip install river"
      ],
      "metadata": {
        "id": "8ifDJUq3z8Vz",
        "outputId": "41729034-263e-4085-c59e-7c4d1b8d16a9",
        "colab": {
          "base_uri": "https://localhost:8080/"
        }
      },
      "execution_count": 16,
      "outputs": [
        {
          "output_type": "stream",
          "name": "stdout",
          "text": [
            "Requirement already satisfied: river in /usr/local/lib/python3.12/dist-packages (0.21.2)\n",
            "Requirement already satisfied: numpy<2.0.0,>=1.23.0 in /usr/local/lib/python3.12/dist-packages (from river) (1.26.4)\n",
            "Requirement already satisfied: pandas<3.0,>=2.1 in /usr/local/lib/python3.12/dist-packages (from river) (2.2.3)\n",
            "Requirement already satisfied: scipy<2.0.0,>=1.12.1 in /usr/local/lib/python3.12/dist-packages (from river) (1.16.1)\n",
            "Requirement already satisfied: python-dateutil>=2.8.2 in /usr/local/lib/python3.12/dist-packages (from pandas<3.0,>=2.1->river) (2.9.0.post0)\n",
            "Requirement already satisfied: pytz>=2020.1 in /usr/local/lib/python3.12/dist-packages (from pandas<3.0,>=2.1->river) (2025.2)\n",
            "Requirement already satisfied: tzdata>=2022.7 in /usr/local/lib/python3.12/dist-packages (from pandas<3.0,>=2.1->river) (2025.2)\n",
            "Requirement already satisfied: six>=1.5 in /usr/local/lib/python3.12/dist-packages (from python-dateutil>=2.8.2->pandas<3.0,>=2.1->river) (1.17.0)\n"
          ]
        }
      ]
    },
    {
      "cell_type": "code",
      "source": [
        "import random\n",
        "\n",
        "log_original = [\"ABCD\"]*10000 + [\"ACBD\"]*500\n",
        "random.shuffle(log_original)\n",
        "\n",
        "log_after_drift = [\"ABCD\"]*500 + [\"ACBD\"]*10000\n",
        "random.shuffle(log_after_drift)\n",
        "\n",
        "log_with_drift = log_source(log_original + log_after_drift + log_original)"
      ],
      "metadata": {
        "id": "9nTNYFm82CnM"
      },
      "execution_count": 17,
      "outputs": []
    },
    {
      "cell_type": "code",
      "source": [
        "import reactivex\n",
        "from reactivex import operators as ops\n",
        "from river import drift\n",
        "\n",
        "drift_detector = drift.ADWIN()\n",
        "data = []\n",
        "drifts = []\n",
        "\n",
        "def check_for_drift():\n",
        "  index = 0\n",
        "\n",
        "  def _process(x):\n",
        "    nonlocal index\n",
        "    drift_detector.update(x)\n",
        "    index = index + 1\n",
        "    if drift_detector.drift_detected:\n",
        "      drifts.append(index)\n",
        "\n",
        "  def _check_for_drift(obs):\n",
        "    return obs.pipe(ops.do_action(lambda value: _process(value)))\n",
        "\n",
        "  return _check_for_drift\n",
        "\n",
        "log_with_drift.pipe(\n",
        "  ops.buffer_with_count(40),\n",
        "  ops.flat_map(lambda events: reactivex.from_iterable(events).pipe(\n",
        "      ops.pairwise(),\n",
        "      ops.filter(lambda x: x[0].get_trace_name() == x[1].get_trace_name() and x[0].get_event_name() == \"B\" and x[1].get_event_name() == \"C\"),\n",
        "      ops.count()\n",
        "      )\n",
        "  ),\n",
        "  check_for_drift()\n",
        ").subscribe(lambda x: data.append(x))"
      ],
      "metadata": {
        "id": "11K2rYJi2HoU",
        "outputId": "53d038bb-8bd3-4a07-b288-39e646ecc8b3",
        "colab": {
          "base_uri": "https://localhost:8080/"
        }
      },
      "execution_count": 18,
      "outputs": [
        {
          "output_type": "execute_result",
          "data": {
            "text/plain": [
              "<reactivex.disposable.disposable.Disposable at 0x7daef1e82c00>"
            ]
          },
          "metadata": {},
          "execution_count": 18
        }
      ]
    },
    {
      "cell_type": "code",
      "source": [
        "import matplotlib.pyplot as plt\n",
        "\n",
        "plt.plot(data, marker='o')\n",
        "plt.grid()\n",
        "for drift_detected in drifts:\n",
        "    plt.axvline(drift_detected, color='red')\n",
        "plt.show()"
      ],
      "metadata": {
        "id": "Yw8TVwvN1TYw",
        "outputId": "495534a6-6849-4b7f-8fe7-d66e194ff049",
        "colab": {
          "base_uri": "https://localhost:8080/",
          "height": 430
        }
      },
      "execution_count": 19,
      "outputs": [
        {
          "output_type": "display_data",
          "data": {
            "text/plain": [
              "<Figure size 640x480 with 1 Axes>"
            ],
            "image/png": "[encoded data removed]"
          },
          "metadata": {}
        }
      ]
    }
  ],
  "metadata": {
    "kernelspec": {
      "display_name": "Python 3",
      "language": "python",
      "name": "python3"
    },
    "language_info": {
      "codemirror_mode": {
        "name": "ipython",
        "version": 3
      },
      "file_extension": ".py",
      "mimetype": "text/x-python",
      "name": "python",
      "nbconvert_exporter": "python",
      "pygments_lexer": "ipython3",
      "version": "3.9.13"
    },
    "orig_nbformat": 4,
    "colab": {
      "provenance": [],
      "toc_visible": true
    },
    "widgets": {
      "application/vnd.jupyter.widget-state+json": {
        "b8ff86f3422f4bccafb2180c0b9607ed": {
          "model_module": "@jupyter-widgets/controls",
          "model_name": "HBoxModel",
          "model_module_version": "1.5.0",
          "state": {
            "_dom_classes": [],
            "_model_module": "@jupyter-widgets/controls",
            "_model_module_version": "1.5.0",
            "_model_name": "HBoxModel",
            "_view_count": null,
            "_view_module": "@jupyter-widgets/controls",
            "_view_module_version": "1.5.0",
            "_view_name": "HBoxView",
            "box_style": "",
            "children": [
              "IPY_MODEL_d4a50a27a82e4f8ba732ff840592f200",
              "IPY_MODEL_32f9b44d279441b9bb8010cf58173247",
              "IPY_MODEL_ae22cae53a9e48bd88d120b3a4a4cbc4"
            ],
            "layout": "IPY_MODEL_1ec0e034d4cb441fb16603d3f9f3c602"
          }
        },
        "d4a50a27a82e4f8ba732ff840592f200": {
          "model_module": "@jupyter-widgets/controls",
          "model_name": "HTMLModel",
          "model_module_version": "1.5.0",
          "state": {
            "_dom_classes": [],
            "_model_module": "@jupyter-widgets/controls",
            "_model_module_version": "1.5.0",
            "_model_name": "HTMLModel",
            "_view_count": null,
            "_view_module": "@jupyter-widgets/controls",
            "_view_module_version": "1.5.0",
            "_view_name": "HTMLView",
            "description": "",
            "description_tooltip": null,
            "layout": "IPY_MODEL_34f8f2504def418e85841fc731d1e4d2",
            "placeholder": "​",
            "style": "IPY_MODEL_4e249e4cc61a43289b6480671a9cbb8e",
            "value": "parsing log, completed traces :: 100%"
          }
        },
        "32f9b44d279441b9bb8010cf58173247": {
          "model_module": "@jupyter-widgets/controls",
          "model_name": "FloatProgressModel",
          "model_module_version": "1.5.0",
          "state": {
            "_dom_classes": [],
            "_model_module": "@jupyter-widgets/controls",
            "_model_module_version": "1.5.0",
            "_model_name": "FloatProgressModel",
            "_view_count": null,
            "_view_module": "@jupyter-widgets/controls",
            "_view_module_version": "1.5.0",
            "_view_name": "ProgressView",
            "bar_style": "success",
            "description": "",
            "description_tooltip": null,
            "layout": "IPY_MODEL_e4f735ea5f9f45b885c9ef98a49fad67",
            "max": 2,
            "min": 0,
            "orientation": "horizontal",
            "style": "IPY_MODEL_6786fe8f1d49402db1a6f143013b62f9",
            "value": 2
          }
        },
        "ae22cae53a9e48bd88d120b3a4a4cbc4": {
          "model_module": "@jupyter-widgets/controls",
          "model_name": "HTMLModel",
          "model_module_version": "1.5.0",
          "state": {
            "_dom_classes": [],
            "_model_module": "@jupyter-widgets/controls",
            "_model_module_version": "1.5.0",
            "_model_name": "HTMLModel",
            "_view_count": null,
            "_view_module": "@jupyter-widgets/controls",
            "_view_module_version": "1.5.0",
            "_view_name": "HTMLView",
            "description": "",
            "description_tooltip": null,
            "layout": "IPY_MODEL_2ab189866f9f46ed9deb66dcab6e36ef",
            "placeholder": "​",
            "style": "IPY_MODEL_7da09f35e9274bdfa24ac0f6c9afc13e",
            "value": " 2/2 [00:00&lt;00:00, 145.76it/s]"
          }
        },
        "1ec0e034d4cb441fb16603d3f9f3c602": {
          "model_module": "@jupyter-widgets/base",
          "model_name": "LayoutModel",
          "model_module_version": "1.2.0",
          "state": {
            "_model_module": "@jupyter-widgets/base",
            "_model_module_version": "1.2.0",
            "_model_name": "LayoutModel",
            "_view_count": null,
            "_view_module": "@jupyter-widgets/base",
            "_view_module_version": "1.2.0",
            "_view_name": "LayoutView",
            "align_content": null,
            "align_items": null,
            "align_self": null,
            "border": null,
            "bottom": null,
            "display": null,
            "flex": null,
            "flex_flow": null,
            "grid_area": null,
            "grid_auto_columns": null,
            "grid_auto_flow": null,
            "grid_auto_rows": null,
            "grid_column": null,
            "grid_gap": null,
            "grid_row": null,
            "grid_template_areas": null,
            "grid_template_columns": null,
            "grid_template_rows": null,
            "height": null,
            "justify_content": null,
            "justify_items": null,
            "left": null,
            "margin": null,
            "max_height": null,
            "max_width": null,
            "min_height": null,
            "min_width": null,
            "object_fit": null,
            "object_position": null,
            "order": null,
            "overflow": null,
            "overflow_x": null,
            "overflow_y": null,
            "padding": null,
            "right": null,
            "top": null,
            "visibility": null,
            "width": null
          }
        },
        "34f8f2504def418e85841fc731d1e4d2": {
          "model_module": "@jupyter-widgets/base",
          "model_name": "LayoutModel",
          "model_module_version": "1.2.0",
          "state": {
            "_model_module": "@jupyter-widgets/base",
            "_model_module_version": "1.2.0",
            "_model_name": "LayoutModel",
            "_view_count": null,
            "_view_module": "@jupyter-widgets/base",
            "_view_module_version": "1.2.0",
            "_view_name": "LayoutView",
            "align_content": null,
            "align_items": null,
            "align_self": null,
            "border": null,
            "bottom": null,
            "display": null,
            "flex": null,
            "flex_flow": null,
            "grid_area": null,
            "grid_auto_columns": null,
            "grid_auto_flow": null,
            "grid_auto_rows": null,
            "grid_column": null,
            "grid_gap": null,
            "grid_row": null,
            "grid_template_areas": null,
            "grid_template_columns": null,
            "grid_template_rows": null,
            "height": null,
            "justify_content": null,
            "justify_items": null,
            "left": null,
            "margin": null,
            "max_height": null,
            "max_width": null,
            "min_height": null,
            "min_width": null,
            "object_fit": null,
            "object_position": null,
            "order": null,
            "overflow": null,
            "overflow_x": null,
            "overflow_y": null,
            "padding": null,
            "right": null,
            "top": null,
            "visibility": null,
            "width": null
          }
        },
        "4e249e4cc61a43289b6480671a9cbb8e": {
          "model_module": "@jupyter-widgets/controls",
          "model_name": "DescriptionStyleModel",
          "model_module_version": "1.5.0",
          "state": {
            "_model_module": "@jupyter-widgets/controls",
            "_model_module_version": "1.5.0",
            "_model_name": "DescriptionStyleModel",
            "_view_count": null,
            "_view_module": "@jupyter-widgets/base",
            "_view_module_version": "1.2.0",
            "_view_name": "StyleView",
            "description_width": ""
          }
        },
        "e4f735ea5f9f45b885c9ef98a49fad67": {
          "model_module": "@jupyter-widgets/base",
          "model_name": "LayoutModel",
          "model_module_version": "1.2.0",
          "state": {
            "_model_module": "@jupyter-widgets/base",
            "_model_module_version": "1.2.0",
            "_model_name": "LayoutModel",
            "_view_count": null,
            "_view_module": "@jupyter-widgets/base",
            "_view_module_version": "1.2.0",
            "_view_name": "LayoutView",
            "align_content": null,
            "align_items": null,
            "align_self": null,
            "border": null,
            "bottom": null,
            "display": null,
            "flex": null,
            "flex_flow": null,
            "grid_area": null,
            "grid_auto_columns": null,
            "grid_auto_flow": null,
            "grid_auto_rows": null,
            "grid_column": null,
            "grid_gap": null,
            "grid_row": null,
            "grid_template_areas": null,
            "grid_template_columns": null,
            "grid_template_rows": null,
            "height": null,
            "justify_content": null,
            "justify_items": null,
            "left": null,
            "margin": null,
            "max_height": null,
            "max_width": null,
            "min_height": null,
            "min_width": null,
            "object_fit": null,
            "object_position": null,
            "order": null,
            "overflow": null,
            "overflow_x": null,
            "overflow_y": null,
            "padding": null,
            "right": null,
            "top": null,
            "visibility": null,
            "width": null
          }
        },
        "6786fe8f1d49402db1a6f143013b62f9": {
          "model_module": "@jupyter-widgets/controls",
          "model_name": "ProgressStyleModel",
          "model_module_version": "1.5.0",
          "state": {
            "_model_module": "@jupyter-widgets/controls",
            "_model_module_version": "1.5.0",
            "_model_name": "ProgressStyleModel",
            "_view_count": null,
            "_view_module": "@jupyter-widgets/base",
            "_view_module_version": "1.2.0",
            "_view_name": "StyleView",
            "bar_color": null,
            "description_width": ""
          }
        },
        "2ab189866f9f46ed9deb66dcab6e36ef": {
          "model_module": "@jupyter-widgets/base",
          "model_name": "LayoutModel",
          "model_module_version": "1.2.0",
          "state": {
            "_model_module": "@jupyter-widgets/base",
            "_model_module_version": "1.2.0",
            "_model_name": "LayoutModel",
            "_view_count": null,
            "_view_module": "@jupyter-widgets/base",
            "_view_module_version": "1.2.0",
            "_view_name": "LayoutView",
            "align_content": null,
            "align_items": null,
            "align_self": null,
            "border": null,
            "bottom": null,
            "display": null,
            "flex": null,
            "flex_flow": null,
            "grid_area": null,
            "grid_auto_columns": null,
            "grid_auto_flow": null,
            "grid_auto_rows": null,
            "grid_column": null,
            "grid_gap": null,
            "grid_row": null,
            "grid_template_areas": null,
            "grid_template_columns": null,
            "grid_template_rows": null,
            "height": null,
            "justify_content": null,
            "justify_items": null,
            "left": null,
            "margin": null,
            "max_height": null,
            "max_width": null,
            "min_height": null,
            "min_width": null,
            "object_fit": null,
            "object_position": null,
            "order": null,
            "overflow": null,
            "overflow_x": null,
            "overflow_y": null,
            "padding": null,
            "right": null,
            "top": null,
            "visibility": null,
            "width": null
          }
        },
        "7da09f35e9274bdfa24ac0f6c9afc13e": {
          "model_module": "@jupyter-widgets/controls",
          "model_name": "DescriptionStyleModel",
          "model_module_version": "1.5.0",
          "state": {
            "_model_module": "@jupyter-widgets/controls",
            "_model_module_version": "1.5.0",
            "_model_name": "DescriptionStyleModel",
            "_view_count": null,
            "_view_module": "@jupyter-widgets/base",
            "_view_module_version": "1.2.0",
            "_view_name": "StyleView",
            "description_width": ""
          }
        },
        "d3973859942146fe81195c6e3748c024": {
          "model_module": "@jupyter-widgets/controls",
          "model_name": "HBoxModel",
          "model_module_version": "1.5.0",
          "state": {
            "_dom_classes": [],
            "_model_module": "@jupyter-widgets/controls",
            "_model_module_version": "1.5.0",
            "_model_name": "HBoxModel",
            "_view_count": null,
            "_view_module": "@jupyter-widgets/controls",
            "_view_module_version": "1.5.0",
            "_view_name": "HBoxView",
            "box_style": "",
            "children": [
              "IPY_MODEL_91937290059f4584bc3c137a186796ad",
              "IPY_MODEL_b5af025021594611bf3e52b21cfe6fe0",
              "IPY_MODEL_fd5ec4ae85284ba189964233323435df"
            ],
            "layout": "IPY_MODEL_3fdbc5ade37b4eb3a32450a4c02bb14d"
          }
        },
        "91937290059f4584bc3c137a186796ad": {
          "model_module": "@jupyter-widgets/controls",
          "model_name": "HTMLModel",
          "model_module_version": "1.5.0",
          "state": {
            "_dom_classes": [],
            "_model_module": "@jupyter-widgets/controls",
            "_model_module_version": "1.5.0",
            "_model_name": "HTMLModel",
            "_view_count": null,
            "_view_module": "@jupyter-widgets/controls",
            "_view_module_version": "1.5.0",
            "_view_name": "HTMLView",
            "description": "",
            "description_tooltip": null,
            "layout": "IPY_MODEL_dd8fea092f2e4a15b99d705221e780ae",
            "placeholder": "​",
            "style": "IPY_MODEL_f6ea755a9ecc47a297421c2604a9376d",
            "value": "parsing log, completed traces :: 100%"
          }
        },
        "b5af025021594611bf3e52b21cfe6fe0": {
          "model_module": "@jupyter-widgets/controls",
          "model_name": "FloatProgressModel",
          "model_module_version": "1.5.0",
          "state": {
            "_dom_classes": [],
            "_model_module": "@jupyter-widgets/controls",
            "_model_module_version": "1.5.0",
            "_model_name": "FloatProgressModel",
            "_view_count": null,
            "_view_module": "@jupyter-widgets/controls",
            "_view_module_version": "1.5.0",
            "_view_name": "ProgressView",
            "bar_style": "success",
            "description": "",
            "description_tooltip": null,
            "layout": "IPY_MODEL_368f0fe5b96b4604bee91cfa962887c5",
            "max": 2,
            "min": 0,
            "orientation": "horizontal",
            "style": "IPY_MODEL_f128975a1b2f4f4b8f19eb1d385fcd13",
            "value": 2
          }
        },
        "fd5ec4ae85284ba189964233323435df": {
          "model_module": "@jupyter-widgets/controls",
          "model_name": "HTMLModel",
          "model_module_version": "1.5.0",
          "state": {
            "_dom_classes": [],
            "_model_module": "@jupyter-widgets/controls",
            "_model_module_version": "1.5.0",
            "_model_name": "HTMLModel",
            "_view_count": null,
            "_view_module": "@jupyter-widgets/controls",
            "_view_module_version": "1.5.0",
            "_view_name": "HTMLView",
            "description": "",
            "description_tooltip": null,
            "layout": "IPY_MODEL_a4b6c54365364b21b8d052a543b89cfb",
            "placeholder": "​",
            "style": "IPY_MODEL_eadd6580a02c4a71ad55c89843d18543",
            "value": " 2/2 [00:00&lt;00:00, 82.12it/s]"
          }
        },
        "3fdbc5ade37b4eb3a32450a4c02bb14d": {
          "model_module": "@jupyter-widgets/base",
          "model_name": "LayoutModel",
          "model_module_version": "1.2.0",
          "state": {
            "_model_module": "@jupyter-widgets/base",
            "_model_module_version": "1.2.0",
            "_model_name": "LayoutModel",
            "_view_count": null,
            "_view_module": "@jupyter-widgets/base",
            "_view_module_version": "1.2.0",
            "_view_name": "LayoutView",
            "align_content": null,
            "align_items": null,
            "align_self": null,
            "border": null,
            "bottom": null,
            "display": null,
            "flex": null,
            "flex_flow": null,
            "grid_area": null,
            "grid_auto_columns": null,
            "grid_auto_flow": null,
            "grid_auto_rows": null,
            "grid_column": null,
            "grid_gap": null,
            "grid_row": null,
            "grid_template_areas": null,
            "grid_template_columns": null,
            "grid_template_rows": null,
            "height": null,
            "justify_content": null,
            "justify_items": null,
            "left": null,
            "margin": null,
            "max_height": null,
            "max_width": null,
            "min_height": null,
            "min_width": null,
            "object_fit": null,
            "object_position": null,
            "order": null,
            "overflow": null,
            "overflow_x": null,
            "overflow_y": null,
            "padding": null,
            "right": null,
            "top": null,
            "visibility": null,
            "width": null
          }
        },
        "dd8fea092f2e4a15b99d705221e780ae": {
          "model_module": "@jupyter-widgets/base",
          "model_name": "LayoutModel",
          "model_module_version": "1.2.0",
          "state": {
            "_model_module": "@jupyter-widgets/base",
            "_model_module_version": "1.2.0",
            "_model_name": "LayoutModel",
            "_view_count": null,
            "_view_module": "@jupyter-widgets/base",
            "_view_module_version": "1.2.0",
            "_view_name": "LayoutView",
            "align_content": null,
            "align_items": null,
            "align_self": null,
            "border": null,
            "bottom": null,
            "display": null,
            "flex": null,
            "flex_flow": null,
            "grid_area": null,
            "grid_auto_columns": null,
            "grid_auto_flow": null,
            "grid_auto_rows": null,
            "grid_column": null,
            "grid_gap": null,
            "grid_row": null,
            "grid_template_areas": null,
            "grid_template_columns": null,
            "grid_template_rows": null,
            "height": null,
            "justify_content": null,
            "justify_items": null,
            "left": null,
            "margin": null,
            "max_height": null,
            "max_width": null,
            "min_height": null,
            "min_width": null,
            "object_fit": null,
            "object_position": null,
            "order": null,
            "overflow": null,
            "overflow_x": null,
            "overflow_y": null,
            "padding": null,
            "right": null,
            "top": null,
            "visibility": null,
            "width": null
          }
        },
        "f6ea755a9ecc47a297421c2604a9376d": {
          "model_module": "@jupyter-widgets/controls",
          "model_name": "DescriptionStyleModel",
          "model_module_version": "1.5.0",
          "state": {
            "_model_module": "@jupyter-widgets/controls",
            "_model_module_version": "1.5.0",
            "_model_name": "DescriptionStyleModel",
            "_view_count": null,
            "_view_module": "@jupyter-widgets/base",
            "_view_module_version": "1.2.0",
            "_view_name": "StyleView",
            "description_width": ""
          }
        },
        "368f0fe5b96b4604bee91cfa962887c5": {
          "model_module": "@jupyter-widgets/base",
          "model_name": "LayoutModel",
          "model_module_version": "1.2.0",
          "state": {
            "_model_module": "@jupyter-widgets/base",
            "_model_module_version": "1.2.0",
            "_model_name": "LayoutModel",
            "_view_count": null,
            "_view_module": "@jupyter-widgets/base",
            "_view_module_version": "1.2.0",
            "_view_name": "LayoutView",
            "align_content": null,
            "align_items": null,
            "align_self": null,
            "border": null,
            "bottom": null,
            "display": null,
            "flex": null,
            "flex_flow": null,
            "grid_area": null,
            "grid_auto_columns": null,
            "grid_auto_flow": null,
            "grid_auto_rows": null,
            "grid_column": null,
            "grid_gap": null,
            "grid_row": null,
            "grid_template_areas": null,
            "grid_template_columns": null,
            "grid_template_rows": null,
            "height": null,
            "justify_content": null,
            "justify_items": null,
            "left": null,
            "margin": null,
            "max_height": null,
            "max_width": null,
            "min_height": null,
            "min_width": null,
            "object_fit": null,
            "object_position": null,
            "order": null,
            "overflow": null,
            "overflow_x": null,
            "overflow_y": null,
            "padding": null,
            "right": null,
            "top": null,
            "visibility": null,
            "width": null
          }
        },
        "f128975a1b2f4f4b8f19eb1d385fcd13": {
          "model_module": "@jupyter-widgets/controls",
          "model_name": "ProgressStyleModel",
          "model_module_version": "1.5.0",
          "state": {
            "_model_module": "@jupyter-widgets/controls",
            "_model_module_version": "1.5.0",
            "_model_name": "ProgressStyleModel",
            "_view_count": null,
            "_view_module": "@jupyter-widgets/base",
            "_view_module_version": "1.2.0",
            "_view_name": "StyleView",
            "bar_color": null,
            "description_width": ""
          }
        },
        "a4b6c54365364b21b8d052a543b89cfb": {
          "model_module": "@jupyter-widgets/base",
          "model_name": "LayoutModel",
          "model_module_version": "1.2.0",
          "state": {
            "_model_module": "@jupyter-widgets/base",
            "_model_module_version": "1.2.0",
            "_model_name": "LayoutModel",
            "_view_count": null,
            "_view_module": "@jupyter-widgets/base",
            "_view_module_version": "1.2.0",
            "_view_name": "LayoutView",
            "align_content": null,
            "align_items": null,
            "align_self": null,
            "border": null,
            "bottom": null,
            "display": null,
            "flex": null,
            "flex_flow": null,
            "grid_area": null,
            "grid_auto_columns": null,
            "grid_auto_flow": null,
            "grid_auto_rows": null,
            "grid_column": null,
            "grid_gap": null,
            "grid_row": null,
            "grid_template_areas": null,
            "grid_template_columns": null,
            "grid_template_rows": null,
            "height": null,
            "justify_content": null,
            "justify_items": null,
            "left": null,
            "margin": null,
            "max_height": null,
            "max_width": null,
            "min_height": null,
            "min_width": null,
            "object_fit": null,
            "object_position": null,
            "order": null,
            "overflow": null,
            "overflow_x": null,
            "overflow_y": null,
            "padding": null,
            "right": null,
            "top": null,
            "visibility": null,
            "width": null
          }
        },
        "eadd6580a02c4a71ad55c89843d18543": {
          "model_module": "@jupyter-widgets/controls",
          "model_name": "DescriptionStyleModel",
          "model_module_version": "1.5.0",
          "state": {
            "_model_module": "@jupyter-widgets/controls",
            "_model_module_version": "1.5.0",
            "_model_name": "DescriptionStyleModel",
            "_view_count": null,
            "_view_module": "@jupyter-widgets/base",
            "_view_module_version": "1.2.0",
            "_view_name": "StyleView",
            "description_width": ""
          }
        },
        "7792d7a2727a4bc48e509c31116c55bf": {
          "model_module": "@jupyter-widgets/controls",
          "model_name": "HBoxModel",
          "model_module_version": "1.5.0",
          "state": {
            "_dom_classes": [],
            "_model_module": "@jupyter-widgets/controls",
            "_model_module_version": "1.5.0",
            "_model_name": "HBoxModel",
            "_view_count": null,
            "_view_module": "@jupyter-widgets/controls",
            "_view_module_version": "1.5.0",
            "_view_name": "HBoxView",
            "box_style": "",
            "children": [
              "IPY_MODEL_d542d70b83074f4882e26e8c64cd6f8a",
              "IPY_MODEL_9324b8a5ead142f5bf8b407bb66290ca",
              "IPY_MODEL_305b118c56a542ccbbedc756685e4c7b"
            ],
            "layout": "IPY_MODEL_4e9bb09ff9e54bc4a6fa1f3fa2e63b18"
          }
        },
        "d542d70b83074f4882e26e8c64cd6f8a": {
          "model_module": "@jupyter-widgets/controls",
          "model_name": "HTMLModel",
          "model_module_version": "1.5.0",
          "state": {
            "_dom_classes": [],
            "_model_module": "@jupyter-widgets/controls",
            "_model_module_version": "1.5.0",
            "_model_name": "HTMLModel",
            "_view_count": null,
            "_view_module": "@jupyter-widgets/controls",
            "_view_module_version": "1.5.0",
            "_view_name": "HTMLView",
            "description": "",
            "description_tooltip": null,
            "layout": "IPY_MODEL_03f190c2a76f4066a3db60b214550014",
            "placeholder": "​",
            "style": "IPY_MODEL_e38447fe70134761bb690c6d6cd34941",
            "value": "parsing log, completed traces :: 100%"
          }
        },
        "9324b8a5ead142f5bf8b407bb66290ca": {
          "model_module": "@jupyter-widgets/controls",
          "model_name": "FloatProgressModel",
          "model_module_version": "1.5.0",
          "state": {
            "_dom_classes": [],
            "_model_module": "@jupyter-widgets/controls",
            "_model_module_version": "1.5.0",
            "_model_name": "FloatProgressModel",
            "_view_count": null,
            "_view_module": "@jupyter-widgets/controls",
            "_view_module_version": "1.5.0",
            "_view_name": "ProgressView",
            "bar_style": "success",
            "description": "",
            "description_tooltip": null,
            "layout": "IPY_MODEL_ad5fee7432b84ccfa1567ba06c7144e1",
            "max": 2,
            "min": 0,
            "orientation": "horizontal",
            "style": "IPY_MODEL_067b35b1f5454c0893a2c554e85542a4",
            "value": 2
          }
        },
        "305b118c56a542ccbbedc756685e4c7b": {
          "model_module": "@jupyter-widgets/controls",
          "model_name": "HTMLModel",
          "model_module_version": "1.5.0",
          "state": {
            "_dom_classes": [],
            "_model_module": "@jupyter-widgets/controls",
            "_model_module_version": "1.5.0",
            "_model_name": "HTMLModel",
            "_view_count": null,
            "_view_module": "@jupyter-widgets/controls",
            "_view_module_version": "1.5.0",
            "_view_name": "HTMLView",
            "description": "",
            "description_tooltip": null,
            "layout": "IPY_MODEL_6dbff80f42d34343ae10ee55a87a00c3",
            "placeholder": "​",
            "style": "IPY_MODEL_c87209e28d394506b6d107da8625d6c7",
            "value": " 2/2 [00:00&lt;00:00, 234.24it/s]"
          }
        },
        "4e9bb09ff9e54bc4a6fa1f3fa2e63b18": {
          "model_module": "@jupyter-widgets/base",
          "model_name": "LayoutModel",
          "model_module_version": "1.2.0",
          "state": {
            "_model_module": "@jupyter-widgets/base",
            "_model_module_version": "1.2.0",
            "_model_name": "LayoutModel",
            "_view_count": null,
            "_view_module": "@jupyter-widgets/base",
            "_view_module_version": "1.2.0",
            "_view_name": "LayoutView",
            "align_content": null,
            "align_items": null,
            "align_self": null,
            "border": null,
            "bottom": null,
            "display": null,
            "flex": null,
            "flex_flow": null,
            "grid_area": null,
            "grid_auto_columns": null,
            "grid_auto_flow": null,
            "grid_auto_rows": null,
            "grid_column": null,
            "grid_gap": null,
            "grid_row": null,
            "grid_template_areas": null,
            "grid_template_columns": null,
            "grid_template_rows": null,
            "height": null,
            "justify_content": null,
            "justify_items": null,
            "left": null,
            "margin": null,
            "max_height": null,
            "max_width": null,
            "min_height": null,
            "min_width": null,
            "object_fit": null,
            "object_position": null,
            "order": null,
            "overflow": null,
            "overflow_x": null,
            "overflow_y": null,
            "padding": null,
            "right": null,
            "top": null,
            "visibility": null,
            "width": null
          }
        },
        "03f190c2a76f4066a3db60b214550014": {
          "model_module": "@jupyter-widgets/base",
          "model_name": "LayoutModel",
          "model_module_version": "1.2.0",
          "state": {
            "_model_module": "@jupyter-widgets/base",
            "_model_module_version": "1.2.0",
            "_model_name": "LayoutModel",
            "_view_count": null,
            "_view_module": "@jupyter-widgets/base",
            "_view_module_version": "1.2.0",
            "_view_name": "LayoutView",
            "align_content": null,
            "align_items": null,
            "align_self": null,
            "border": null,
            "bottom": null,
            "display": null,
            "flex": null,
            "flex_flow": null,
            "grid_area": null,
            "grid_auto_columns": null,
            "grid_auto_flow": null,
            "grid_auto_rows": null,
            "grid_column": null,
            "grid_gap": null,
            "grid_row": null,
            "grid_template_areas": null,
            "grid_template_columns": null,
            "grid_template_rows": null,
            "height": null,
            "justify_content": null,
            "justify_items": null,
            "left": null,
            "margin": null,
            "max_height": null,
            "max_width": null,
            "min_height": null,
            "min_width": null,
            "object_fit": null,
            "object_position": null,
            "order": null,
            "overflow": null,
            "overflow_x": null,
            "overflow_y": null,
            "padding": null,
            "right": null,
            "top": null,
            "visibility": null,
            "width": null
          }
        },
        "e38447fe70134761bb690c6d6cd34941": {
          "model_module": "@jupyter-widgets/controls",
          "model_name": "DescriptionStyleModel",
          "model_module_version": "1.5.0",
          "state": {
            "_model_module": "@jupyter-widgets/controls",
            "_model_module_version": "1.5.0",
            "_model_name": "DescriptionStyleModel",
            "_view_count": null,
            "_view_module": "@jupyter-widgets/base",
            "_view_module_version": "1.2.0",
            "_view_name": "StyleView",
            "description_width": ""
          }
        },
        "ad5fee7432b84ccfa1567ba06c7144e1": {
          "model_module": "@jupyter-widgets/base",
          "model_name": "LayoutModel",
          "model_module_version": "1.2.0",
          "state": {
            "_model_module": "@jupyter-widgets/base",
            "_model_module_version": "1.2.0",
            "_model_name": "LayoutModel",
            "_view_count": null,
            "_view_module": "@jupyter-widgets/base",
            "_view_module_version": "1.2.0",
            "_view_name": "LayoutView",
            "align_content": null,
            "align_items": null,
            "align_self": null,
            "border": null,
            "bottom": null,
            "display": null,
            "flex": null,
            "flex_flow": null,
            "grid_area": null,
            "grid_auto_columns": null,
            "grid_auto_flow": null,
            "grid_auto_rows": null,
            "grid_column": null,
            "grid_gap": null,
            "grid_row": null,
            "grid_template_areas": null,
            "grid_template_columns": null,
            "grid_template_rows": null,
            "height": null,
            "justify_content": null,
            "justify_items": null,
            "left": null,
            "margin": null,
            "max_height": null,
            "max_width": null,
            "min_height": null,
            "min_width": null,
            "object_fit": null,
            "object_position": null,
            "order": null,
            "overflow": null,
            "overflow_x": null,
            "overflow_y": null,
            "padding": null,
            "right": null,
            "top": null,
            "visibility": null,
            "width": null
          }
        },
        "067b35b1f5454c0893a2c554e85542a4": {
          "model_module": "@jupyter-widgets/controls",
          "model_name": "ProgressStyleModel",
          "model_module_version": "1.5.0",
          "state": {
            "_model_module": "@jupyter-widgets/controls",
            "_model_module_version": "1.5.0",
            "_model_name": "ProgressStyleModel",
            "_view_count": null,
            "_view_module": "@jupyter-widgets/base",
            "_view_module_version": "1.2.0",
            "_view_name": "StyleView",
            "bar_color": null,
            "description_width": ""
          }
        },
        "6dbff80f42d34343ae10ee55a87a00c3": {
          "model_module": "@jupyter-widgets/base",
          "model_name": "LayoutModel",
          "model_module_version": "1.2.0",
          "state": {
            "_model_module": "@jupyter-widgets/base",
            "_model_module_version": "1.2.0",
            "_model_name": "LayoutModel",
            "_view_count": null,
            "_view_module": "@jupyter-widgets/base",
            "_view_module_version": "1.2.0",
            "_view_name": "LayoutView",
            "align_content": null,
            "align_items": null,
            "align_self": null,
            "border": null,
            "bottom": null,
            "display": null,
            "flex": null,
            "flex_flow": null,
            "grid_area": null,
            "grid_auto_columns": null,
            "grid_auto_flow": null,
            "grid_auto_rows": null,
            "grid_column": null,
            "grid_gap": null,
            "grid_row": null,
            "grid_template_areas": null,
            "grid_template_columns": null,
            "grid_template_rows": null,
            "height": null,
            "justify_content": null,
            "justify_items": null,
            "left": null,
            "margin": null,
            "max_height": null,
            "max_width": null,
            "min_height": null,
            "min_width": null,
            "object_fit": null,
            "object_position": null,
            "order": null,
            "overflow": null,
            "overflow_x": null,
            "overflow_y": null,
            "padding": null,
            "right": null,
            "top": null,
            "visibility": null,
            "width": null
          }
        },
        "c87209e28d394506b6d107da8625d6c7": {
          "model_module": "@jupyter-widgets/controls",
          "model_name": "DescriptionStyleModel",
          "model_module_version": "1.5.0",
          "state": {
            "_model_module": "@jupyter-widgets/controls",
            "_model_module_version": "1.5.0",
            "_model_name": "DescriptionStyleModel",
            "_view_count": null,
            "_view_module": "@jupyter-widgets/base",
            "_view_module_version": "1.2.0",
            "_view_name": "StyleView",
            "description_width": ""
          }
        },
        "db05d1f520c4465b90efe370a7645eb3": {
          "model_module": "@jupyter-widgets/controls",
          "model_name": "HBoxModel",
          "model_module_version": "1.5.0",
          "state": {
            "_dom_classes": [],
            "_model_module": "@jupyter-widgets/controls",
            "_model_module_version": "1.5.0",
            "_model_name": "HBoxModel",
            "_view_count": null,
            "_view_module": "@jupyter-widgets/controls",
            "_view_module_version": "1.5.0",
            "_view_name": "HBoxView",
            "box_style": "",
            "children": [
              "IPY_MODEL_a121efe2b02b45a9b577703cc5ad9651",
              "IPY_MODEL_3f557f676ecf4398a14cb5d9cee3d890",
              "IPY_MODEL_99015879ec2f44b3890b388f75023676"
            ],
            "layout": "IPY_MODEL_ed102816d887486f974a914cc41a657f"
          }
        },
        "a121efe2b02b45a9b577703cc5ad9651": {
          "model_module": "@jupyter-widgets/controls",
          "model_name": "HTMLModel",
          "model_module_version": "1.5.0",
          "state": {
            "_dom_classes": [],
            "_model_module": "@jupyter-widgets/controls",
            "_model_module_version": "1.5.0",
            "_model_name": "HTMLModel",
            "_view_count": null,
            "_view_module": "@jupyter-widgets/controls",
            "_view_module_version": "1.5.0",
            "_view_name": "HTMLView",
            "description": "",
            "description_tooltip": null,
            "layout": "IPY_MODEL_b1fef5927839474cb036283988cc8af2",
            "placeholder": "​",
            "style": "IPY_MODEL_205046e910f94a4f99d0e353d1a2d023",
            "value": "parsing log, completed traces :: 100%"
          }
        },
        "3f557f676ecf4398a14cb5d9cee3d890": {
          "model_module": "@jupyter-widgets/controls",
          "model_name": "FloatProgressModel",
          "model_module_version": "1.5.0",
          "state": {
            "_dom_classes": [],
            "_model_module": "@jupyter-widgets/controls",
            "_model_module_version": "1.5.0",
            "_model_name": "FloatProgressModel",
            "_view_count": null,
            "_view_module": "@jupyter-widgets/controls",
            "_view_module_version": "1.5.0",
            "_view_name": "ProgressView",
            "bar_style": "success",
            "description": "",
            "description_tooltip": null,
            "layout": "IPY_MODEL_b325e492d18d45bcb367871be46266c5",
            "max": 2,
            "min": 0,
            "orientation": "horizontal",
            "style": "IPY_MODEL_27dd3c28ddb44bdfa1077eadd6b78c76",
            "value": 2
          }
        },
        "99015879ec2f44b3890b388f75023676": {
          "model_module": "@jupyter-widgets/controls",
          "model_name": "HTMLModel",
          "model_module_version": "1.5.0",
          "state": {
            "_dom_classes": [],
            "_model_module": "@jupyter-widgets/controls",
            "_model_module_version": "1.5.0",
            "_model_name": "HTMLModel",
            "_view_count": null,
            "_view_module": "@jupyter-widgets/controls",
            "_view_module_version": "1.5.0",
            "_view_name": "HTMLView",
            "description": "",
            "description_tooltip": null,
            "layout": "IPY_MODEL_0ef12392865741b6a91b663ab84afb88",
            "placeholder": "​",
            "style": "IPY_MODEL_eaa5b41ad5b64aa48a7702eb7936b297",
            "value": " 2/2 [00:00&lt;00:00, 156.06it/s]"
          }
        },
        "ed102816d887486f974a914cc41a657f": {
          "model_module": "@jupyter-widgets/base",
          "model_name": "LayoutModel",
          "model_module_version": "1.2.0",
          "state": {
            "_model_module": "@jupyter-widgets/base",
            "_model_module_version": "1.2.0",
            "_model_name": "LayoutModel",
            "_view_count": null,
            "_view_module": "@jupyter-widgets/base",
            "_view_module_version": "1.2.0",
            "_view_name": "LayoutView",
            "align_content": null,
            "align_items": null,
            "align_self": null,
            "border": null,
            "bottom": null,
            "display": null,
            "flex": null,
            "flex_flow": null,
            "grid_area": null,
            "grid_auto_columns": null,
            "grid_auto_flow": null,
            "grid_auto_rows": null,
            "grid_column": null,
            "grid_gap": null,
            "grid_row": null,
            "grid_template_areas": null,
            "grid_template_columns": null,
            "grid_template_rows": null,
            "height": null,
            "justify_content": null,
            "justify_items": null,
            "left": null,
            "margin": null,
            "max_height": null,
            "max_width": null,
            "min_height": null,
            "min_width": null,
            "object_fit": null,
            "object_position": null,
            "order": null,
            "overflow": null,
            "overflow_x": null,
            "overflow_y": null,
            "padding": null,
            "right": null,
            "top": null,
            "visibility": null,
            "width": null
          }
        },
        "b1fef5927839474cb036283988cc8af2": {
          "model_module": "@jupyter-widgets/base",
          "model_name": "LayoutModel",
          "model_module_version": "1.2.0",
          "state": {
            "_model_module": "@jupyter-widgets/base",
            "_model_module_version": "1.2.0",
            "_model_name": "LayoutModel",
            "_view_count": null,
            "_view_module": "@jupyter-widgets/base",
            "_view_module_version": "1.2.0",
            "_view_name": "LayoutView",
            "align_content": null,
            "align_items": null,
            "align_self": null,
            "border": null,
            "bottom": null,
            "display": null,
            "flex": null,
            "flex_flow": null,
            "grid_area": null,
            "grid_auto_columns": null,
            "grid_auto_flow": null,
            "grid_auto_rows": null,
            "grid_column": null,
            "grid_gap": null,
            "grid_row": null,
            "grid_template_areas": null,
            "grid_template_columns": null,
            "grid_template_rows": null,
            "height": null,
            "justify_content": null,
            "justify_items": null,
            "left": null,
            "margin": null,
            "max_height": null,
            "max_width": null,
            "min_height": null,
            "min_width": null,
            "object_fit": null,
            "object_position": null,
            "order": null,
            "overflow": null,
            "overflow_x": null,
            "overflow_y": null,
            "padding": null,
            "right": null,
            "top": null,
            "visibility": null,
            "width": null
          }
        },
        "205046e910f94a4f99d0e353d1a2d023": {
          "model_module": "@jupyter-widgets/controls",
          "model_name": "DescriptionStyleModel",
          "model_module_version": "1.5.0",
          "state": {
            "_model_module": "@jupyter-widgets/controls",
            "_model_module_version": "1.5.0",
            "_model_name": "DescriptionStyleModel",
            "_view_count": null,
            "_view_module": "@jupyter-widgets/base",
            "_view_module_version": "1.2.0",
            "_view_name": "StyleView",
            "description_width": ""
          }
        },
        "b325e492d18d45bcb367871be46266c5": {
          "model_module": "@jupyter-widgets/base",
          "model_name": "LayoutModel",
          "model_module_version": "1.2.0",
          "state": {
            "_model_module": "@jupyter-widgets/base",
            "_model_module_version": "1.2.0",
            "_model_name": "LayoutModel",
            "_view_count": null,
            "_view_module": "@jupyter-widgets/base",
            "_view_module_version": "1.2.0",
            "_view_name": "LayoutView",
            "align_content": null,
            "align_items": null,
            "align_self": null,
            "border": null,
            "bottom": null,
            "display": null,
            "flex": null,
            "flex_flow": null,
            "grid_area": null,
            "grid_auto_columns": null,
            "grid_auto_flow": null,
            "grid_auto_rows": null,
            "grid_column": null,
            "grid_gap": null,
            "grid_row": null,
            "grid_template_areas": null,
            "grid_template_columns": null,
            "grid_template_rows": null,
            "height": null,
            "justify_content": null,
            "justify_items": null,
            "left": null,
            "margin": null,
            "max_height": null,
            "max_width": null,
            "min_height": null,
            "min_width": null,
            "object_fit": null,
            "object_position": null,
            "order": null,
            "overflow": null,
            "overflow_x": null,
            "overflow_y": null,
            "padding": null,
            "right": null,
            "top": null,
            "visibility": null,
            "width": null
          }
        },
        "27dd3c28ddb44bdfa1077eadd6b78c76": {
          "model_module": "@jupyter-widgets/controls",
          "model_name": "ProgressStyleModel",
          "model_module_version": "1.5.0",
          "state": {
            "_model_module": "@jupyter-widgets/controls",
            "_model_module_version": "1.5.0",
            "_model_name": "ProgressStyleModel",
            "_view_count": null,
            "_view_module": "@jupyter-widgets/base",
            "_view_module_version": "1.2.0",
            "_view_name": "StyleView",
            "bar_color": null,
            "description_width": ""
          }
        },
        "0ef12392865741b6a91b663ab84afb88": {
          "model_module": "@jupyter-widgets/base",
          "model_name": "LayoutModel",
          "model_module_version": "1.2.0",
          "state": {
            "_model_module": "@jupyter-widgets/base",
            "_model_module_version": "1.2.0",
            "_model_name": "LayoutModel",
            "_view_count": null,
            "_view_module": "@jupyter-widgets/base",
            "_view_module_version": "1.2.0",
            "_view_name": "LayoutView",
            "align_content": null,
            "align_items": null,
            "align_self": null,
            "border": null,
            "bottom": null,
            "display": null,
            "flex": null,
            "flex_flow": null,
            "grid_area": null,
            "grid_auto_columns": null,
            "grid_auto_flow": null,
            "grid_auto_rows": null,
            "grid_column": null,
            "grid_gap": null,
            "grid_row": null,
            "grid_template_areas": null,
            "grid_template_columns": null,
            "grid_template_rows": null,
            "height": null,
            "justify_content": null,
            "justify_items": null,
            "left": null,
            "margin": null,
            "max_height": null,
            "max_width": null,
            "min_height": null,
            "min_width": null,
            "object_fit": null,
            "object_position": null,
            "order": null,
            "overflow": null,
            "overflow_x": null,
            "overflow_y": null,
            "padding": null,
            "right": null,
            "top": null,
            "visibility": null,
            "width": null
          }
        },
        "eaa5b41ad5b64aa48a7702eb7936b297": {
          "model_module": "@jupyter-widgets/controls",
          "model_name": "DescriptionStyleModel",
          "model_module_version": "1.5.0",
          "state": {
            "_model_module": "@jupyter-widgets/controls",
            "_model_module_version": "1.5.0",
            "_model_name": "DescriptionStyleModel",
            "_view_count": null,
            "_view_module": "@jupyter-widgets/base",
            "_view_module_version": "1.2.0",
            "_view_name": "StyleView",
            "description_width": ""
          }
        },
        "f32c4721ff47477a9aeeb1a5ba732748": {
          "model_module": "@jupyter-widgets/controls",
          "model_name": "HBoxModel",
          "model_module_version": "1.5.0",
          "state": {
            "_dom_classes": [],
            "_model_module": "@jupyter-widgets/controls",
            "_model_module_version": "1.5.0",
            "_model_name": "HBoxModel",
            "_view_count": null,
            "_view_module": "@jupyter-widgets/controls",
            "_view_module_version": "1.5.0",
            "_view_name": "HBoxView",
            "box_style": "",
            "children": [
              "IPY_MODEL_132106d5f60a4b60a870dfb38556ee80",
              "IPY_MODEL_0010a8460676411a8857b122ce69c0ef",
              "IPY_MODEL_90a865978a894def921a902b464b16ef"
            ],
            "layout": "IPY_MODEL_040e9446b0fd45b6b9af42011cd16f79"
          }
        },
        "132106d5f60a4b60a870dfb38556ee80": {
          "model_module": "@jupyter-widgets/controls",
          "model_name": "HTMLModel",
          "model_module_version": "1.5.0",
          "state": {
            "_dom_classes": [],
            "_model_module": "@jupyter-widgets/controls",
            "_model_module_version": "1.5.0",
            "_model_name": "HTMLModel",
            "_view_count": null,
            "_view_module": "@jupyter-widgets/controls",
            "_view_module_version": "1.5.0",
            "_view_name": "HTMLView",
            "description": "",
            "description_tooltip": null,
            "layout": "IPY_MODEL_e8f7a22e09b9435b9b5dd1f403e8e016",
            "placeholder": "​",
            "style": "IPY_MODEL_0558730fe7d2446cbedb041499066848",
            "value": "parsing log, completed traces :: 100%"
          }
        },
        "0010a8460676411a8857b122ce69c0ef": {
          "model_module": "@jupyter-widgets/controls",
          "model_name": "FloatProgressModel",
          "model_module_version": "1.5.0",
          "state": {
            "_dom_classes": [],
            "_model_module": "@jupyter-widgets/controls",
            "_model_module_version": "1.5.0",
            "_model_name": "FloatProgressModel",
            "_view_count": null,
            "_view_module": "@jupyter-widgets/controls",
            "_view_module_version": "1.5.0",
            "_view_name": "ProgressView",
            "bar_style": "success",
            "description": "",
            "description_tooltip": null,
            "layout": "IPY_MODEL_c87bbc0c119743e3bbc07b3bcb147056",
            "max": 2,
            "min": 0,
            "orientation": "horizontal",
            "style": "IPY_MODEL_e3882b11bd384029881d35cb8e736f96",
            "value": 2
          }
        },
        "90a865978a894def921a902b464b16ef": {
          "model_module": "@jupyter-widgets/controls",
          "model_name": "HTMLModel",
          "model_module_version": "1.5.0",
          "state": {
            "_dom_classes": [],
            "_model_module": "@jupyter-widgets/controls",
            "_model_module_version": "1.5.0",
            "_model_name": "HTMLModel",
            "_view_count": null,
            "_view_module": "@jupyter-widgets/controls",
            "_view_module_version": "1.5.0",
            "_view_name": "HTMLView",
            "description": "",
            "description_tooltip": null,
            "layout": "IPY_MODEL_f455e95c288d4dc99207404fd6f1ceb5",
            "placeholder": "​",
            "style": "IPY_MODEL_9cff8ca170b847e2b0357631ec5cf15e",
            "value": " 2/2 [00:00&lt;00:00, 221.15it/s]"
          }
        },
        "040e9446b0fd45b6b9af42011cd16f79": {
          "model_module": "@jupyter-widgets/base",
          "model_name": "LayoutModel",
          "model_module_version": "1.2.0",
          "state": {
            "_model_module": "@jupyter-widgets/base",
            "_model_module_version": "1.2.0",
            "_model_name": "LayoutModel",
            "_view_count": null,
            "_view_module": "@jupyter-widgets/base",
            "_view_module_version": "1.2.0",
            "_view_name": "LayoutView",
            "align_content": null,
            "align_items": null,
            "align_self": null,
            "border": null,
            "bottom": null,
            "display": null,
            "flex": null,
            "flex_flow": null,
            "grid_area": null,
            "grid_auto_columns": null,
            "grid_auto_flow": null,
            "grid_auto_rows": null,
            "grid_column": null,
            "grid_gap": null,
            "grid_row": null,
            "grid_template_areas": null,
            "grid_template_columns": null,
            "grid_template_rows": null,
            "height": null,
            "justify_content": null,
            "justify_items": null,
            "left": null,
            "margin": null,
            "max_height": null,
            "max_width": null,
            "min_height": null,
            "min_width": null,
            "object_fit": null,
            "object_position": null,
            "order": null,
            "overflow": null,
            "overflow_x": null,
            "overflow_y": null,
            "padding": null,
            "right": null,
            "top": null,
            "visibility": null,
            "width": null
          }
        },
        "e8f7a22e09b9435b9b5dd1f403e8e016": {
          "model_module": "@jupyter-widgets/base",
          "model_name": "LayoutModel",
          "model_module_version": "1.2.0",
          "state": {
            "_model_module": "@jupyter-widgets/base",
            "_model_module_version": "1.2.0",
            "_model_name": "LayoutModel",
            "_view_count": null,
            "_view_module": "@jupyter-widgets/base",
            "_view_module_version": "1.2.0",
            "_view_name": "LayoutView",
            "align_content": null,
            "align_items": null,
            "align_self": null,
            "border": null,
            "bottom": null,
            "display": null,
            "flex": null,
            "flex_flow": null,
            "grid_area": null,
            "grid_auto_columns": null,
            "grid_auto_flow": null,
            "grid_auto_rows": null,
            "grid_column": null,
            "grid_gap": null,
            "grid_row": null,
            "grid_template_areas": null,
            "grid_template_columns": null,
            "grid_template_rows": null,
            "height": null,
            "justify_content": null,
            "justify_items": null,
            "left": null,
            "margin": null,
            "max_height": null,
            "max_width": null,
            "min_height": null,
            "min_width": null,
            "object_fit": null,
            "object_position": null,
            "order": null,
            "overflow": null,
            "overflow_x": null,
            "overflow_y": null,
            "padding": null,
            "right": null,
            "top": null,
            "visibility": null,
            "width": null
          }
        },
        "0558730fe7d2446cbedb041499066848": {
          "model_module": "@jupyter-widgets/controls",
          "model_name": "DescriptionStyleModel",
          "model_module_version": "1.5.0",
          "state": {
            "_model_module": "@jupyter-widgets/controls",
            "_model_module_version": "1.5.0",
            "_model_name": "DescriptionStyleModel",
            "_view_count": null,
            "_view_module": "@jupyter-widgets/base",
            "_view_module_version": "1.2.0",
            "_view_name": "StyleView",
            "description_width": ""
          }
        },
        "c87bbc0c119743e3bbc07b3bcb147056": {
          "model_module": "@jupyter-widgets/base",
          "model_name": "LayoutModel",
          "model_module_version": "1.2.0",
          "state": {
            "_model_module": "@jupyter-widgets/base",
            "_model_module_version": "1.2.0",
            "_model_name": "LayoutModel",
            "_view_count": null,
            "_view_module": "@jupyter-widgets/base",
            "_view_module_version": "1.2.0",
            "_view_name": "LayoutView",
            "align_content": null,
            "align_items": null,
            "align_self": null,
            "border": null,
            "bottom": null,
            "display": null,
            "flex": null,
            "flex_flow": null,
            "grid_area": null,
            "grid_auto_columns": null,
            "grid_auto_flow": null,
            "grid_auto_rows": null,
            "grid_column": null,
            "grid_gap": null,
            "grid_row": null,
            "grid_template_areas": null,
            "grid_template_columns": null,
            "grid_template_rows": null,
            "height": null,
            "justify_content": null,
            "justify_items": null,
            "left": null,
            "margin": null,
            "max_height": null,
            "max_width": null,
            "min_height": null,
            "min_width": null,
            "object_fit": null,
            "object_position": null,
            "order": null,
            "overflow": null,
            "overflow_x": null,
            "overflow_y": null,
            "padding": null,
            "right": null,
            "top": null,
            "visibility": null,
            "width": null
          }
        },
        "e3882b11bd384029881d35cb8e736f96": {
          "model_module": "@jupyter-widgets/controls",
          "model_name": "ProgressStyleModel",
          "model_module_version": "1.5.0",
          "state": {
            "_model_module": "@jupyter-widgets/controls",
            "_model_module_version": "1.5.0",
            "_model_name": "ProgressStyleModel",
            "_view_count": null,
            "_view_module": "@jupyter-widgets/base",
            "_view_module_version": "1.2.0",
            "_view_name": "StyleView",
            "bar_color": null,
            "description_width": ""
          }
        },
        "f455e95c288d4dc99207404fd6f1ceb5": {
          "model_module": "@jupyter-widgets/base",
          "model_name": "LayoutModel",
          "model_module_version": "1.2.0",
          "state": {
            "_model_module": "@jupyter-widgets/base",
            "_model_module_version": "1.2.0",
            "_model_name": "LayoutModel",
            "_view_count": null,
            "_view_module": "@jupyter-widgets/base",
            "_view_module_version": "1.2.0",
            "_view_name": "LayoutView",
            "align_content": null,
            "align_items": null,
            "align_self": null,
            "border": null,
            "bottom": null,
            "display": null,
            "flex": null,
            "flex_flow": null,
            "grid_area": null,
            "grid_auto_columns": null,
            "grid_auto_flow": null,
            "grid_auto_rows": null,
            "grid_column": null,
            "grid_gap": null,
            "grid_row": null,
            "grid_template_areas": null,
            "grid_template_columns": null,
            "grid_template_rows": null,
            "height": null,
            "justify_content": null,
            "justify_items": null,
            "left": null,
            "margin": null,
            "max_height": null,
            "max_width": null,
            "min_height": null,
            "min_width": null,
            "object_fit": null,
            "object_position": null,
            "order": null,
            "overflow": null,
            "overflow_x": null,
            "overflow_y": null,
            "padding": null,
            "right": null,
            "top": null,
            "visibility": null,
            "width": null
          }
        },
        "9cff8ca170b847e2b0357631ec5cf15e": {
          "model_module": "@jupyter-widgets/controls",
          "model_name": "DescriptionStyleModel",
          "model_module_version": "1.5.0",
          "state": {
            "_model_module": "@jupyter-widgets/controls",
            "_model_module_version": "1.5.0",
            "_model_name": "DescriptionStyleModel",
            "_view_count": null,
            "_view_module": "@jupyter-widgets/base",
            "_view_module_version": "1.2.0",
            "_view_name": "StyleView",
            "description_width": ""
          }
        }
      }
    }
  },
  "nbformat": 4,
  "nbformat_minor": 0
}