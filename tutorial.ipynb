{
 "cells": [
  {
   "cell_type": "markdown",
   "metadata": {
    "id": "yqDUtf_0mBhg"
   },
   "source": [
    "# Streaming process mining with `pyBeamline`"
   ]
  },
  {
   "cell_type": "markdown",
   "metadata": {
    "id": "9Aq7aw-kmBhj"
   },
   "source": [
    "`pyBeamline` is a Python version of Beamline. While the same set of ideas and principles of Beamline have been ported into `pyBeamline`, the underlying goal and technology is very different.\n",
    "\n",
    "pyBeamline is based on ReactiveX and its Python binding RxPY. RxPY is a library for composing asynchronous and event-based programs using observable sequences and pipable query operators in Python. Using pyBeamline it is possible to inject process mining operators into the computation.\n",
    "\n",
    "This Jupyter notebook contains the main functionalities currently exposed by `pyBeamline`. For a complete documentation of the library see https://www.beamline.cloud/pybeamline/. In the rest of the notebook it is assumed that the `pyBeamline` package is already installed.\n",
    "\n",
    "In the rest of this document, the main functionalities are exposed."
   ]
  },
  {
   "cell_type": "markdown",
   "metadata": {
    "id": "H_u0aIVxmBhk"
   },
   "source": [
    "It is possible to install the library using:"
   ]
  },
  {
   "cell_type": "code",
   "execution_count": 1,
   "metadata": {
    "colab": {
     "base_uri": "https://localhost:8080/"
    },
    "id": "T1pTAL35mBhk",
    "outputId": "f482abee-b5a3-4786-ca4e-ee2e708602e0"
   },
   "outputs": [
    {
     "name": "stdout",
     "output_type": "stream",
     "text": [
      "Defaulting to user installation because normal site-packages is not writeable\n",
      "Requirement already satisfied: pybeamline in /home/andbur/.local/lib/python3.10/site-packages (1.0.8)\n",
      "Requirement already satisfied: pandas~=2.2.3 in /home/andbur/.local/lib/python3.10/site-packages (from pybeamline) (2.2.3)\n",
      "Requirement already satisfied: setuptools~=68.0.0 in /home/andbur/.local/lib/python3.10/site-packages (from pybeamline) (68.0.0)\n",
      "Requirement already satisfied: requests~=2.31.0 in /home/andbur/.local/lib/python3.10/site-packages (from pybeamline) (2.31.0)\n",
      "Requirement already satisfied: river~=0.21.2 in /home/andbur/.local/lib/python3.10/site-packages (from pybeamline) (0.21.2)\n",
      "Requirement already satisfied: pyais~=2.8.2 in /home/andbur/.local/lib/python3.10/site-packages (from pybeamline) (2.8.4)\n",
      "Requirement already satisfied: reactivex==4.0.4 in /home/andbur/.local/lib/python3.10/site-packages (from pybeamline) (4.0.4)\n",
      "Requirement already satisfied: paho-mqtt==2.1.0 in /home/andbur/.local/lib/python3.10/site-packages (from pybeamline) (2.1.0)\n",
      "Requirement already satisfied: pm4py==2.7.4 in /home/andbur/.local/lib/python3.10/site-packages (from pybeamline) (2.7.4)\n",
      "Requirement already satisfied: objsize~=0.7.0 in /home/andbur/.local/lib/python3.10/site-packages (from pybeamline) (0.7.1)\n",
      "Requirement already satisfied: pydotplus in /home/andbur/.local/lib/python3.10/site-packages (from pm4py==2.7.4->pybeamline) (2.0.2)\n",
      "Requirement already satisfied: pytz in /usr/lib/python3/dist-packages (from pm4py==2.7.4->pybeamline) (2022.1)\n",
      "Requirement already satisfied: stringdist in /home/andbur/.local/lib/python3.10/site-packages (from pm4py==2.7.4->pybeamline) (1.0.9)\n",
      "Requirement already satisfied: matplotlib in /usr/lib/python3/dist-packages (from pm4py==2.7.4->pybeamline) (3.5.1)\n",
      "Requirement already satisfied: graphviz in /home/andbur/.local/lib/python3.10/site-packages (from pm4py==2.7.4->pybeamline) (0.20.3)\n",
      "Requirement already satisfied: tqdm in /home/andbur/.local/lib/python3.10/site-packages (from pm4py==2.7.4->pybeamline) (4.67.0)\n",
      "Requirement already satisfied: scipy in /home/andbur/.local/lib/python3.10/site-packages (from pm4py==2.7.4->pybeamline) (1.15.3)\n",
      "Requirement already satisfied: deprecation in /home/andbur/.local/lib/python3.10/site-packages (from pm4py==2.7.4->pybeamline) (2.1.0)\n",
      "Requirement already satisfied: numpy in /home/andbur/.local/lib/python3.10/site-packages (from pm4py==2.7.4->pybeamline) (1.24.0)\n",
      "Requirement already satisfied: networkx in /home/andbur/.local/lib/python3.10/site-packages (from pm4py==2.7.4->pybeamline) (3.4.2)\n",
      "Requirement already satisfied: lxml in /usr/lib/python3/dist-packages (from pm4py==2.7.4->pybeamline) (4.8.0)\n",
      "Requirement already satisfied: intervaltree in /home/andbur/.local/lib/python3.10/site-packages (from pm4py==2.7.4->pybeamline) (3.1.0)\n",
      "Requirement already satisfied: cvxopt in /home/andbur/.local/lib/python3.10/site-packages (from pm4py==2.7.4->pybeamline) (1.3.2)\n",
      "Requirement already satisfied: typing-extensions<5.0.0,>=4.1.1 in /home/andbur/.local/lib/python3.10/site-packages (from reactivex==4.0.4->pybeamline) (4.12.2)\n",
      "Requirement already satisfied: tzdata>=2022.7 in /home/andbur/.local/lib/python3.10/site-packages (from pandas~=2.2.3->pybeamline) (2024.2)\n",
      "Requirement already satisfied: python-dateutil>=2.8.2 in /home/andbur/.local/lib/python3.10/site-packages (from pandas~=2.2.3->pybeamline) (2.8.2)\n",
      "Requirement already satisfied: attrs in /usr/local/lib/python3.10/dist-packages (from pyais~=2.8.2->pybeamline) (24.2.0)\n",
      "Requirement already satisfied: bitarray in /home/andbur/.local/lib/python3.10/site-packages (from pyais~=2.8.2->pybeamline) (3.6.1)\n",
      "Requirement already satisfied: urllib3<3,>=1.21.1 in /home/andbur/.local/lib/python3.10/site-packages (from requests~=2.31.0->pybeamline) (2.1.0)\n",
      "Requirement already satisfied: charset-normalizer<4,>=2 in /home/andbur/.local/lib/python3.10/site-packages (from requests~=2.31.0->pybeamline) (3.3.2)\n",
      "Requirement already satisfied: idna<4,>=2.5 in /home/andbur/.local/lib/python3.10/site-packages (from requests~=2.31.0->pybeamline) (3.6)\n",
      "Requirement already satisfied: certifi>=2017.4.17 in /home/andbur/.local/lib/python3.10/site-packages (from requests~=2.31.0->pybeamline) (2023.11.17)\n",
      "Requirement already satisfied: six>=1.5 in /usr/lib/python3/dist-packages (from python-dateutil>=2.8.2->pandas~=2.2.3->pybeamline) (1.16.0)\n",
      "Requirement already satisfied: packaging in /home/andbur/.local/lib/python3.10/site-packages (from deprecation->pm4py==2.7.4->pybeamline) (23.1)\n",
      "Requirement already satisfied: sortedcontainers<3.0,>=2.0 in /home/andbur/.local/lib/python3.10/site-packages (from intervaltree->pm4py==2.7.4->pybeamline) (2.4.0)\n",
      "Requirement already satisfied: pyparsing>=2.0.1 in /usr/lib/python3/dist-packages (from pydotplus->pm4py==2.7.4->pybeamline) (2.4.7)\n"
     ]
    }
   ],
   "source": [
    "!pip install pybeamline"
   ]
  },
  {
   "cell_type": "code",
   "execution_count": 2,
   "metadata": {
    "id": "tIdDi1uKmBhl"
   },
   "outputs": [],
   "source": [
    "# Let's ignore some PM4PY warnings in the notebook\n",
    "import warnings\n",
    "warnings.filterwarnings(\"ignore\")"
   ]
  },
  {
   "cell_type": "markdown",
   "metadata": {
    "id": "CIsiP7qLmBhl"
   },
   "source": [
    "### Sources"
   ]
  },
  {
   "cell_type": "code",
   "execution_count": 3,
   "metadata": {
    "colab": {
     "base_uri": "https://localhost:8080/"
    },
    "id": "Wzc6JNYXmBhm",
    "outputId": "b4f7d457-6488-433f-e5b7-5037119f9d8d"
   },
   "outputs": [
    {
     "name": "stdout",
     "output_type": "stream",
     "text": [
      "(A, case_1, Process, 2025-08-22 14:31:21.467918 - {} - {} - {})\n",
      "(B, case_1, Process, 2025-08-22 14:31:21.468029 - {} - {} - {})\n",
      "(C, case_1, Process, 2025-08-22 14:31:21.468044 - {} - {} - {})\n",
      "(A, case_2, Process, 2025-08-22 14:31:21.468056 - {} - {} - {})\n",
      "(C, case_2, Process, 2025-08-22 14:31:21.468064 - {} - {} - {})\n",
      "(B, case_2, Process, 2025-08-22 14:31:21.468664 - {} - {} - {})\n",
      "(E, case_3, Process, 2025-08-22 14:31:21.468828 - {} - {} - {})\n",
      "(F, case_3, Process, 2025-08-22 14:31:21.468890 - {} - {} - {})\n",
      "(G, case_3, Process, 2025-08-22 14:31:21.468918 - {} - {} - {})\n"
     ]
    },
    {
     "data": {
      "text/plain": [
       "<reactivex.disposable.disposable.Disposable at 0x7fa7a4733fd0>"
      ]
     },
     "execution_count": 3,
     "metadata": {},
     "output_type": "execute_result"
    }
   ],
   "source": [
    "from pybeamline.sources import string_test_source\n",
    "\n",
    "string_test_source([\"ABC\", \"ACB\", \"EFG\"]) \\\n",
    "    .subscribe(lambda x: print(str(x)))"
   ]
  },
  {
   "cell_type": "code",
   "execution_count": 4,
   "metadata": {
    "colab": {
     "base_uri": "https://localhost:8080/"
    },
    "id": "MNEZbH1UwkeQ",
    "outputId": "ec009200-858f-4158-cc1f-225a5454b52a"
   },
   "outputs": [
    {
     "name": "stdout",
     "output_type": "stream",
     "text": [
      "--2025-08-22 14:31:22--  https://raw.githubusercontent.com/beamline/pybeamline/refs/heads/master/tests/log.xes\n",
      "Resolving raw.githubusercontent.com (raw.githubusercontent.com)... 185.199.108.133, 185.199.110.133, 185.199.111.133, ...\n",
      "Connecting to raw.githubusercontent.com (raw.githubusercontent.com)|185.199.108.133|:443... connected.\n",
      "HTTP request sent, awaiting response... 200 OK\n",
      "Length: 2029 (2.0K) [text/plain]\n",
      "Saving to: ‘log.xes.2’\n",
      "\n",
      "log.xes.2           100%[===================>]   1.98K  --.-KB/s    in 0.001s  \n",
      "\n",
      "2025-08-22 14:31:22 (2.77 MB/s) - ‘log.xes.2’ saved [2029/2029]\n",
      "\n"
     ]
    }
   ],
   "source": [
    "!wget https://raw.githubusercontent.com/beamline/pybeamline/refs/heads/master/tests/log.xes"
   ]
  },
  {
   "cell_type": "code",
   "execution_count": 5,
   "metadata": {
    "colab": {
     "base_uri": "https://localhost:8080/",
     "height": 153,
     "referenced_widgets": [
      "d2fc00da89bd408db72f44e0611f25fc",
      "a22b5a05cb7947cda664002e53b96759",
      "a0cd5b3efe0844d4a59238e3f14557c6",
      "3a86c381743e406387d3e021a8235806",
      "0de8c911d9614e148b2ea8bc3331794a",
      "6bc6934192f64231a57861885b78bc07",
      "dcc8185b73594189876b2b184d139c42",
      "2239d81cb16b417ba5088b0f03b9ccbb",
      "553ee7acfe26432997919a111494839b",
      "f10af0d51834407198e617bd8488d4eb",
      "eeedd994c5c64b979816076517a8fbc6"
     ]
    },
    "id": "gQTaqXeImBhm",
    "outputId": "2cf77ec6-3c8f-449d-d739-4b975aa22b7f"
   },
   "outputs": [
    {
     "data": {
      "application/vnd.jupyter.widget-view+json": {
       "model_id": "b65dd39cabbc4c51859de3c84df3b3b7",
       "version_major": 2,
       "version_minor": 0
      },
      "text/plain": [
       "parsing log, completed traces ::   0%|          | 0/2 [00:00<?, ?it/s]"
      ]
     },
     "metadata": {},
     "output_type": "display_data"
    },
    {
     "name": "stdout",
     "output_type": "stream",
     "text": [
      "(a11, c1, log-file, 2025-08-22 14:31:24.539764 - {'lifecycle:transition': 'complete', 'act': 'a11'} - {'creator': 'Fluxicon Disco', 'variant-index': 1, 'variant': 'Variant 1'} - {})\n",
      "(a12, c1, log-file, 2025-08-22 14:31:24.540204 - {'lifecycle:transition': 'complete', 'act': 'a12'} - {'creator': 'Fluxicon Disco', 'variant-index': 1, 'variant': 'Variant 1'} - {})\n",
      "(a21, c2, log-file, 2025-08-22 14:31:24.540439 - {'lifecycle:transition': 'complete', 'act': 'a21'} - {'creator': 'Fluxicon Disco', 'variant-index': 2, 'variant': 'Variant 2'} - {})\n",
      "(a22, c2, log-file, 2025-08-22 14:31:24.540936 - {'lifecycle:transition': 'complete', 'act': 'a22'} - {'creator': 'Fluxicon Disco', 'variant-index': 2, 'variant': 'Variant 2'} - {})\n",
      "(a23, c2, log-file, 2025-08-22 14:31:24.541167 - {'lifecycle:transition': 'complete', 'act': 'a23'} - {'creator': 'Fluxicon Disco', 'variant-index': 2, 'variant': 'Variant 2'} - {})\n"
     ]
    },
    {
     "data": {
      "text/plain": [
       "<reactivex.disposable.disposable.Disposable at 0x7fa7f8e574c0>"
      ]
     },
     "execution_count": 5,
     "metadata": {},
     "output_type": "execute_result"
    }
   ],
   "source": [
    "from pybeamline.sources import xes_log_source_from_file\n",
    "\n",
    "xes_log_source_from_file(\"log.xes\") \\\n",
    "    .subscribe(lambda x: print(str(x)))"
   ]
  },
  {
   "cell_type": "code",
   "execution_count": 6,
   "metadata": {
    "colab": {
     "base_uri": "https://localhost:8080/",
     "height": 309,
     "referenced_widgets": [
      "3a40eb7fa55048bd8d54d888f31f712b",
      "3b93a906b1834b27956225860cc132cc",
      "6895739859bf47e6aa8a8ec9211d321a",
      "3bcc495efc9e4245b665f9dd577d33a1",
      "85bde83bb53e461fa45548e637f1c68e",
      "a066a916fc7d40aeb2b55deaffe42469",
      "658c8ca6adb54fd397f15bc45489ae67",
      "613366efc6bf4e6aa7392c16c7edeb86",
      "f8b064fc91884666a8e67c88bd34c2a8",
      "5867d8b0b3ab4b9797b8bbbb715632dc",
      "b4bc6d8df7284885b41421f39c6fbbee"
     ]
    },
    "id": "AyPZen8BmBhm",
    "outputId": "30c01495-eff1-4a0d-ac2a-70846373ade3"
   },
   "outputs": [
    {
     "name": "stdout",
     "output_type": "stream",
     "text": [
      "(A, case_1, Process, 2025-08-22 14:31:27.031604 - {} - {} - {})\n",
      "(B, case_1, Process, 2025-08-22 14:31:27.031776 - {} - {} - {})\n",
      "(C, case_1, Process, 2025-08-22 14:31:27.032162 - {} - {} - {})\n",
      "(A, case_2, Process, 2025-08-22 14:31:27.032232 - {} - {} - {})\n",
      "(C, case_2, Process, 2025-08-22 14:31:27.032270 - {} - {} - {})\n",
      "(B, case_2, Process, 2025-08-22 14:31:27.032281 - {} - {} - {})\n",
      "(E, case_3, Process, 2025-08-22 14:31:27.032527 - {} - {} - {})\n",
      "(F, case_3, Process, 2025-08-22 14:31:27.032693 - {} - {} - {})\n",
      "(G, case_3, Process, 2025-08-22 14:31:27.032762 - {} - {} - {})\n"
     ]
    },
    {
     "data": {
      "application/vnd.jupyter.widget-view+json": {
       "model_id": "06ea523007b14474af5af680009a2750",
       "version_major": 2,
       "version_minor": 0
      },
      "text/plain": [
       "parsing log, completed traces ::   0%|          | 0/2 [00:00<?, ?it/s]"
      ]
     },
     "metadata": {},
     "output_type": "display_data"
    },
    {
     "name": "stdout",
     "output_type": "stream",
     "text": [
      "(a11, c1, log-file, 2025-08-22 14:31:27.054500 - {'lifecycle:transition': 'complete', 'act': 'a11'} - {'creator': 'Fluxicon Disco', 'variant-index': 1, 'variant': 'Variant 1'} - {})\n",
      "(a12, c1, log-file, 2025-08-22 14:31:27.054789 - {'lifecycle:transition': 'complete', 'act': 'a12'} - {'creator': 'Fluxicon Disco', 'variant-index': 1, 'variant': 'Variant 1'} - {})\n",
      "(a21, c2, log-file, 2025-08-22 14:31:27.054930 - {'lifecycle:transition': 'complete', 'act': 'a21'} - {'creator': 'Fluxicon Disco', 'variant-index': 2, 'variant': 'Variant 2'} - {})\n",
      "(a22, c2, log-file, 2025-08-22 14:31:27.055063 - {'lifecycle:transition': 'complete', 'act': 'a22'} - {'creator': 'Fluxicon Disco', 'variant-index': 2, 'variant': 'Variant 2'} - {})\n",
      "(a23, c2, log-file, 2025-08-22 14:31:27.055211 - {'lifecycle:transition': 'complete', 'act': 'a23'} - {'creator': 'Fluxicon Disco', 'variant-index': 2, 'variant': 'Variant 2'} - {})\n"
     ]
    },
    {
     "data": {
      "text/plain": [
       "<reactivex.disposable.disposable.Disposable at 0x7fa7f8e57910>"
      ]
     },
     "execution_count": 6,
     "metadata": {},
     "output_type": "execute_result"
    }
   ],
   "source": [
    "from pybeamline.sources import log_source\n",
    "\n",
    "log_source([\"ABC\", \"ACB\", \"EFG\"]) \\\n",
    "    .subscribe(lambda x: print(str(x)))\n",
    "\n",
    "log_source(\"log.xes\") \\\n",
    "    .subscribe(lambda x: print(str(x)))"
   ]
  },
  {
   "cell_type": "code",
   "execution_count": 7,
   "metadata": {
    "colab": {
     "base_uri": "https://localhost:8080/",
     "height": 70
    },
    "id": "ePzA0wNAnKYS",
    "outputId": "10590f35-f4d6-4293-d0f8-2d03fc2714bc"
   },
   "outputs": [
    {
     "name": "stdout",
     "output_type": "stream",
     "text": [
      "Connected to MQTT broker\n"
     ]
    },
    {
     "name": "stdin",
     "output_type": "stream",
     "text": [
      " \n"
     ]
    },
    {
     "data": {
      "text/plain": [
       "''"
      ]
     },
     "execution_count": 7,
     "metadata": {},
     "output_type": "execute_result"
    }
   ],
   "source": [
    "from pybeamline.sources import mqttxes_source\n",
    "\n",
    "mqttxes_source('broker.mqtt.cool', 1883, 'bla/bla/') \\\n",
    "  .subscribe(lambda x: print(str(x)))\n",
    "\n",
    "input()"
   ]
  },
  {
   "cell_type": "code",
   "execution_count": 8,
   "metadata": {
    "colab": {
     "base_uri": "https://localhost:8080/",
     "height": 411,
     "referenced_widgets": [
      "8da3f6580e5e446abc477b3282f2f084",
      "345afb0176114ddabc522762f2700773",
      "d51edbb88bc14472a6ee8a884f9225ef",
      "2d9a5bd2c66e4fa6957da23429641819",
      "c1450c2d42bf4a64a9d9bc468048ed13",
      "62ec59011f604090a079442e186ec1ad",
      "1c15dac4fa99470c9c15cc56b6a57e0f",
      "40d199b1ad6841ae8683f389e0a655b3",
      "129bfc18e2ec4d92b64d3913c3f66375",
      "819866fa874340c3b38b56b9f950c9ad",
      "37a21b177df24a87a3788e1c1c102a19",
      "a8f210fcb658425fbe05ffda38540a8e",
      "cdb2abe79a7b434984de5c9c2c0d59e8",
      "d9f3f477c8504b50acb5621e99bf2b24",
      "974b781698414425a10e377d19ade31c",
      "2e4f609bc9c842f39d8f44f7292905b5",
      "1663143eb0a642468a94c73c45b0aa70",
      "4c3c1a9cf8484281ba6c3438fac311fc",
      "6b9b02b17ceb477a8f980fe5cc15265f",
      "f8c46aaffa204662bd07a1a062b626ec",
      "ac57eb6416d547f59d1e1e4daeb9e419",
      "b2f370c96c14454ea0266b02b99da38b"
     ]
    },
    "id": "PxIv4l6A0Ot8",
    "outputId": "022cb7f7-165c-4810-dc03-1c48dacae93c"
   },
   "outputs": [
    {
     "data": {
      "application/vnd.jupyter.widget-view+json": {
       "model_id": "2103660dc10b4b2798aa459733c8009d",
       "version_major": 2,
       "version_minor": 0
      },
      "text/plain": [
       "parsing log, completed traces ::   0%|          | 0/2 [00:00<?, ?it/s]"
      ]
     },
     "metadata": {},
     "output_type": "display_data"
    },
    {
     "data": {
      "application/vnd.jupyter.widget-view+json": {
       "model_id": "bad886a0d75d48f5a1788de57b08f03b",
       "version_major": 2,
       "version_minor": 0
      },
      "text/plain": [
       "parsing log, completed traces ::   0%|          | 0/2 [00:00<?, ?it/s]"
      ]
     },
     "metadata": {},
     "output_type": "display_data"
    },
    {
     "name": "stdout",
     "output_type": "stream",
     "text": [
      "(a11, c1, log-file, 2025-08-22 14:31:32.031490 - {'lifecycle:transition': 'complete', 'act': 'a11'} - {'creator': 'Fluxicon Disco', 'variant-index': 1, 'variant': 'Variant 1'} - {})\n",
      "(a12, c1, log-file, 2025-08-22 14:31:32.031996 - {'lifecycle:transition': 'complete', 'act': 'a12'} - {'creator': 'Fluxicon Disco', 'variant-index': 1, 'variant': 'Variant 1'} - {})\n",
      "(a21, c2, log-file, 2025-08-22 14:31:32.032291 - {'lifecycle:transition': 'complete', 'act': 'a21'} - {'creator': 'Fluxicon Disco', 'variant-index': 2, 'variant': 'Variant 2'} - {})\n",
      "(a22, c2, log-file, 2025-08-22 14:31:32.032520 - {'lifecycle:transition': 'complete', 'act': 'a22'} - {'creator': 'Fluxicon Disco', 'variant-index': 2, 'variant': 'Variant 2'} - {})\n",
      "(a23, c2, log-file, 2025-08-22 14:31:32.032739 - {'lifecycle:transition': 'complete', 'act': 'a23'} - {'creator': 'Fluxicon Disco', 'variant-index': 2, 'variant': 'Variant 2'} - {})\n",
      "(A, case_1, Process, 2025-08-22 14:31:32.033019 - {} - {} - {})\n",
      "(B, case_1, Process, 2025-08-22 14:31:32.033087 - {} - {} - {})\n",
      "(C, case_1, Process, 2025-08-22 14:31:32.033109 - {} - {} - {})\n",
      "(D, case_1, Process, 2025-08-22 14:31:32.033146 - {} - {} - {})\n",
      "(A, case_2, Process, 2025-08-22 14:31:32.033171 - {} - {} - {})\n",
      "(B, case_2, Process, 2025-08-22 14:31:32.033204 - {} - {} - {})\n",
      "(C, case_2, Process, 2025-08-22 14:31:32.033220 - {} - {} - {})\n",
      "(D, case_2, Process, 2025-08-22 14:31:32.033265 - {} - {} - {})\n",
      "(a11, c1, log-file, 2025-08-22 14:31:32.033776 - {'lifecycle:transition': 'complete', 'act': 'a11'} - {'creator': 'Fluxicon Disco', 'variant-index': 1, 'variant': 'Variant 1'} - {})\n",
      "(a12, c1, log-file, 2025-08-22 14:31:32.034047 - {'lifecycle:transition': 'complete', 'act': 'a12'} - {'creator': 'Fluxicon Disco', 'variant-index': 1, 'variant': 'Variant 1'} - {})\n",
      "(a21, c2, log-file, 2025-08-22 14:31:32.034455 - {'lifecycle:transition': 'complete', 'act': 'a21'} - {'creator': 'Fluxicon Disco', 'variant-index': 2, 'variant': 'Variant 2'} - {})\n",
      "(a22, c2, log-file, 2025-08-22 14:31:32.034678 - {'lifecycle:transition': 'complete', 'act': 'a22'} - {'creator': 'Fluxicon Disco', 'variant-index': 2, 'variant': 'Variant 2'} - {})\n",
      "(a23, c2, log-file, 2025-08-22 14:31:32.034917 - {'lifecycle:transition': 'complete', 'act': 'a23'} - {'creator': 'Fluxicon Disco', 'variant-index': 2, 'variant': 'Variant 2'} - {})\n"
     ]
    },
    {
     "data": {
      "text/plain": [
       "<reactivex.disposable.disposable.Disposable at 0x7fa7f8e57340>"
      ]
     },
     "execution_count": 8,
     "metadata": {},
     "output_type": "execute_result"
    }
   ],
   "source": [
    "from reactivex import concat\n",
    "from pybeamline.sources import xes_log_source_from_file, log_source\n",
    "\n",
    "src1 = xes_log_source_from_file(\"log.xes\")\n",
    "src2 = log_source([\"ABCD\", \"ABCD\"])\n",
    "src3 = xes_log_source_from_file(\"log.xes\")\n",
    "\n",
    "concat = concat(src1, src2, src3)\n",
    "concat \\\n",
    "    .subscribe(lambda x: print(str(x)))\n"
   ]
  },
  {
   "cell_type": "markdown",
   "metadata": {
    "id": "zDiJsMvfmBhn"
   },
   "source": [
    "### Filters"
   ]
  },
  {
   "cell_type": "code",
   "execution_count": 9,
   "metadata": {
    "colab": {
     "base_uri": "https://localhost:8080/",
     "height": 136,
     "referenced_widgets": [
      "e5896657fb174be1b2295341a7e41d07",
      "7b0071df3c46470a9130b93389e00a50",
      "c0f2d0aecb454ae5adb9eaa2700a387c",
      "83513a20789f482fa0ef4630de47e0c5",
      "8562b3687b994cfbb442dbb9ca61f14a",
      "899e5c6f801049b5b8fc1a1a9173c0ab",
      "27496a8e8eef4c879247eb5e5ceafc97",
      "e0526a58e7984b92bde410f08629d602",
      "7015b00efa6b4f7f9e7d61fe1f708c16",
      "3e520a35002a46379234f7d68e4ecc03",
      "fc79243a13994a64a66c884d7a67a643"
     ]
    },
    "id": "dCUSRIHhmBhn",
    "outputId": "0b3ffcd2-8c5d-4f88-92d3-04249aec6a0a"
   },
   "outputs": [
    {
     "data": {
      "application/vnd.jupyter.widget-view+json": {
       "model_id": "036b477729ae49deb53cb8b4402f74dc",
       "version_major": 2,
       "version_minor": 0
      },
      "text/plain": [
       "parsing log, completed traces ::   0%|          | 0/2 [00:00<?, ?it/s]"
      ]
     },
     "metadata": {},
     "output_type": "display_data"
    },
    {
     "name": "stdout",
     "output_type": "stream",
     "text": [
      "(a12, c1, log-file, 2025-08-22 14:31:33.931908 - {'lifecycle:transition': 'complete', 'act': 'a12'} - {'creator': 'Fluxicon Disco', 'variant-index': 1, 'variant': 'Variant 1'} - {})\n",
      "(a21, c2, log-file, 2025-08-22 14:31:33.932263 - {'lifecycle:transition': 'complete', 'act': 'a21'} - {'creator': 'Fluxicon Disco', 'variant-index': 2, 'variant': 'Variant 2'} - {})\n",
      "(a22, c2, log-file, 2025-08-22 14:31:33.932415 - {'lifecycle:transition': 'complete', 'act': 'a22'} - {'creator': 'Fluxicon Disco', 'variant-index': 2, 'variant': 'Variant 2'} - {})\n",
      "(a23, c2, log-file, 2025-08-22 14:31:33.932559 - {'lifecycle:transition': 'complete', 'act': 'a23'} - {'creator': 'Fluxicon Disco', 'variant-index': 2, 'variant': 'Variant 2'} - {})\n"
     ]
    },
    {
     "data": {
      "text/plain": [
       "<reactivex.disposable.disposable.Disposable at 0x7fa7f8d16d40>"
      ]
     },
     "execution_count": 9,
     "metadata": {},
     "output_type": "execute_result"
    }
   ],
   "source": [
    "from pybeamline.sources import log_source\n",
    "from pybeamline.filters import excludes_activity_filter\n",
    "\n",
    "log_source(\"log.xes\").pipe(\n",
    "    excludes_activity_filter(\"a11\"),\n",
    ").subscribe(lambda x: print(str(x)))\n",
    "\n",
    "# Similar functionalities for these filters:\n",
    "# - excludes_on_event_attribute_equal_filter\n",
    "# - retains_on_trace_attribute_equal_filter\n",
    "# - excludes_on_trace_attribute_equal_filter\n",
    "# - retains_activity_filter\n",
    "# - excludes_activity_filter\n"
   ]
  },
  {
   "cell_type": "markdown",
   "metadata": {
    "id": "UWUXL_fRmBhn"
   },
   "source": [
    "### Discovery techniques"
   ]
  },
  {
   "cell_type": "markdown",
   "metadata": {
    "id": "AMBDs1ZemBhn"
   },
   "source": [
    "Mining of directly-follows relations:"
   ]
  },
  {
   "cell_type": "code",
   "execution_count": 10,
   "metadata": {
    "colab": {
     "base_uri": "https://localhost:8080/"
    },
    "id": "gaEnORBPmBhn",
    "outputId": "cb92bc5b-f8de-412d-9101-9c328c665b75"
   },
   "outputs": [
    {
     "name": "stdout",
     "output_type": "stream",
     "text": [
      "('A', 'B')\n",
      "('B', 'C')\n",
      "('A', 'C')\n",
      "('C', 'B')\n"
     ]
    },
    {
     "data": {
      "text/plain": [
       "<reactivex.disposable.disposable.Disposable at 0x7fa7f8ecf670>"
      ]
     },
     "execution_count": 10,
     "metadata": {},
     "output_type": "execute_result"
    }
   ],
   "source": [
    "from pybeamline.sources import log_source\n",
    "from pybeamline.mappers import infinite_size_directly_follows_mapper\n",
    "\n",
    "log_source([\"ABC\", \"ACB\"]).pipe(\n",
    "    infinite_size_directly_follows_mapper()\n",
    ").subscribe(lambda x: print(str(x)))"
   ]
  },
  {
   "cell_type": "markdown",
   "metadata": {
    "id": "OOg8zOcMmBho"
   },
   "source": [
    "Mining of a Heuristics net using Lossy Counting:"
   ]
  },
  {
   "cell_type": "code",
   "execution_count": 11,
   "metadata": {
    "colab": {
     "base_uri": "https://localhost:8080/"
    },
    "id": "L8r4SNCymBho",
    "outputId": "d143fd5e-2d67-43cb-90e4-09f16c994cfb"
   },
   "outputs": [
    {
     "name": "stdout",
     "output_type": "stream",
     "text": [
      "{'A': (node:A connections:{B:[0.5]}), 'B': (node:B connections:{C:[0.5]}), 'C': (node:C connections:{})}\n",
      "{'C': (node:C connections:{D:[0.5]}), 'D': (node:D connections:{}), 'A': (node:A connections:{B:[0.6666666666666666]}), 'B': (node:B connections:{C:[0.6666666666666666]})}\n"
     ]
    },
    {
     "data": {
      "text/plain": [
       "<reactivex.disposable.disposable.Disposable at 0x7fa7f8d346d0>"
      ]
     },
     "execution_count": 11,
     "metadata": {},
     "output_type": "execute_result"
    }
   ],
   "source": [
    "from pybeamline.algorithms.discovery import heuristics_miner_lossy_counting\n",
    "\n",
    "log_source([\"ABCD\", \"ABCD\"]).pipe(\n",
    "    heuristics_miner_lossy_counting(model_update_frequency=4)\n",
    ").subscribe(lambda x: print(str(x)))"
   ]
  },
  {
   "cell_type": "markdown",
   "metadata": {
    "id": "k5W33Vq6mBho"
   },
   "source": [
    "Mining of a Heuristics net using Lossy Counting with Budget:"
   ]
  },
  {
   "cell_type": "code",
   "execution_count": 12,
   "metadata": {
    "colab": {
     "base_uri": "https://localhost:8080/"
    },
    "id": "q7nmZbJEmBho",
    "outputId": "e4d6c59f-f1e4-46a9-fb29-38e249016770"
   },
   "outputs": [
    {
     "name": "stdout",
     "output_type": "stream",
     "text": [
      "{'A': (node:A connections:{B:[0.5]}), 'B': (node:B connections:{C:[0.5]}), 'C': (node:C connections:{D:[0.5]}), 'D': (node:D connections:{})}\n",
      "{'A': (node:A connections:{B:[0.6666666666666666]}), 'B': (node:B connections:{C:[0.6666666666666666]}), 'C': (node:C connections:{D:[0.6666666666666666]}), 'D': (node:D connections:{})}\n"
     ]
    },
    {
     "data": {
      "text/plain": [
       "<reactivex.disposable.disposable.Disposable at 0x7fa7f8d348e0>"
      ]
     },
     "execution_count": 12,
     "metadata": {},
     "output_type": "execute_result"
    }
   ],
   "source": [
    "from pybeamline.algorithms.discovery import heuristics_miner_lossy_counting_budget\n",
    "\n",
    "log_source([\"ABCD\", \"ABCD\"]).pipe(\n",
    "    heuristics_miner_lossy_counting_budget(model_update_frequency=4)\n",
    ").subscribe(lambda x: print(str(x)))"
   ]
  },
  {
   "cell_type": "markdown",
   "metadata": {
    "id": "Lcd3aB4kmBho"
   },
   "source": [
    "### Conformance checking"
   ]
  },
  {
   "cell_type": "markdown",
   "metadata": {
    "id": "9dn3LWKzmBho"
   },
   "source": [
    "Currently only conformance checking using behavioral profiles is supported:"
   ]
  },
  {
   "cell_type": "code",
   "execution_count": 13,
   "metadata": {
    "colab": {
     "base_uri": "https://localhost:8080/"
    },
    "id": "9VW8GcqgmBho",
    "outputId": "ec99c2d6-72ab-4182-fd91-d3719496a7d0"
   },
   "outputs": [
    {
     "name": "stdout",
     "output_type": "stream",
     "text": [
      "([('A', 'B'), ('B', 'C'), ('C', 'D')], {('A', 'B'): (0, 0), ('B', 'C'): (1, 1), ('C', 'D'): (2, 2)}, {('A', 'B'): 2, ('B', 'C'): 1, ('C', 'D'): 0})\n",
      "(1.0, 0.5, 1)\n",
      "(1.0, 1.0, 1)\n",
      "(1.0, 0.5, 1)\n",
      "(1.0, 1.0, 1)\n"
     ]
    },
    {
     "data": {
      "text/plain": [
       "<reactivex.disposable.disposable.Disposable at 0x7fa7f8d36350>"
      ]
     },
     "execution_count": 13,
     "metadata": {},
     "output_type": "execute_result"
    }
   ],
   "source": [
    "from pybeamline.algorithms.conformance import mine_behavioral_model_from_stream, behavioral_conformance\n",
    "\n",
    "source = log_source([\"ABCD\", \"ABCD\"])\n",
    "reference_model = mine_behavioral_model_from_stream(source)\n",
    "print(reference_model)\n",
    "\n",
    "log_source([\"ABCD\", \"ABCD\"]).pipe(\n",
    "    excludes_activity_filter(\"A\"),\n",
    "    behavioral_conformance(reference_model)\n",
    ").subscribe(lambda x: print(str(x)))"
   ]
  },
  {
   "cell_type": "markdown",
   "metadata": {
    "id": "NK9p3h2FmBhp"
   },
   "source": [
    "### Sliding window\n",
    "\n",
    "This technique allows to apply any existing process mininig technique on streaming data"
   ]
  },
  {
   "cell_type": "code",
   "execution_count": 14,
   "metadata": {
    "colab": {
     "base_uri": "https://localhost:8080/"
    },
    "id": "QO0pdOlamBhp",
    "outputId": "f4e38035-1925-4a40-d442-e9a98c330606"
   },
   "outputs": [
    {
     "name": "stdout",
     "output_type": "stream",
     "text": [
      "Counter({('A', 'B'): 1, ('B', 'C'): 1})\n",
      "Counter({('A', 'B'): 1, ('B', 'D'): 1})\n"
     ]
    },
    {
     "data": {
      "text/plain": [
       "<reactivex.disposable.disposable.Disposable at 0x7fa7f8d36e00>"
      ]
     },
     "execution_count": 14,
     "metadata": {},
     "output_type": "execute_result"
    }
   ],
   "source": [
    "from pybeamline.sources import log_source\n",
    "from pybeamline.mappers import sliding_window_to_log\n",
    "from reactivex.operators import window_with_count\n",
    "import pm4py\n",
    "\n",
    "def mine(log):\n",
    "    print(pm4py.discover_dfg_typed(log))\n",
    "\n",
    "log_source([\"ABC\", \"ABD\"]).pipe(\n",
    "    window_with_count(3),\n",
    "    sliding_window_to_log()\n",
    ").subscribe(mine)"
   ]
  },
  {
   "cell_type": "markdown",
   "metadata": {
    "id": "oKN_2FV0lN7P"
   },
   "source": [
    "## Lambda operator"
   ]
  },
  {
   "cell_type": "code",
   "execution_count": 15,
   "metadata": {
    "colab": {
     "base_uri": "https://localhost:8080/"
    },
    "id": "78QmSlillQIs",
    "outputId": "c53e81ff-0ca0-4247-8d98-3bf5d4e6dc51"
   },
   "outputs": [
    {
     "name": "stdout",
     "output_type": "stream",
     "text": [
      "[('Start', 'A')]\n",
      "[('Start', 'A')]\n"
     ]
    },
    {
     "data": {
      "text/plain": [
       "<reactivex.disposable.disposable.Disposable at 0x7fa7f8d359f0>"
      ]
     },
     "execution_count": 15,
     "metadata": {},
     "output_type": "execute_result"
    }
   ],
   "source": [
    "from pybeamline.algorithms.lambda_operator import lambda_operator\n",
    "from pybeamline.sources.string_test_source import string_test_source\n",
    "\n",
    "\n",
    "def my_filter(event):\n",
    "    return event if (event.get_event_name() == \"A\") else None\n",
    "\n",
    "\n",
    "def my_miner(event):\n",
    "    return [('Start', event.get_event_name())]\n",
    "\n",
    "\n",
    "string_test_source([\"ABCDE\", \"ACBDE\"]).pipe(\n",
    "    lambda_operator(my_filter),\n",
    "    lambda_operator(my_miner)\n",
    ").subscribe(lambda x: print(str(x)))\n"
   ]
  },
  {
   "cell_type": "markdown",
   "metadata": {
    "id": "BsnNVptTz4t7"
   },
   "source": [
    "# Integration with other libraries\n",
    "\n",
    "## River"
   ]
  },
  {
   "cell_type": "code",
   "execution_count": 16,
   "metadata": {
    "colab": {
     "base_uri": "https://localhost:8080/"
    },
    "id": "8ifDJUq3z8Vz",
    "outputId": "436507c2-d3bf-4b1d-cf54-a898c39a92f3"
   },
   "outputs": [
    {
     "name": "stdout",
     "output_type": "stream",
     "text": [
      "Defaulting to user installation because normal site-packages is not writeable\n",
      "Requirement already satisfied: river in /home/andbur/.local/lib/python3.10/site-packages (0.21.2)\n",
      "Requirement already satisfied: numpy<2.0.0,>=1.23.0 in /home/andbur/.local/lib/python3.10/site-packages (from river) (1.24.0)\n",
      "Requirement already satisfied: scipy<2.0.0,>=1.12.1 in /home/andbur/.local/lib/python3.10/site-packages (from river) (1.15.3)\n",
      "Requirement already satisfied: pandas<3.0,>=2.1 in /home/andbur/.local/lib/python3.10/site-packages (from river) (2.2.3)\n",
      "Requirement already satisfied: tzdata>=2022.7 in /home/andbur/.local/lib/python3.10/site-packages (from pandas<3.0,>=2.1->river) (2024.2)\n",
      "Requirement already satisfied: pytz>=2020.1 in /usr/lib/python3/dist-packages (from pandas<3.0,>=2.1->river) (2022.1)\n",
      "Requirement already satisfied: python-dateutil>=2.8.2 in /home/andbur/.local/lib/python3.10/site-packages (from pandas<3.0,>=2.1->river) (2.8.2)\n",
      "Requirement already satisfied: six>=1.5 in /usr/lib/python3/dist-packages (from python-dateutil>=2.8.2->pandas<3.0,>=2.1->river) (1.16.0)\n"
     ]
    }
   ],
   "source": [
    "!pip install river"
   ]
  },
  {
   "cell_type": "code",
   "execution_count": 17,
   "metadata": {
    "id": "9nTNYFm82CnM"
   },
   "outputs": [],
   "source": [
    "import random\n",
    "\n",
    "log_original = [\"ABCD\"]*10000 + [\"ACBD\"]*500\n",
    "random.shuffle(log_original)\n",
    "\n",
    "log_after_drift = [\"ABCD\"]*500 + [\"ACBD\"]*10000\n",
    "random.shuffle(log_after_drift)\n",
    "\n",
    "log_with_drift = log_source(log_original + log_after_drift + log_original)"
   ]
  },
  {
   "cell_type": "code",
   "execution_count": 18,
   "metadata": {
    "colab": {
     "base_uri": "https://localhost:8080/"
    },
    "id": "11K2rYJi2HoU",
    "outputId": "513c991c-14fa-4f29-e6fe-3bbebe69ec18"
   },
   "outputs": [
    {
     "data": {
      "text/plain": [
       "<reactivex.disposable.disposable.Disposable at 0x7fa79d24e860>"
      ]
     },
     "execution_count": 18,
     "metadata": {},
     "output_type": "execute_result"
    }
   ],
   "source": [
    "import reactivex\n",
    "from reactivex import operators as ops\n",
    "from river import drift\n",
    "\n",
    "drift_detector = drift.ADWIN()\n",
    "data = []\n",
    "drifts = []\n",
    "\n",
    "def check_for_drift():\n",
    "  index = 0\n",
    "\n",
    "  def _process(x):\n",
    "    nonlocal index\n",
    "    drift_detector.update(x)\n",
    "    index = index + 1\n",
    "    if drift_detector.drift_detected:\n",
    "      drifts.append(index)\n",
    "\n",
    "  def _check_for_drift(obs):\n",
    "    return obs.pipe(ops.do_action(lambda value: _process(value)))\n",
    "\n",
    "  return _check_for_drift\n",
    "\n",
    "log_with_drift.pipe(\n",
    "  ops.buffer_with_count(40),\n",
    "  ops.flat_map(lambda events: reactivex.from_iterable(events).pipe(\n",
    "      ops.pairwise(),\n",
    "      ops.filter(lambda x: x[0].get_trace_name() == x[1].get_trace_name() and x[0].get_event_name() == \"B\" and x[1].get_event_name() == \"C\"),\n",
    "      ops.count()\n",
    "      )\n",
    "  ),\n",
    "  check_for_drift()\n",
    ").subscribe(lambda x: data.append(x))"
   ]
  },
  {
   "cell_type": "code",
   "execution_count": 19,
   "metadata": {
    "colab": {
     "base_uri": "https://localhost:8080/",
     "height": 430
    },
    "id": "Yw8TVwvN1TYw",
    "outputId": "bb4f4ba2-fb81-4b44-cc05-2bd9033fc4b5"
   },
   "outputs": [
    {
     "data": {
      "image/png": "[encoded data removed]",
      "text/plain": [
       "<Figure size 432x288 with 1 Axes>"
      ]
     },
     "metadata": {
      "needs_background": "light"
     },
     "output_type": "display_data"
    }
   ],
   "source": [
    "import matplotlib.pyplot as plt\n",
    "\n",
    "plt.plot(data, marker='o')\n",
    "plt.grid()\n",
    "for drift_detected in drifts:\n",
    "    plt.axvline(drift_detected, color='red')\n",
    "plt.show()"
   ]
  }
 ],
 "metadata": {
  "colab": {
   "provenance": [],
   "toc_visible": true
  },
  "kernelspec": {
   "display_name": "Python 3 (ipykernel)",
   "language": "python",
   "name": "python3"
  },
  "language_info": {
   "codemirror_mode": {
    "name": "ipython",
    "version": 3
   },
   "file_extension": ".py",
   "mimetype": "text/x-python",
   "name": "python",
   "nbconvert_exporter": "python",
   "pygments_lexer": "ipython3",
   "version": "3.10.12"
  },
  "widgets": {
   "application/vnd.jupyter.widget-state+json": {
    "0de8c911d9614e148b2ea8bc3331794a": {
     "model_module": "@jupyter-widgets/base",
     "model_module_version": "1.2.0",
     "model_name": "LayoutModel",
     "state": {
      "_model_module": "@jupyter-widgets/base",
      "_model_module_version": "1.2.0",
      "_model_name": "LayoutModel",
      "_view_count": null,
      "_view_module": "@jupyter-widgets/base",
      "_view_module_version": "1.2.0",
      "_view_name": "LayoutView",
      "align_content": null,
      "align_items": null,
      "align_self": null,
      "border": null,
      "bottom": null,
      "display": null,
      "flex": null,
      "flex_flow": null,
      "grid_area": null,
      "grid_auto_columns": null,
      "grid_auto_flow": null,
      "grid_auto_rows": null,
      "grid_column": null,
      "grid_gap": null,
      "grid_row": null,
      "grid_template_areas": null,
      "grid_template_columns": null,
      "grid_template_rows": null,
      "height": null,
      "justify_content": null,
      "justify_items": null,
      "left": null,
      "margin": null,
      "max_height": null,
      "max_width": null,
      "min_height": null,
      "min_width": null,
      "object_fit": null,
      "object_position": null,
      "order": null,
      "overflow": null,
      "overflow_x": null,
      "overflow_y": null,
      "padding": null,
      "right": null,
      "top": null,
      "visibility": null,
      "width": null
     }
    },
    "129bfc18e2ec4d92b64d3913c3f66375": {
     "model_module": "@jupyter-widgets/controls",
     "model_module_version": "1.5.0",
     "model_name": "ProgressStyleModel",
     "state": {
      "_model_module": "@jupyter-widgets/controls",
      "_model_module_version": "1.5.0",
      "_model_name": "ProgressStyleModel",
      "_view_count": null,
      "_view_module": "@jupyter-widgets/base",
      "_view_module_version": "1.2.0",
      "_view_name": "StyleView",
      "bar_color": null,
      "description_width": ""
     }
    },
    "1663143eb0a642468a94c73c45b0aa70": {
     "model_module": "@jupyter-widgets/base",
     "model_module_version": "1.2.0",
     "model_name": "LayoutModel",
     "state": {
      "_model_module": "@jupyter-widgets/base",
      "_model_module_version": "1.2.0",
      "_model_name": "LayoutModel",
      "_view_count": null,
      "_view_module": "@jupyter-widgets/base",
      "_view_module_version": "1.2.0",
      "_view_name": "LayoutView",
      "align_content": null,
      "align_items": null,
      "align_self": null,
      "border": null,
      "bottom": null,
      "display": null,
      "flex": null,
      "flex_flow": null,
      "grid_area": null,
      "grid_auto_columns": null,
      "grid_auto_flow": null,
      "grid_auto_rows": null,
      "grid_column": null,
      "grid_gap": null,
      "grid_row": null,
      "grid_template_areas": null,
      "grid_template_columns": null,
      "grid_template_rows": null,
      "height": null,
      "justify_content": null,
      "justify_items": null,
      "left": null,
      "margin": null,
      "max_height": null,
      "max_width": null,
      "min_height": null,
      "min_width": null,
      "object_fit": null,
      "object_position": null,
      "order": null,
      "overflow": null,
      "overflow_x": null,
      "overflow_y": null,
      "padding": null,
      "right": null,
      "top": null,
      "visibility": null,
      "width": null
     }
    },
    "1c15dac4fa99470c9c15cc56b6a57e0f": {
     "model_module": "@jupyter-widgets/controls",
     "model_module_version": "1.5.0",
     "model_name": "DescriptionStyleModel",
     "state": {
      "_model_module": "@jupyter-widgets/controls",
      "_model_module_version": "1.5.0",
      "_model_name": "DescriptionStyleModel",
      "_view_count": null,
      "_view_module": "@jupyter-widgets/base",
      "_view_module_version": "1.2.0",
      "_view_name": "StyleView",
      "description_width": ""
     }
    },
    "2239d81cb16b417ba5088b0f03b9ccbb": {
     "model_module": "@jupyter-widgets/base",
     "model_module_version": "1.2.0",
     "model_name": "LayoutModel",
     "state": {
      "_model_module": "@jupyter-widgets/base",
      "_model_module_version": "1.2.0",
      "_model_name": "LayoutModel",
      "_view_count": null,
      "_view_module": "@jupyter-widgets/base",
      "_view_module_version": "1.2.0",
      "_view_name": "LayoutView",
      "align_content": null,
      "align_items": null,
      "align_self": null,
      "border": null,
      "bottom": null,
      "display": null,
      "flex": null,
      "flex_flow": null,
      "grid_area": null,
      "grid_auto_columns": null,
      "grid_auto_flow": null,
      "grid_auto_rows": null,
      "grid_column": null,
      "grid_gap": null,
      "grid_row": null,
      "grid_template_areas": null,
      "grid_template_columns": null,
      "grid_template_rows": null,
      "height": null,
      "justify_content": null,
      "justify_items": null,
      "left": null,
      "margin": null,
      "max_height": null,
      "max_width": null,
      "min_height": null,
      "min_width": null,
      "object_fit": null,
      "object_position": null,
      "order": null,
      "overflow": null,
      "overflow_x": null,
      "overflow_y": null,
      "padding": null,
      "right": null,
      "top": null,
      "visibility": null,
      "width": null
     }
    },
    "27496a8e8eef4c879247eb5e5ceafc97": {
     "model_module": "@jupyter-widgets/controls",
     "model_module_version": "1.5.0",
     "model_name": "DescriptionStyleModel",
     "state": {
      "_model_module": "@jupyter-widgets/controls",
      "_model_module_version": "1.5.0",
      "_model_name": "DescriptionStyleModel",
      "_view_count": null,
      "_view_module": "@jupyter-widgets/base",
      "_view_module_version": "1.2.0",
      "_view_name": "StyleView",
      "description_width": ""
     }
    },
    "2d9a5bd2c66e4fa6957da23429641819": {
     "model_module": "@jupyter-widgets/controls",
     "model_module_version": "1.5.0",
     "model_name": "HTMLModel",
     "state": {
      "_dom_classes": [],
      "_model_module": "@jupyter-widgets/controls",
      "_model_module_version": "1.5.0",
      "_model_name": "HTMLModel",
      "_view_count": null,
      "_view_module": "@jupyter-widgets/controls",
      "_view_module_version": "1.5.0",
      "_view_name": "HTMLView",
      "description": "",
      "description_tooltip": null,
      "layout": "IPY_MODEL_819866fa874340c3b38b56b9f950c9ad",
      "placeholder": "​",
      "style": "IPY_MODEL_37a21b177df24a87a3788e1c1c102a19",
      "value": " 2/2 [00:00&lt;00:00, 27.47it/s]"
     }
    },
    "2e4f609bc9c842f39d8f44f7292905b5": {
     "model_module": "@jupyter-widgets/base",
     "model_module_version": "1.2.0",
     "model_name": "LayoutModel",
     "state": {
      "_model_module": "@jupyter-widgets/base",
      "_model_module_version": "1.2.0",
      "_model_name": "LayoutModel",
      "_view_count": null,
      "_view_module": "@jupyter-widgets/base",
      "_view_module_version": "1.2.0",
      "_view_name": "LayoutView",
      "align_content": null,
      "align_items": null,
      "align_self": null,
      "border": null,
      "bottom": null,
      "display": null,
      "flex": null,
      "flex_flow": null,
      "grid_area": null,
      "grid_auto_columns": null,
      "grid_auto_flow": null,
      "grid_auto_rows": null,
      "grid_column": null,
      "grid_gap": null,
      "grid_row": null,
      "grid_template_areas": null,
      "grid_template_columns": null,
      "grid_template_rows": null,
      "height": null,
      "justify_content": null,
      "justify_items": null,
      "left": null,
      "margin": null,
      "max_height": null,
      "max_width": null,
      "min_height": null,
      "min_width": null,
      "object_fit": null,
      "object_position": null,
      "order": null,
      "overflow": null,
      "overflow_x": null,
      "overflow_y": null,
      "padding": null,
      "right": null,
      "top": null,
      "visibility": null,
      "width": null
     }
    },
    "345afb0176114ddabc522762f2700773": {
     "model_module": "@jupyter-widgets/controls",
     "model_module_version": "1.5.0",
     "model_name": "HTMLModel",
     "state": {
      "_dom_classes": [],
      "_model_module": "@jupyter-widgets/controls",
      "_model_module_version": "1.5.0",
      "_model_name": "HTMLModel",
      "_view_count": null,
      "_view_module": "@jupyter-widgets/controls",
      "_view_module_version": "1.5.0",
      "_view_name": "HTMLView",
      "description": "",
      "description_tooltip": null,
      "layout": "IPY_MODEL_62ec59011f604090a079442e186ec1ad",
      "placeholder": "​",
      "style": "IPY_MODEL_1c15dac4fa99470c9c15cc56b6a57e0f",
      "value": "parsing log, completed traces :: 100%"
     }
    },
    "37a21b177df24a87a3788e1c1c102a19": {
     "model_module": "@jupyter-widgets/controls",
     "model_module_version": "1.5.0",
     "model_name": "DescriptionStyleModel",
     "state": {
      "_model_module": "@jupyter-widgets/controls",
      "_model_module_version": "1.5.0",
      "_model_name": "DescriptionStyleModel",
      "_view_count": null,
      "_view_module": "@jupyter-widgets/base",
      "_view_module_version": "1.2.0",
      "_view_name": "StyleView",
      "description_width": ""
     }
    },
    "3a40eb7fa55048bd8d54d888f31f712b": {
     "model_module": "@jupyter-widgets/controls",
     "model_module_version": "1.5.0",
     "model_name": "HBoxModel",
     "state": {
      "_dom_classes": [],
      "_model_module": "@jupyter-widgets/controls",
      "_model_module_version": "1.5.0",
      "_model_name": "HBoxModel",
      "_view_count": null,
      "_view_module": "@jupyter-widgets/controls",
      "_view_module_version": "1.5.0",
      "_view_name": "HBoxView",
      "box_style": "",
      "children": [
       "IPY_MODEL_3b93a906b1834b27956225860cc132cc",
       "IPY_MODEL_6895739859bf47e6aa8a8ec9211d321a",
       "IPY_MODEL_3bcc495efc9e4245b665f9dd577d33a1"
      ],
      "layout": "IPY_MODEL_85bde83bb53e461fa45548e637f1c68e"
     }
    },
    "3a86c381743e406387d3e021a8235806": {
     "model_module": "@jupyter-widgets/controls",
     "model_module_version": "1.5.0",
     "model_name": "HTMLModel",
     "state": {
      "_dom_classes": [],
      "_model_module": "@jupyter-widgets/controls",
      "_model_module_version": "1.5.0",
      "_model_name": "HTMLModel",
      "_view_count": null,
      "_view_module": "@jupyter-widgets/controls",
      "_view_module_version": "1.5.0",
      "_view_name": "HTMLView",
      "description": "",
      "description_tooltip": null,
      "layout": "IPY_MODEL_f10af0d51834407198e617bd8488d4eb",
      "placeholder": "​",
      "style": "IPY_MODEL_eeedd994c5c64b979816076517a8fbc6",
      "value": " 2/2 [00:00&lt;00:00, 103.28it/s]"
     }
    },
    "3b93a906b1834b27956225860cc132cc": {
     "model_module": "@jupyter-widgets/controls",
     "model_module_version": "1.5.0",
     "model_name": "HTMLModel",
     "state": {
      "_dom_classes": [],
      "_model_module": "@jupyter-widgets/controls",
      "_model_module_version": "1.5.0",
      "_model_name": "HTMLModel",
      "_view_count": null,
      "_view_module": "@jupyter-widgets/controls",
      "_view_module_version": "1.5.0",
      "_view_name": "HTMLView",
      "description": "",
      "description_tooltip": null,
      "layout": "IPY_MODEL_a066a916fc7d40aeb2b55deaffe42469",
      "placeholder": "​",
      "style": "IPY_MODEL_658c8ca6adb54fd397f15bc45489ae67",
      "value": "parsing log, completed traces :: 100%"
     }
    },
    "3bcc495efc9e4245b665f9dd577d33a1": {
     "model_module": "@jupyter-widgets/controls",
     "model_module_version": "1.5.0",
     "model_name": "HTMLModel",
     "state": {
      "_dom_classes": [],
      "_model_module": "@jupyter-widgets/controls",
      "_model_module_version": "1.5.0",
      "_model_name": "HTMLModel",
      "_view_count": null,
      "_view_module": "@jupyter-widgets/controls",
      "_view_module_version": "1.5.0",
      "_view_name": "HTMLView",
      "description": "",
      "description_tooltip": null,
      "layout": "IPY_MODEL_5867d8b0b3ab4b9797b8bbbb715632dc",
      "placeholder": "​",
      "style": "IPY_MODEL_b4bc6d8df7284885b41421f39c6fbbee",
      "value": " 2/2 [00:00&lt;00:00, 78.74it/s]"
     }
    },
    "3e520a35002a46379234f7d68e4ecc03": {
     "model_module": "@jupyter-widgets/base",
     "model_module_version": "1.2.0",
     "model_name": "LayoutModel",
     "state": {
      "_model_module": "@jupyter-widgets/base",
      "_model_module_version": "1.2.0",
      "_model_name": "LayoutModel",
      "_view_count": null,
      "_view_module": "@jupyter-widgets/base",
      "_view_module_version": "1.2.0",
      "_view_name": "LayoutView",
      "align_content": null,
      "align_items": null,
      "align_self": null,
      "border": null,
      "bottom": null,
      "display": null,
      "flex": null,
      "flex_flow": null,
      "grid_area": null,
      "grid_auto_columns": null,
      "grid_auto_flow": null,
      "grid_auto_rows": null,
      "grid_column": null,
      "grid_gap": null,
      "grid_row": null,
      "grid_template_areas": null,
      "grid_template_columns": null,
      "grid_template_rows": null,
      "height": null,
      "justify_content": null,
      "justify_items": null,
      "left": null,
      "margin": null,
      "max_height": null,
      "max_width": null,
      "min_height": null,
      "min_width": null,
      "object_fit": null,
      "object_position": null,
      "order": null,
      "overflow": null,
      "overflow_x": null,
      "overflow_y": null,
      "padding": null,
      "right": null,
      "top": null,
      "visibility": null,
      "width": null
     }
    },
    "40d199b1ad6841ae8683f389e0a655b3": {
     "model_module": "@jupyter-widgets/base",
     "model_module_version": "1.2.0",
     "model_name": "LayoutModel",
     "state": {
      "_model_module": "@jupyter-widgets/base",
      "_model_module_version": "1.2.0",
      "_model_name": "LayoutModel",
      "_view_count": null,
      "_view_module": "@jupyter-widgets/base",
      "_view_module_version": "1.2.0",
      "_view_name": "LayoutView",
      "align_content": null,
      "align_items": null,
      "align_self": null,
      "border": null,
      "bottom": null,
      "display": null,
      "flex": null,
      "flex_flow": null,
      "grid_area": null,
      "grid_auto_columns": null,
      "grid_auto_flow": null,
      "grid_auto_rows": null,
      "grid_column": null,
      "grid_gap": null,
      "grid_row": null,
      "grid_template_areas": null,
      "grid_template_columns": null,
      "grid_template_rows": null,
      "height": null,
      "justify_content": null,
      "justify_items": null,
      "left": null,
      "margin": null,
      "max_height": null,
      "max_width": null,
      "min_height": null,
      "min_width": null,
      "object_fit": null,
      "object_position": null,
      "order": null,
      "overflow": null,
      "overflow_x": null,
      "overflow_y": null,
      "padding": null,
      "right": null,
      "top": null,
      "visibility": null,
      "width": null
     }
    },
    "4c3c1a9cf8484281ba6c3438fac311fc": {
     "model_module": "@jupyter-widgets/controls",
     "model_module_version": "1.5.0",
     "model_name": "DescriptionStyleModel",
     "state": {
      "_model_module": "@jupyter-widgets/controls",
      "_model_module_version": "1.5.0",
      "_model_name": "DescriptionStyleModel",
      "_view_count": null,
      "_view_module": "@jupyter-widgets/base",
      "_view_module_version": "1.2.0",
      "_view_name": "StyleView",
      "description_width": ""
     }
    },
    "553ee7acfe26432997919a111494839b": {
     "model_module": "@jupyter-widgets/controls",
     "model_module_version": "1.5.0",
     "model_name": "ProgressStyleModel",
     "state": {
      "_model_module": "@jupyter-widgets/controls",
      "_model_module_version": "1.5.0",
      "_model_name": "ProgressStyleModel",
      "_view_count": null,
      "_view_module": "@jupyter-widgets/base",
      "_view_module_version": "1.2.0",
      "_view_name": "StyleView",
      "bar_color": null,
      "description_width": ""
     }
    },
    "5867d8b0b3ab4b9797b8bbbb715632dc": {
     "model_module": "@jupyter-widgets/base",
     "model_module_version": "1.2.0",
     "model_name": "LayoutModel",
     "state": {
      "_model_module": "@jupyter-widgets/base",
      "_model_module_version": "1.2.0",
      "_model_name": "LayoutModel",
      "_view_count": null,
      "_view_module": "@jupyter-widgets/base",
      "_view_module_version": "1.2.0",
      "_view_name": "LayoutView",
      "align_content": null,
      "align_items": null,
      "align_self": null,
      "border": null,
      "bottom": null,
      "display": null,
      "flex": null,
      "flex_flow": null,
      "grid_area": null,
      "grid_auto_columns": null,
      "grid_auto_flow": null,
      "grid_auto_rows": null,
      "grid_column": null,
      "grid_gap": null,
      "grid_row": null,
      "grid_template_areas": null,
      "grid_template_columns": null,
      "grid_template_rows": null,
      "height": null,
      "justify_content": null,
      "justify_items": null,
      "left": null,
      "margin": null,
      "max_height": null,
      "max_width": null,
      "min_height": null,
      "min_width": null,
      "object_fit": null,
      "object_position": null,
      "order": null,
      "overflow": null,
      "overflow_x": null,
      "overflow_y": null,
      "padding": null,
      "right": null,
      "top": null,
      "visibility": null,
      "width": null
     }
    },
    "613366efc6bf4e6aa7392c16c7edeb86": {
     "model_module": "@jupyter-widgets/base",
     "model_module_version": "1.2.0",
     "model_name": "LayoutModel",
     "state": {
      "_model_module": "@jupyter-widgets/base",
      "_model_module_version": "1.2.0",
      "_model_name": "LayoutModel",
      "_view_count": null,
      "_view_module": "@jupyter-widgets/base",
      "_view_module_version": "1.2.0",
      "_view_name": "LayoutView",
      "align_content": null,
      "align_items": null,
      "align_self": null,
      "border": null,
      "bottom": null,
      "display": null,
      "flex": null,
      "flex_flow": null,
      "grid_area": null,
      "grid_auto_columns": null,
      "grid_auto_flow": null,
      "grid_auto_rows": null,
      "grid_column": null,
      "grid_gap": null,
      "grid_row": null,
      "grid_template_areas": null,
      "grid_template_columns": null,
      "grid_template_rows": null,
      "height": null,
      "justify_content": null,
      "justify_items": null,
      "left": null,
      "margin": null,
      "max_height": null,
      "max_width": null,
      "min_height": null,
      "min_width": null,
      "object_fit": null,
      "object_position": null,
      "order": null,
      "overflow": null,
      "overflow_x": null,
      "overflow_y": null,
      "padding": null,
      "right": null,
      "top": null,
      "visibility": null,
      "width": null
     }
    },
    "62ec59011f604090a079442e186ec1ad": {
     "model_module": "@jupyter-widgets/base",
     "model_module_version": "1.2.0",
     "model_name": "LayoutModel",
     "state": {
      "_model_module": "@jupyter-widgets/base",
      "_model_module_version": "1.2.0",
      "_model_name": "LayoutModel",
      "_view_count": null,
      "_view_module": "@jupyter-widgets/base",
      "_view_module_version": "1.2.0",
      "_view_name": "LayoutView",
      "align_content": null,
      "align_items": null,
      "align_self": null,
      "border": null,
      "bottom": null,
      "display": null,
      "flex": null,
      "flex_flow": null,
      "grid_area": null,
      "grid_auto_columns": null,
      "grid_auto_flow": null,
      "grid_auto_rows": null,
      "grid_column": null,
      "grid_gap": null,
      "grid_row": null,
      "grid_template_areas": null,
      "grid_template_columns": null,
      "grid_template_rows": null,
      "height": null,
      "justify_content": null,
      "justify_items": null,
      "left": null,
      "margin": null,
      "max_height": null,
      "max_width": null,
      "min_height": null,
      "min_width": null,
      "object_fit": null,
      "object_position": null,
      "order": null,
      "overflow": null,
      "overflow_x": null,
      "overflow_y": null,
      "padding": null,
      "right": null,
      "top": null,
      "visibility": null,
      "width": null
     }
    },
    "658c8ca6adb54fd397f15bc45489ae67": {
     "model_module": "@jupyter-widgets/controls",
     "model_module_version": "1.5.0",
     "model_name": "DescriptionStyleModel",
     "state": {
      "_model_module": "@jupyter-widgets/controls",
      "_model_module_version": "1.5.0",
      "_model_name": "DescriptionStyleModel",
      "_view_count": null,
      "_view_module": "@jupyter-widgets/base",
      "_view_module_version": "1.2.0",
      "_view_name": "StyleView",
      "description_width": ""
     }
    },
    "6895739859bf47e6aa8a8ec9211d321a": {
     "model_module": "@jupyter-widgets/controls",
     "model_module_version": "1.5.0",
     "model_name": "FloatProgressModel",
     "state": {
      "_dom_classes": [],
      "_model_module": "@jupyter-widgets/controls",
      "_model_module_version": "1.5.0",
      "_model_name": "FloatProgressModel",
      "_view_count": null,
      "_view_module": "@jupyter-widgets/controls",
      "_view_module_version": "1.5.0",
      "_view_name": "ProgressView",
      "bar_style": "success",
      "description": "",
      "description_tooltip": null,
      "layout": "IPY_MODEL_613366efc6bf4e6aa7392c16c7edeb86",
      "max": 2,
      "min": 0,
      "orientation": "horizontal",
      "style": "IPY_MODEL_f8b064fc91884666a8e67c88bd34c2a8",
      "value": 2
     }
    },
    "6b9b02b17ceb477a8f980fe5cc15265f": {
     "model_module": "@jupyter-widgets/base",
     "model_module_version": "1.2.0",
     "model_name": "LayoutModel",
     "state": {
      "_model_module": "@jupyter-widgets/base",
      "_model_module_version": "1.2.0",
      "_model_name": "LayoutModel",
      "_view_count": null,
      "_view_module": "@jupyter-widgets/base",
      "_view_module_version": "1.2.0",
      "_view_name": "LayoutView",
      "align_content": null,
      "align_items": null,
      "align_self": null,
      "border": null,
      "bottom": null,
      "display": null,
      "flex": null,
      "flex_flow": null,
      "grid_area": null,
      "grid_auto_columns": null,
      "grid_auto_flow": null,
      "grid_auto_rows": null,
      "grid_column": null,
      "grid_gap": null,
      "grid_row": null,
      "grid_template_areas": null,
      "grid_template_columns": null,
      "grid_template_rows": null,
      "height": null,
      "justify_content": null,
      "justify_items": null,
      "left": null,
      "margin": null,
      "max_height": null,
      "max_width": null,
      "min_height": null,
      "min_width": null,
      "object_fit": null,
      "object_position": null,
      "order": null,
      "overflow": null,
      "overflow_x": null,
      "overflow_y": null,
      "padding": null,
      "right": null,
      "top": null,
      "visibility": null,
      "width": null
     }
    },
    "6bc6934192f64231a57861885b78bc07": {
     "model_module": "@jupyter-widgets/base",
     "model_module_version": "1.2.0",
     "model_name": "LayoutModel",
     "state": {
      "_model_module": "@jupyter-widgets/base",
      "_model_module_version": "1.2.0",
      "_model_name": "LayoutModel",
      "_view_count": null,
      "_view_module": "@jupyter-widgets/base",
      "_view_module_version": "1.2.0",
      "_view_name": "LayoutView",
      "align_content": null,
      "align_items": null,
      "align_self": null,
      "border": null,
      "bottom": null,
      "display": null,
      "flex": null,
      "flex_flow": null,
      "grid_area": null,
      "grid_auto_columns": null,
      "grid_auto_flow": null,
      "grid_auto_rows": null,
      "grid_column": null,
      "grid_gap": null,
      "grid_row": null,
      "grid_template_areas": null,
      "grid_template_columns": null,
      "grid_template_rows": null,
      "height": null,
      "justify_content": null,
      "justify_items": null,
      "left": null,
      "margin": null,
      "max_height": null,
      "max_width": null,
      "min_height": null,
      "min_width": null,
      "object_fit": null,
      "object_position": null,
      "order": null,
      "overflow": null,
      "overflow_x": null,
      "overflow_y": null,
      "padding": null,
      "right": null,
      "top": null,
      "visibility": null,
      "width": null
     }
    },
    "7015b00efa6b4f7f9e7d61fe1f708c16": {
     "model_module": "@jupyter-widgets/controls",
     "model_module_version": "1.5.0",
     "model_name": "ProgressStyleModel",
     "state": {
      "_model_module": "@jupyter-widgets/controls",
      "_model_module_version": "1.5.0",
      "_model_name": "ProgressStyleModel",
      "_view_count": null,
      "_view_module": "@jupyter-widgets/base",
      "_view_module_version": "1.2.0",
      "_view_name": "StyleView",
      "bar_color": null,
      "description_width": ""
     }
    },
    "7b0071df3c46470a9130b93389e00a50": {
     "model_module": "@jupyter-widgets/controls",
     "model_module_version": "1.5.0",
     "model_name": "HTMLModel",
     "state": {
      "_dom_classes": [],
      "_model_module": "@jupyter-widgets/controls",
      "_model_module_version": "1.5.0",
      "_model_name": "HTMLModel",
      "_view_count": null,
      "_view_module": "@jupyter-widgets/controls",
      "_view_module_version": "1.5.0",
      "_view_name": "HTMLView",
      "description": "",
      "description_tooltip": null,
      "layout": "IPY_MODEL_899e5c6f801049b5b8fc1a1a9173c0ab",
      "placeholder": "​",
      "style": "IPY_MODEL_27496a8e8eef4c879247eb5e5ceafc97",
      "value": "parsing log, completed traces :: 100%"
     }
    },
    "819866fa874340c3b38b56b9f950c9ad": {
     "model_module": "@jupyter-widgets/base",
     "model_module_version": "1.2.0",
     "model_name": "LayoutModel",
     "state": {
      "_model_module": "@jupyter-widgets/base",
      "_model_module_version": "1.2.0",
      "_model_name": "LayoutModel",
      "_view_count": null,
      "_view_module": "@jupyter-widgets/base",
      "_view_module_version": "1.2.0",
      "_view_name": "LayoutView",
      "align_content": null,
      "align_items": null,
      "align_self": null,
      "border": null,
      "bottom": null,
      "display": null,
      "flex": null,
      "flex_flow": null,
      "grid_area": null,
      "grid_auto_columns": null,
      "grid_auto_flow": null,
      "grid_auto_rows": null,
      "grid_column": null,
      "grid_gap": null,
      "grid_row": null,
      "grid_template_areas": null,
      "grid_template_columns": null,
      "grid_template_rows": null,
      "height": null,
      "justify_content": null,
      "justify_items": null,
      "left": null,
      "margin": null,
      "max_height": null,
      "max_width": null,
      "min_height": null,
      "min_width": null,
      "object_fit": null,
      "object_position": null,
      "order": null,
      "overflow": null,
      "overflow_x": null,
      "overflow_y": null,
      "padding": null,
      "right": null,
      "top": null,
      "visibility": null,
      "width": null
     }
    },
    "83513a20789f482fa0ef4630de47e0c5": {
     "model_module": "@jupyter-widgets/controls",
     "model_module_version": "1.5.0",
     "model_name": "HTMLModel",
     "state": {
      "_dom_classes": [],
      "_model_module": "@jupyter-widgets/controls",
      "_model_module_version": "1.5.0",
      "_model_name": "HTMLModel",
      "_view_count": null,
      "_view_module": "@jupyter-widgets/controls",
      "_view_module_version": "1.5.0",
      "_view_name": "HTMLView",
      "description": "",
      "description_tooltip": null,
      "layout": "IPY_MODEL_3e520a35002a46379234f7d68e4ecc03",
      "placeholder": "​",
      "style": "IPY_MODEL_fc79243a13994a64a66c884d7a67a643",
      "value": " 2/2 [00:00&lt;00:00, 63.18it/s]"
     }
    },
    "8562b3687b994cfbb442dbb9ca61f14a": {
     "model_module": "@jupyter-widgets/base",
     "model_module_version": "1.2.0",
     "model_name": "LayoutModel",
     "state": {
      "_model_module": "@jupyter-widgets/base",
      "_model_module_version": "1.2.0",
      "_model_name": "LayoutModel",
      "_view_count": null,
      "_view_module": "@jupyter-widgets/base",
      "_view_module_version": "1.2.0",
      "_view_name": "LayoutView",
      "align_content": null,
      "align_items": null,
      "align_self": null,
      "border": null,
      "bottom": null,
      "display": null,
      "flex": null,
      "flex_flow": null,
      "grid_area": null,
      "grid_auto_columns": null,
      "grid_auto_flow": null,
      "grid_auto_rows": null,
      "grid_column": null,
      "grid_gap": null,
      "grid_row": null,
      "grid_template_areas": null,
      "grid_template_columns": null,
      "grid_template_rows": null,
      "height": null,
      "justify_content": null,
      "justify_items": null,
      "left": null,
      "margin": null,
      "max_height": null,
      "max_width": null,
      "min_height": null,
      "min_width": null,
      "object_fit": null,
      "object_position": null,
      "order": null,
      "overflow": null,
      "overflow_x": null,
      "overflow_y": null,
      "padding": null,
      "right": null,
      "top": null,
      "visibility": null,
      "width": null
     }
    },
    "85bde83bb53e461fa45548e637f1c68e": {
     "model_module": "@jupyter-widgets/base",
     "model_module_version": "1.2.0",
     "model_name": "LayoutModel",
     "state": {
      "_model_module": "@jupyter-widgets/base",
      "_model_module_version": "1.2.0",
      "_model_name": "LayoutModel",
      "_view_count": null,
      "_view_module": "@jupyter-widgets/base",
      "_view_module_version": "1.2.0",
      "_view_name": "LayoutView",
      "align_content": null,
      "align_items": null,
      "align_self": null,
      "border": null,
      "bottom": null,
      "display": null,
      "flex": null,
      "flex_flow": null,
      "grid_area": null,
      "grid_auto_columns": null,
      "grid_auto_flow": null,
      "grid_auto_rows": null,
      "grid_column": null,
      "grid_gap": null,
      "grid_row": null,
      "grid_template_areas": null,
      "grid_template_columns": null,
      "grid_template_rows": null,
      "height": null,
      "justify_content": null,
      "justify_items": null,
      "left": null,
      "margin": null,
      "max_height": null,
      "max_width": null,
      "min_height": null,
      "min_width": null,
      "object_fit": null,
      "object_position": null,
      "order": null,
      "overflow": null,
      "overflow_x": null,
      "overflow_y": null,
      "padding": null,
      "right": null,
      "top": null,
      "visibility": null,
      "width": null
     }
    },
    "899e5c6f801049b5b8fc1a1a9173c0ab": {
     "model_module": "@jupyter-widgets/base",
     "model_module_version": "1.2.0",
     "model_name": "LayoutModel",
     "state": {
      "_model_module": "@jupyter-widgets/base",
      "_model_module_version": "1.2.0",
      "_model_name": "LayoutModel",
      "_view_count": null,
      "_view_module": "@jupyter-widgets/base",
      "_view_module_version": "1.2.0",
      "_view_name": "LayoutView",
      "align_content": null,
      "align_items": null,
      "align_self": null,
      "border": null,
      "bottom": null,
      "display": null,
      "flex": null,
      "flex_flow": null,
      "grid_area": null,
      "grid_auto_columns": null,
      "grid_auto_flow": null,
      "grid_auto_rows": null,
      "grid_column": null,
      "grid_gap": null,
      "grid_row": null,
      "grid_template_areas": null,
      "grid_template_columns": null,
      "grid_template_rows": null,
      "height": null,
      "justify_content": null,
      "justify_items": null,
      "left": null,
      "margin": null,
      "max_height": null,
      "max_width": null,
      "min_height": null,
      "min_width": null,
      "object_fit": null,
      "object_position": null,
      "order": null,
      "overflow": null,
      "overflow_x": null,
      "overflow_y": null,
      "padding": null,
      "right": null,
      "top": null,
      "visibility": null,
      "width": null
     }
    },
    "8da3f6580e5e446abc477b3282f2f084": {
     "model_module": "@jupyter-widgets/controls",
     "model_module_version": "1.5.0",
     "model_name": "HBoxModel",
     "state": {
      "_dom_classes": [],
      "_model_module": "@jupyter-widgets/controls",
      "_model_module_version": "1.5.0",
      "_model_name": "HBoxModel",
      "_view_count": null,
      "_view_module": "@jupyter-widgets/controls",
      "_view_module_version": "1.5.0",
      "_view_name": "HBoxView",
      "box_style": "",
      "children": [
       "IPY_MODEL_345afb0176114ddabc522762f2700773",
       "IPY_MODEL_d51edbb88bc14472a6ee8a884f9225ef",
       "IPY_MODEL_2d9a5bd2c66e4fa6957da23429641819"
      ],
      "layout": "IPY_MODEL_c1450c2d42bf4a64a9d9bc468048ed13"
     }
    },
    "974b781698414425a10e377d19ade31c": {
     "model_module": "@jupyter-widgets/controls",
     "model_module_version": "1.5.0",
     "model_name": "HTMLModel",
     "state": {
      "_dom_classes": [],
      "_model_module": "@jupyter-widgets/controls",
      "_model_module_version": "1.5.0",
      "_model_name": "HTMLModel",
      "_view_count": null,
      "_view_module": "@jupyter-widgets/controls",
      "_view_module_version": "1.5.0",
      "_view_name": "HTMLView",
      "description": "",
      "description_tooltip": null,
      "layout": "IPY_MODEL_ac57eb6416d547f59d1e1e4daeb9e419",
      "placeholder": "​",
      "style": "IPY_MODEL_b2f370c96c14454ea0266b02b99da38b",
      "value": " 2/2 [00:00&lt;00:00, 63.34it/s]"
     }
    },
    "a066a916fc7d40aeb2b55deaffe42469": {
     "model_module": "@jupyter-widgets/base",
     "model_module_version": "1.2.0",
     "model_name": "LayoutModel",
     "state": {
      "_model_module": "@jupyter-widgets/base",
      "_model_module_version": "1.2.0",
      "_model_name": "LayoutModel",
      "_view_count": null,
      "_view_module": "@jupyter-widgets/base",
      "_view_module_version": "1.2.0",
      "_view_name": "LayoutView",
      "align_content": null,
      "align_items": null,
      "align_self": null,
      "border": null,
      "bottom": null,
      "display": null,
      "flex": null,
      "flex_flow": null,
      "grid_area": null,
      "grid_auto_columns": null,
      "grid_auto_flow": null,
      "grid_auto_rows": null,
      "grid_column": null,
      "grid_gap": null,
      "grid_row": null,
      "grid_template_areas": null,
      "grid_template_columns": null,
      "grid_template_rows": null,
      "height": null,
      "justify_content": null,
      "justify_items": null,
      "left": null,
      "margin": null,
      "max_height": null,
      "max_width": null,
      "min_height": null,
      "min_width": null,
      "object_fit": null,
      "object_position": null,
      "order": null,
      "overflow": null,
      "overflow_x": null,
      "overflow_y": null,
      "padding": null,
      "right": null,
      "top": null,
      "visibility": null,
      "width": null
     }
    },
    "a0cd5b3efe0844d4a59238e3f14557c6": {
     "model_module": "@jupyter-widgets/controls",
     "model_module_version": "1.5.0",
     "model_name": "FloatProgressModel",
     "state": {
      "_dom_classes": [],
      "_model_module": "@jupyter-widgets/controls",
      "_model_module_version": "1.5.0",
      "_model_name": "FloatProgressModel",
      "_view_count": null,
      "_view_module": "@jupyter-widgets/controls",
      "_view_module_version": "1.5.0",
      "_view_name": "ProgressView",
      "bar_style": "success",
      "description": "",
      "description_tooltip": null,
      "layout": "IPY_MODEL_2239d81cb16b417ba5088b0f03b9ccbb",
      "max": 2,
      "min": 0,
      "orientation": "horizontal",
      "style": "IPY_MODEL_553ee7acfe26432997919a111494839b",
      "value": 2
     }
    },
    "a22b5a05cb7947cda664002e53b96759": {
     "model_module": "@jupyter-widgets/controls",
     "model_module_version": "1.5.0",
     "model_name": "HTMLModel",
     "state": {
      "_dom_classes": [],
      "_model_module": "@jupyter-widgets/controls",
      "_model_module_version": "1.5.0",
      "_model_name": "HTMLModel",
      "_view_count": null,
      "_view_module": "@jupyter-widgets/controls",
      "_view_module_version": "1.5.0",
      "_view_name": "HTMLView",
      "description": "",
      "description_tooltip": null,
      "layout": "IPY_MODEL_6bc6934192f64231a57861885b78bc07",
      "placeholder": "​",
      "style": "IPY_MODEL_dcc8185b73594189876b2b184d139c42",
      "value": "parsing log, completed traces :: 100%"
     }
    },
    "a8f210fcb658425fbe05ffda38540a8e": {
     "model_module": "@jupyter-widgets/controls",
     "model_module_version": "1.5.0",
     "model_name": "HBoxModel",
     "state": {
      "_dom_classes": [],
      "_model_module": "@jupyter-widgets/controls",
      "_model_module_version": "1.5.0",
      "_model_name": "HBoxModel",
      "_view_count": null,
      "_view_module": "@jupyter-widgets/controls",
      "_view_module_version": "1.5.0",
      "_view_name": "HBoxView",
      "box_style": "",
      "children": [
       "IPY_MODEL_cdb2abe79a7b434984de5c9c2c0d59e8",
       "IPY_MODEL_d9f3f477c8504b50acb5621e99bf2b24",
       "IPY_MODEL_974b781698414425a10e377d19ade31c"
      ],
      "layout": "IPY_MODEL_2e4f609bc9c842f39d8f44f7292905b5"
     }
    },
    "ac57eb6416d547f59d1e1e4daeb9e419": {
     "model_module": "@jupyter-widgets/base",
     "model_module_version": "1.2.0",
     "model_name": "LayoutModel",
     "state": {
      "_model_module": "@jupyter-widgets/base",
      "_model_module_version": "1.2.0",
      "_model_name": "LayoutModel",
      "_view_count": null,
      "_view_module": "@jupyter-widgets/base",
      "_view_module_version": "1.2.0",
      "_view_name": "LayoutView",
      "align_content": null,
      "align_items": null,
      "align_self": null,
      "border": null,
      "bottom": null,
      "display": null,
      "flex": null,
      "flex_flow": null,
      "grid_area": null,
      "grid_auto_columns": null,
      "grid_auto_flow": null,
      "grid_auto_rows": null,
      "grid_column": null,
      "grid_gap": null,
      "grid_row": null,
      "grid_template_areas": null,
      "grid_template_columns": null,
      "grid_template_rows": null,
      "height": null,
      "justify_content": null,
      "justify_items": null,
      "left": null,
      "margin": null,
      "max_height": null,
      "max_width": null,
      "min_height": null,
      "min_width": null,
      "object_fit": null,
      "object_position": null,
      "order": null,
      "overflow": null,
      "overflow_x": null,
      "overflow_y": null,
      "padding": null,
      "right": null,
      "top": null,
      "visibility": null,
      "width": null
     }
    },
    "b2f370c96c14454ea0266b02b99da38b": {
     "model_module": "@jupyter-widgets/controls",
     "model_module_version": "1.5.0",
     "model_name": "DescriptionStyleModel",
     "state": {
      "_model_module": "@jupyter-widgets/controls",
      "_model_module_version": "1.5.0",
      "_model_name": "DescriptionStyleModel",
      "_view_count": null,
      "_view_module": "@jupyter-widgets/base",
      "_view_module_version": "1.2.0",
      "_view_name": "StyleView",
      "description_width": ""
     }
    },
    "b4bc6d8df7284885b41421f39c6fbbee": {
     "model_module": "@jupyter-widgets/controls",
     "model_module_version": "1.5.0",
     "model_name": "DescriptionStyleModel",
     "state": {
      "_model_module": "@jupyter-widgets/controls",
      "_model_module_version": "1.5.0",
      "_model_name": "DescriptionStyleModel",
      "_view_count": null,
      "_view_module": "@jupyter-widgets/base",
      "_view_module_version": "1.2.0",
      "_view_name": "StyleView",
      "description_width": ""
     }
    },
    "c0f2d0aecb454ae5adb9eaa2700a387c": {
     "model_module": "@jupyter-widgets/controls",
     "model_module_version": "1.5.0",
     "model_name": "FloatProgressModel",
     "state": {
      "_dom_classes": [],
      "_model_module": "@jupyter-widgets/controls",
      "_model_module_version": "1.5.0",
      "_model_name": "FloatProgressModel",
      "_view_count": null,
      "_view_module": "@jupyter-widgets/controls",
      "_view_module_version": "1.5.0",
      "_view_name": "ProgressView",
      "bar_style": "success",
      "description": "",
      "description_tooltip": null,
      "layout": "IPY_MODEL_e0526a58e7984b92bde410f08629d602",
      "max": 2,
      "min": 0,
      "orientation": "horizontal",
      "style": "IPY_MODEL_7015b00efa6b4f7f9e7d61fe1f708c16",
      "value": 2
     }
    },
    "c1450c2d42bf4a64a9d9bc468048ed13": {
     "model_module": "@jupyter-widgets/base",
     "model_module_version": "1.2.0",
     "model_name": "LayoutModel",
     "state": {
      "_model_module": "@jupyter-widgets/base",
      "_model_module_version": "1.2.0",
      "_model_name": "LayoutModel",
      "_view_count": null,
      "_view_module": "@jupyter-widgets/base",
      "_view_module_version": "1.2.0",
      "_view_name": "LayoutView",
      "align_content": null,
      "align_items": null,
      "align_self": null,
      "border": null,
      "bottom": null,
      "display": null,
      "flex": null,
      "flex_flow": null,
      "grid_area": null,
      "grid_auto_columns": null,
      "grid_auto_flow": null,
      "grid_auto_rows": null,
      "grid_column": null,
      "grid_gap": null,
      "grid_row": null,
      "grid_template_areas": null,
      "grid_template_columns": null,
      "grid_template_rows": null,
      "height": null,
      "justify_content": null,
      "justify_items": null,
      "left": null,
      "margin": null,
      "max_height": null,
      "max_width": null,
      "min_height": null,
      "min_width": null,
      "object_fit": null,
      "object_position": null,
      "order": null,
      "overflow": null,
      "overflow_x": null,
      "overflow_y": null,
      "padding": null,
      "right": null,
      "top": null,
      "visibility": null,
      "width": null
     }
    },
    "cdb2abe79a7b434984de5c9c2c0d59e8": {
     "model_module": "@jupyter-widgets/controls",
     "model_module_version": "1.5.0",
     "model_name": "HTMLModel",
     "state": {
      "_dom_classes": [],
      "_model_module": "@jupyter-widgets/controls",
      "_model_module_version": "1.5.0",
      "_model_name": "HTMLModel",
      "_view_count": null,
      "_view_module": "@jupyter-widgets/controls",
      "_view_module_version": "1.5.0",
      "_view_name": "HTMLView",
      "description": "",
      "description_tooltip": null,
      "layout": "IPY_MODEL_1663143eb0a642468a94c73c45b0aa70",
      "placeholder": "​",
      "style": "IPY_MODEL_4c3c1a9cf8484281ba6c3438fac311fc",
      "value": "parsing log, completed traces :: 100%"
     }
    },
    "d2fc00da89bd408db72f44e0611f25fc": {
     "model_module": "@jupyter-widgets/controls",
     "model_module_version": "1.5.0",
     "model_name": "HBoxModel",
     "state": {
      "_dom_classes": [],
      "_model_module": "@jupyter-widgets/controls",
      "_model_module_version": "1.5.0",
      "_model_name": "HBoxModel",
      "_view_count": null,
      "_view_module": "@jupyter-widgets/controls",
      "_view_module_version": "1.5.0",
      "_view_name": "HBoxView",
      "box_style": "",
      "children": [
       "IPY_MODEL_a22b5a05cb7947cda664002e53b96759",
       "IPY_MODEL_a0cd5b3efe0844d4a59238e3f14557c6",
       "IPY_MODEL_3a86c381743e406387d3e021a8235806"
      ],
      "layout": "IPY_MODEL_0de8c911d9614e148b2ea8bc3331794a"
     }
    },
    "d51edbb88bc14472a6ee8a884f9225ef": {
     "model_module": "@jupyter-widgets/controls",
     "model_module_version": "1.5.0",
     "model_name": "FloatProgressModel",
     "state": {
      "_dom_classes": [],
      "_model_module": "@jupyter-widgets/controls",
      "_model_module_version": "1.5.0",
      "_model_name": "FloatProgressModel",
      "_view_count": null,
      "_view_module": "@jupyter-widgets/controls",
      "_view_module_version": "1.5.0",
      "_view_name": "ProgressView",
      "bar_style": "success",
      "description": "",
      "description_tooltip": null,
      "layout": "IPY_MODEL_40d199b1ad6841ae8683f389e0a655b3",
      "max": 2,
      "min": 0,
      "orientation": "horizontal",
      "style": "IPY_MODEL_129bfc18e2ec4d92b64d3913c3f66375",
      "value": 2
     }
    },
    "d9f3f477c8504b50acb5621e99bf2b24": {
     "model_module": "@jupyter-widgets/controls",
     "model_module_version": "1.5.0",
     "model_name": "FloatProgressModel",
     "state": {
      "_dom_classes": [],
      "_model_module": "@jupyter-widgets/controls",
      "_model_module_version": "1.5.0",
      "_model_name": "FloatProgressModel",
      "_view_count": null,
      "_view_module": "@jupyter-widgets/controls",
      "_view_module_version": "1.5.0",
      "_view_name": "ProgressView",
      "bar_style": "success",
      "description": "",
      "description_tooltip": null,
      "layout": "IPY_MODEL_6b9b02b17ceb477a8f980fe5cc15265f",
      "max": 2,
      "min": 0,
      "orientation": "horizontal",
      "style": "IPY_MODEL_f8c46aaffa204662bd07a1a062b626ec",
      "value": 2
     }
    },
    "dcc8185b73594189876b2b184d139c42": {
     "model_module": "@jupyter-widgets/controls",
     "model_module_version": "1.5.0",
     "model_name": "DescriptionStyleModel",
     "state": {
      "_model_module": "@jupyter-widgets/controls",
      "_model_module_version": "1.5.0",
      "_model_name": "DescriptionStyleModel",
      "_view_count": null,
      "_view_module": "@jupyter-widgets/base",
      "_view_module_version": "1.2.0",
      "_view_name": "StyleView",
      "description_width": ""
     }
    },
    "e0526a58e7984b92bde410f08629d602": {
     "model_module": "@jupyter-widgets/base",
     "model_module_version": "1.2.0",
     "model_name": "LayoutModel",
     "state": {
      "_model_module": "@jupyter-widgets/base",
      "_model_module_version": "1.2.0",
      "_model_name": "LayoutModel",
      "_view_count": null,
      "_view_module": "@jupyter-widgets/base",
      "_view_module_version": "1.2.0",
      "_view_name": "LayoutView",
      "align_content": null,
      "align_items": null,
      "align_self": null,
      "border": null,
      "bottom": null,
      "display": null,
      "flex": null,
      "flex_flow": null,
      "grid_area": null,
      "grid_auto_columns": null,
      "grid_auto_flow": null,
      "grid_auto_rows": null,
      "grid_column": null,
      "grid_gap": null,
      "grid_row": null,
      "grid_template_areas": null,
      "grid_template_columns": null,
      "grid_template_rows": null,
      "height": null,
      "justify_content": null,
      "justify_items": null,
      "left": null,
      "margin": null,
      "max_height": null,
      "max_width": null,
      "min_height": null,
      "min_width": null,
      "object_fit": null,
      "object_position": null,
      "order": null,
      "overflow": null,
      "overflow_x": null,
      "overflow_y": null,
      "padding": null,
      "right": null,
      "top": null,
      "visibility": null,
      "width": null
     }
    },
    "e5896657fb174be1b2295341a7e41d07": {
     "model_module": "@jupyter-widgets/controls",
     "model_module_version": "1.5.0",
     "model_name": "HBoxModel",
     "state": {
      "_dom_classes": [],
      "_model_module": "@jupyter-widgets/controls",
      "_model_module_version": "1.5.0",
      "_model_name": "HBoxModel",
      "_view_count": null,
      "_view_module": "@jupyter-widgets/controls",
      "_view_module_version": "1.5.0",
      "_view_name": "HBoxView",
      "box_style": "",
      "children": [
       "IPY_MODEL_7b0071df3c46470a9130b93389e00a50",
       "IPY_MODEL_c0f2d0aecb454ae5adb9eaa2700a387c",
       "IPY_MODEL_83513a20789f482fa0ef4630de47e0c5"
      ],
      "layout": "IPY_MODEL_8562b3687b994cfbb442dbb9ca61f14a"
     }
    },
    "eeedd994c5c64b979816076517a8fbc6": {
     "model_module": "@jupyter-widgets/controls",
     "model_module_version": "1.5.0",
     "model_name": "DescriptionStyleModel",
     "state": {
      "_model_module": "@jupyter-widgets/controls",
      "_model_module_version": "1.5.0",
      "_model_name": "DescriptionStyleModel",
      "_view_count": null,
      "_view_module": "@jupyter-widgets/base",
      "_view_module_version": "1.2.0",
      "_view_name": "StyleView",
      "description_width": ""
     }
    },
    "f10af0d51834407198e617bd8488d4eb": {
     "model_module": "@jupyter-widgets/base",
     "model_module_version": "1.2.0",
     "model_name": "LayoutModel",
     "state": {
      "_model_module": "@jupyter-widgets/base",
      "_model_module_version": "1.2.0",
      "_model_name": "LayoutModel",
      "_view_count": null,
      "_view_module": "@jupyter-widgets/base",
      "_view_module_version": "1.2.0",
      "_view_name": "LayoutView",
      "align_content": null,
      "align_items": null,
      "align_self": null,
      "border": null,
      "bottom": null,
      "display": null,
      "flex": null,
      "flex_flow": null,
      "grid_area": null,
      "grid_auto_columns": null,
      "grid_auto_flow": null,
      "grid_auto_rows": null,
      "grid_column": null,
      "grid_gap": null,
      "grid_row": null,
      "grid_template_areas": null,
      "grid_template_columns": null,
      "grid_template_rows": null,
      "height": null,
      "justify_content": null,
      "justify_items": null,
      "left": null,
      "margin": null,
      "max_height": null,
      "max_width": null,
      "min_height": null,
      "min_width": null,
      "object_fit": null,
      "object_position": null,
      "order": null,
      "overflow": null,
      "overflow_x": null,
      "overflow_y": null,
      "padding": null,
      "right": null,
      "top": null,
      "visibility": null,
      "width": null
     }
    },
    "f8b064fc91884666a8e67c88bd34c2a8": {
     "model_module": "@jupyter-widgets/controls",
     "model_module_version": "1.5.0",
     "model_name": "ProgressStyleModel",
     "state": {
      "_model_module": "@jupyter-widgets/controls",
      "_model_module_version": "1.5.0",
      "_model_name": "ProgressStyleModel",
      "_view_count": null,
      "_view_module": "@jupyter-widgets/base",
      "_view_module_version": "1.2.0",
      "_view_name": "StyleView",
      "bar_color": null,
      "description_width": ""
     }
    },
    "f8c46aaffa204662bd07a1a062b626ec": {
     "model_module": "@jupyter-widgets/controls",
     "model_module_version": "1.5.0",
     "model_name": "ProgressStyleModel",
     "state": {
      "_model_module": "@jupyter-widgets/controls",
      "_model_module_version": "1.5.0",
      "_model_name": "ProgressStyleModel",
      "_view_count": null,
      "_view_module": "@jupyter-widgets/base",
      "_view_module_version": "1.2.0",
      "_view_name": "StyleView",
      "bar_color": null,
      "description_width": ""
     }
    },
    "fc79243a13994a64a66c884d7a67a643": {
     "model_module": "@jupyter-widgets/controls",
     "model_module_version": "1.5.0",
     "model_name": "DescriptionStyleModel",
     "state": {
      "_model_module": "@jupyter-widgets/controls",
      "_model_module_version": "1.5.0",
      "_model_name": "DescriptionStyleModel",
      "_view_count": null,
      "_view_module": "@jupyter-widgets/base",
      "_view_module_version": "1.2.0",
      "_view_name": "StyleView",
      "description_width": ""
     }
    }
   }
  }
 },
 "nbformat": 4,
 "nbformat_minor": 4
}
