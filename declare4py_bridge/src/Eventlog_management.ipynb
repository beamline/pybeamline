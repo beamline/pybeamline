{
 "cells": [
  {
   "cell_type": "code",
   "execution_count": null,
   "metadata": {},
   "outputs": [],
   "source": [
    "import os\n",
    "from Declare4Py.D4PyEventLog import D4PyEventLog\n",
    "\n",
    "eventlog: D4PyEventLog = D4PyEventLog(case_name=\"case:concept:name\")"
   ]
  },
  {
   "cell_type": "code",
   "execution_count": null,
   "metadata": {},
   "outputs": [],
   "source": [
    "log_path = os.path.join(\"../data/extension-log-4.xes\")\n",
    "eventlog.parse_xes_log(log_path)"
   ]
  },
  {
   "cell_type": "code",
   "execution_count": null,
   "metadata": {},
   "outputs": [],
   "source": [
    "# Print the parsed log\n",
    "print(\"This is the log:\")\n",
    "print(eventlog.get_log())\n",
    "print(\"--------------------------------------\")\n",
    "\n",
    "# Print the number of cases in the log\n",
    "print(\"Number of cases:\")\n",
    "print(eventlog.get_length())\n",
    "print(\"--------------------------------------\")\n",
    "\n",
    "# Print the number of cases in the log\n",
    "print(\"Case name:\")\n",
    "print(eventlog.get_case_name())\n",
    "print(\"--------------------------------------\")\n",
    "\n",
    "# Print the number of cases in the log\n",
    "print(\"Concept name:\")\n",
    "print(eventlog.get_concept_name())\n",
    "print(\"--------------------------------------\")\n",
    "\n",
    "# Print the number of cases in the log\n",
    "print(\"Timestamp name:\")\n",
    "print(eventlog.get_timestamp_name())"
   ]
  },
  {
   "cell_type": "code",
   "execution_count": null,
   "metadata": {},
   "outputs": [],
   "source": [
    "eventlog.get_start_activities()"
   ]
  },
  {
   "cell_type": "code",
   "execution_count": null,
   "metadata": {},
   "outputs": [],
   "source": [
    "eventlog.get_end_activities()"
   ]
  },
  {
   "cell_type": "code",
   "execution_count": null,
   "metadata": {},
   "outputs": [],
   "source": [
    "for inx, trace in enumerate(eventlog.attribute_log_projection(eventlog.get_concept_name())):\n",
    "    print(f\"{inx}- {trace}\")"
   ]
  },
  {
   "cell_type": "code",
   "execution_count": null,
   "metadata": {},
   "outputs": [],
   "source": [
    "for idx, variant in enumerate(eventlog.get_variants().keys()):\n",
    "    print(f\"{idx} - {variant}\")"
   ]
  },
  {
   "cell_type": "code",
   "execution_count": null,
   "metadata": {},
   "outputs": [],
   "source": [
    "type(eventlog)"
   ]
  }
 ],
 "metadata": {
  "kernelspec": {
   "display_name": "env",
   "language": "python",
   "name": "python3"
  },
  "language_info": {
   "codemirror_mode": {
    "name": "ipython",
    "version": 3
   },
   "file_extension": ".py",
   "mimetype": "text/x-python",
   "name": "python",
   "nbconvert_exporter": "python",
   "pygments_lexer": "ipython3",
   "version": "3.11.2"
  }
 },
 "nbformat": 4,
 "nbformat_minor": 2
}
