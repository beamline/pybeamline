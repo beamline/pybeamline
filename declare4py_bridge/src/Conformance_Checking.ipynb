{
 "cells": [
  {
   "cell_type": "code",
   "execution_count": null,
   "metadata": {},
   "outputs": [],
   "source": [
    "from Declare4Py.ProcessModels.DeclareModel import DeclareModel, DeclareModelTemplate\n",
    "from Declare4Py.D4PyEventLog import D4PyEventLog\n",
    "from Declare4Py.ProcessMiningTasks.Discovery.DeclareMiner import DeclareMiner \n",
    "import os"
   ]
  },
  {
   "cell_type": "code",
   "execution_count": null,
   "metadata": {},
   "outputs": [],
   "source": [
    "log_path = os.path.join(\"../data/Sepsis/Sepsis Cases.xes\")\n",
    "event_log = D4PyEventLog(case_name=\"case:concept:name\")\n",
    "event_log.parse_xes_log(log_path)\n",
    "\n"
   ]
  },
  {
   "cell_type": "code",
   "execution_count": null,
   "metadata": {},
   "outputs": [],
   "source": [
    "sepsis_model = DeclareModel().parse_from_file(\"../data/Sepsis/data_model.decl\")"
   ]
  },
  {
   "cell_type": "code",
   "execution_count": null,
   "metadata": {},
   "outputs": [],
   "source": [
    "model_constraints = sepsis_model.get_decl_model_constraints()\n",
    "\n",
    "print(\"Model constraints:\")\n",
    "print(\"-----------------\")\n",
    "for idx, constr in enumerate(model_constraints):\n",
    "    print(idx, constr)\n"
   ]
  },
  {
   "cell_type": "code",
   "execution_count": null,
   "metadata": {},
   "outputs": [],
   "source": [
    "from Declare4Py.ProcessMiningTasks.ConformanceChecking.MPDeclareAnalyzer import MPDeclareAnalyzer\n",
    "from Declare4Py.ProcessMiningTasks.ConformanceChecking.MPDeclareResultsBrowser import MPDeclareResultsBrowser\n",
    "\n",
    "\n",
    "basic_checker = MPDeclareAnalyzer(log=event_log, declare_model=sepsis_model, consider_vacuity=False)\n",
    "conf_check_res: MPDeclareResultsBrowser = basic_checker.run()"
   ]
  },
  {
   "cell_type": "code",
   "execution_count": null,
   "metadata": {},
   "outputs": [],
   "source": [
    "conf_check_res.get_metric(metric=\"num_activations\")"
   ]
  },
  {
   "cell_type": "code",
   "execution_count": null,
   "metadata": {},
   "outputs": [],
   "source": [
    "# Number of activations for the second trace\n",
    "print(conf_check_res.get_metric(trace_id=1, metric=\"num_activations\"))\n",
    "print(\"-------------------------------------------\")\n",
    "\n",
    "# Number of activations for the constraint with id=12\n",
    "print(conf_check_res.get_metric(constr_id=12, metric=\"num_activations\"))\n",
    "print(\"-------------------------------------------\")\n",
    "\n",
    "# Number of activations for the second trace and for the constraint with id=12\n",
    "conf_check_res.get_metric(trace_id=1, constr_id=12, metric=\"num_activations\")\n"
   ]
  },
  {
   "cell_type": "code",
   "execution_count": null,
   "metadata": {},
   "outputs": [],
   "source": []
  }
 ],
 "metadata": {
  "kernelspec": {
   "display_name": "env",
   "language": "python",
   "name": "python3"
  },
  "language_info": {
   "codemirror_mode": {
    "name": "ipython",
    "version": 3
   },
   "file_extension": ".py",
   "mimetype": "text/x-python",
   "name": "python",
   "nbconvert_exporter": "python",
   "pygments_lexer": "ipython3",
   "version": "3.11.2"
  }
 },
 "nbformat": 4,
 "nbformat_minor": 2
}
