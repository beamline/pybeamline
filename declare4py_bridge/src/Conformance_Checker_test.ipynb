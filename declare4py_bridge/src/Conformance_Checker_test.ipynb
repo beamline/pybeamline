{
 "cells": [
  {
   "cell_type": "code",
   "execution_count": 5,
   "metadata": {},
   "outputs": [],
   "source": [
    "from Declare4Py.ProcessModels.DeclareModel import DeclareModel, DeclareModelTemplate\n",
    "from Declare4Py.D4PyEventLog import D4PyEventLog\n",
    "from Declare4Py.ProcessMiningTasks.Discovery.DeclareMiner import DeclareMiner \n",
    "from Declare4Py.ProcessMiningTasks.ConformanceChecking.MPDeclareAnalyzer import MPDeclareAnalyzer\n",
    "from Declare4Py.ProcessMiningTasks.ConformanceChecking.MPDeclareResultsBrowser import MPDeclareResultsBrowser\n",
    "from pybeamline.sources import log_source\n",
    "from pybeamline.mappers import sliding_window_to_log\n",
    "from reactivex.operators import window_with_count, take\n",
    "from Declare4Py.ProcessMiningTasks.ConformanceChecking.MPDeclareAnalyzer import MPDeclareAnalyzer\n",
    "from Declare4Py.ProcessMiningTasks.ConformanceChecking.MPDeclareResultsBrowser import MPDeclareResultsBrowser\n",
    "\n",
    "import pm4py\n",
    "import os\n",
    "\n",
    "import warnings\n",
    "warnings.filterwarnings(\"ignore\", category=UserWarning)\n",
    "warnings.filterwarnings(\"ignore\", category=DeprecationWarning)"
   ]
  },
  {
   "cell_type": "code",
   "execution_count": 6,
   "metadata": {},
   "outputs": [
    {
     "name": "stderr",
     "output_type": "stream",
     "text": [
      "parsing log, completed traces :: 100%|██████████| 1000/1000 [00:00<00:00, 12830.66it/s]\n"
     ]
    },
    {
     "name": "stdout",
     "output_type": "stream",
     "text": [
      "Computing discovery ...\n"
     ]
    }
   ],
   "source": [
    "log_path = os.path.join(\"../data/extension_log/extension-log-4.xes\")\n",
    "event_log = D4PyEventLog(case_name=\"case:concept:name\")\n",
    "event_log.parse_xes_log(log_path)\n",
    "extension_log_model = DeclareMiner(log=event_log, consider_vacuity=False, min_support=0.2, itemsets_support=0.9, max_declare_cardinality=3).run()"
   ]
  },
  {
   "cell_type": "code",
   "execution_count": 9,
   "metadata": {},
   "outputs": [
    {
     "name": "stderr",
     "output_type": "stream",
     "text": [
      "parsing log, completed traces :: 100%|██████████| 1000/1000 [00:00<00:00, 13538.14it/s]\n"
     ]
    }
   ],
   "source": [
    "log_path = os.path.join(\"../data/extension_log/extension-log-noisy-4.xes\")\n",
    "event_stream = log_source(log_path)"
   ]
  },
  {
   "cell_type": "code",
   "execution_count": 10,
   "metadata": {},
   "outputs": [
    {
     "ename": "Exception",
     "evalue": "the method can be applied only to a traditional event log!",
     "output_type": "error",
     "traceback": [
      "\u001b[0;31m---------------------------------------------------------------------------\u001b[0m",
      "\u001b[0;31mException\u001b[0m                                 Traceback (most recent call last)",
      "Cell \u001b[0;32mIn[10], line 3\u001b[0m\n\u001b[1;32m      1\u001b[0m \u001b[38;5;28;01mfrom\u001b[39;00m \u001b[38;5;21;01mpybeamline_declare4py_bridge\u001b[39;00m\u001b[38;5;21;01m.\u001b[39;00m\u001b[38;5;21;01mconformance\u001b[39;00m\u001b[38;5;21;01m.\u001b[39;00m\u001b[38;5;21;01mpybeamline_trace_conformance\u001b[39;00m \u001b[38;5;28;01mimport\u001b[39;00m get_trace_conformance\n\u001b[0;32m----> 3\u001b[0m \u001b[43mget_trace_conformance\u001b[49m\u001b[43m(\u001b[49m\u001b[43mmodel\u001b[49m\u001b[38;5;241;43m=\u001b[39;49m\u001b[43mextension_log_model\u001b[49m\u001b[43m,\u001b[49m\u001b[43m \u001b[49m\u001b[43mevent_stream\u001b[49m\u001b[38;5;241;43m=\u001b[39;49m\u001b[43mevent_stream\u001b[49m\u001b[43m)\u001b[49m\n",
      "File \u001b[0;32m~/pybeamline/declare4py_bridge/src/pybeamline_declare4py_bridge/conformance/pybeamline_trace_conformance.py:16\u001b[0m, in \u001b[0;36mget_trace_conformance\u001b[0;34m(model, event_stream, timestamp_key, activity_key)\u001b[0m\n\u001b[1;32m      9\u001b[0m \u001b[38;5;28;01mdef\u001b[39;00m \u001b[38;5;21mget_trace_conformance\u001b[39m(\n\u001b[1;32m     10\u001b[0m         model:DeclareModel, \n\u001b[1;32m     11\u001b[0m         event_stream: Observable[BEvent], \n\u001b[1;32m     12\u001b[0m         timestamp_key:\u001b[38;5;28mstr\u001b[39m \u001b[38;5;241m=\u001b[39m \u001b[38;5;124m'\u001b[39m\u001b[38;5;124mtime:timestamp\u001b[39m\u001b[38;5;124m'\u001b[39m, \n\u001b[1;32m     13\u001b[0m         activity_key:\u001b[38;5;28mstr\u001b[39m \u001b[38;5;241m=\u001b[39m \u001b[38;5;124m'\u001b[39m\u001b[38;5;124mconcept:name\u001b[39m\u001b[38;5;124m'\u001b[39m):\n\u001b[1;32m     14\u001b[0m     \u001b[38;5;66;03m# Generate Declare4py EventLog\u001b[39;00m\n\u001b[1;32m     15\u001b[0m     logs \u001b[38;5;241m=\u001b[39m []\n\u001b[0;32m---> 16\u001b[0m     \u001b[43mevent_stream\u001b[49m\u001b[38;5;241;43m.\u001b[39;49m\u001b[43mpipe\u001b[49m\u001b[43m(\u001b[49m\n\u001b[1;32m     17\u001b[0m \u001b[43m        \u001b[49m\u001b[38;5;66;43;03m# TODO: Change function, so I dont have to pipe the input first\u001b[39;49;00m\n\u001b[1;32m     18\u001b[0m \u001b[43m        \u001b[49m\u001b[38;5;66;43;03m# lambda x: print(x)\u001b[39;49;00m\n\u001b[1;32m     19\u001b[0m \u001b[43m    \u001b[49m\u001b[43m)\u001b[49m\u001b[38;5;241m.\u001b[39msubscribe(\n\u001b[1;32m     20\u001b[0m         \u001b[38;5;28;01mlambda\u001b[39;00m log: logs\u001b[38;5;241m.\u001b[39mappend(pm4py\u001b[38;5;241m.\u001b[39mconvert_to_event_log(log)) \n\u001b[1;32m     21\u001b[0m     )\n\u001b[1;32m     23\u001b[0m     \u001b[38;5;28;01mfor\u001b[39;00m l \u001b[38;5;129;01min\u001b[39;00m logs:\n\u001b[1;32m     24\u001b[0m         l\u001b[38;5;241m.\u001b[39m_properties[\u001b[38;5;124m'\u001b[39m\u001b[38;5;124mpm4py:param:timestamp_key\u001b[39m\u001b[38;5;124m'\u001b[39m] \u001b[38;5;241m=\u001b[39m timestamp_key\n",
      "File \u001b[0;32m~/pybeamline/declare4py_bridge/env/lib/python3.12/site-packages/reactivex/observable/observable.py:142\u001b[0m, in \u001b[0;36mObservable.subscribe\u001b[0;34m(self, on_next, on_error, on_completed, scheduler)\u001b[0m\n\u001b[1;32m    140\u001b[0m current_thread_scheduler \u001b[38;5;241m=\u001b[39m CurrentThreadScheduler\u001b[38;5;241m.\u001b[39msingleton()\n\u001b[1;32m    141\u001b[0m \u001b[38;5;28;01mif\u001b[39;00m current_thread_scheduler\u001b[38;5;241m.\u001b[39mschedule_required():\n\u001b[0;32m--> 142\u001b[0m     \u001b[43mcurrent_thread_scheduler\u001b[49m\u001b[38;5;241;43m.\u001b[39;49m\u001b[43mschedule\u001b[49m\u001b[43m(\u001b[49m\u001b[43mset_disposable\u001b[49m\u001b[43m)\u001b[49m\n\u001b[1;32m    143\u001b[0m \u001b[38;5;28;01melse\u001b[39;00m:\n\u001b[1;32m    144\u001b[0m     set_disposable()\n",
      "File \u001b[0;32m~/pybeamline/declare4py_bridge/env/lib/python3.12/site-packages/reactivex/scheduler/trampolinescheduler.py:49\u001b[0m, in \u001b[0;36mTrampolineScheduler.schedule\u001b[0;34m(self, action, state)\u001b[0m\n\u001b[1;32m     35\u001b[0m \u001b[38;5;28;01mdef\u001b[39;00m \u001b[38;5;21mschedule\u001b[39m(\n\u001b[1;32m     36\u001b[0m     \u001b[38;5;28mself\u001b[39m, action: abc\u001b[38;5;241m.\u001b[39mScheduledAction[_TState], state: Optional[_TState] \u001b[38;5;241m=\u001b[39m \u001b[38;5;28;01mNone\u001b[39;00m\n\u001b[1;32m     37\u001b[0m ) \u001b[38;5;241m-\u001b[39m\u001b[38;5;241m>\u001b[39m abc\u001b[38;5;241m.\u001b[39mDisposableBase:\n\u001b[1;32m     38\u001b[0m \u001b[38;5;250m    \u001b[39m\u001b[38;5;124;03m\"\"\"Schedules an action to be executed.\u001b[39;00m\n\u001b[1;32m     39\u001b[0m \n\u001b[1;32m     40\u001b[0m \u001b[38;5;124;03m    Args:\u001b[39;00m\n\u001b[0;32m   (...)\u001b[0m\n\u001b[1;32m     46\u001b[0m \u001b[38;5;124;03m        (best effort).\u001b[39;00m\n\u001b[1;32m     47\u001b[0m \u001b[38;5;124;03m    \"\"\"\u001b[39;00m\n\u001b[0;32m---> 49\u001b[0m     \u001b[38;5;28;01mreturn\u001b[39;00m \u001b[38;5;28;43mself\u001b[39;49m\u001b[38;5;241;43m.\u001b[39;49m\u001b[43mschedule_absolute\u001b[49m\u001b[43m(\u001b[49m\u001b[38;5;28;43mself\u001b[39;49m\u001b[38;5;241;43m.\u001b[39;49m\u001b[43mnow\u001b[49m\u001b[43m,\u001b[49m\u001b[43m \u001b[49m\u001b[43maction\u001b[49m\u001b[43m,\u001b[49m\u001b[43m \u001b[49m\u001b[43mstate\u001b[49m\u001b[38;5;241;43m=\u001b[39;49m\u001b[43mstate\u001b[49m\u001b[43m)\u001b[49m\n",
      "File \u001b[0;32m~/pybeamline/declare4py_bridge/env/lib/python3.12/site-packages/reactivex/scheduler/trampolinescheduler.py:95\u001b[0m, in \u001b[0;36mTrampolineScheduler.schedule_absolute\u001b[0;34m(self, duetime, action, state)\u001b[0m\n\u001b[1;32m     92\u001b[0m     log\u001b[38;5;241m.\u001b[39mwarning(\u001b[38;5;124m\"\u001b[39m\u001b[38;5;124mDo not schedule blocking work!\u001b[39m\u001b[38;5;124m\"\u001b[39m)\n\u001b[1;32m     93\u001b[0m item: ScheduledItem \u001b[38;5;241m=\u001b[39m ScheduledItem(\u001b[38;5;28mself\u001b[39m, state, action, dt)\n\u001b[0;32m---> 95\u001b[0m \u001b[38;5;28;43mself\u001b[39;49m\u001b[38;5;241;43m.\u001b[39;49m\u001b[43mget_trampoline\u001b[49m\u001b[43m(\u001b[49m\u001b[43m)\u001b[49m\u001b[38;5;241;43m.\u001b[39;49m\u001b[43mrun\u001b[49m\u001b[43m(\u001b[49m\u001b[43mitem\u001b[49m\u001b[43m)\u001b[49m\n\u001b[1;32m     97\u001b[0m \u001b[38;5;28;01mreturn\u001b[39;00m item\u001b[38;5;241m.\u001b[39mdisposable\n",
      "File \u001b[0;32m~/pybeamline/declare4py_bridge/env/lib/python3.12/site-packages/reactivex/scheduler/trampoline.py:30\u001b[0m, in \u001b[0;36mTrampoline.run\u001b[0;34m(self, item)\u001b[0m\n\u001b[1;32m     28\u001b[0m         \u001b[38;5;28;01mreturn\u001b[39;00m\n\u001b[1;32m     29\u001b[0m \u001b[38;5;28;01mtry\u001b[39;00m:\n\u001b[0;32m---> 30\u001b[0m     \u001b[38;5;28;43mself\u001b[39;49m\u001b[38;5;241;43m.\u001b[39;49m\u001b[43m_run\u001b[49m\u001b[43m(\u001b[49m\u001b[43m)\u001b[49m\n\u001b[1;32m     31\u001b[0m \u001b[38;5;28;01mfinally\u001b[39;00m:\n\u001b[1;32m     32\u001b[0m     \u001b[38;5;28;01mwith\u001b[39;00m \u001b[38;5;28mself\u001b[39m\u001b[38;5;241m.\u001b[39m_lock:\n",
      "File \u001b[0;32m~/pybeamline/declare4py_bridge/env/lib/python3.12/site-packages/reactivex/scheduler/trampoline.py:51\u001b[0m, in \u001b[0;36mTrampoline._run\u001b[0;34m(self)\u001b[0m\n\u001b[1;32m     49\u001b[0m     item \u001b[38;5;241m=\u001b[39m ready\u001b[38;5;241m.\u001b[39mpopleft()\n\u001b[1;32m     50\u001b[0m     \u001b[38;5;28;01mif\u001b[39;00m \u001b[38;5;129;01mnot\u001b[39;00m item\u001b[38;5;241m.\u001b[39mis_cancelled():\n\u001b[0;32m---> 51\u001b[0m         \u001b[43mitem\u001b[49m\u001b[38;5;241;43m.\u001b[39;49m\u001b[43minvoke\u001b[49m\u001b[43m(\u001b[49m\u001b[43m)\u001b[49m\n\u001b[1;32m     53\u001b[0m \u001b[38;5;28;01mwith\u001b[39;00m \u001b[38;5;28mself\u001b[39m\u001b[38;5;241m.\u001b[39m_lock:\n\u001b[1;32m     54\u001b[0m     \u001b[38;5;28;01mif\u001b[39;00m \u001b[38;5;28mlen\u001b[39m(\u001b[38;5;28mself\u001b[39m\u001b[38;5;241m.\u001b[39m_queue) \u001b[38;5;241m==\u001b[39m \u001b[38;5;241m0\u001b[39m:\n",
      "File \u001b[0;32m~/pybeamline/declare4py_bridge/env/lib/python3.12/site-packages/reactivex/scheduler/scheduleditem.py:27\u001b[0m, in \u001b[0;36mScheduledItem.invoke\u001b[0;34m(self)\u001b[0m\n\u001b[1;32m     26\u001b[0m \u001b[38;5;28;01mdef\u001b[39;00m \u001b[38;5;21minvoke\u001b[39m(\u001b[38;5;28mself\u001b[39m) \u001b[38;5;241m-\u001b[39m\u001b[38;5;241m>\u001b[39m \u001b[38;5;28;01mNone\u001b[39;00m:\n\u001b[0;32m---> 27\u001b[0m     ret \u001b[38;5;241m=\u001b[39m \u001b[38;5;28;43mself\u001b[39;49m\u001b[38;5;241;43m.\u001b[39;49m\u001b[43mscheduler\u001b[49m\u001b[38;5;241;43m.\u001b[39;49m\u001b[43minvoke_action\u001b[49m\u001b[43m(\u001b[49m\u001b[38;5;28;43mself\u001b[39;49m\u001b[38;5;241;43m.\u001b[39;49m\u001b[43maction\u001b[49m\u001b[43m,\u001b[49m\u001b[43m \u001b[49m\u001b[43mstate\u001b[49m\u001b[38;5;241;43m=\u001b[39;49m\u001b[38;5;28;43mself\u001b[39;49m\u001b[38;5;241;43m.\u001b[39;49m\u001b[43mstate\u001b[49m\u001b[43m)\u001b[49m\n\u001b[1;32m     28\u001b[0m     \u001b[38;5;28mself\u001b[39m\u001b[38;5;241m.\u001b[39mdisposable\u001b[38;5;241m.\u001b[39mdisposable \u001b[38;5;241m=\u001b[39m ret\n",
      "File \u001b[0;32m~/pybeamline/declare4py_bridge/env/lib/python3.12/site-packages/reactivex/scheduler/scheduler.py:105\u001b[0m, in \u001b[0;36mScheduler.invoke_action\u001b[0;34m(self, action, state)\u001b[0m\n\u001b[1;32m     90\u001b[0m \u001b[38;5;28;01mdef\u001b[39;00m \u001b[38;5;21minvoke_action\u001b[39m(\n\u001b[1;32m     91\u001b[0m     \u001b[38;5;28mself\u001b[39m, action: abc\u001b[38;5;241m.\u001b[39mScheduledAction[_TState], state: Optional[_TState] \u001b[38;5;241m=\u001b[39m \u001b[38;5;28;01mNone\u001b[39;00m\n\u001b[1;32m     92\u001b[0m ) \u001b[38;5;241m-\u001b[39m\u001b[38;5;241m>\u001b[39m abc\u001b[38;5;241m.\u001b[39mDisposableBase:\n\u001b[1;32m     93\u001b[0m \u001b[38;5;250m    \u001b[39m\u001b[38;5;124;03m\"\"\"Invoke the given given action. This is typically called by instances\u001b[39;00m\n\u001b[1;32m     94\u001b[0m \u001b[38;5;124;03m    of ScheduledItem.\u001b[39;00m\n\u001b[1;32m     95\u001b[0m \n\u001b[0;32m   (...)\u001b[0m\n\u001b[1;32m    102\u001b[0m \u001b[38;5;124;03m        (no-op) disposable otherwise.\u001b[39;00m\n\u001b[1;32m    103\u001b[0m \u001b[38;5;124;03m    \"\"\"\u001b[39;00m\n\u001b[0;32m--> 105\u001b[0m     ret \u001b[38;5;241m=\u001b[39m \u001b[43maction\u001b[49m\u001b[43m(\u001b[49m\u001b[38;5;28;43mself\u001b[39;49m\u001b[43m,\u001b[49m\u001b[43m \u001b[49m\u001b[43mstate\u001b[49m\u001b[43m)\u001b[49m\n\u001b[1;32m    106\u001b[0m     \u001b[38;5;28;01mif\u001b[39;00m \u001b[38;5;28misinstance\u001b[39m(ret, abc\u001b[38;5;241m.\u001b[39mDisposableBase):\n\u001b[1;32m    107\u001b[0m         \u001b[38;5;28;01mreturn\u001b[39;00m ret\n",
      "File \u001b[0;32m~/pybeamline/declare4py_bridge/env/lib/python3.12/site-packages/reactivex/observable/observable.py:127\u001b[0m, in \u001b[0;36mObservable.subscribe.<locals>.set_disposable\u001b[0;34m(_, __)\u001b[0m\n\u001b[1;32m    125\u001b[0m     subscriber \u001b[38;5;241m=\u001b[39m \u001b[38;5;28mself\u001b[39m\u001b[38;5;241m.\u001b[39m_subscribe_core(auto_detach_observer, scheduler)\n\u001b[1;32m    126\u001b[0m \u001b[38;5;28;01mexcept\u001b[39;00m \u001b[38;5;167;01mException\u001b[39;00m \u001b[38;5;28;01mas\u001b[39;00m ex:  \u001b[38;5;66;03m# By design. pylint: disable=W0703\u001b[39;00m\n\u001b[0;32m--> 127\u001b[0m     \u001b[38;5;28;01mif\u001b[39;00m \u001b[38;5;129;01mnot\u001b[39;00m \u001b[43mauto_detach_observer\u001b[49m\u001b[38;5;241;43m.\u001b[39;49m\u001b[43mfail\u001b[49m\u001b[43m(\u001b[49m\u001b[43mex\u001b[49m\u001b[43m)\u001b[49m:\n\u001b[1;32m    128\u001b[0m         \u001b[38;5;28;01mraise\u001b[39;00m\n\u001b[1;32m    129\u001b[0m \u001b[38;5;28;01melse\u001b[39;00m:\n",
      "File \u001b[0;32m~/pybeamline/declare4py_bridge/env/lib/python3.12/site-packages/reactivex/observer/autodetachobserver.py:64\u001b[0m, in \u001b[0;36mAutoDetachObserver.fail\u001b[0;34m(self, exn)\u001b[0m\n\u001b[1;32m     61\u001b[0m     \u001b[38;5;28;01mreturn\u001b[39;00m \u001b[38;5;28;01mFalse\u001b[39;00m\n\u001b[1;32m     63\u001b[0m \u001b[38;5;28mself\u001b[39m\u001b[38;5;241m.\u001b[39mis_stopped \u001b[38;5;241m=\u001b[39m \u001b[38;5;28;01mTrue\u001b[39;00m\n\u001b[0;32m---> 64\u001b[0m \u001b[38;5;28;43mself\u001b[39;49m\u001b[38;5;241;43m.\u001b[39;49m\u001b[43m_on_error\u001b[49m\u001b[43m(\u001b[49m\u001b[43mexn\u001b[49m\u001b[43m)\u001b[49m\n\u001b[1;32m     65\u001b[0m \u001b[38;5;28;01mreturn\u001b[39;00m \u001b[38;5;28;01mTrue\u001b[39;00m\n",
      "File \u001b[0;32m~/pybeamline/declare4py_bridge/env/lib/python3.12/site-packages/reactivex/internal/basic.py:34\u001b[0m, in \u001b[0;36mdefault_error\u001b[0;34m(err)\u001b[0m\n\u001b[1;32m     32\u001b[0m \u001b[38;5;28;01mdef\u001b[39;00m \u001b[38;5;21mdefault_error\u001b[39m(err: Union[\u001b[38;5;167;01mException\u001b[39;00m, \u001b[38;5;28mstr\u001b[39m]) \u001b[38;5;241m-\u001b[39m\u001b[38;5;241m>\u001b[39m NoReturn:\n\u001b[1;32m     33\u001b[0m     \u001b[38;5;28;01mif\u001b[39;00m \u001b[38;5;28misinstance\u001b[39m(err, \u001b[38;5;167;01mBaseException\u001b[39;00m):\n\u001b[0;32m---> 34\u001b[0m         \u001b[38;5;28;01mraise\u001b[39;00m err\n\u001b[1;32m     36\u001b[0m     \u001b[38;5;28;01mraise\u001b[39;00m \u001b[38;5;167;01mException\u001b[39;00m(err)\n",
      "File \u001b[0;32m~/pybeamline/declare4py_bridge/env/lib/python3.12/site-packages/reactivex/observable/observable.py:125\u001b[0m, in \u001b[0;36mObservable.subscribe.<locals>.set_disposable\u001b[0;34m(_, __)\u001b[0m\n\u001b[1;32m    121\u001b[0m \u001b[38;5;28;01mdef\u001b[39;00m \u001b[38;5;21mset_disposable\u001b[39m(\n\u001b[1;32m    122\u001b[0m     _: Optional[abc\u001b[38;5;241m.\u001b[39mSchedulerBase] \u001b[38;5;241m=\u001b[39m \u001b[38;5;28;01mNone\u001b[39;00m, __: Any \u001b[38;5;241m=\u001b[39m \u001b[38;5;28;01mNone\u001b[39;00m\n\u001b[1;32m    123\u001b[0m ) \u001b[38;5;241m-\u001b[39m\u001b[38;5;241m>\u001b[39m \u001b[38;5;28;01mNone\u001b[39;00m:\n\u001b[1;32m    124\u001b[0m     \u001b[38;5;28;01mtry\u001b[39;00m:\n\u001b[0;32m--> 125\u001b[0m         subscriber \u001b[38;5;241m=\u001b[39m \u001b[38;5;28;43mself\u001b[39;49m\u001b[38;5;241;43m.\u001b[39;49m\u001b[43m_subscribe_core\u001b[49m\u001b[43m(\u001b[49m\u001b[43mauto_detach_observer\u001b[49m\u001b[43m,\u001b[49m\u001b[43m \u001b[49m\u001b[43mscheduler\u001b[49m\u001b[43m)\u001b[49m\n\u001b[1;32m    126\u001b[0m     \u001b[38;5;28;01mexcept\u001b[39;00m \u001b[38;5;167;01mException\u001b[39;00m \u001b[38;5;28;01mas\u001b[39;00m ex:  \u001b[38;5;66;03m# By design. pylint: disable=W0703\u001b[39;00m\n\u001b[1;32m    127\u001b[0m         \u001b[38;5;28;01mif\u001b[39;00m \u001b[38;5;129;01mnot\u001b[39;00m auto_detach_observer\u001b[38;5;241m.\u001b[39mfail(ex):\n",
      "File \u001b[0;32m~/pybeamline/declare4py_bridge/env/lib/python3.12/site-packages/reactivex/observable/observable.py:49\u001b[0m, in \u001b[0;36mObservable._subscribe_core\u001b[0;34m(self, observer, scheduler)\u001b[0m\n\u001b[1;32m     44\u001b[0m \u001b[38;5;28;01mdef\u001b[39;00m \u001b[38;5;21m_subscribe_core\u001b[39m(\n\u001b[1;32m     45\u001b[0m     \u001b[38;5;28mself\u001b[39m,\n\u001b[1;32m     46\u001b[0m     observer: abc\u001b[38;5;241m.\u001b[39mObserverBase[_T_out],\n\u001b[1;32m     47\u001b[0m     scheduler: Optional[abc\u001b[38;5;241m.\u001b[39mSchedulerBase] \u001b[38;5;241m=\u001b[39m \u001b[38;5;28;01mNone\u001b[39;00m,\n\u001b[1;32m     48\u001b[0m ) \u001b[38;5;241m-\u001b[39m\u001b[38;5;241m>\u001b[39m abc\u001b[38;5;241m.\u001b[39mDisposableBase:\n\u001b[0;32m---> 49\u001b[0m     \u001b[38;5;28;01mreturn\u001b[39;00m \u001b[38;5;28;43mself\u001b[39;49m\u001b[38;5;241;43m.\u001b[39;49m\u001b[43m_subscribe\u001b[49m\u001b[43m(\u001b[49m\u001b[43mobserver\u001b[49m\u001b[43m,\u001b[49m\u001b[43m \u001b[49m\u001b[43mscheduler\u001b[49m\u001b[43m)\u001b[49m \u001b[38;5;28;01mif\u001b[39;00m \u001b[38;5;28mself\u001b[39m\u001b[38;5;241m.\u001b[39m_subscribe \u001b[38;5;28;01melse\u001b[39;00m Disposable()\n",
      "File \u001b[0;32m~/pybeamline/declare4py_bridge/env/lib/python3.12/site-packages/pybeamline/sources/xes_log_source.py:43\u001b[0m, in \u001b[0;36mxes_log_source.<locals>.subscribe\u001b[0;34m(observer, scheduler_)\u001b[0m\n\u001b[1;32m     41\u001b[0m                 \u001b[38;5;28;01melse\u001b[39;00m:\n\u001b[1;32m     42\u001b[0m                     e\u001b[38;5;241m.\u001b[39mevent_attributes[col] \u001b[38;5;241m=\u001b[39m event[col]\n\u001b[0;32m---> 43\u001b[0m     \u001b[43mobserver\u001b[49m\u001b[38;5;241;43m.\u001b[39;49m\u001b[43mon_next\u001b[49m\u001b[43m(\u001b[49m\u001b[43me\u001b[49m\u001b[43m)\u001b[49m\n\u001b[1;32m     44\u001b[0m observer\u001b[38;5;241m.\u001b[39mon_completed()\n\u001b[1;32m     45\u001b[0m \u001b[38;5;28;01mreturn\u001b[39;00m CompositeDisposable()\n",
      "File \u001b[0;32m~/pybeamline/declare4py_bridge/env/lib/python3.12/site-packages/reactivex/observer/autodetachobserver.py:28\u001b[0m, in \u001b[0;36mAutoDetachObserver.on_next\u001b[0;34m(self, value)\u001b[0m\n\u001b[1;32m     26\u001b[0m \u001b[38;5;28;01mif\u001b[39;00m \u001b[38;5;28mself\u001b[39m\u001b[38;5;241m.\u001b[39mis_stopped:\n\u001b[1;32m     27\u001b[0m     \u001b[38;5;28;01mreturn\u001b[39;00m\n\u001b[0;32m---> 28\u001b[0m \u001b[38;5;28;43mself\u001b[39;49m\u001b[38;5;241;43m.\u001b[39;49m\u001b[43m_on_next\u001b[49m\u001b[43m(\u001b[49m\u001b[43mvalue\u001b[49m\u001b[43m)\u001b[49m\n",
      "File \u001b[0;32m~/pybeamline/declare4py_bridge/src/pybeamline_declare4py_bridge/conformance/pybeamline_trace_conformance.py:17\u001b[0m, in \u001b[0;36m<lambda>\u001b[0;34m(log)\u001b[0m\n\u001b[1;32m      9\u001b[0m \u001b[38;5;28;01mdef\u001b[39;00m \u001b[38;5;21mget_trace_conformance\u001b[39m(\n\u001b[1;32m     10\u001b[0m         model:DeclareModel, \n\u001b[1;32m     11\u001b[0m         event_stream: Observable[BEvent], \n\u001b[1;32m     12\u001b[0m         timestamp_key:\u001b[38;5;28mstr\u001b[39m \u001b[38;5;241m=\u001b[39m \u001b[38;5;124m'\u001b[39m\u001b[38;5;124mtime:timestamp\u001b[39m\u001b[38;5;124m'\u001b[39m, \n\u001b[1;32m     13\u001b[0m         activity_key:\u001b[38;5;28mstr\u001b[39m \u001b[38;5;241m=\u001b[39m \u001b[38;5;124m'\u001b[39m\u001b[38;5;124mconcept:name\u001b[39m\u001b[38;5;124m'\u001b[39m):\n\u001b[1;32m     14\u001b[0m     \u001b[38;5;66;03m# Generate Declare4py EventLog\u001b[39;00m\n\u001b[1;32m     15\u001b[0m     logs \u001b[38;5;241m=\u001b[39m []\n\u001b[1;32m     16\u001b[0m     event_stream\u001b[38;5;241m.\u001b[39mpipe(\n\u001b[0;32m---> 17\u001b[0m         \u001b[38;5;66;03m# TODO: Change function, so I dont have to pipe the input first\u001b[39;00m\n\u001b[1;32m     18\u001b[0m         \u001b[38;5;66;03m# lambda x: print(x)\u001b[39;00m\n\u001b[1;32m     19\u001b[0m     )\u001b[38;5;241m.\u001b[39msubscribe(\n\u001b[1;32m     20\u001b[0m         \u001b[38;5;28;01mlambda\u001b[39;00m log: logs\u001b[38;5;241m.\u001b[39mappend(pm4py\u001b[38;5;241m.\u001b[39mconvert_to_event_log(log)) \n\u001b[1;32m     21\u001b[0m     )\n\u001b[1;32m     23\u001b[0m     \u001b[38;5;28;01mfor\u001b[39;00m l \u001b[38;5;129;01min\u001b[39;00m logs:\n\u001b[1;32m     24\u001b[0m         l\u001b[38;5;241m.\u001b[39m_properties[\u001b[38;5;124m'\u001b[39m\u001b[38;5;124mpm4py:param:timestamp_key\u001b[39m\u001b[38;5;124m'\u001b[39m] \u001b[38;5;241m=\u001b[39m timestamp_key\n",
      "File \u001b[0;32m~/pybeamline/declare4py_bridge/env/lib/python3.12/site-packages/pm4py/convert.py:56\u001b[0m, in \u001b[0;36mconvert_to_event_log\u001b[0;34m(obj, case_id_key, **kwargs)\u001b[0m\n\u001b[1;32m     39\u001b[0m \u001b[38;5;28;01mdef\u001b[39;00m \u001b[38;5;21mconvert_to_event_log\u001b[39m(obj: Union[pd\u001b[38;5;241m.\u001b[39mDataFrame, EventStream], case_id_key: \u001b[38;5;28mstr\u001b[39m \u001b[38;5;241m=\u001b[39m \u001b[38;5;124m\"\u001b[39m\u001b[38;5;124mcase:concept:name\u001b[39m\u001b[38;5;124m\"\u001b[39m, \u001b[38;5;241m*\u001b[39m\u001b[38;5;241m*\u001b[39mkwargs) \u001b[38;5;241m-\u001b[39m\u001b[38;5;241m>\u001b[39m EventLog:\n\u001b[1;32m     40\u001b[0m \u001b[38;5;250m    \u001b[39m\u001b[38;5;124;03m\"\"\"\u001b[39;00m\n\u001b[1;32m     41\u001b[0m \u001b[38;5;124;03m    Converts a DataFrame/EventStream object to an event log object\u001b[39;00m\n\u001b[1;32m     42\u001b[0m \n\u001b[0;32m   (...)\u001b[0m\n\u001b[1;32m     54\u001b[0m \u001b[38;5;124;03m       log = pm4py.convert_to_event_log(dataframe)\u001b[39;00m\n\u001b[1;32m     55\u001b[0m \u001b[38;5;124;03m    \"\"\"\u001b[39;00m\n\u001b[0;32m---> 56\u001b[0m     \u001b[38;5;28;01mif\u001b[39;00m \u001b[38;5;28mtype\u001b[39m(obj) \u001b[38;5;129;01mnot\u001b[39;00m \u001b[38;5;129;01min\u001b[39;00m [pd\u001b[38;5;241m.\u001b[39mDataFrame, EventLog, EventStream]: \u001b[38;5;28;01mraise\u001b[39;00m \u001b[38;5;167;01mException\u001b[39;00m(\u001b[38;5;124m\"\u001b[39m\u001b[38;5;124mthe method can be applied only to a traditional event log!\u001b[39m\u001b[38;5;124m\"\u001b[39m)\n\u001b[1;32m     58\u001b[0m     \u001b[38;5;28;01mif\u001b[39;00m check_is_pandas_dataframe(obj):\n\u001b[1;32m     59\u001b[0m         check_pandas_dataframe_columns(obj, case_id_key\u001b[38;5;241m=\u001b[39mcase_id_key)\n",
      "\u001b[0;31mException\u001b[0m: the method can be applied only to a traditional event log!"
     ]
    }
   ],
   "source": [
    "from pybeamline_declare4py_bridge.conformance.pybeamline_trace_conformance import get_trace_conformance\n",
    "\n",
    "get_trace_conformance(model=extension_log_model, event_stream=event_stream)"
   ]
  },
  {
   "cell_type": "code",
   "execution_count": null,
   "metadata": {},
   "outputs": [],
   "source": []
  }
 ],
 "metadata": {
  "kernelspec": {
   "display_name": "env",
   "language": "python",
   "name": "python3"
  },
  "language_info": {
   "codemirror_mode": {
    "name": "ipython",
    "version": 3
   },
   "file_extension": ".py",
   "mimetype": "text/x-python",
   "name": "python",
   "nbconvert_exporter": "python",
   "pygments_lexer": "ipython3",
   "version": "3.12.3"
  }
 },
 "nbformat": 4,
 "nbformat_minor": 2
}
