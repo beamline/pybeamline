{
 "cells": [
  {
   "cell_type": "code",
   "execution_count": 2,
   "metadata": {},
   "outputs": [],
   "source": [
    "import os\n",
    "from Declare4Py.ProcessModels.DeclareModel import DeclareModel, DeclareModelTemplate\n",
    "from Declare4Py.D4PyEventLog import D4PyEventLog\n",
    "from Declare4Py.ProcessMiningTasks.Discovery.DeclareMiner import DeclareMiner"
   ]
  },
  {
   "cell_type": "code",
   "execution_count": 3,
   "metadata": {},
   "outputs": [
    {
     "name": "stderr",
     "output_type": "stream",
     "text": [
      "/home/theo/DTU/02269 Process mining/declare4py_test/env/lib/python3.11/site-packages/tqdm/auto.py:21: TqdmWarning: IProgress not found. Please update jupyter and ipywidgets. See https://ipywidgets.readthedocs.io/en/stable/user_install.html\n",
      "  from .autonotebook import tqdm as notebook_tqdm\n",
      "parsing log, completed traces :: 100%|██████████| 1000/1000 [00:00<00:00, 9280.69it/s]\n",
      "/home/theo/DTU/02269 Process mining/declare4py_test/env/lib/python3.11/site-packages/pm4py/objects/conversion/log/variants/to_data_frame.py:73: UserWarning: no explicit representation of timezones available for np.datetime64\n",
      "  ev[attr] = np.datetime64(ev[attr])\n",
      "/home/theo/DTU/02269 Process mining/declare4py_test/env/lib/python3.11/site-packages/pm4py/objects/log/util/dataframe_utils.py:176: UserWarning: Could not infer format, so each element will be parsed individually, falling back to `dateutil`. To ensure parsing is consistent and as-expected, please specify a format.\n",
      "  df[col] = pd.to_datetime(df[col], utc=True)\n",
      "/home/theo/DTU/02269 Process mining/declare4py_test/env/lib/python3.11/site-packages/pm4py/objects/log/util/dataframe_utils.py:176: UserWarning: Could not infer format, so each element will be parsed individually, falling back to `dateutil`. To ensure parsing is consistent and as-expected, please specify a format.\n",
      "  df[col] = pd.to_datetime(df[col], utc=True)\n",
      "/home/theo/DTU/02269 Process mining/declare4py_test/env/lib/python3.11/site-packages/pm4py/objects/log/util/dataframe_utils.py:176: UserWarning: Could not infer format, so each element will be parsed individually, falling back to `dateutil`. To ensure parsing is consistent and as-expected, please specify a format.\n",
      "  df[col] = pd.to_datetime(df[col], utc=True)\n",
      "/home/theo/DTU/02269 Process mining/declare4py_test/env/lib/python3.11/site-packages/pm4py/objects/log/util/dataframe_utils.py:176: UserWarning: Could not infer format, so each element will be parsed individually, falling back to `dateutil`. To ensure parsing is consistent and as-expected, please specify a format.\n",
      "  df[col] = pd.to_datetime(df[col], utc=True)\n",
      "/home/theo/DTU/02269 Process mining/declare4py_test/env/lib/python3.11/site-packages/pm4py/objects/log/util/dataframe_utils.py:176: UserWarning: Could not infer format, so each element will be parsed individually, falling back to `dateutil`. To ensure parsing is consistent and as-expected, please specify a format.\n",
      "  df[col] = pd.to_datetime(df[col], utc=True)\n",
      "/home/theo/DTU/02269 Process mining/declare4py_test/env/lib/python3.11/site-packages/pm4py/utils.py:486: UserWarning: the EventLog class has been deprecated and will be removed in a future release.\n",
      "  warnings.warn(\"the EventLog class has been deprecated and will be removed in a future release.\")\n"
     ]
    }
   ],
   "source": [
    "log_path = os.path.join(\"../\", \"data/extension-log-4.xes\")\n",
    "event_log = D4PyEventLog(case_name=\"case:concept:name\")\n",
    "event_log.parse_xes_log(log_path)"
   ]
  },
  {
   "cell_type": "code",
   "execution_count": 4,
   "metadata": {},
   "outputs": [
    {
     "name": "stderr",
     "output_type": "stream",
     "text": [
      "/home/theo/DTU/02269 Process mining/declare4py_test/env/lib/python3.11/site-packages/pm4py/objects/conversion/log/variants/to_data_frame.py:73: UserWarning: no explicit representation of timezones available for np.datetime64\n",
      "  ev[attr] = np.datetime64(ev[attr])\n"
     ]
    },
    {
     "name": "stdout",
     "output_type": "stream",
     "text": [
      "Computing discovery ...\n"
     ]
    }
   ],
   "source": [
    "discovery = DeclareMiner(log=event_log, consider_vacuity=False, min_support=0.2, itemsets_support=0.9, max_declare_cardinality=3)\n",
    "discovered_model = discovery.run()"
   ]
  },
  {
   "cell_type": "code",
   "execution_count": 5,
   "metadata": {},
   "outputs": [
    {
     "data": {
      "text/plain": [
       "['Existence1[record issue] | |',\n",
       " 'Absence2[record issue] | |',\n",
       " 'Absence3[record issue] | |',\n",
       " 'Exactly1[record issue] | |',\n",
       " 'Init[record issue] | |',\n",
       " 'Existence1[issue completion] | |',\n",
       " 'Absence2[issue completion] | |',\n",
       " 'Absence3[issue completion] | |',\n",
       " 'Exactly1[issue completion] | |',\n",
       " 'End[issue completion] | |',\n",
       " 'Existence1[inspection] | |',\n",
       " 'Absence2[inspection] | |',\n",
       " 'Absence3[inspection] | |',\n",
       " 'Exactly1[inspection] | |',\n",
       " 'Choice[record issue, issue completion] | |',\n",
       " 'Choice[issue completion, record issue] | |',\n",
       " 'Responded Existence[record issue, issue completion] | |',\n",
       " 'Responded Existence[issue completion, record issue] | |',\n",
       " 'Response[record issue, issue completion] | |',\n",
       " 'Alternate Response[record issue, issue completion] | |',\n",
       " 'Precedence[record issue, issue completion] | |',\n",
       " 'Alternate Precedence[record issue, issue completion] | |',\n",
       " 'Not Response[issue completion, record issue] | |',\n",
       " 'Not Precedence[issue completion, record issue] | |',\n",
       " 'Not Chain Response[record issue, issue completion] | |',\n",
       " 'Not Chain Response[issue completion, record issue] | |',\n",
       " 'Not Chain Precedence[record issue, issue completion] | |',\n",
       " 'Not Chain Precedence[issue completion, record issue] | |',\n",
       " 'Choice[inspection, record issue] | |',\n",
       " 'Choice[record issue, inspection] | |',\n",
       " 'Responded Existence[inspection, record issue] | |',\n",
       " 'Responded Existence[record issue, inspection] | |',\n",
       " 'Response[record issue, inspection] | |',\n",
       " 'Alternate Response[record issue, inspection] | |',\n",
       " 'Chain Response[record issue, inspection] | |',\n",
       " 'Precedence[record issue, inspection] | |',\n",
       " 'Alternate Precedence[record issue, inspection] | |',\n",
       " 'Chain Precedence[record issue, inspection] | |',\n",
       " 'Not Response[inspection, record issue] | |',\n",
       " 'Not Precedence[inspection, record issue] | |',\n",
       " 'Not Chain Response[inspection, record issue] | |',\n",
       " 'Not Chain Precedence[inspection, record issue] | |',\n",
       " 'Choice[inspection, issue completion] | |',\n",
       " 'Choice[issue completion, inspection] | |',\n",
       " 'Responded Existence[inspection, issue completion] | |',\n",
       " 'Responded Existence[issue completion, inspection] | |',\n",
       " 'Response[inspection, issue completion] | |',\n",
       " 'Alternate Response[inspection, issue completion] | |',\n",
       " 'Precedence[inspection, issue completion] | |',\n",
       " 'Alternate Precedence[inspection, issue completion] | |',\n",
       " 'Not Response[issue completion, inspection] | |',\n",
       " 'Not Precedence[issue completion, inspection] | |',\n",
       " 'Not Chain Response[inspection, issue completion] | |',\n",
       " 'Not Chain Response[issue completion, inspection] | |',\n",
       " 'Not Chain Precedence[inspection, issue completion] | |',\n",
       " 'Not Chain Precedence[issue completion, inspection] | |']"
      ]
     },
     "execution_count": 5,
     "metadata": {},
     "output_type": "execute_result"
    }
   ],
   "source": [
    "discovered_model.serialized_constraints"
   ]
  },
  {
   "cell_type": "code",
   "execution_count": 7,
   "metadata": {},
   "outputs": [],
   "source": [
    "discovered_model.to_file(\"extension_log_4.decl\")"
   ]
  },
  {
   "cell_type": "code",
   "execution_count": 8,
   "metadata": {},
   "outputs": [
    {
     "ename": "ValueError",
     "evalue": "Unable to parse the conditions of binary constraint template",
     "output_type": "error",
     "traceback": [
      "\u001b[0;31m---------------------------------------------------------------------------\u001b[0m",
      "\u001b[0;31mValueError\u001b[0m                                Traceback (most recent call last)",
      "Cell \u001b[0;32mIn[8], line 1\u001b[0m\n\u001b[0;32m----> 1\u001b[0m model_from_file \u001b[38;5;241m=\u001b[39m \u001b[43mDeclareModel\u001b[49m\u001b[43m(\u001b[49m\u001b[43m)\u001b[49m\u001b[38;5;241;43m.\u001b[39;49m\u001b[43mparse_from_file\u001b[49m\u001b[43m(\u001b[49m\u001b[38;5;124;43m\"\u001b[39;49m\u001b[38;5;124;43mextension_log_4.decl\u001b[39;49m\u001b[38;5;124;43m\"\u001b[39;49m\u001b[43m)\u001b[49m\n",
      "File \u001b[0;32m~/DTU/02269 Process mining/declare4py_test/env/lib/python3.11/site-packages/Declare4Py/ProcessModels/DeclareModel.py:1292\u001b[0m, in \u001b[0;36mDeclareModel.parse_from_file\u001b[0;34m(self, filename, **kwargs)\u001b[0m\n\u001b[1;32m   1290\u001b[0m     lines \u001b[38;5;241m=\u001b[39m file\u001b[38;5;241m.\u001b[39mreadlines()\n\u001b[1;32m   1291\u001b[0m \u001b[38;5;28mself\u001b[39m\u001b[38;5;241m.\u001b[39mdeclare_model_lines \u001b[38;5;241m=\u001b[39m lines\n\u001b[0;32m-> 1292\u001b[0m \u001b[38;5;28;43mself\u001b[39;49m\u001b[38;5;241;43m.\u001b[39;49m\u001b[43mparse\u001b[49m\u001b[43m(\u001b[49m\u001b[43mlines\u001b[49m\u001b[43m)\u001b[49m\n\u001b[1;32m   1293\u001b[0m \u001b[38;5;28;01mreturn\u001b[39;00m \u001b[38;5;28mself\u001b[39m\n",
      "File \u001b[0;32m~/DTU/02269 Process mining/declare4py_test/env/lib/python3.11/site-packages/Declare4Py/ProcessModels/DeclareModel.py:1350\u001b[0m, in \u001b[0;36mDeclareModel.parse\u001b[0;34m(self, lines)\u001b[0m\n\u001b[1;32m   1348\u001b[0m                     cardinality \u001b[38;5;241m=\u001b[39m tmp[\u001b[38;5;124m'\u001b[39m\u001b[38;5;124mn\u001b[39m\u001b[38;5;124m'\u001b[39m]\n\u001b[1;32m   1349\u001b[0m                 \u001b[38;5;28mself\u001b[39m\u001b[38;5;241m.\u001b[39mconstraints\u001b[38;5;241m.\u001b[39mappend(tmp)\n\u001b[0;32m-> 1350\u001b[0m                 \u001b[43mdeclare_parsed_model\u001b[49m\u001b[38;5;241;43m.\u001b[39;49m\u001b[43madd_template\u001b[49m\u001b[43m(\u001b[49m\u001b[43mline\u001b[49m\u001b[43m,\u001b[49m\u001b[43m \u001b[49m\u001b[43mtemplate\u001b[49m\u001b[43m,\u001b[49m\u001b[43m \u001b[49m\u001b[38;5;28;43mstr\u001b[39;49m\u001b[43m(\u001b[49m\u001b[43mcardinality\u001b[49m\u001b[43m)\u001b[49m\u001b[43m)\u001b[49m\n\u001b[1;32m   1351\u001b[0m \u001b[38;5;28mself\u001b[39m\u001b[38;5;241m.\u001b[39mset_constraints()\n",
      "File \u001b[0;32m~/DTU/02269 Process mining/declare4py_test/env/lib/python3.11/site-packages/Declare4Py/ProcessModels/DeclareModel.py:1152\u001b[0m, in \u001b[0;36mDeclareParsedDataModel.add_template\u001b[0;34m(self, line, template, cardinality, template_idx)\u001b[0m\n\u001b[1;32m   1150\u001b[0m     \u001b[38;5;28;01melse\u001b[39;00m:\n\u001b[1;32m   1151\u001b[0m         tmplt\u001b[38;5;241m.\u001b[39mevents_activities \u001b[38;5;241m=\u001b[39m [\u001b[38;5;28mself\u001b[39m\u001b[38;5;241m.\u001b[39mfind_event_by_name(events[\u001b[38;5;241m0\u001b[39m])]\n\u001b[0;32m-> 1152\u001b[0m \u001b[43mtmplt\u001b[49m\u001b[38;5;241;43m.\u001b[39;49m\u001b[43mparse_constraint_conditions\u001b[49m\u001b[43m(\u001b[49m\u001b[43m)\u001b[49m\n",
      "File \u001b[0;32m~/DTU/02269 Process mining/declare4py_test/env/lib/python3.11/site-packages/Declare4Py/ProcessModels/DeclareModel.py:917\u001b[0m, in \u001b[0;36mDeclareModelConstraintTemplate.parse_constraint_conditions\u001b[0;34m(self)\u001b[0m\n\u001b[1;32m    915\u001b[0m \u001b[38;5;250m\u001b[39m\u001b[38;5;124;03m\"\"\" Some declare models use T.attribute for target conditions reference and some uses B.attributes\"\"\"\u001b[39;00m\n\u001b[1;32m    916\u001b[0m \u001b[38;5;28;01mif\u001b[39;00m \u001b[38;5;28mself\u001b[39m\u001b[38;5;241m.\u001b[39mtemplate\u001b[38;5;241m.\u001b[39mis_binary \u001b[38;5;129;01mand\u001b[39;00m \u001b[38;5;28mlen\u001b[39m(conds_list) \u001b[38;5;241m<\u001b[39m \u001b[38;5;241m2\u001b[39m:\n\u001b[0;32m--> 917\u001b[0m     \u001b[38;5;28;01mraise\u001b[39;00m \u001b[38;5;167;01mValueError\u001b[39;00m(\u001b[38;5;124mf\u001b[39m\u001b[38;5;124m\"\u001b[39m\u001b[38;5;124mUnable to parse the conditions of binary constraint template\u001b[39m\u001b[38;5;124m\"\u001b[39m)\n\u001b[1;32m    918\u001b[0m \u001b[38;5;28;01mif\u001b[39;00m \u001b[38;5;28mlen\u001b[39m(conds_list) \u001b[38;5;241m>\u001b[39m \u001b[38;5;241m3\u001b[39m:\n\u001b[1;32m    919\u001b[0m     \u001b[38;5;28;01mraise\u001b[39;00m \u001b[38;5;167;01mValueError\u001b[39;00m(\u001b[38;5;124mf\u001b[39m\u001b[38;5;124m\"\u001b[39m\u001b[38;5;124mUnable to parse the line due to the exceeds conditions (> 3)\u001b[39m\u001b[38;5;124m\"\u001b[39m)\n",
      "\u001b[0;31mValueError\u001b[0m: Unable to parse the conditions of binary constraint template"
     ]
    }
   ],
   "source": [
    "model_from_file = DeclareModel().parse_from_file(\"extension_log_4.decl\")"
   ]
  },
  {
   "cell_type": "code",
   "execution_count": null,
   "metadata": {},
   "outputs": [],
   "source": []
  }
 ],
 "metadata": {
  "kernelspec": {
   "display_name": "env",
   "language": "python",
   "name": "python3"
  },
  "language_info": {
   "codemirror_mode": {
    "name": "ipython",
    "version": 3
   },
   "file_extension": ".py",
   "mimetype": "text/x-python",
   "name": "python",
   "nbconvert_exporter": "python",
   "pygments_lexer": "ipython3",
   "version": "3.11.2"
  }
 },
 "nbformat": 4,
 "nbformat_minor": 2
}
