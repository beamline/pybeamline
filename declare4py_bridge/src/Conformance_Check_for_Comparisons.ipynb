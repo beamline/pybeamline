{
 "cells": [
  {
   "cell_type": "code",
   "execution_count": null,
   "metadata": {},
   "outputs": [],
   "source": [
    "from Declare4Py.D4PyEventLog import D4PyEventLog\n",
    "from Declare4Py.ProcessMiningTasks.Discovery.DeclareMiner import DeclareMiner \n",
    "from Declare4Py.ProcessMiningTasks.ConformanceChecking.MPDeclareAnalyzer import MPDeclareAnalyzer\n",
    "from pybeamline.sources import log_source\n",
    "from Declare4Py.ProcessMiningTasks.ConformanceChecking.MPDeclareAnalyzer import MPDeclareAnalyzer\n",
    "from pybeamline.mappers.sliding_window_to_log import list_to_log\n",
    "from pybeamline_declare4py_bridge.conformance.pybeamline_declare4py_conformance_checker import pybeamline_to_declare4py_log\n",
    "import os\n",
    "import warnings\n",
    "warnings.filterwarnings(\"ignore\")"
   ]
  },
  {
   "cell_type": "markdown",
   "metadata": {},
   "source": [
    "Nessesary to mine model from Log, since Declare4py read from file is broken"
   ]
  },
  {
   "cell_type": "code",
   "execution_count": 33,
   "metadata": {},
   "outputs": [
    {
     "name": "stderr",
     "output_type": "stream",
     "text": [
      "parsing log, completed traces :: 100%|██████████| 1000/1000 [00:00<00:00, 14091.02it/s]\n"
     ]
    },
    {
     "name": "stdout",
     "output_type": "stream",
     "text": [
      "Computing discovery ...\n"
     ]
    }
   ],
   "source": [
    "log_path = os.path.join(\"../data/extension_log/extension-log-4.xes\")\n",
    "event_log = D4PyEventLog(case_name=\"case:concept:name\")\n",
    "event_log.parse_xes_log(log_path)\n",
    "extension_log_model = DeclareMiner(log=event_log, consider_vacuity=False, min_support=0.2, itemsets_support=0.9, max_declare_cardinality=3).run()\n"
   ]
  },
  {
   "cell_type": "code",
   "execution_count": 34,
   "metadata": {},
   "outputs": [
    {
     "name": "stderr",
     "output_type": "stream",
     "text": [
      "parsing log, completed traces :: 100%|██████████| 1000/1000 [00:00<00:00, 14154.02it/s]\n"
     ]
    }
   ],
   "source": [
    "log_list = []\n",
    "log_source(\"../data/extension_log/extension-log-noisy-4.xes\").subscribe(lambda item: log_list.append(item))\n",
    "declare_log = pybeamline_to_declare4py_log(list_to_log(log_list))\n"
   ]
  },
  {
   "cell_type": "code",
   "execution_count": 38,
   "metadata": {},
   "outputs": [],
   "source": [
    "conformance_result = MPDeclareAnalyzer(\n",
    "                log=declare_log, \n",
    "                declare_model=extension_log_model,\n",
    "                consider_vacuity=False\n",
    "                ).run()\n",
    "\n",
    "result = conformance_result.get_metric(metric='state')"
   ]
  },
  {
   "cell_type": "code",
   "execution_count": 43,
   "metadata": {},
   "outputs": [
    {
     "name": "stdout",
     "output_type": "stream",
     "text": [
      "Fulfillments: 6571 Violations: 429\n"
     ]
    }
   ],
   "source": [
    "df = result.filter(regex=r\"(?<!.)Response\\[.*\\]\\ \\|\\ \\||(?<!.)Alternate Response\\[.*\\]\\ \\|\\ \\||(?<!.)Chain Response\\[.*\\]\\ \\|\\ \\|\", axis=1)\n",
    "num_ones = (df == 1).sum().sum()  # Count all 1's in the dataframe\n",
    "num_zeros = (df == 0).sum().sum()  # Count all 0's in the dataframe\n",
    "print(f\"Fulfillments: {num_ones} Violations: {num_zeros}\")"
   ]
  }
 ],
 "metadata": {
  "kernelspec": {
   "display_name": "env",
   "language": "python",
   "name": "python3"
  },
  "language_info": {
   "codemirror_mode": {
    "name": "ipython",
    "version": 3
   },
   "file_extension": ".py",
   "mimetype": "text/x-python",
   "name": "python",
   "nbconvert_exporter": "python",
   "pygments_lexer": "ipython3",
   "version": "3.12.3"
  }
 },
 "nbformat": 4,
 "nbformat_minor": 2
}
