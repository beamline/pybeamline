{
 "cells": [
  {
   "cell_type": "code",
   "execution_count": 1,
   "metadata": {},
   "outputs": [
    {
     "name": "stderr",
     "output_type": "stream",
     "text": [
      "/home/theo/pybeamline/declare4py_bridge/env/lib/python3.12/site-packages/pm4py/util/constants.py:101: DeprecationWarning: 'pkgutil.find_loader' is deprecated and slated for removal in Python 3.14; use importlib.util.find_spec() instead\n",
      "  if pkgutil.find_loader(\"psutil\"):\n",
      "/home/theo/pybeamline/declare4py_bridge/env/lib/python3.12/site-packages/pm4py/util/lp/solver.py:37: DeprecationWarning: 'pkgutil.find_loader' is deprecated and slated for removal in Python 3.14; use importlib.util.find_spec() instead\n",
      "  if pkgutil.find_loader(\"pulp\"):\n",
      "/home/theo/pybeamline/declare4py_bridge/env/lib/python3.12/site-packages/pm4py/util/lp/solver.py:47: DeprecationWarning: 'pkgutil.find_loader' is deprecated and slated for removal in Python 3.14; use importlib.util.find_spec() instead\n",
      "  if pkgutil.find_loader(\"scipy\"):\n",
      "/home/theo/pybeamline/declare4py_bridge/env/lib/python3.12/site-packages/pm4py/util/lp/variants/__init__.py:19: DeprecationWarning: 'pkgutil.find_loader' is deprecated and slated for removal in Python 3.14; use importlib.util.find_spec() instead\n",
      "  if pkgutil.find_loader(\"pulp\"):\n",
      "/home/theo/pybeamline/declare4py_bridge/env/lib/python3.12/site-packages/pm4py/util/lp/variants/__init__.py:22: DeprecationWarning: 'pkgutil.find_loader' is deprecated and slated for removal in Python 3.14; use importlib.util.find_spec() instead\n",
      "  if pkgutil.find_loader(\"scipy\"):\n",
      "/home/theo/pybeamline/declare4py_bridge/env/lib/python3.12/site-packages/pm4py/util/lp/solver.py:57: DeprecationWarning: 'pkgutil.find_loader' is deprecated and slated for removal in Python 3.14; use importlib.util.find_spec() instead\n",
      "  if pkgutil.find_loader(\"cvxopt\"):\n",
      "/home/theo/pybeamline/declare4py_bridge/env/lib/python3.12/site-packages/pm4py/util/dt_parsing/parser.py:45: DeprecationWarning: 'pkgutil.find_loader' is deprecated and slated for removal in Python 3.14; use importlib.util.find_spec() instead\n",
      "  if pkgutil.find_loader(\"ciso8601\"):\n",
      "/home/theo/pybeamline/declare4py_bridge/env/lib/python3.12/site-packages/pm4py/objects/process_tree/__init__.py:20: DeprecationWarning: 'pkgutil.find_loader' is deprecated and slated for removal in Python 3.14; use importlib.util.find_spec() instead\n",
      "  if pkgutil.find_loader(\"lxml\"):\n",
      "/home/theo/pybeamline/declare4py_bridge/env/lib/python3.12/site-packages/pm4py/statistics/variants/__init__.py:20: DeprecationWarning: 'pkgutil.find_loader' is deprecated and slated for removal in Python 3.14; use importlib.util.find_spec() instead\n",
      "  if pkgutil.find_loader(\"pandas\"):\n",
      "/home/theo/pybeamline/declare4py_bridge/env/lib/python3.12/site-packages/pm4py/statistics/attributes/__init__.py:20: DeprecationWarning: 'pkgutil.find_loader' is deprecated and slated for removal in Python 3.14; use importlib.util.find_spec() instead\n",
      "  if pkgutil.find_loader(\"pandas\"):\n",
      "/home/theo/pybeamline/declare4py_bridge/env/lib/python3.12/site-packages/pm4py/statistics/start_activities/__init__.py:20: DeprecationWarning: 'pkgutil.find_loader' is deprecated and slated for removal in Python 3.14; use importlib.util.find_spec() instead\n",
      "  if pkgutil.find_loader(\"pandas\"):\n",
      "/home/theo/pybeamline/declare4py_bridge/env/lib/python3.12/site-packages/pm4py/statistics/end_activities/__init__.py:20: DeprecationWarning: 'pkgutil.find_loader' is deprecated and slated for removal in Python 3.14; use importlib.util.find_spec() instead\n",
      "  if pkgutil.find_loader(\"pandas\"):\n",
      "/home/theo/pybeamline/declare4py_bridge/env/lib/python3.12/site-packages/pm4py/statistics/sojourn_time/__init__.py:20: DeprecationWarning: 'pkgutil.find_loader' is deprecated and slated for removal in Python 3.14; use importlib.util.find_spec() instead\n",
      "  if pkgutil.find_loader(\"pandas\"):\n",
      "/home/theo/pybeamline/declare4py_bridge/env/lib/python3.12/site-packages/pm4py/statistics/concurrent_activities/__init__.py:20: DeprecationWarning: 'pkgutil.find_loader' is deprecated and slated for removal in Python 3.14; use importlib.util.find_spec() instead\n",
      "  if pkgutil.find_loader(\"pandas\"):\n",
      "/home/theo/pybeamline/declare4py_bridge/env/lib/python3.12/site-packages/pm4py/algo/discovery/dfg/variants/__init__.py:20: DeprecationWarning: 'pkgutil.find_loader' is deprecated and slated for removal in Python 3.14; use importlib.util.find_spec() instead\n",
      "  if pkgutil.find_loader(\"polars\"):\n",
      "/home/theo/pybeamline/declare4py_bridge/env/lib/python3.12/site-packages/pm4py/algo/discovery/temporal_profile/variants/__init__.py:20: DeprecationWarning: 'pkgutil.find_loader' is deprecated and slated for removal in Python 3.14; use importlib.util.find_spec() instead\n",
      "  if pkgutil.find_loader(\"pandas\"):\n",
      "/home/theo/pybeamline/declare4py_bridge/env/lib/python3.12/site-packages/pm4py/statistics/eventually_follows/__init__.py:20: DeprecationWarning: 'pkgutil.find_loader' is deprecated and slated for removal in Python 3.14; use importlib.util.find_spec() instead\n",
      "  if pkgutil.find_loader(\"pandas\"):\n",
      "/home/theo/pybeamline/declare4py_bridge/env/lib/python3.12/site-packages/pm4py/objects/ocel/exporter/__init__.py:20: DeprecationWarning: 'pkgutil.find_loader' is deprecated and slated for removal in Python 3.14; use importlib.util.find_spec() instead\n",
      "  if pkgutil.find_loader(\"lxml\"):\n",
      "/home/theo/pybeamline/declare4py_bridge/env/lib/python3.12/site-packages/pm4py/objects/ocel/importer/__init__.py:20: DeprecationWarning: 'pkgutil.find_loader' is deprecated and slated for removal in Python 3.14; use importlib.util.find_spec() instead\n",
      "  if pkgutil.find_loader(\"lxml\"):\n",
      "/home/theo/pybeamline/declare4py_bridge/env/lib/python3.12/site-packages/pm4py/algo/discovery/__init__.py:20: DeprecationWarning: 'pkgutil.find_loader' is deprecated and slated for removal in Python 3.14; use importlib.util.find_spec() instead\n",
      "  if pkgutil.find_loader(\"pandas\"):\n",
      "/home/theo/pybeamline/declare4py_bridge/env/lib/python3.12/site-packages/pm4py/algo/conformance/temporal_profile/variants/__init__.py:20: DeprecationWarning: 'pkgutil.find_loader' is deprecated and slated for removal in Python 3.14; use importlib.util.find_spec() instead\n",
      "  if pkgutil.find_loader(\"pandas\"):\n",
      "/home/theo/pybeamline/declare4py_bridge/env/lib/python3.12/site-packages/pm4py/algo/simulation/__init__.py:20: DeprecationWarning: 'pkgutil.find_loader' is deprecated and slated for removal in Python 3.14; use importlib.util.find_spec() instead\n",
      "  if pkgutil.find_loader(\"tree_generator\"):\n",
      "/home/theo/pybeamline/declare4py_bridge/env/lib/python3.12/site-packages/pm4py/objects/log/util/__init__.py:23: DeprecationWarning: 'pkgutil.find_loader' is deprecated and slated for removal in Python 3.14; use importlib.util.find_spec() instead\n",
      "  if pkgutil.find_loader(\"pandas\"):\n",
      "/home/theo/pybeamline/declare4py_bridge/env/lib/python3.12/site-packages/pm4py/objects/log/importer/xes/importer.py:31: DeprecationWarning: 'pkgutil.find_loader' is deprecated and slated for removal in Python 3.14; use importlib.util.find_spec() instead\n",
      "  if pkgutil.find_loader(\"lxml\"):\n",
      "/home/theo/pybeamline/declare4py_bridge/env/lib/python3.12/site-packages/pm4py/objects/__init__.py:21: DeprecationWarning: 'pkgutil.find_loader' is deprecated and slated for removal in Python 3.14; use importlib.util.find_spec() instead\n",
      "  if pkgutil.find_loader(\"networkx\"):\n",
      "/home/theo/pybeamline/declare4py_bridge/env/lib/python3.12/site-packages/pm4py/objects/bpmn/__init__.py:20: DeprecationWarning: 'pkgutil.find_loader' is deprecated and slated for removal in Python 3.14; use importlib.util.find_spec() instead\n",
      "  if pkgutil.find_loader(\"lxml\"):\n",
      "/home/theo/pybeamline/declare4py_bridge/env/lib/python3.12/site-packages/pm4py/visualization/__init__.py:19: DeprecationWarning: 'pkgutil.find_loader' is deprecated and slated for removal in Python 3.14; use importlib.util.find_spec() instead\n",
      "  if pkgutil.find_loader(\"graphviz\"):\n",
      "/home/theo/pybeamline/declare4py_bridge/env/lib/python3.12/site-packages/pm4py/visualization/__init__.py:23: DeprecationWarning: 'pkgutil.find_loader' is deprecated and slated for removal in Python 3.14; use importlib.util.find_spec() instead\n",
      "  if pkgutil.find_loader(\"matplotlib\") and pkgutil.find_loader(\"pyvis\"):\n",
      "/home/theo/pybeamline/declare4py_bridge/env/lib/python3.12/site-packages/pm4py/visualization/__init__.py:23: DeprecationWarning: 'pkgutil.find_loader' is deprecated and slated for removal in Python 3.14; use importlib.util.find_spec() instead\n",
      "  if pkgutil.find_loader(\"matplotlib\") and pkgutil.find_loader(\"pyvis\"):\n",
      "/home/theo/pybeamline/declare4py_bridge/env/lib/python3.12/site-packages/pm4py/visualization/__init__.py:27: DeprecationWarning: 'pkgutil.find_loader' is deprecated and slated for removal in Python 3.14; use importlib.util.find_spec() instead\n",
      "  if pkgutil.find_loader(\"pydotplus\"):\n",
      "/home/theo/pybeamline/declare4py_bridge/env/lib/python3.12/site-packages/pm4py/visualization/__init__.py:32: DeprecationWarning: 'pkgutil.find_loader' is deprecated and slated for removal in Python 3.14; use importlib.util.find_spec() instead\n",
      "  if pkgutil.find_loader(\"matplotlib\"):\n",
      "/home/theo/pybeamline/declare4py_bridge/env/lib/python3.12/site-packages/reactivex/internal/constants.py:4: DeprecationWarning: datetime.datetime.utcfromtimestamp() is deprecated and scheduled for removal in a future version. Use timezone-aware objects to represent datetimes in UTC: datetime.datetime.fromtimestamp(timestamp, datetime.UTC).\n",
      "  UTC_ZERO = datetime.utcfromtimestamp(0)\n"
     ]
    }
   ],
   "source": [
    "from Declare4Py.D4PyEventLog import D4PyEventLog\n",
    "from Declare4Py.ProcessMiningTasks.Discovery.DeclareMiner import DeclareMiner \n",
    "from pybeamline.sources import log_source\n",
    "import os\n",
    "import warnings\n",
    "warnings.filterwarnings(\"ignore\")"
   ]
  },
  {
   "cell_type": "markdown",
   "metadata": {},
   "source": [
    "Nessesary to mine model from Log, since Declare4py read from file is broken"
   ]
  },
  {
   "cell_type": "code",
   "execution_count": 2,
   "metadata": {},
   "outputs": [
    {
     "name": "stderr",
     "output_type": "stream",
     "text": [
      "parsing log, completed traces :: 100%|██████████| 1000/1000 [00:00<00:00, 11889.16it/s]\n"
     ]
    },
    {
     "name": "stdout",
     "output_type": "stream",
     "text": [
      "Computing discovery ...\n"
     ]
    }
   ],
   "source": [
    "log_path = os.path.join(\"../data/extension_log/extension-log-4.xes\")\n",
    "event_log = D4PyEventLog(case_name=\"case:concept:name\")\n",
    "event_log.parse_xes_log(log_path)\n",
    "extension_log_model = DeclareMiner(log=event_log, consider_vacuity=False, min_support=0.2, itemsets_support=0.9, max_declare_cardinality=3).run()"
   ]
  },
  {
   "cell_type": "code",
   "execution_count": 3,
   "metadata": {},
   "outputs": [
    {
     "name": "stderr",
     "output_type": "stream",
     "text": [
      "parsing log, completed traces :: 100%|██████████| 1000/1000 [00:00<00:00, 6734.67it/s]\n"
     ]
    }
   ],
   "source": [
    "log_path = os.path.join(\"../data/extension_log/extension-log-noisy-4.xes\")\n",
    "event_stream = log_source(log_path)"
   ]
  },
  {
   "cell_type": "code",
   "execution_count": 4,
   "metadata": {},
   "outputs": [
    {
     "name": "stderr",
     "output_type": "stream",
     "text": [
      "parsing log, completed traces :: 100%|██████████| 1000/1000 [00:00<00:00, 13373.24it/s]\n"
     ]
    }
   ],
   "source": [
    "from pybeamline_declare4py_bridge.conformance.pybeamline_declare4py_conformance_checker import Pybeamline_Bridge_Conformance_Checker\n",
    "noisy = log_source(\"../data/extension_log/extension-log-noisy-4.xes\")\n",
    "observ = Pybeamline_Bridge_Conformance_Checker(model=extension_log_model, event_stream=noisy).run_trace_conformance()\n"
   ]
  },
  {
   "cell_type": "code",
   "execution_count": 5,
   "metadata": {},
   "outputs": [
    {
     "name": "stdout",
     "output_type": "stream",
     "text": [
      "   Existence1[record issue] | |  Absence2[record issue] | |  \\\n",
      "0                             1                           1   \n",
      "\n",
      "   Absence3[record issue] | |  Exactly1[record issue] | |  \\\n",
      "0                           1                           1   \n",
      "\n",
      "   Init[record issue] | |  Existence1[issue completion] | |  \\\n",
      "0                       1                                 0   \n",
      "\n",
      "   Absence2[issue completion] | |  Absence3[issue completion] | |  \\\n",
      "0                               1                               1   \n",
      "\n",
      "   Exactly1[issue completion] | |  End[issue completion] | |  ...  \\\n",
      "0                               0                          0  ...   \n",
      "\n",
      "   Alternate Response[inspection, issue completion] | |  \\\n",
      "0                                                  0      \n",
      "\n",
      "   Precedence[inspection, issue completion] | |  \\\n",
      "0                                             0   \n",
      "\n",
      "   Alternate Precedence[inspection, issue completion] | |  \\\n",
      "0                                                  0        \n",
      "\n",
      "   Not Response[issue completion, inspection] | |  \\\n",
      "0                                               0   \n",
      "\n",
      "   Not Precedence[issue completion, inspection] | |  \\\n",
      "0                                                 0   \n",
      "\n",
      "   Not Chain Response[inspection, issue completion] | |  \\\n",
      "0                                                  0      \n",
      "\n",
      "   Not Chain Response[issue completion, inspection] | |  \\\n",
      "0                                                  0      \n",
      "\n",
      "   Not Chain Precedence[inspection, issue completion] | |  \\\n",
      "0                                                  0        \n",
      "\n",
      "   Not Chain Precedence[issue completion, inspection] | |   case_id  \n",
      "0                                                  0       case_868  \n",
      "\n",
      "[1 rows x 57 columns]\n",
      "   Existence1[record issue] | |  Absence2[record issue] | |  \\\n",
      "0                             1                           1   \n",
      "\n",
      "   Absence3[record issue] | |  Exactly1[record issue] | |  \\\n",
      "0                           1                           1   \n",
      "\n",
      "   Init[record issue] | |  Existence1[issue completion] | |  \\\n",
      "0                       1                                 0   \n",
      "\n",
      "   Absence2[issue completion] | |  Absence3[issue completion] | |  \\\n",
      "0                               1                               1   \n",
      "\n",
      "   Exactly1[issue completion] | |  End[issue completion] | |  ...  \\\n",
      "0                               0                          0  ...   \n",
      "\n",
      "   Alternate Response[inspection, issue completion] | |  \\\n",
      "0                                                  0      \n",
      "\n",
      "   Precedence[inspection, issue completion] | |  \\\n",
      "0                                             0   \n",
      "\n",
      "   Alternate Precedence[inspection, issue completion] | |  \\\n",
      "0                                                  0        \n",
      "\n",
      "   Not Response[issue completion, inspection] | |  \\\n",
      "0                                               0   \n",
      "\n",
      "   Not Precedence[issue completion, inspection] | |  \\\n",
      "0                                                 0   \n",
      "\n",
      "   Not Chain Response[inspection, issue completion] | |  \\\n",
      "0                                                  0      \n",
      "\n",
      "   Not Chain Response[issue completion, inspection] | |  \\\n",
      "0                                                  0      \n",
      "\n",
      "   Not Chain Precedence[inspection, issue completion] | |  \\\n",
      "0                                                  0        \n",
      "\n",
      "   Not Chain Precedence[issue completion, inspection] | |   case_id  \n",
      "0                                                  0       case_923  \n",
      "\n",
      "[1 rows x 57 columns]\n",
      "   Existence1[record issue] | |  Absence2[record issue] | |  \\\n",
      "0                             1                           1   \n",
      "\n",
      "   Absence3[record issue] | |  Exactly1[record issue] | |  \\\n",
      "0                           1                           1   \n",
      "\n",
      "   Init[record issue] | |  Existence1[issue completion] | |  \\\n",
      "0                       1                                 0   \n",
      "\n",
      "   Absence2[issue completion] | |  Absence3[issue completion] | |  \\\n",
      "0                               1                               1   \n",
      "\n",
      "   Exactly1[issue completion] | |  End[issue completion] | |  ...  \\\n",
      "0                               0                          0  ...   \n",
      "\n",
      "   Alternate Response[inspection, issue completion] | |  \\\n",
      "0                                                  0      \n",
      "\n",
      "   Precedence[inspection, issue completion] | |  \\\n",
      "0                                             0   \n",
      "\n",
      "   Alternate Precedence[inspection, issue completion] | |  \\\n",
      "0                                                  0        \n",
      "\n",
      "   Not Response[issue completion, inspection] | |  \\\n",
      "0                                               0   \n",
      "\n",
      "   Not Precedence[issue completion, inspection] | |  \\\n",
      "0                                                 0   \n",
      "\n",
      "   Not Chain Response[inspection, issue completion] | |  \\\n",
      "0                                                  0      \n",
      "\n",
      "   Not Chain Response[issue completion, inspection] | |  \\\n",
      "0                                                  0      \n",
      "\n",
      "   Not Chain Precedence[inspection, issue completion] | |  \\\n",
      "0                                                  0        \n",
      "\n",
      "   Not Chain Precedence[issue completion, inspection] | |   case_id  \n",
      "0                                                  0       case_750  \n",
      "\n",
      "[1 rows x 57 columns]\n"
     ]
    },
    {
     "data": {
      "text/plain": [
       "<reactivex.disposable.disposable.Disposable at 0x7f54ab3715b0>"
      ]
     },
     "execution_count": 5,
     "metadata": {},
     "output_type": "execute_result"
    }
   ],
   "source": [
    "from reactivex import operators as ops\n",
    "observ.pipe(\n",
    "    ops.take(3)\n",
    ").subscribe(lambda x: print(x))"
   ]
  },
  {
   "cell_type": "code",
   "execution_count": null,
   "metadata": {},
   "outputs": [],
   "source": []
  }
 ],
 "metadata": {
  "kernelspec": {
   "display_name": "env",
   "language": "python",
   "name": "python3"
  },
  "language_info": {
   "codemirror_mode": {
    "name": "ipython",
    "version": 3
   },
   "file_extension": ".py",
   "mimetype": "text/x-python",
   "name": "python",
   "nbconvert_exporter": "python",
   "pygments_lexer": "ipython3",
   "version": "3.12.3"
  }
 },
 "nbformat": 4,
 "nbformat_minor": 2
}
