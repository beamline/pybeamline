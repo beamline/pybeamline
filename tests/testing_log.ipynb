{
 "cells": [
  {
   "cell_type": "code",
   "execution_count": null,
   "metadata": {},
   "outputs": [],
   "source": [
    "# Let's ignore some PM4PY warnings in the notebook\n",
    "import warnings\n",
    "warnings.filterwarnings(\"ignore\")"
   ]
  },
  {
   "cell_type": "code",
   "execution_count": null,
   "metadata": {},
   "outputs": [],
   "source": [
    "import sys\n",
    "sys.path.append('..')"
   ]
  },
  {
   "cell_type": "markdown",
   "metadata": {},
   "source": [
    "get Log from source"
   ]
  },
  {
   "cell_type": "code",
   "execution_count": null,
   "metadata": {},
   "outputs": [],
   "source": [
    "from pybeamline.sources import xes_log_source_from_file\n",
    "\n",
    "xes_log_source_from_file(\"./test_logs/extension-log-4.xes\") \\\n",
    "    .subscribe(lambda x: print(str(x)))"
   ]
  },
  {
   "cell_type": "markdown",
   "metadata": {},
   "source": [
    "Conformance checking"
   ]
  },
  {
   "cell_type": "code",
   "execution_count": null,
   "metadata": {},
   "outputs": [],
   "source": [
    "from pybeamline.algorithms.conformance import mine_behavioral_model_from_stream\n",
    "from pybeamline.sources import log_source\n",
    "\n",
    "log_1 = xes_log_source_from_file(\"./test_logs/extension-log-4.xes\")\n",
    "\n",
    "reference_model = mine_behavioral_model_from_stream(log_1)\n",
    "for x in reference_model:\n",
    "    for y in x:\n",
    "        print(y)"
   ]
  },
  {
   "cell_type": "code",
   "execution_count": null,
   "metadata": {},
   "outputs": [],
   "source": [
    "from pybeamline.algorithms.conformance import behavioral_conformance\n",
    "\n",
    "xes_log_source_from_file(\"./test_logs/extension-log-4.xes\").pipe(\n",
    "    behavioral_conformance(reference_model)\n",
    ").subscribe(lambda x: print(x))"
   ]
  },
  {
   "cell_type": "code",
   "execution_count": null,
   "metadata": {},
   "outputs": [],
   "source": []
  }
 ],
 "metadata": {
  "kernelspec": {
   "display_name": "Python 3",
   "language": "python",
   "name": "python3"
  },
  "language_info": {
   "codemirror_mode": {
    "name": "ipython",
    "version": 3
   },
   "file_extension": ".py",
   "mimetype": "text/x-python",
   "name": "python",
   "nbconvert_exporter": "python",
   "pygments_lexer": "ipython3",
   "version": "3.12.3"
  }
 },
 "nbformat": 4,
 "nbformat_minor": 2
}
