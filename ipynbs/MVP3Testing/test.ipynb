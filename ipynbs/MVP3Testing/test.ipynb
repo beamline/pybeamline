{
 "cells": [
  {
   "cell_type": "code",
   "id": "initial_id",
   "metadata": {
    "collapsed": true,
    "ExecuteTime": {
     "end_time": "2025-05-25T18:30:32.657929Z",
     "start_time": "2025-05-25T18:30:24.294723Z"
    }
   },
   "source": [
    "from pm4py import view_ocdfg\n",
    "\n",
    "from pybeamline.objects.ocdfg import OCDFG\n",
    "from pybeamline.algorithms.oc.oc_dfg_merge_operator import oc_dfg_merge_operator\n",
    "from pybeamline.algorithms.oc.oc_dfg_operator import oc_dfg_operator\n",
    "from pybeamline.sources.ocel_log_source_from_file import ocel_log_source_from_file\n",
    "from reactivex import operators as ops\n",
    "from pm4py.ocel import OCEL\n",
    "from pm4py.read import read_ocel2_json\n",
    "from testfile import emitted_ocdfgs\n",
    "from pm4py.algo.discovery.ocel.ocdfg import algorithm as ocdfg_discovery\n",
    "## Test Script for Testing MVP3\n",
    "# Comparing to process models by Jaccard similarity\n",
    "\n",
    "\n",
    "# PM4Py\n",
    "def read_ocel2_log(filename: str):\n",
    "    return read_ocel2_json(filename)\n",
    "\n",
    "oc_event_log = read_ocel2_log(\"../../tests/logistics.jsonocel\")\n",
    "assert oc_event_log is not None\n",
    "\n",
    "# Do OCDFG discovery\n",
    "ocdfg = ocdfg_discovery.apply(oc_event_log)\n",
    "print(ocdfg.keys())\n",
    "#view_ocdfg(ocdfg)\n",
    "print(ocdfg[\"activities\"])\n",
    "print(ocdfg[\"edges\"])\n",
    "\n",
    "\n",
    "\n",
    "\"\"\"\n",
    "# Log\n",
    "log = ocel_log_source_from_file(\"../../tests/logistics.jsonocel\")\n",
    "\n",
    "# Set based\n",
    "def jaccard_similarity(model: set, ref_model: set) -> float:\n",
    "\n",
    "    Calculate the Jaccard similarity between two sets of model components.\n",
    "\n",
    "    Parameters:\n",
    "    model (set): Set of components in the first model.\n",
    "    ref_model (set): Set of components in the reference model.\n",
    "\n",
    "    Returns:\n",
    "    float: Jaccard similarity coefficient.\n",
    "\n",
    "    intersection = len(model.intersection(ref_model))\n",
    "    union = len(model.union(ref_model))\n",
    "\n",
    "    if union == 0:\n",
    "        return 0.0  # Avoid division by zero\n",
    "\n",
    "    return intersection / union\n",
    "\n",
    "emitted_ocdfgs = []\n",
    "def append_ocdfg(oc_dfg: OCDFG):\n",
    "    global emitted_ocdfgs\n",
    "    emitted_ocdfgs.append(oc_dfg)\n",
    "\n",
    "\n",
    "log.pipe(\n",
    "    oc_dfg_operator(),\n",
    "    oc_dfg_merge_operator()\n",
    ").subscribe(lambda oc_dfg: append_ocdfg(oc_dfg))\n",
    "\n",
    "print(len(emitted_ocdfgs))\n",
    "\"\"\""
   ],
   "outputs": [
    {
     "name": "stderr",
     "output_type": "stream",
     "text": [
      "IOPub data rate exceeded.\n",
      "The Jupyter server will temporarily stop sending output\n",
      "to the client in order to avoid crashing it.\n",
      "To change this limit, set the config variable\n",
      "`--ServerApp.iopub_data_rate_limit`.\n",
      "\n",
      "Current values:\n",
      "ServerApp.iopub_data_rate_limit=1000000.0 (bytes/sec)\n",
      "ServerApp.rate_limit_window=3.0 (secs)\n",
      "\n"
     ]
    },
    {
     "data": {
      "text/plain": [
       "'\\n# Log\\nlog = ocel_log_source_from_file(\"../../tests/logistics.jsonocel\")\\n\\n# Set based\\ndef jaccard_similarity(model: set, ref_model: set) -> float:\\n\\n    Calculate the Jaccard similarity between two sets of model components.\\n\\n    Parameters:\\n    model (set): Set of components in the first model.\\n    ref_model (set): Set of components in the reference model.\\n\\n    Returns:\\n    float: Jaccard similarity coefficient.\\n\\n    intersection = len(model.intersection(ref_model))\\n    union = len(model.union(ref_model))\\n\\n    if union == 0:\\n        return 0.0  # Avoid division by zero\\n\\n    return intersection / union\\n\\nemitted_ocdfgs = []\\ndef append_ocdfg(oc_dfg: OCDFG):\\n    global emitted_ocdfgs\\n    emitted_ocdfgs.append(oc_dfg)\\n\\n\\nlog.pipe(\\n    oc_dfg_operator(),\\n    oc_dfg_merge_operator()\\n).subscribe(lambda oc_dfg: append_ocdfg(oc_dfg))\\n\\nprint(len(emitted_ocdfgs))\\n'"
      ]
     },
     "execution_count": 9,
     "metadata": {},
     "output_type": "execute_result"
    }
   ],
   "execution_count": 9
  },
  {
   "metadata": {},
   "cell_type": "code",
   "outputs": [],
   "execution_count": null,
   "source": "",
   "id": "f17cf429bcb75131"
  }
 ],
 "metadata": {
  "kernelspec": {
   "display_name": "Python 3",
   "language": "python",
   "name": "python3"
  },
  "language_info": {
   "codemirror_mode": {
    "name": "ipython",
    "version": 2
   },
   "file_extension": ".py",
   "mimetype": "text/x-python",
   "name": "python",
   "nbconvert_exporter": "python",
   "pygments_lexer": "ipython2",
   "version": "2.7.6"
  }
 },
 "nbformat": 4,
 "nbformat_minor": 5
}
