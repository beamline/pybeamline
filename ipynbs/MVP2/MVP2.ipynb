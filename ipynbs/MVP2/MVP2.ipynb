{
 "cells": [
  {
   "metadata": {},
   "cell_type": "markdown",
   "source": "# MVP 2: Contains the ODFM and the OC_DFGs",
   "id": "4912e66eb52b9e36"
  },
  {
   "cell_type": "code",
   "id": "initial_id",
   "metadata": {
    "collapsed": true,
    "ExecuteTime": {
     "end_time": "2025-04-22T09:48:38.672673Z",
     "start_time": "2025-04-22T09:48:36.225762Z"
    }
   },
   "source": [
    "# Loading the required libraries\n",
    "from pybeamline.algorithms.discovery.oc_heuristics_miner_lossy_counting import oc_heuristics_miner_lossy_counting\n",
    "from pybeamline.algorithms.oc_operator import OCOperator\n",
    "from pybeamline.algorithms.ocdfg_merge_operator import ocdfg_merge_operator\n",
    "from pybeamline.objects.ocdfgvisualizer import OCDFGVisualizer\n",
    "from pybeamline.sources.dict_ocel_test_source import dict_test_ocel_source\n",
    "from pybeamline.utils.ocdfg_merger import OCDFGMerger"
   ],
   "outputs": [],
   "execution_count": 1
  },
  {
   "metadata": {
    "ExecuteTime": {
     "end_time": "2025-04-22T09:48:38.690890Z",
     "start_time": "2025-04-22T09:48:38.678425Z"
    }
   },
   "cell_type": "code",
   "source": [
    "test_events_phaseflow = [\n",
    "    {\"activity\": \"Register Customer\", \"objects\": {\"Customer\": [\"c1\"]}},\n",
    "    {\"activity\": \"Create Order\", \"objects\": {\"Customer\": [\"c1\"], \"Order\": [\"o1\"]}},\n",
    "    {\"activity\": \"Add Item\", \"objects\": {\"Order\": [\"o1\"], \"Item\": [\"i1\"]}},\n",
    "    {\"activity\": \"Reserve Item\", \"objects\": {\"Item\": [\"i1\"]}},\n",
    "    {\"activity\": \"Pack Item\", \"objects\": {\"Item\": [\"i1\"], \"Order\": [\"o1\"]}},\n",
    "    {\"activity\": \"Ship Item\", \"objects\": {\"Item\": [\"i1\"], \"Shipment\": [\"s1\"]}},\n",
    "    {\"activity\": \"Send Invoice\", \"objects\": {\"Order\": [\"o1\"], \"Invoice\": [\"inv1\"]}},\n",
    "    {\"activity\": \"Receive Review\", \"objects\": {\"Customer\": [\"c1\"], \"Order\": [\"o1\"]}},\n",
    "]\n",
    "\n",
    "test_events_phaseflow_ends_early = [\n",
    "    {\"activity\": \"Register Customer\", \"objects\": {\"Customer\": [\"c2\"]}},\n",
    "    {\"activity\": \"Create Order\", \"objects\": {\"Customer\": [\"c2\"], \"Order\": [\"o2\"]}},\n",
    "    {\"activity\": \"Add Item\", \"objects\": {\"Order\": [\"o2\"], \"Item\": [\"i2\"]}},\n",
    "    {\"activity\": \"Reserve Item\", \"objects\": {\"Item\": [\"i2\"]}},\n",
    "    {\"activity\": \"Cancel Order\", \"objects\": {\"Customer\": [\"c2\"], \"Order\": [\"o2\"]}}\n",
    "]\n",
    "\n",
    "combined_log = dict_test_ocel_source([(test_events_phaseflow_ends_early,25),(test_events_phaseflow, 2500)], shuffle=False)\n",
    "\n"
   ],
   "id": "e79cf4750d2dc7c9",
   "outputs": [],
   "execution_count": 2
  },
  {
   "metadata": {
    "ExecuteTime": {
     "end_time": "2025-04-22T09:48:38.969957Z",
     "start_time": "2025-04-22T09:48:38.956207Z"
    }
   },
   "cell_type": "code",
   "source": [
    "control_flow = {\n",
    "    \"Order\": oc_heuristics_miner_lossy_counting(model_update_frequency=10, max_approx_error=0.1),\n",
    "    \"Item\": oc_heuristics_miner_lossy_counting(model_update_frequency=10),\n",
    "    \"Customer\": oc_heuristics_miner_lossy_counting(model_update_frequency=10, max_approx_error=0.1),\n",
    "    \"Shipment\": oc_heuristics_miner_lossy_counting(model_update_frequency=1),\n",
    "    \"Invoice\": oc_heuristics_miner_lossy_counting(model_update_frequency=1),\n",
    "}"
   ],
   "id": "171e7cf952179d19",
   "outputs": [],
   "execution_count": 3
  },
  {
   "metadata": {
    "ExecuteTime": {
     "end_time": "2025-04-22T09:48:49.044590Z",
     "start_time": "2025-04-22T09:48:38.985977Z"
    }
   },
   "cell_type": "code",
   "source": [
    "\n",
    "# Object-Centric Operators\n",
    "oc_operator = OCOperator(control_flow)\n",
    "oc_merger = OCDFGMerger()\n",
    "oc_visualizer = OCDFGVisualizer()\n",
    "\n",
    "# Save states of changes\n",
    "oc_merger.on_change(lambda odfm: oc_visualizer.save(\n",
    "    odfm,\n",
    "    \"ocdfg_structure.png\",\n",
    "))\n",
    "\n",
    "# pipe the combined log to the OCOperator op\n",
    "combined_log.pipe(\n",
    "    oc_operator.op(),\n",
    "    ocdfg_merge_operator(oc_merger)\n",
    ").subscribe()\n",
    "\n",
    "# Visualize the ODFM in GIF\n",
    "oc_visualizer.export_gif(\"ocdfg_evolution.gif\", duration=1500)"
   ],
   "id": "cf5d3d0525c9a3d0",
   "outputs": [
    {
     "name": "stdout",
     "output_type": "stream",
     "text": [
      "\n",
      "[ODFM — Definition 8] - Object-Centric Process Mining: Dealing with Divergence and Convergence...\n",
      "Create Order --(Customer)--> Cancel Order\n",
      "Register Customer --(Customer)--> Create Order\n",
      "\n",
      "[ODFM — Definition 8] - Object-Centric Process Mining: Dealing with Divergence and Convergence...\n",
      "Add Item --(Order)--> Cancel Order\n",
      "Create Order --(Customer)--> Cancel Order\n",
      "Create Order --(Order)--> Add Item\n",
      "Register Customer --(Customer)--> Create Order\n",
      "\n",
      "[ODFM — Definition 8] - Object-Centric Process Mining: Dealing with Divergence and Convergence...\n",
      "Add Item --(Item)--> Reserve Item\n",
      "Create Order --(Customer)--> Cancel Order\n",
      "Register Customer --(Customer)--> Create Order\n",
      "Add Item --(Order)--> Cancel Order\n",
      "Create Order --(Order)--> Add Item\n",
      "\n",
      "[ODFM — Definition 8] - Object-Centric Process Mining: Dealing with Divergence and Convergence...\n",
      "Add Item --(Order)--> Pack Item\n",
      "Pack Item --(Order)--> Send Invoice\n",
      "Add Item --(Item)--> Reserve Item\n",
      "Create Order --(Customer)--> Cancel Order\n",
      "Register Customer --(Customer)--> Create Order\n",
      "Add Item --(Order)--> Cancel Order\n",
      "Create Order --(Order)--> Add Item\n",
      "\n",
      "[ODFM — Definition 8] - Object-Centric Process Mining: Dealing with Divergence and Convergence...\n",
      "Create Order --(Customer)--> Receive Review\n",
      "Add Item --(Order)--> Pack Item\n",
      "Pack Item --(Order)--> Send Invoice\n",
      "Add Item --(Item)--> Reserve Item\n",
      "Create Order --(Customer)--> Cancel Order\n",
      "Register Customer --(Customer)--> Create Order\n",
      "Add Item --(Order)--> Cancel Order\n",
      "Create Order --(Order)--> Add Item\n",
      "\n",
      "[ODFM — Definition 8] - Object-Centric Process Mining: Dealing with Divergence and Convergence...\n",
      "Create Order --(Customer)--> Receive Review\n",
      "Pack Item --(Item)--> Ship Item\n",
      "Add Item --(Order)--> Pack Item\n",
      "Pack Item --(Order)--> Send Invoice\n",
      "Add Item --(Item)--> Reserve Item\n",
      "Create Order --(Customer)--> Cancel Order\n",
      "Register Customer --(Customer)--> Create Order\n",
      "Add Item --(Order)--> Cancel Order\n",
      "Reserve Item --(Item)--> Pack Item\n",
      "Create Order --(Order)--> Add Item\n",
      "\n",
      "[ODFM — Definition 8] - Object-Centric Process Mining: Dealing with Divergence and Convergence...\n",
      "Create Order --(Customer)--> Receive Review\n",
      "Pack Item --(Item)--> Ship Item\n",
      "Add Item --(Order)--> Pack Item\n",
      "Pack Item --(Order)--> Send Invoice\n",
      "Send Invoice --(Order)--> Receive Review\n",
      "Create Order --(Customer)--> Cancel Order\n",
      "Add Item --(Item)--> Reserve Item\n",
      "Register Customer --(Customer)--> Create Order\n",
      "Add Item --(Order)--> Cancel Order\n",
      "Reserve Item --(Item)--> Pack Item\n",
      "Create Order --(Order)--> Add Item\n",
      "\n",
      "[ODFM — Definition 8] - Object-Centric Process Mining: Dealing with Divergence and Convergence...\n",
      "Create Order --(Customer)--> Receive Review\n",
      "Pack Item --(Item)--> Ship Item\n",
      "Add Item --(Order)--> Pack Item\n",
      "Pack Item --(Order)--> Send Invoice\n",
      "Send Invoice --(Order)--> Receive Review\n",
      "Create Order --(Customer)--> Cancel Order\n",
      "Add Item --(Item)--> Reserve Item\n",
      "Register Customer --(Customer)--> Create Order\n",
      "Reserve Item --(Item)--> Pack Item\n",
      "Create Order --(Order)--> Add Item\n",
      "\n",
      "[ODFM — Definition 8] - Object-Centric Process Mining: Dealing with Divergence and Convergence...\n",
      "Create Order --(Customer)--> Receive Review\n",
      "Pack Item --(Item)--> Ship Item\n",
      "Add Item --(Order)--> Pack Item\n",
      "Pack Item --(Order)--> Send Invoice\n",
      "Send Invoice --(Order)--> Receive Review\n",
      "Add Item --(Item)--> Reserve Item\n",
      "Register Customer --(Customer)--> Create Order\n",
      "Reserve Item --(Item)--> Pack Item\n",
      "Create Order --(Order)--> Add Item\n",
      "[GIF] Saved to ocdfg_evolution.gif\n"
     ]
    }
   ],
   "execution_count": 4
  },
  {
   "metadata": {
    "ExecuteTime": {
     "end_time": "2025-04-22T09:48:49.071524Z",
     "start_time": "2025-04-22T09:48:49.066614Z"
    }
   },
   "cell_type": "code",
   "source": "",
   "id": "bd4226009441597",
   "outputs": [],
   "execution_count": null
  },
  {
   "metadata": {},
   "cell_type": "markdown",
   "source": "![OCDFG Evolution](ocdfg_evolution.gif)",
   "id": "2fa52a3560fbb63d"
  },
  {
   "metadata": {},
   "cell_type": "code",
   "outputs": [],
   "execution_count": null,
   "source": "",
   "id": "4e15e2c388487b93"
  }
 ],
 "metadata": {
  "kernelspec": {
   "display_name": "Python 3",
   "language": "python",
   "name": "python3"
  },
  "language_info": {
   "codemirror_mode": {
    "name": "ipython",
    "version": 2
   },
   "file_extension": ".py",
   "mimetype": "text/x-python",
   "name": "python",
   "nbconvert_exporter": "python",
   "pygments_lexer": "ipython2",
   "version": "2.7.6"
  }
 },
 "nbformat": 4,
 "nbformat_minor": 5
}
