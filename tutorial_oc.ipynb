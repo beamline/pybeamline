{
 "cells": [
  {
   "metadata": {},
   "cell_type": "markdown",
   "source": "# Streaming Object-Centric Process Mining with `pyBeamline`",
   "id": "4a4bd5b42d88b3c0"
  },
  {
   "metadata": {},
   "cell_type": "markdown",
   "source": [
    "pyBeamline is based on ReactiveX and its Python binding RxPY. RxPY is a library for composing asynchronous and event-based programs using observable sequences and pipable query operators in Python. Using pyBeamline it is possible to inject process mining operators into the computation.\n",
    "\n",
    "This Jupyter notebook contains the main contributions towards Streaming Object-Centric Process Discovery. The rest of the notebook it is assumed that the `pyBeamline` package is already installed.\n",
    "\n",
    "In the rest of this document, the main functionalities are exposed."
   ],
   "id": "495a9467727d24d8"
  },
  {
   "metadata": {},
   "cell_type": "markdown",
   "source": "It is possible to install the library using:",
   "id": "5238d25d232bd01"
  },
  {
   "metadata": {
    "ExecuteTime": {
     "end_time": "2025-07-15T23:44:15.226110Z",
     "start_time": "2025-07-15T23:44:15.220469Z"
    }
   },
   "cell_type": "code",
   "source": [
    "#!pip install pybeamline # Note: Uncomment this line when meged into the main branch of pyBeamline\n",
    "# Let's ignore some PM4PY warnings in the notebook\n",
    "import warnings\n",
    "warnings.filterwarnings(\"ignore\")"
   ],
   "id": "5086bb5091ef9899",
   "outputs": [],
   "execution_count": 14
  },
  {
   "metadata": {
    "ExecuteTime": {
     "end_time": "2025-07-15T23:44:15.239354Z",
     "start_time": "2025-07-15T23:44:15.231228Z"
    }
   },
   "cell_type": "code",
   "source": [
    "import importlib\n",
    "import pybeamline\n",
    "importlib.reload(pybeamline) # NOTE: To-be removed when integrated in pyBeamline master"
   ],
   "id": "439bd3675b3b34c8",
   "outputs": [
    {
     "data": {
      "text/plain": [
       "<module 'pybeamline' from 'C:\\\\Users\\\\jepmi\\\\Desktop\\\\Github\\\\pybeamline-OCPM\\\\pybeamline\\\\__init__.py'>"
      ]
     },
     "execution_count": 15,
     "metadata": {},
     "output_type": "execute_result"
    }
   ],
   "execution_count": 15
  },
  {
   "metadata": {},
   "cell_type": "markdown",
   "source": [
    "## Sources\n",
    "\n",
    "The `pyBeamline` library provides two main object-centric sources:\n",
    "1. `OCEL 2.0`: Object-Centric Event Log (OCEL) 2.0 source reads an OCEL file and emits object-centric events.\n",
    "2. `Dictionary Test Source`: A test source that can be initialized with a list of dictionaries, each representing an object-centric event trace.\n",
    "\n",
    "First lets consider the test source, which is useful for testing purposes:"
   ],
   "id": "b50f1248c901a7e"
  },
  {
   "metadata": {
    "ExecuteTime": {
     "end_time": "2025-07-15T23:44:15.261881Z",
     "start_time": "2025-07-15T23:44:15.248997Z"
    }
   },
   "cell_type": "code",
   "source": [
    "from pybeamline.sources.dict_ocel_test_source import dict_test_ocel_source\n",
    "\n",
    "# Consider two traces with different activities and objects for demonstration\n",
    "# IMPORTANT: Object identifiers (e.g., \"c1\", \"o1\") must be unique across traces.\n",
    "# Note: Specifying an object (e.g., \"c1\") in a trace implies that across all generated instances of `trace_1` by adding suffixes,\n",
    "# that object maintains consistent relationships with the activities as defined in the trace structure, i.e, object \"c1\" goes from \"Register Customer\" to \"Create Order\", and so on.\n",
    "trace_1 = [\n",
    "            {\"activity\": \"Register Customer\", \"objects\": {\"Customer\": [\"c1\"]}},\n",
    "            {\"activity\": \"Create Order\", \"objects\": {\"Customer\": [\"c1\"], \"Order\": [\"o1\"]}},\n",
    "            {\"activity\": \"Add Item\", \"objects\": {\"Order\": [\"o1\"], \"Item\": [\"i1\"]}},\n",
    "            {\"activity\": \"Add Item\", \"objects\": {\"Order\": [\"o1\"], \"Item\": [\"i2\"]}},\n",
    "            {\"activity\": \"Ship Order\", \"objects\": {\"Item\": [\"i1\", \"i2\"], \"Order\": [\"o1\"]}}\n",
    "        ]\n",
    "\n",
    "trace_2 = [\n",
    "            {\"activity\": \"Register Guest\", \"objects\": {\"Guest\": [\"g1\"]}},\n",
    "            {\"activity\": \"Create Booking\", \"objects\": {\"Guest\": [\"g1\"], \"Booking\": [\"b1\"]}},\n",
    "            {\"activity\": \"Reserve Room\", \"objects\": {\"Booking\": [\"b1\"]}},\n",
    "            {\"activity\": \"Check In\", \"objects\": {\"Guest\": [\"g1\"], \"Booking\": [\"b1\"]}},\n",
    "            {\"activity\": \"Check Out\", \"objects\": {\"Guest\": [\"g1\"], \"Booking\": [\"b1\"]}}\n",
    "        ]\n",
    "\n",
    "# One can create the test source with a list of traces, where each trace is a tuple containing the trace structure and the number of times it should be repeated.\n",
    "# If\n",
    "test_source = dict_test_ocel_source(\n",
    "    [\n",
    "        (trace_1, 2),  # Repeat trace_1 twice\n",
    "        (trace_2, 3)   # Repeat trace_2 three times\n",
    "    ],\n",
    "    shuffle = True  # Shuffle the traces for variability\n",
    "                    # Note: The shuffle works by shuffling the order of traces as a whole, not the activities within each trace.\n",
    ")\n",
    "\n",
    "test_source.subscribe(\n",
    "    lambda x: print(str(x))\n",
    ")"
   ],
   "id": "735df3b491734e34",
   "outputs": [
    {
     "name": "stdout",
     "output_type": "stream",
     "text": [
      "{'ocel:eid': 'e0', 'ocel:activity': 'Register Customer', 'ocel:timestamp': datetime.datetime(2025, 7, 16, 1, 44, 15, 257679), 'ocel:omap': {'Customer': {'c1_1'}}, 'ocel:vmap': {}}\n",
      "{'ocel:eid': 'e1', 'ocel:activity': 'Create Order', 'ocel:timestamp': datetime.datetime(2025, 7, 16, 1, 44, 15, 257679), 'ocel:omap': {'Customer': {'c1_1'}, 'Order': {'o1_1'}}, 'ocel:vmap': {}}\n",
      "{'ocel:eid': 'e2', 'ocel:activity': 'Add Item', 'ocel:timestamp': datetime.datetime(2025, 7, 16, 1, 44, 15, 257679), 'ocel:omap': {'Order': {'o1_1'}, 'Item': {'i1_1'}}, 'ocel:vmap': {}}\n",
      "{'ocel:eid': 'e3', 'ocel:activity': 'Add Item', 'ocel:timestamp': datetime.datetime(2025, 7, 16, 1, 44, 15, 257679), 'ocel:omap': {'Order': {'o1_1'}, 'Item': {'i2_1'}}, 'ocel:vmap': {}}\n",
      "{'ocel:eid': 'e4', 'ocel:activity': 'Ship Order', 'ocel:timestamp': datetime.datetime(2025, 7, 16, 1, 44, 15, 257679), 'ocel:omap': {'Item': {'i2_1', 'i1_1'}, 'Order': {'o1_1'}}, 'ocel:vmap': {}}\n",
      "{'ocel:eid': 'e5', 'ocel:activity': 'Register Guest', 'ocel:timestamp': datetime.datetime(2025, 7, 16, 1, 44, 15, 257679), 'ocel:omap': {'Guest': {'g1_3'}}, 'ocel:vmap': {}}\n",
      "{'ocel:eid': 'e6', 'ocel:activity': 'Create Booking', 'ocel:timestamp': datetime.datetime(2025, 7, 16, 1, 44, 15, 257679), 'ocel:omap': {'Guest': {'g1_3'}, 'Booking': {'b1_3'}}, 'ocel:vmap': {}}\n",
      "{'ocel:eid': 'e7', 'ocel:activity': 'Reserve Room', 'ocel:timestamp': datetime.datetime(2025, 7, 16, 1, 44, 15, 257679), 'ocel:omap': {'Booking': {'b1_3'}}, 'ocel:vmap': {}}\n",
      "{'ocel:eid': 'e8', 'ocel:activity': 'Check In', 'ocel:timestamp': datetime.datetime(2025, 7, 16, 1, 44, 15, 257679), 'ocel:omap': {'Guest': {'g1_3'}, 'Booking': {'b1_3'}}, 'ocel:vmap': {}}\n",
      "{'ocel:eid': 'e9', 'ocel:activity': 'Check Out', 'ocel:timestamp': datetime.datetime(2025, 7, 16, 1, 44, 15, 257679), 'ocel:omap': {'Guest': {'g1_3'}, 'Booking': {'b1_3'}}, 'ocel:vmap': {}}\n",
      "{'ocel:eid': 'e10', 'ocel:activity': 'Register Customer', 'ocel:timestamp': datetime.datetime(2025, 7, 16, 1, 44, 15, 257679), 'ocel:omap': {'Customer': {'c1_0'}}, 'ocel:vmap': {}}\n",
      "{'ocel:eid': 'e11', 'ocel:activity': 'Create Order', 'ocel:timestamp': datetime.datetime(2025, 7, 16, 1, 44, 15, 257679), 'ocel:omap': {'Customer': {'c1_0'}, 'Order': {'o1_0'}}, 'ocel:vmap': {}}\n",
      "{'ocel:eid': 'e12', 'ocel:activity': 'Add Item', 'ocel:timestamp': datetime.datetime(2025, 7, 16, 1, 44, 15, 257679), 'ocel:omap': {'Order': {'o1_0'}, 'Item': {'i1_0'}}, 'ocel:vmap': {}}\n",
      "{'ocel:eid': 'e13', 'ocel:activity': 'Add Item', 'ocel:timestamp': datetime.datetime(2025, 7, 16, 1, 44, 15, 257679), 'ocel:omap': {'Order': {'o1_0'}, 'Item': {'i2_0'}}, 'ocel:vmap': {}}\n",
      "{'ocel:eid': 'e14', 'ocel:activity': 'Ship Order', 'ocel:timestamp': datetime.datetime(2025, 7, 16, 1, 44, 15, 257679), 'ocel:omap': {'Item': {'i1_0', 'i2_0'}, 'Order': {'o1_0'}}, 'ocel:vmap': {}}\n",
      "{'ocel:eid': 'e15', 'ocel:activity': 'Register Guest', 'ocel:timestamp': datetime.datetime(2025, 7, 16, 1, 44, 15, 257679), 'ocel:omap': {'Guest': {'g1_2'}}, 'ocel:vmap': {}}\n",
      "{'ocel:eid': 'e16', 'ocel:activity': 'Create Booking', 'ocel:timestamp': datetime.datetime(2025, 7, 16, 1, 44, 15, 257679), 'ocel:omap': {'Guest': {'g1_2'}, 'Booking': {'b1_2'}}, 'ocel:vmap': {}}\n",
      "{'ocel:eid': 'e17', 'ocel:activity': 'Reserve Room', 'ocel:timestamp': datetime.datetime(2025, 7, 16, 1, 44, 15, 257679), 'ocel:omap': {'Booking': {'b1_2'}}, 'ocel:vmap': {}}\n",
      "{'ocel:eid': 'e18', 'ocel:activity': 'Check In', 'ocel:timestamp': datetime.datetime(2025, 7, 16, 1, 44, 15, 257679), 'ocel:omap': {'Guest': {'g1_2'}, 'Booking': {'b1_2'}}, 'ocel:vmap': {}}\n",
      "{'ocel:eid': 'e19', 'ocel:activity': 'Check Out', 'ocel:timestamp': datetime.datetime(2025, 7, 16, 1, 44, 15, 257679), 'ocel:omap': {'Guest': {'g1_2'}, 'Booking': {'b1_2'}}, 'ocel:vmap': {}}\n",
      "{'ocel:eid': 'e20', 'ocel:activity': 'Register Guest', 'ocel:timestamp': datetime.datetime(2025, 7, 16, 1, 44, 15, 257679), 'ocel:omap': {'Guest': {'g1_4'}}, 'ocel:vmap': {}}\n",
      "{'ocel:eid': 'e21', 'ocel:activity': 'Create Booking', 'ocel:timestamp': datetime.datetime(2025, 7, 16, 1, 44, 15, 257679), 'ocel:omap': {'Guest': {'g1_4'}, 'Booking': {'b1_4'}}, 'ocel:vmap': {}}\n",
      "{'ocel:eid': 'e22', 'ocel:activity': 'Reserve Room', 'ocel:timestamp': datetime.datetime(2025, 7, 16, 1, 44, 15, 257679), 'ocel:omap': {'Booking': {'b1_4'}}, 'ocel:vmap': {}}\n",
      "{'ocel:eid': 'e23', 'ocel:activity': 'Check In', 'ocel:timestamp': datetime.datetime(2025, 7, 16, 1, 44, 15, 257679), 'ocel:omap': {'Guest': {'g1_4'}, 'Booking': {'b1_4'}}, 'ocel:vmap': {}}\n",
      "{'ocel:eid': 'e24', 'ocel:activity': 'Check Out', 'ocel:timestamp': datetime.datetime(2025, 7, 16, 1, 44, 15, 257679), 'ocel:omap': {'Guest': {'g1_4'}, 'Booking': {'b1_4'}}, 'ocel:vmap': {}}\n"
     ]
    },
    {
     "data": {
      "text/plain": [
       "<reactivex.disposable.disposable.Disposable at 0x1f36d55b4a0>"
      ]
     },
     "execution_count": 16,
     "metadata": {},
     "output_type": "execute_result"
    }
   ],
   "execution_count": 16
  },
  {
   "metadata": {
    "ExecuteTime": {
     "end_time": "2025-07-15T23:44:15.279486Z",
     "start_time": "2025-07-15T23:44:15.271552Z"
    }
   },
   "cell_type": "code",
   "source": "#!wget https://raw.githubusercontent.com/beamline/pybeamline/refs/heads/master/tests/logistics.jsonocel",
   "id": "f9be52eacd02cfd1",
   "outputs": [],
   "execution_count": 17
  },
  {
   "metadata": {
    "ExecuteTime": {
     "end_time": "2025-07-15T23:45:25.158817Z",
     "start_time": "2025-07-15T23:45:25.109674Z"
    }
   },
   "cell_type": "code",
   "source": [
    "# Now let's consider the OCEL 2.0 source, which reads an OCEL file and emits object-centric events.\n",
    "from pybeamline.sources.ocel2_log_source_from_file import ocel2_log_source_from_file\n",
    "from reactivex import operators as ops\n",
    "import os\n",
    "\n",
    "# Check if the file exists\n",
    "if not os.path.exists(\"tests/logistics.jsonocel\"):\n",
    "    raise FileNotFoundError(\"The OCEL file 'logistics.jsonocel' does not exist. Please download it from the repository.\")\n",
    "else:\n",
    "    print(\"The OCEL file 'logistics.jsonocel' exists.\")\n",
    "\n",
    "# Assuming you have an OCEL file\n",
    "source = ocel2_log_source_from_file(\"tests/logistics.jsonocel\")\n",
    "\n",
    "\n",
    "\n",
    "\n",
    "#source.pipe(\n",
    "#    ops.take(10),  # Limit to the first 10 events for demonstration\n",
    "#    ops.do_action(print)\n",
    "#).subscribe(\n",
    "#    lambda x: print(str(x))\n",
    "#)"
   ],
   "id": "83fcd939ee79cdaa",
   "outputs": [
    {
     "name": "stdout",
     "output_type": "stream",
     "text": [
      "The OCEL file 'logistics.jsonocel' exists.\n"
     ]
    },
    {
     "ename": "AttributeError",
     "evalue": "'NoneType' object has no attribute 'event_timestamp'",
     "output_type": "error",
     "traceback": [
      "\u001B[31m---------------------------------------------------------------------------\u001B[39m",
      "\u001B[31mAttributeError\u001B[39m                            Traceback (most recent call last)",
      "\u001B[36mCell\u001B[39m\u001B[36m \u001B[39m\u001B[32mIn[20]\u001B[39m\u001B[32m, line 13\u001B[39m\n\u001B[32m     10\u001B[39m     \u001B[38;5;28mprint\u001B[39m(\u001B[33m\"\u001B[39m\u001B[33mThe OCEL file \u001B[39m\u001B[33m'\u001B[39m\u001B[33mlogistics.jsonocel\u001B[39m\u001B[33m'\u001B[39m\u001B[33m exists.\u001B[39m\u001B[33m\"\u001B[39m)\n\u001B[32m     12\u001B[39m \u001B[38;5;66;03m# Assuming you have an OCEL file\u001B[39;00m\n\u001B[32m---> \u001B[39m\u001B[32m13\u001B[39m source = \u001B[43mocel2_log_source_from_file\u001B[49m\u001B[43m(\u001B[49m\u001B[33;43m\"\u001B[39;49m\u001B[33;43mtests/logistics.jsonocel\u001B[39;49m\u001B[33;43m\"\u001B[39;49m\u001B[43m)\u001B[49m\n\u001B[32m     18\u001B[39m \u001B[38;5;66;03m#source.pipe(\u001B[39;00m\n\u001B[32m     19\u001B[39m \u001B[38;5;66;03m#    ops.take(10),  # Limit to the first 10 events for demonstration\u001B[39;00m\n\u001B[32m     20\u001B[39m \u001B[38;5;66;03m#    ops.do_action(print)\u001B[39;00m\n\u001B[32m     21\u001B[39m \u001B[38;5;66;03m#).subscribe(\u001B[39;00m\n\u001B[32m     22\u001B[39m \u001B[38;5;66;03m#    lambda x: print(str(x))\u001B[39;00m\n\u001B[32m     23\u001B[39m \u001B[38;5;66;03m#)\u001B[39;00m\n",
      "\u001B[36mFile \u001B[39m\u001B[32m~\\Desktop\\Github\\pybeamline-OCPM\\pybeamline\\sources\\ocel2_log_source_from_file.py:14\u001B[39m, in \u001B[36mocel2_log_source_from_file\u001B[39m\u001B[34m(log_path)\u001B[39m\n\u001B[32m      8\u001B[39m \u001B[38;5;28;01mdef\u001B[39;00m\u001B[38;5;250m \u001B[39m\u001B[34mocel2_log_source_from_file\u001B[39m(log_path: \u001B[38;5;28mstr\u001B[39m, ) -> Observable[BOEvent]:\n\u001B[32m      9\u001B[39m \u001B[38;5;250m    \u001B[39m\u001B[33;03m\"\"\"\u001B[39;00m\n\u001B[32m     10\u001B[39m \u001B[33;03m    Loads an OCEL 2.0 log from a file path and returns it as an Observable of BOEvent objects.\u001B[39;00m\n\u001B[32m     11\u001B[39m \u001B[33;03m    :param log_path: str\u001B[39;00m\n\u001B[32m     12\u001B[39m \u001B[33;03m    :return: Observable[BOEvent]\u001B[39;00m\n\u001B[32m     13\u001B[39m \u001B[33;03m    \"\"\"\u001B[39;00m\n\u001B[32m---> \u001B[39m\u001B[32m14\u001B[39m     \u001B[38;5;28;01mreturn\u001B[39;00m \u001B[43mocel2_log_source\u001B[49m\u001B[43m(\u001B[49m\u001B[43mread_ocel2\u001B[49m\u001B[43m(\u001B[49m\u001B[43mlog_path\u001B[49m\u001B[43m)\u001B[49m\u001B[43m)\u001B[49m\n",
      "\u001B[36mFile \u001B[39m\u001B[32m~\\Desktop\\Github\\pybeamline-OCPM\\pybeamline\\sources\\ocel2_log_source_from_file.py:25\u001B[39m, in \u001B[36mocel2_log_source\u001B[39m\u001B[34m(log, scheduler)\u001B[39m\n\u001B[32m     17\u001B[39m \u001B[38;5;28;01mdef\u001B[39;00m\u001B[38;5;250m \u001B[39m\u001B[34mocel2_log_source\u001B[39m(\n\u001B[32m     18\u001B[39m     log: OCEL,\n\u001B[32m     19\u001B[39m     scheduler: Optional[abc.SchedulerBase] = \u001B[38;5;28;01mNone\u001B[39;00m\n\u001B[32m     20\u001B[39m ) -> Observable[BOEvent]:\n\u001B[32m     21\u001B[39m \u001B[38;5;250m    \u001B[39m\u001B[33;03m\"\"\"\u001B[39;00m\n\u001B[32m     22\u001B[39m \u001B[33;03m    Converts an OCEL object into an Observable stream of BOEvent objects,\u001B[39;00m\n\u001B[32m     23\u001B[39m \u001B[33;03m    ordered by timestamp if available.\u001B[39;00m\n\u001B[32m     24\u001B[39m \u001B[33;03m    \"\"\"\u001B[39;00m\n\u001B[32m---> \u001B[39m\u001B[32m25\u001B[39m     \u001B[38;5;28;01mif\u001B[39;00m \u001B[43mlog\u001B[49m\u001B[43m.\u001B[49m\u001B[43mevent_timestamp\u001B[49m \u001B[38;5;129;01mis\u001B[39;00m \u001B[38;5;129;01mnot\u001B[39;00m \u001B[38;5;28;01mNone\u001B[39;00m:\n\u001B[32m     26\u001B[39m         log = ocel_sort_by_additional_column(log, \u001B[33m\"\u001B[39m\u001B[33mocel:timestamp\u001B[39m\u001B[33m\"\u001B[39m)\n\u001B[32m     28\u001B[39m     \u001B[38;5;28;01mdef\u001B[39;00m\u001B[38;5;250m \u001B[39m\u001B[34msubscribe\u001B[39m(\n\u001B[32m     29\u001B[39m         observer: abc.ObserverBase[BOEvent],\n\u001B[32m     30\u001B[39m         scheduler_: Optional[abc.SchedulerBase] = \u001B[38;5;28;01mNone\u001B[39;00m\n\u001B[32m     31\u001B[39m     ) -> abc.DisposableBase:\n",
      "\u001B[31mAttributeError\u001B[39m: 'NoneType' object has no attribute 'event_timestamp'"
     ]
    }
   ],
   "execution_count": 20
  },
  {
   "metadata": {},
   "cell_type": "code",
   "outputs": [],
   "execution_count": null,
   "source": "",
   "id": "66e96ae719ea6b6"
  }
 ],
 "metadata": {
  "kernelspec": {
   "display_name": "Python 3",
   "language": "python",
   "name": "python3"
  },
  "language_info": {
   "codemirror_mode": {
    "name": "ipython",
    "version": 2
   },
   "file_extension": ".py",
   "mimetype": "text/x-python",
   "name": "python",
   "nbconvert_exporter": "python",
   "pygments_lexer": "ipython2",
   "version": "2.7.6"
  }
 },
 "nbformat": 4,
 "nbformat_minor": 5
}
