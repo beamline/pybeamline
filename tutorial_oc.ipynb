{
 "cells": [
  {
   "metadata": {},
   "cell_type": "markdown",
   "source": "# Streaming Object-Centric Process Mining with `pyBeamline`",
   "id": "4a4bd5b42d88b3c0"
  },
  {
   "metadata": {},
   "cell_type": "markdown",
   "source": [
    "pyBeamline is based on ReactiveX and its Python binding RxPY. RxPY is a library for composing asynchronous and event-based programs using observable sequences and pipable query operators in Python. Using pyBeamline it is possible to inject process mining operators into the computation.\n",
    "\n",
    "This Jupyter notebook contains the main contributions towards Streaming Object-Centric Process Discovery. The rest of the notebook it is assumed that the `pyBeamline` package is already installed.\n",
    "\n",
    "In the rest of this document, the main functionalities are exposed."
   ],
   "id": "495a9467727d24d8"
  },
  {
   "metadata": {},
   "cell_type": "markdown",
   "source": "It is possible to install the library using:",
   "id": "5238d25d232bd01"
  },
  {
   "metadata": {
    "ExecuteTime": {
     "end_time": "2025-07-15T23:44:15.226110Z",
     "start_time": "2025-07-15T23:44:15.220469Z"
    }
   },
   "cell_type": "code",
   "source": [
    "#!pip install pybeamline # Note: Uncomment this line when meged into the main branch of pyBeamline\n",
    "# Let's ignore some PM4PY warnings in the notebook\n",
    "import warnings\n",
    "warnings.filterwarnings(\"ignore\")"
   ],
   "id": "5086bb5091ef9899",
   "outputs": [],
   "execution_count": 14
  },
  {
   "metadata": {
    "ExecuteTime": {
     "end_time": "2025-07-15T23:44:15.239354Z",
     "start_time": "2025-07-15T23:44:15.231228Z"
    }
   },
   "cell_type": "code",
   "source": [
    "import importlib\n",
    "import pybeamline\n",
    "importlib.reload(pybeamline) # NOTE: To-be removed when integrated in pyBeamline master"
   ],
   "id": "439bd3675b3b34c8",
   "outputs": [
    {
     "data": {
      "text/plain": [
       "<module 'pybeamline' from 'C:\\\\Users\\\\jepmi\\\\Desktop\\\\Github\\\\pybeamline-OCPM\\\\pybeamline\\\\__init__.py'>"
      ]
     },
     "execution_count": 15,
     "metadata": {},
     "output_type": "execute_result"
    }
   ],
   "execution_count": 15
  },
  {
   "metadata": {},
   "cell_type": "markdown",
   "source": [
    "## Sources\n",
    "\n",
    "The `pyBeamline` library provides two main object-centric sources:\n",
    "1. `OCEL 2.0`: Object-Centric Event Log (OCEL) 2.0 source reads an OCEL file and emits object-centric events.\n",
    "2. `Dictionary Test Source`: A test source that can be initialized with a list of dictionaries, each representing an object-centric event trace.\n",
    "\n",
    "First lets consider the test source, which is useful for testing purposes:"
   ],
   "id": "b50f1248c901a7e"
  },
  {
   "metadata": {
    "ExecuteTime": {
     "end_time": "2025-07-15T23:44:15.261881Z",
     "start_time": "2025-07-15T23:44:15.248997Z"
    }
   },
   "cell_type": "code",
   "source": [
    "from pybeamline.sources.dict_ocel_test_source import dict_test_ocel_source\n",
    "\n",
    "# Consider two traces with different activities and objects for demonstration\n",
    "# IMPORTANT: Object identifiers (e.g., \"c1\", \"o1\") must be unique across traces.\n",
    "# Note: Specifying an object (e.g., \"c1\") in a trace implies that across all generated instances of `trace_1` by adding suffixes,\n",
    "# that object maintains consistent relationships with the activities as defined in the trace structure, i.e, object \"c1\" goes from \"Register Customer\" to \"Create Order\", and so on.\n",
    "trace_1 = [\n",
    "            {\"activity\": \"Register Customer\", \"objects\": {\"Customer\": [\"c1\"]}},\n",
    "            {\"activity\": \"Create Order\", \"objects\": {\"Customer\": [\"c1\"], \"Order\": [\"o1\"]}},\n",
    "            {\"activity\": \"Add Item\", \"objects\": {\"Order\": [\"o1\"], \"Item\": [\"i1\"]}},\n",
    "            {\"activity\": \"Add Item\", \"objects\": {\"Order\": [\"o1\"], \"Item\": [\"i2\"]}},\n",
    "            {\"activity\": \"Ship Order\", \"objects\": {\"Item\": [\"i1\", \"i2\"], \"Order\": [\"o1\"]}}\n",
    "        ]\n",
    "\n",
    "trace_2 = [\n",
    "            {\"activity\": \"Register Guest\", \"objects\": {\"Guest\": [\"g1\"]}},\n",
    "            {\"activity\": \"Create Booking\", \"objects\": {\"Guest\": [\"g1\"], \"Booking\": [\"b1\"]}},\n",
    "            {\"activity\": \"Reserve Room\", \"objects\": {\"Booking\": [\"b1\"]}},\n",
    "            {\"activity\": \"Check In\", \"objects\": {\"Guest\": [\"g1\"], \"Booking\": [\"b1\"]}},\n",
    "            {\"activity\": \"Check Out\", \"objects\": {\"Guest\": [\"g1\"], \"Booking\": [\"b1\"]}}\n",
    "        ]\n",
    "\n",
    "# One can create the test source with a list of traces, where each trace is a tuple containing the trace structure and the number of times it should be repeated.\n",
    "# If\n",
    "test_source = dict_test_ocel_source(\n",
    "    [\n",
    "        (trace_1, 2),  # Repeat trace_1 twice\n",
    "        (trace_2, 3)   # Repeat trace_2 three times\n",
    "    ],\n",
    "    shuffle = True  # Shuffle the traces for variability\n",
    "                    # Note: The shuffle works by shuffling the order of traces as a whole, not the activities within each trace.\n",
    ")\n",
    "\n",
    "test_source.subscribe(\n",
    "    lambda x: print(str(x))\n",
    ")"
   ],
   "id": "735df3b491734e34",
   "outputs": [
    {
     "name": "stdout",
     "output_type": "stream",
     "text": [
      "{'ocel:eid': 'e0', 'ocel:activity': 'Register Customer', 'ocel:timestamp': datetime.datetime(2025, 7, 16, 1, 44, 15, 257679), 'ocel:omap': {'Customer': {'c1_1'}}, 'ocel:vmap': {}}\n",
      "{'ocel:eid': 'e1', 'ocel:activity': 'Create Order', 'ocel:timestamp': datetime.datetime(2025, 7, 16, 1, 44, 15, 257679), 'ocel:omap': {'Customer': {'c1_1'}, 'Order': {'o1_1'}}, 'ocel:vmap': {}}\n",
      "{'ocel:eid': 'e2', 'ocel:activity': 'Add Item', 'ocel:timestamp': datetime.datetime(2025, 7, 16, 1, 44, 15, 257679), 'ocel:omap': {'Order': {'o1_1'}, 'Item': {'i1_1'}}, 'ocel:vmap': {}}\n",
      "{'ocel:eid': 'e3', 'ocel:activity': 'Add Item', 'ocel:timestamp': datetime.datetime(2025, 7, 16, 1, 44, 15, 257679), 'ocel:omap': {'Order': {'o1_1'}, 'Item': {'i2_1'}}, 'ocel:vmap': {}}\n",
      "{'ocel:eid': 'e4', 'ocel:activity': 'Ship Order', 'ocel:timestamp': datetime.datetime(2025, 7, 16, 1, 44, 15, 257679), 'ocel:omap': {'Item': {'i2_1', 'i1_1'}, 'Order': {'o1_1'}}, 'ocel:vmap': {}}\n",
      "{'ocel:eid': 'e5', 'ocel:activity': 'Register Guest', 'ocel:timestamp': datetime.datetime(2025, 7, 16, 1, 44, 15, 257679), 'ocel:omap': {'Guest': {'g1_3'}}, 'ocel:vmap': {}}\n",
      "{'ocel:eid': 'e6', 'ocel:activity': 'Create Booking', 'ocel:timestamp': datetime.datetime(2025, 7, 16, 1, 44, 15, 257679), 'ocel:omap': {'Guest': {'g1_3'}, 'Booking': {'b1_3'}}, 'ocel:vmap': {}}\n",
      "{'ocel:eid': 'e7', 'ocel:activity': 'Reserve Room', 'ocel:timestamp': datetime.datetime(2025, 7, 16, 1, 44, 15, 257679), 'ocel:omap': {'Booking': {'b1_3'}}, 'ocel:vmap': {}}\n",
      "{'ocel:eid': 'e8', 'ocel:activity': 'Check In', 'ocel:timestamp': datetime.datetime(2025, 7, 16, 1, 44, 15, 257679), 'ocel:omap': {'Guest': {'g1_3'}, 'Booking': {'b1_3'}}, 'ocel:vmap': {}}\n",
      "{'ocel:eid': 'e9', 'ocel:activity': 'Check Out', 'ocel:timestamp': datetime.datetime(2025, 7, 16, 1, 44, 15, 257679), 'ocel:omap': {'Guest': {'g1_3'}, 'Booking': {'b1_3'}}, 'ocel:vmap': {}}\n",
      "{'ocel:eid': 'e10', 'ocel:activity': 'Register Customer', 'ocel:timestamp': datetime.datetime(2025, 7, 16, 1, 44, 15, 257679), 'ocel:omap': {'Customer': {'c1_0'}}, 'ocel:vmap': {}}\n",
      "{'ocel:eid': 'e11', 'ocel:activity': 'Create Order', 'ocel:timestamp': datetime.datetime(2025, 7, 16, 1, 44, 15, 257679), 'ocel:omap': {'Customer': {'c1_0'}, 'Order': {'o1_0'}}, 'ocel:vmap': {}}\n",
      "{'ocel:eid': 'e12', 'ocel:activity': 'Add Item', 'ocel:timestamp': datetime.datetime(2025, 7, 16, 1, 44, 15, 257679), 'ocel:omap': {'Order': {'o1_0'}, 'Item': {'i1_0'}}, 'ocel:vmap': {}}\n",
      "{'ocel:eid': 'e13', 'ocel:activity': 'Add Item', 'ocel:timestamp': datetime.datetime(2025, 7, 16, 1, 44, 15, 257679), 'ocel:omap': {'Order': {'o1_0'}, 'Item': {'i2_0'}}, 'ocel:vmap': {}}\n",
      "{'ocel:eid': 'e14', 'ocel:activity': 'Ship Order', 'ocel:timestamp': datetime.datetime(2025, 7, 16, 1, 44, 15, 257679), 'ocel:omap': {'Item': {'i1_0', 'i2_0'}, 'Order': {'o1_0'}}, 'ocel:vmap': {}}\n",
      "{'ocel:eid': 'e15', 'ocel:activity': 'Register Guest', 'ocel:timestamp': datetime.datetime(2025, 7, 16, 1, 44, 15, 257679), 'ocel:omap': {'Guest': {'g1_2'}}, 'ocel:vmap': {}}\n",
      "{'ocel:eid': 'e16', 'ocel:activity': 'Create Booking', 'ocel:timestamp': datetime.datetime(2025, 7, 16, 1, 44, 15, 257679), 'ocel:omap': {'Guest': {'g1_2'}, 'Booking': {'b1_2'}}, 'ocel:vmap': {}}\n",
      "{'ocel:eid': 'e17', 'ocel:activity': 'Reserve Room', 'ocel:timestamp': datetime.datetime(2025, 7, 16, 1, 44, 15, 257679), 'ocel:omap': {'Booking': {'b1_2'}}, 'ocel:vmap': {}}\n",
      "{'ocel:eid': 'e18', 'ocel:activity': 'Check In', 'ocel:timestamp': datetime.datetime(2025, 7, 16, 1, 44, 15, 257679), 'ocel:omap': {'Guest': {'g1_2'}, 'Booking': {'b1_2'}}, 'ocel:vmap': {}}\n",
      "{'ocel:eid': 'e19', 'ocel:activity': 'Check Out', 'ocel:timestamp': datetime.datetime(2025, 7, 16, 1, 44, 15, 257679), 'ocel:omap': {'Guest': {'g1_2'}, 'Booking': {'b1_2'}}, 'ocel:vmap': {}}\n",
      "{'ocel:eid': 'e20', 'ocel:activity': 'Register Guest', 'ocel:timestamp': datetime.datetime(2025, 7, 16, 1, 44, 15, 257679), 'ocel:omap': {'Guest': {'g1_4'}}, 'ocel:vmap': {}}\n",
      "{'ocel:eid': 'e21', 'ocel:activity': 'Create Booking', 'ocel:timestamp': datetime.datetime(2025, 7, 16, 1, 44, 15, 257679), 'ocel:omap': {'Guest': {'g1_4'}, 'Booking': {'b1_4'}}, 'ocel:vmap': {}}\n",
      "{'ocel:eid': 'e22', 'ocel:activity': 'Reserve Room', 'ocel:timestamp': datetime.datetime(2025, 7, 16, 1, 44, 15, 257679), 'ocel:omap': {'Booking': {'b1_4'}}, 'ocel:vmap': {}}\n",
      "{'ocel:eid': 'e23', 'ocel:activity': 'Check In', 'ocel:timestamp': datetime.datetime(2025, 7, 16, 1, 44, 15, 257679), 'ocel:omap': {'Guest': {'g1_4'}, 'Booking': {'b1_4'}}, 'ocel:vmap': {}}\n",
      "{'ocel:eid': 'e24', 'ocel:activity': 'Check Out', 'ocel:timestamp': datetime.datetime(2025, 7, 16, 1, 44, 15, 257679), 'ocel:omap': {'Guest': {'g1_4'}, 'Booking': {'b1_4'}}, 'ocel:vmap': {}}\n"
     ]
    },
    {
     "data": {
      "text/plain": [
       "<reactivex.disposable.disposable.Disposable at 0x1f36d55b4a0>"
      ]
     },
     "execution_count": 16,
     "metadata": {},
     "output_type": "execute_result"
    }
   ],
   "execution_count": 16
  },
  {
   "metadata": {
    "ExecuteTime": {
     "end_time": "2025-07-15T23:44:15.279486Z",
     "start_time": "2025-07-15T23:44:15.271552Z"
    }
   },
   "cell_type": "code",
   "source": "#!wget https://raw.githubusercontent.com/beamline/pybeamline/refs/heads/master/tests/logistics.jsonocel",
   "id": "f9be52eacd02cfd1",
   "outputs": [],
   "execution_count": 17
  },
  {
   "metadata": {
    "ExecuteTime": {
     "end_time": "2025-07-15T23:57:25.792047Z",
     "start_time": "2025-07-15T23:57:20.533292Z"
    }
   },
   "cell_type": "code",
   "source": [
    "# Now let's consider the OCEL 2.0 source, which reads an OCEL file and emits object-centric events.\n",
    "from pybeamline.sources.ocel2_log_source_from_file import ocel2_log_source_from_file\n",
    "from reactivex import operators as ops\n",
    "\n",
    "# Assuming you have an OCEL file\n",
    "source = ocel2_log_source_from_file(\"tests/logistics.jsonocel\")\n",
    "\n",
    "source.pipe(\n",
    "    ops.take(10),  # Limit to the first 10 events for demonstration\n",
    "    ops.do_action(print)\n",
    ").subscribe(\n",
    "    lambda x: print(str(x))\n",
    ")"
   ],
   "id": "83fcd939ee79cdaa",
   "outputs": [
    {
     "name": "stdout",
     "output_type": "stream",
     "text": [
      "Object-Centric Event Log (number of events: 35372, number of objects: 13882, number of activities: 14, number of object types: 7, events-objects relationships: 74272)\n",
      "Activities occurrences: Counter({'Collect Goods': 10553, 'Load Truck': 10553, 'Pick Up Empty Container': 1995, 'Drive to Terminal': 1989, 'Weigh': 1989, 'Bring to Loading Bay': 1969, 'Load to Vehicle': 1966, 'Place in Stock': 1814, 'Register Customer Order': 600, 'Create Transport Document': 594, 'Book Vehicles': 594, 'Order Empty Containers': 593, 'Depart': 127, 'Reschedule Container': 36})\n",
      "Object types occurrences (number of objects): Counter({'Handling Unit': 10553, 'Container': 1999, 'Customer Order': 600, 'Transport Document': 594, 'Vehicle': 127, 'Truck': 6, 'Forklift': 3})\n",
      "Unique activities per object type: Counter({'Container': 10, 'Transport Document': 5, 'Forklift': 4, 'Vehicle': 4, 'Customer Order': 2, 'Handling Unit': 2, 'Truck': 2})\n",
      "Please use <THIS>.get_extended_table() to get a dataframe representation of the events related to the objects.\n",
      "{'ocel:eid': 'reg_co1', 'ocel:activity': 'Register Customer Order', 'ocel:timestamp': Timestamp('2023-05-22 11:54:42+0000', tz='UTC'), 'ocel:omap': {'Customer Order': ['co1']}, 'ocel:vmap': {}}\n",
      "{'ocel:eid': 'reg_co1', 'ocel:activity': 'Register Customer Order', 'ocel:timestamp': Timestamp('2023-05-22 11:54:42+0000', tz='UTC'), 'ocel:omap': {'Customer Order': ['co1']}, 'ocel:vmap': {}}\n",
      "{'ocel:eid': 'reg_co2', 'ocel:activity': 'Register Customer Order', 'ocel:timestamp': Timestamp('2023-05-22 18:33:30+0000', tz='UTC'), 'ocel:omap': {'Customer Order': ['co2']}, 'ocel:vmap': {}}\n",
      "{'ocel:eid': 'reg_co2', 'ocel:activity': 'Register Customer Order', 'ocel:timestamp': Timestamp('2023-05-22 18:33:30+0000', tz='UTC'), 'ocel:omap': {'Customer Order': ['co2']}, 'ocel:vmap': {}}\n",
      "{'ocel:eid': 'create_td1', 'ocel:activity': 'Create Transport Document', 'ocel:timestamp': Timestamp('2023-05-23 08:22:17+0000', tz='UTC'), 'ocel:omap': {'Customer Order': ['co2'], 'Transport Document': ['td1']}, 'ocel:vmap': {}}\n",
      "{'ocel:eid': 'create_td1', 'ocel:activity': 'Create Transport Document', 'ocel:timestamp': Timestamp('2023-05-23 08:22:17+0000', tz='UTC'), 'ocel:omap': {'Customer Order': ['co2'], 'Transport Document': ['td1']}, 'ocel:vmap': {}}\n",
      "{'ocel:eid': 'book_vehs_td1', 'ocel:activity': 'Book Vehicles', 'ocel:timestamp': Timestamp('2023-05-23 10:05:16+0000', tz='UTC'), 'ocel:omap': {'Transport Document': ['td1'], 'Vehicle': ['vh4', 'vh1']}, 'ocel:vmap': {}}\n",
      "{'ocel:eid': 'book_vehs_td1', 'ocel:activity': 'Book Vehicles', 'ocel:timestamp': Timestamp('2023-05-23 10:05:16+0000', tz='UTC'), 'ocel:omap': {'Transport Document': ['td1'], 'Vehicle': ['vh4', 'vh1']}, 'ocel:vmap': {}}\n",
      "{'ocel:eid': 'reg_co3', 'ocel:activity': 'Register Customer Order', 'ocel:timestamp': Timestamp('2023-05-23 12:14:57+0000', tz='UTC'), 'ocel:omap': {'Customer Order': ['co3']}, 'ocel:vmap': {}}\n",
      "{'ocel:eid': 'reg_co3', 'ocel:activity': 'Register Customer Order', 'ocel:timestamp': Timestamp('2023-05-23 12:14:57+0000', tz='UTC'), 'ocel:omap': {'Customer Order': ['co3']}, 'ocel:vmap': {}}\n",
      "{'ocel:eid': 'order_crs_td1', 'ocel:activity': 'Order Empty Containers', 'ocel:timestamp': Timestamp('2023-05-23 13:22:08+0000', tz='UTC'), 'ocel:omap': {'Transport Document': ['td1'], 'Container': ['cr3', 'cr1', 'cr4', 'cr5', 'cr2']}, 'ocel:vmap': {}}\n",
      "{'ocel:eid': 'order_crs_td1', 'ocel:activity': 'Order Empty Containers', 'ocel:timestamp': Timestamp('2023-05-23 13:22:08+0000', tz='UTC'), 'ocel:omap': {'Transport Document': ['td1'], 'Container': ['cr3', 'cr1', 'cr4', 'cr5', 'cr2']}, 'ocel:vmap': {}}\n",
      "{'ocel:eid': 'reg_co4', 'ocel:activity': 'Register Customer Order', 'ocel:timestamp': Timestamp('2023-05-23 18:34:15+0000', tz='UTC'), 'ocel:omap': {'Customer Order': ['co4']}, 'ocel:vmap': {}}\n",
      "{'ocel:eid': 'reg_co4', 'ocel:activity': 'Register Customer Order', 'ocel:timestamp': Timestamp('2023-05-23 18:34:15+0000', tz='UTC'), 'ocel:omap': {'Customer Order': ['co4']}, 'ocel:vmap': {}}\n",
      "{'ocel:eid': 'reg_co5', 'ocel:activity': 'Register Customer Order', 'ocel:timestamp': Timestamp('2023-05-24 12:16:04+0000', tz='UTC'), 'ocel:omap': {'Customer Order': ['co5']}, 'ocel:vmap': {}}\n",
      "{'ocel:eid': 'reg_co5', 'ocel:activity': 'Register Customer Order', 'ocel:timestamp': Timestamp('2023-05-24 12:16:04+0000', tz='UTC'), 'ocel:omap': {'Customer Order': ['co5']}, 'ocel:vmap': {}}\n",
      "{'ocel:eid': 'reg_co6', 'ocel:activity': 'Register Customer Order', 'ocel:timestamp': Timestamp('2023-05-24 18:37:36+0000', tz='UTC'), 'ocel:omap': {'Customer Order': ['co6']}, 'ocel:vmap': {}}\n",
      "{'ocel:eid': 'reg_co6', 'ocel:activity': 'Register Customer Order', 'ocel:timestamp': Timestamp('2023-05-24 18:37:36+0000', tz='UTC'), 'ocel:omap': {'Customer Order': ['co6']}, 'ocel:vmap': {}}\n",
      "{'ocel:eid': 'pick_cr2', 'ocel:activity': 'Pick Up Empty Container', 'ocel:timestamp': Timestamp('2023-05-24 19:02:38+0000', tz='UTC'), 'ocel:omap': {'Container': ['cr2']}, 'ocel:vmap': {}}\n",
      "{'ocel:eid': 'pick_cr2', 'ocel:activity': 'Pick Up Empty Container', 'ocel:timestamp': Timestamp('2023-05-24 19:02:38+0000', tz='UTC'), 'ocel:omap': {'Container': ['cr2']}, 'ocel:vmap': {}}\n"
     ]
    },
    {
     "data": {
      "text/plain": [
       "<reactivex.disposable.disposable.Disposable at 0x1dc2b265a00>"
      ]
     },
     "execution_count": 3,
     "metadata": {},
     "output_type": "execute_result"
    }
   ],
   "execution_count": 3
  },
  {
   "metadata": {},
   "cell_type": "markdown",
   "source": "## Discovery Techniques",
   "id": "599f6745d4d5f33a"
  },
  {
   "metadata": {},
   "cell_type": "code",
   "outputs": [],
   "execution_count": null,
   "source": [
    "from pybeamline.algorithms.oc.oc_operator import oc_operator\n",
    "from pybeamline.algorithms.oc.oc_merge_operator import oc_merge_operator\n",
    "\n",
    "source.pipe(\n",
    "    oc_merge_operator()\n",
    ")"
   ],
   "id": "db0db91e515d01e8"
  }
 ],
 "metadata": {
  "kernelspec": {
   "display_name": "Python 3",
   "language": "python",
   "name": "python3"
  },
  "language_info": {
   "codemirror_mode": {
    "name": "ipython",
    "version": 2
   },
   "file_extension": ".py",
   "mimetype": "text/x-python",
   "name": "python",
   "nbconvert_exporter": "python",
   "pygments_lexer": "ipython2",
   "version": "2.7.6"
  }
 },
 "nbformat": 4,
 "nbformat_minor": 5
}
